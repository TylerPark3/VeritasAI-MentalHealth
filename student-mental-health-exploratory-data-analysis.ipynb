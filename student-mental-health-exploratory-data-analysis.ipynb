{
 "cells": [
  {
   "cell_type": "markdown",
   "id": "c77a1d40",
   "metadata": {
    "papermill": {
     "duration": 0.134719,
     "end_time": "2024-07-27T21:26:52.498764",
     "exception": false,
     "start_time": "2024-07-27T21:26:52.364045",
     "status": "completed"
    },
    "tags": []
   },
   "source": [
    "TODOS:\n",
    "* a.\tCheck total number of entries and column types\n",
    "1.     101\n",
    "1.     11 COLUMN TYPES\n",
    "* b.\tCheck any null (i.e. missing) values\n",
    "* c.\tCheck duplicate entries\n",
    "* d.\tPlot distribution of numeric data (univariate and pairwise joint distribution)\n",
    "* e.\tPlot count distribution of categorical data\n",
    "* f.\tAnalyze time series of numeric data by daily, monthly and yearly frequencies\n",
    "* g.\tCheck with your mentor on additional steps to conduct (see below)"
   ]
  },
  {
   "cell_type": "markdown",
   "id": "125d7b27",
   "metadata": {
    "papermill": {
     "duration": 0.122504,
     "end_time": "2024-07-27T21:26:52.739910",
     "exception": false,
     "start_time": "2024-07-27T21:26:52.617406",
     "status": "completed"
    },
    "tags": []
   },
   "source": [
    "STEP 0: Imports and Reading in Data\n"
   ]
  },
  {
   "cell_type": "code",
   "execution_count": 1,
   "id": "916928a3",
   "metadata": {
    "execution": {
     "iopub.execute_input": "2024-07-27T21:26:52.972259Z",
     "iopub.status.busy": "2024-07-27T21:26:52.971805Z",
     "iopub.status.idle": "2024-07-27T21:26:54.533435Z",
     "shell.execute_reply": "2024-07-27T21:26:54.531731Z"
    },
    "papermill": {
     "duration": 1.683454,
     "end_time": "2024-07-27T21:26:54.538315",
     "exception": false,
     "start_time": "2024-07-27T21:26:52.854861",
     "status": "completed"
    },
    "tags": []
   },
   "outputs": [
    {
     "name": "stdout",
     "output_type": "stream",
     "text": [
      "/kaggle/input/student-mental-health/Student Mental health.csv\n",
      "/kaggle/input/mental-health-conversational-data/intents.json\n"
     ]
    }
   ],
   "source": [
    "# This Python 3 environment comes with many helpful analytics libraries installed\n",
    "# It is defined by the kaggle/python Docker image: https://github.com/kaggle/docker-python\n",
    "# For example, here's several helpful packages to load\n",
    "\n",
    "import numpy as np # linear algebra\n",
    "import pandas as pd # data processing, CSV file I/O (e.g. pd.read_csv)\n",
    "import matplotlib.pyplot as plt\n",
    "import seaborn as sns\n",
    "import warnings\n",
    "warnings.filterwarnings(\"ignore\")\n",
    "# Input data files are available in the read-only \"../input/\" directory\n",
    "# For example, running this (by clicking run or pressing Shift+Enter) will list all files under the input directory\n",
    "\n",
    "import os\n",
    "for dirname, _, filenames in os.walk('/kaggle/input'):\n",
    "    for filename in filenames:\n",
    "        print(os.path.join(dirname, filename))\n",
    "\n",
    "# You can write up to 20GB to the current directory (/kaggle/working/) that gets preserved as output when you create a version using \"Save & Run All\" \n",
    "# You can also write temporary files to /kaggle/temp/, but they won't be saved outside of the current session"
   ]
  },
  {
   "cell_type": "code",
   "execution_count": 2,
   "id": "d5124a3f",
   "metadata": {
    "execution": {
     "iopub.execute_input": "2024-07-27T21:26:54.809075Z",
     "iopub.status.busy": "2024-07-27T21:26:54.808620Z",
     "iopub.status.idle": "2024-07-27T21:26:54.828341Z",
     "shell.execute_reply": "2024-07-27T21:26:54.827169Z"
    },
    "papermill": {
     "duration": 0.158397,
     "end_time": "2024-07-27T21:26:54.831734",
     "exception": false,
     "start_time": "2024-07-27T21:26:54.673337",
     "status": "completed"
    },
    "tags": []
   },
   "outputs": [],
   "source": [
    "data = pd.read_csv(\"/kaggle/input/student-mental-health/Student Mental health.csv\")"
   ]
  },
  {
   "cell_type": "markdown",
   "id": "0388446c",
   "metadata": {
    "papermill": {
     "duration": 0.122057,
     "end_time": "2024-07-27T21:26:55.071921",
     "exception": false,
     "start_time": "2024-07-27T21:26:54.949864",
     "status": "completed"
    },
    "tags": []
   },
   "source": [
    "STEP 1: Data Understanding\n",
    "* Dataframe shape\n",
    "* head and tail\n",
    "* dtypes\n",
    "* describes"
   ]
  },
  {
   "cell_type": "code",
   "execution_count": 3,
   "id": "366d4aad",
   "metadata": {
    "execution": {
     "iopub.execute_input": "2024-07-27T21:26:55.320175Z",
     "iopub.status.busy": "2024-07-27T21:26:55.318613Z",
     "iopub.status.idle": "2024-07-27T21:26:55.355565Z",
     "shell.execute_reply": "2024-07-27T21:26:55.354121Z"
    },
    "papermill": {
     "duration": 0.169265,
     "end_time": "2024-07-27T21:26:55.358838",
     "exception": false,
     "start_time": "2024-07-27T21:26:55.189573",
     "status": "completed"
    },
    "tags": []
   },
   "outputs": [
    {
     "data": {
      "text/html": [
       "<div>\n",
       "<style scoped>\n",
       "    .dataframe tbody tr th:only-of-type {\n",
       "        vertical-align: middle;\n",
       "    }\n",
       "\n",
       "    .dataframe tbody tr th {\n",
       "        vertical-align: top;\n",
       "    }\n",
       "\n",
       "    .dataframe thead th {\n",
       "        text-align: right;\n",
       "    }\n",
       "</style>\n",
       "<table border=\"1\" class=\"dataframe\">\n",
       "  <thead>\n",
       "    <tr style=\"text-align: right;\">\n",
       "      <th></th>\n",
       "      <th>Timestamp</th>\n",
       "      <th>Choose your gender</th>\n",
       "      <th>Age</th>\n",
       "      <th>What is your course?</th>\n",
       "      <th>Your current year of Study</th>\n",
       "      <th>What is your CGPA?</th>\n",
       "      <th>Marital status</th>\n",
       "      <th>Do you have Depression?</th>\n",
       "      <th>Do you have Anxiety?</th>\n",
       "      <th>Do you have Panic attack?</th>\n",
       "      <th>Did you seek any specialist for a treatment?</th>\n",
       "    </tr>\n",
       "  </thead>\n",
       "  <tbody>\n",
       "    <tr>\n",
       "      <th>0</th>\n",
       "      <td>8/7/2020 12:02</td>\n",
       "      <td>Female</td>\n",
       "      <td>18.0</td>\n",
       "      <td>Engineering</td>\n",
       "      <td>year 1</td>\n",
       "      <td>3.00 - 3.49</td>\n",
       "      <td>No</td>\n",
       "      <td>Yes</td>\n",
       "      <td>No</td>\n",
       "      <td>Yes</td>\n",
       "      <td>No</td>\n",
       "    </tr>\n",
       "    <tr>\n",
       "      <th>1</th>\n",
       "      <td>8/7/2020 12:04</td>\n",
       "      <td>Male</td>\n",
       "      <td>21.0</td>\n",
       "      <td>Islamic education</td>\n",
       "      <td>year 2</td>\n",
       "      <td>3.00 - 3.49</td>\n",
       "      <td>No</td>\n",
       "      <td>No</td>\n",
       "      <td>Yes</td>\n",
       "      <td>No</td>\n",
       "      <td>No</td>\n",
       "    </tr>\n",
       "    <tr>\n",
       "      <th>2</th>\n",
       "      <td>8/7/2020 12:05</td>\n",
       "      <td>Male</td>\n",
       "      <td>19.0</td>\n",
       "      <td>BIT</td>\n",
       "      <td>Year 1</td>\n",
       "      <td>3.00 - 3.49</td>\n",
       "      <td>No</td>\n",
       "      <td>Yes</td>\n",
       "      <td>Yes</td>\n",
       "      <td>Yes</td>\n",
       "      <td>No</td>\n",
       "    </tr>\n",
       "  </tbody>\n",
       "</table>\n",
       "</div>"
      ],
      "text/plain": [
       "        Timestamp Choose your gender   Age What is your course?  \\\n",
       "0  8/7/2020 12:02             Female  18.0          Engineering   \n",
       "1  8/7/2020 12:04               Male  21.0    Islamic education   \n",
       "2  8/7/2020 12:05               Male  19.0                  BIT   \n",
       "\n",
       "  Your current year of Study What is your CGPA? Marital status  \\\n",
       "0                     year 1        3.00 - 3.49             No   \n",
       "1                     year 2        3.00 - 3.49             No   \n",
       "2                     Year 1        3.00 - 3.49             No   \n",
       "\n",
       "  Do you have Depression? Do you have Anxiety? Do you have Panic attack?  \\\n",
       "0                     Yes                   No                       Yes   \n",
       "1                      No                  Yes                        No   \n",
       "2                     Yes                  Yes                       Yes   \n",
       "\n",
       "  Did you seek any specialist for a treatment?  \n",
       "0                                           No  \n",
       "1                                           No  \n",
       "2                                           No  "
      ]
     },
     "execution_count": 3,
     "metadata": {},
     "output_type": "execute_result"
    }
   ],
   "source": [
    "data.head(3)"
   ]
  },
  {
   "cell_type": "code",
   "execution_count": 4,
   "id": "aa64db7e",
   "metadata": {
    "execution": {
     "iopub.execute_input": "2024-07-27T21:26:55.608173Z",
     "iopub.status.busy": "2024-07-27T21:26:55.607800Z",
     "iopub.status.idle": "2024-07-27T21:26:55.630129Z",
     "shell.execute_reply": "2024-07-27T21:26:55.628586Z"
    },
    "papermill": {
     "duration": 0.151192,
     "end_time": "2024-07-27T21:26:55.633502",
     "exception": false,
     "start_time": "2024-07-27T21:26:55.482310",
     "status": "completed"
    },
    "tags": []
   },
   "outputs": [
    {
     "data": {
      "text/html": [
       "<div>\n",
       "<style scoped>\n",
       "    .dataframe tbody tr th:only-of-type {\n",
       "        vertical-align: middle;\n",
       "    }\n",
       "\n",
       "    .dataframe tbody tr th {\n",
       "        vertical-align: top;\n",
       "    }\n",
       "\n",
       "    .dataframe thead th {\n",
       "        text-align: right;\n",
       "    }\n",
       "</style>\n",
       "<table border=\"1\" class=\"dataframe\">\n",
       "  <thead>\n",
       "    <tr style=\"text-align: right;\">\n",
       "      <th></th>\n",
       "      <th>Timestamp</th>\n",
       "      <th>Choose your gender</th>\n",
       "      <th>Age</th>\n",
       "      <th>What is your course?</th>\n",
       "      <th>Your current year of Study</th>\n",
       "      <th>What is your CGPA?</th>\n",
       "      <th>Marital status</th>\n",
       "      <th>Do you have Depression?</th>\n",
       "      <th>Do you have Anxiety?</th>\n",
       "      <th>Do you have Panic attack?</th>\n",
       "      <th>Did you seek any specialist for a treatment?</th>\n",
       "    </tr>\n",
       "  </thead>\n",
       "  <tbody>\n",
       "    <tr>\n",
       "      <th>98</th>\n",
       "      <td>13/07/2020 21:22:56</td>\n",
       "      <td>Female</td>\n",
       "      <td>19.0</td>\n",
       "      <td>Nursing</td>\n",
       "      <td>Year 3</td>\n",
       "      <td>3.50 - 4.00</td>\n",
       "      <td>Yes</td>\n",
       "      <td>Yes</td>\n",
       "      <td>No</td>\n",
       "      <td>Yes</td>\n",
       "      <td>No</td>\n",
       "    </tr>\n",
       "    <tr>\n",
       "      <th>99</th>\n",
       "      <td>13/07/2020 21:23:57</td>\n",
       "      <td>Female</td>\n",
       "      <td>23.0</td>\n",
       "      <td>Pendidikan Islam</td>\n",
       "      <td>year 4</td>\n",
       "      <td>3.50 - 4.00</td>\n",
       "      <td>No</td>\n",
       "      <td>No</td>\n",
       "      <td>No</td>\n",
       "      <td>No</td>\n",
       "      <td>No</td>\n",
       "    </tr>\n",
       "    <tr>\n",
       "      <th>100</th>\n",
       "      <td>18/07/2020 20:16:21</td>\n",
       "      <td>Male</td>\n",
       "      <td>20.0</td>\n",
       "      <td>Biomedical science</td>\n",
       "      <td>Year 2</td>\n",
       "      <td>3.00 - 3.49</td>\n",
       "      <td>No</td>\n",
       "      <td>No</td>\n",
       "      <td>No</td>\n",
       "      <td>No</td>\n",
       "      <td>No</td>\n",
       "    </tr>\n",
       "  </tbody>\n",
       "</table>\n",
       "</div>"
      ],
      "text/plain": [
       "               Timestamp Choose your gender   Age What is your course?  \\\n",
       "98   13/07/2020 21:22:56             Female  19.0             Nursing    \n",
       "99   13/07/2020 21:23:57             Female  23.0     Pendidikan Islam   \n",
       "100  18/07/2020 20:16:21               Male  20.0   Biomedical science   \n",
       "\n",
       "    Your current year of Study What is your CGPA? Marital status  \\\n",
       "98                      Year 3        3.50 - 4.00            Yes   \n",
       "99                      year 4        3.50 - 4.00             No   \n",
       "100                     Year 2        3.00 - 3.49             No   \n",
       "\n",
       "    Do you have Depression? Do you have Anxiety? Do you have Panic attack?  \\\n",
       "98                      Yes                   No                       Yes   \n",
       "99                       No                   No                        No   \n",
       "100                      No                   No                        No   \n",
       "\n",
       "    Did you seek any specialist for a treatment?  \n",
       "98                                            No  \n",
       "99                                            No  \n",
       "100                                           No  "
      ]
     },
     "execution_count": 4,
     "metadata": {},
     "output_type": "execute_result"
    }
   ],
   "source": [
    "data.tail(3)"
   ]
  },
  {
   "cell_type": "markdown",
   "id": "789449ca",
   "metadata": {
    "papermill": {
     "duration": 0.117086,
     "end_time": "2024-07-27T21:26:55.871776",
     "exception": false,
     "start_time": "2024-07-27T21:26:55.754690",
     "status": "completed"
    },
    "tags": []
   },
   "source": [
    "CHECKING FOR NULL\n",
    "entry 434"
   ]
  },
  {
   "cell_type": "code",
   "execution_count": 5,
   "id": "5f2fc3e3",
   "metadata": {
    "execution": {
     "iopub.execute_input": "2024-07-27T21:26:56.118777Z",
     "iopub.status.busy": "2024-07-27T21:26:56.118418Z",
     "iopub.status.idle": "2024-07-27T21:26:56.149538Z",
     "shell.execute_reply": "2024-07-27T21:26:56.148306Z"
    },
    "papermill": {
     "duration": 0.164986,
     "end_time": "2024-07-27T21:26:56.152677",
     "exception": false,
     "start_time": "2024-07-27T21:26:55.987691",
     "status": "completed"
    },
    "tags": []
   },
   "outputs": [
    {
     "data": {
      "text/html": [
       "<div>\n",
       "<style scoped>\n",
       "    .dataframe tbody tr th:only-of-type {\n",
       "        vertical-align: middle;\n",
       "    }\n",
       "\n",
       "    .dataframe tbody tr th {\n",
       "        vertical-align: top;\n",
       "    }\n",
       "\n",
       "    .dataframe thead th {\n",
       "        text-align: right;\n",
       "    }\n",
       "</style>\n",
       "<table border=\"1\" class=\"dataframe\">\n",
       "  <thead>\n",
       "    <tr style=\"text-align: right;\">\n",
       "      <th></th>\n",
       "      <th>Age</th>\n",
       "    </tr>\n",
       "  </thead>\n",
       "  <tbody>\n",
       "    <tr>\n",
       "      <th>count</th>\n",
       "      <td>100.00000</td>\n",
       "    </tr>\n",
       "    <tr>\n",
       "      <th>mean</th>\n",
       "      <td>20.53000</td>\n",
       "    </tr>\n",
       "    <tr>\n",
       "      <th>std</th>\n",
       "      <td>2.49628</td>\n",
       "    </tr>\n",
       "    <tr>\n",
       "      <th>min</th>\n",
       "      <td>18.00000</td>\n",
       "    </tr>\n",
       "    <tr>\n",
       "      <th>25%</th>\n",
       "      <td>18.00000</td>\n",
       "    </tr>\n",
       "    <tr>\n",
       "      <th>50%</th>\n",
       "      <td>19.00000</td>\n",
       "    </tr>\n",
       "    <tr>\n",
       "      <th>75%</th>\n",
       "      <td>23.00000</td>\n",
       "    </tr>\n",
       "    <tr>\n",
       "      <th>max</th>\n",
       "      <td>24.00000</td>\n",
       "    </tr>\n",
       "  </tbody>\n",
       "</table>\n",
       "</div>"
      ],
      "text/plain": [
       "             Age\n",
       "count  100.00000\n",
       "mean    20.53000\n",
       "std      2.49628\n",
       "min     18.00000\n",
       "25%     18.00000\n",
       "50%     19.00000\n",
       "75%     23.00000\n",
       "max     24.00000"
      ]
     },
     "execution_count": 5,
     "metadata": {},
     "output_type": "execute_result"
    }
   ],
   "source": [
    "data.describe()"
   ]
  },
  {
   "cell_type": "code",
   "execution_count": 6,
   "id": "472facd6",
   "metadata": {
    "execution": {
     "iopub.execute_input": "2024-07-27T21:26:56.396524Z",
     "iopub.status.busy": "2024-07-27T21:26:56.395679Z",
     "iopub.status.idle": "2024-07-27T21:26:56.412064Z",
     "shell.execute_reply": "2024-07-27T21:26:56.410632Z"
    },
    "papermill": {
     "duration": 0.139694,
     "end_time": "2024-07-27T21:26:56.415063",
     "exception": false,
     "start_time": "2024-07-27T21:26:56.275369",
     "status": "completed"
    },
    "tags": []
   },
   "outputs": [
    {
     "data": {
      "text/plain": [
       "0"
      ]
     },
     "execution_count": 6,
     "metadata": {},
     "output_type": "execute_result"
    }
   ],
   "source": [
    "data.duplicated().sum()\n"
   ]
  },
  {
   "cell_type": "markdown",
   "id": "08d58a83",
   "metadata": {
    "papermill": {
     "duration": 0.122813,
     "end_time": "2024-07-27T21:26:56.660102",
     "exception": false,
     "start_time": "2024-07-27T21:26:56.537289",
     "status": "completed"
    },
    "tags": []
   },
   "source": [
    "DATA CLEANING AND TRANSFORMATION\n",
    "* renaming column labels for easy identification\n",
    "* handling missing values"
   ]
  },
  {
   "cell_type": "code",
   "execution_count": 7,
   "id": "b4329874",
   "metadata": {
    "execution": {
     "iopub.execute_input": "2024-07-27T21:26:56.902798Z",
     "iopub.status.busy": "2024-07-27T21:26:56.902437Z",
     "iopub.status.idle": "2024-07-27T21:26:56.908743Z",
     "shell.execute_reply": "2024-07-27T21:26:56.907256Z"
    },
    "papermill": {
     "duration": 0.132189,
     "end_time": "2024-07-27T21:26:56.911788",
     "exception": false,
     "start_time": "2024-07-27T21:26:56.779599",
     "status": "completed"
    },
    "tags": []
   },
   "outputs": [],
   "source": [
    "df = data.copy()"
   ]
  },
  {
   "cell_type": "code",
   "execution_count": 8,
   "id": "b97d9454",
   "metadata": {
    "execution": {
     "iopub.execute_input": "2024-07-27T21:26:57.158104Z",
     "iopub.status.busy": "2024-07-27T21:26:57.157777Z",
     "iopub.status.idle": "2024-07-27T21:26:57.165787Z",
     "shell.execute_reply": "2024-07-27T21:26:57.164431Z"
    },
    "papermill": {
     "duration": 0.135162,
     "end_time": "2024-07-27T21:26:57.168563",
     "exception": false,
     "start_time": "2024-07-27T21:26:57.033401",
     "status": "completed"
    },
    "tags": []
   },
   "outputs": [
    {
     "data": {
      "text/plain": [
       "Index(['Timestamp', 'Choose your gender', 'Age', 'What is your course?',\n",
       "       'Your current year of Study', 'What is your CGPA?', 'Marital status',\n",
       "       'Do you have Depression?', 'Do you have Anxiety?',\n",
       "       'Do you have Panic attack?',\n",
       "       'Did you seek any specialist for a treatment?'],\n",
       "      dtype='object')"
      ]
     },
     "execution_count": 8,
     "metadata": {},
     "output_type": "execute_result"
    }
   ],
   "source": [
    "df.columns"
   ]
  },
  {
   "cell_type": "markdown",
   "id": "bfc3f74b",
   "metadata": {
    "papermill": {
     "duration": 0.125248,
     "end_time": "2024-07-27T21:26:57.421307",
     "exception": false,
     "start_time": "2024-07-27T21:26:57.296059",
     "status": "completed"
    },
    "tags": []
   },
   "source": [
    "Renaming of Colum Labels"
   ]
  },
  {
   "cell_type": "code",
   "execution_count": 9,
   "id": "dc1857d5",
   "metadata": {
    "execution": {
     "iopub.execute_input": "2024-07-27T21:26:57.677209Z",
     "iopub.status.busy": "2024-07-27T21:26:57.676848Z",
     "iopub.status.idle": "2024-07-27T21:26:57.686301Z",
     "shell.execute_reply": "2024-07-27T21:26:57.683811Z"
    },
    "papermill": {
     "duration": 0.14838,
     "end_time": "2024-07-27T21:26:57.690703",
     "exception": false,
     "start_time": "2024-07-27T21:26:57.542323",
     "status": "completed"
    },
    "tags": []
   },
   "outputs": [],
   "source": [
    "df.columns = ['Timestamp', 'Gender', 'Age', 'Course',\n",
    "       'Year of Study', 'CGPA', 'Marital status',\n",
    "       'Depression', 'Anxiety',\n",
    "       'Panic attack',\n",
    "       'Treatment']"
   ]
  },
  {
   "cell_type": "code",
   "execution_count": 10,
   "id": "ca67bf96",
   "metadata": {
    "execution": {
     "iopub.execute_input": "2024-07-27T21:26:57.935365Z",
     "iopub.status.busy": "2024-07-27T21:26:57.934245Z",
     "iopub.status.idle": "2024-07-27T21:26:57.944523Z",
     "shell.execute_reply": "2024-07-27T21:26:57.943297Z"
    },
    "papermill": {
     "duration": 0.131336,
     "end_time": "2024-07-27T21:26:57.947604",
     "exception": false,
     "start_time": "2024-07-27T21:26:57.816268",
     "status": "completed"
    },
    "tags": []
   },
   "outputs": [
    {
     "name": "stdout",
     "output_type": "stream",
     "text": [
      "Null values in each column:\n",
      "Timestamp         0\n",
      "Gender            0\n",
      "Age               1\n",
      "Course            0\n",
      "Year of Study     0\n",
      "CGPA              0\n",
      "Marital status    0\n",
      "Depression        0\n",
      "Anxiety           0\n",
      "Panic attack      0\n",
      "Treatment         0\n",
      "dtype: int64\n"
     ]
    }
   ],
   "source": [
    "# Assuming your dataset is named 'df'\n",
    "# Check for null or missing values in the dataset\n",
    "null_values = df.isnull().sum()\n",
    "\n",
    "# Display the count of null values for each column\n",
    "print(\"Null values in each column:\")\n",
    "print(null_values)"
   ]
  },
  {
   "cell_type": "code",
   "execution_count": 11,
   "id": "78459015",
   "metadata": {
    "execution": {
     "iopub.execute_input": "2024-07-27T21:26:58.203907Z",
     "iopub.status.busy": "2024-07-27T21:26:58.203504Z",
     "iopub.status.idle": "2024-07-27T21:26:58.238564Z",
     "shell.execute_reply": "2024-07-27T21:26:58.237135Z"
    },
    "papermill": {
     "duration": 0.169618,
     "end_time": "2024-07-27T21:26:58.241975",
     "exception": false,
     "start_time": "2024-07-27T21:26:58.072357",
     "status": "completed"
    },
    "tags": []
   },
   "outputs": [
    {
     "data": {
      "text/html": [
       "<div>\n",
       "<style scoped>\n",
       "    .dataframe tbody tr th:only-of-type {\n",
       "        vertical-align: middle;\n",
       "    }\n",
       "\n",
       "    .dataframe tbody tr th {\n",
       "        vertical-align: top;\n",
       "    }\n",
       "\n",
       "    .dataframe thead th {\n",
       "        text-align: right;\n",
       "    }\n",
       "</style>\n",
       "<table border=\"1\" class=\"dataframe\">\n",
       "  <thead>\n",
       "    <tr style=\"text-align: right;\">\n",
       "      <th></th>\n",
       "      <th>Timestamp</th>\n",
       "      <th>Gender</th>\n",
       "      <th>Age</th>\n",
       "      <th>Course</th>\n",
       "      <th>Year of Study</th>\n",
       "      <th>CGPA</th>\n",
       "      <th>Marital status</th>\n",
       "      <th>Depression</th>\n",
       "      <th>Anxiety</th>\n",
       "      <th>Panic attack</th>\n",
       "      <th>Treatment</th>\n",
       "    </tr>\n",
       "  </thead>\n",
       "  <tbody>\n",
       "    <tr>\n",
       "      <th>0</th>\n",
       "      <td>8/7/2020 12:02</td>\n",
       "      <td>Female</td>\n",
       "      <td>18.0</td>\n",
       "      <td>Engineering</td>\n",
       "      <td>year 1</td>\n",
       "      <td>3.00 - 3.49</td>\n",
       "      <td>No</td>\n",
       "      <td>Yes</td>\n",
       "      <td>No</td>\n",
       "      <td>Yes</td>\n",
       "      <td>No</td>\n",
       "    </tr>\n",
       "    <tr>\n",
       "      <th>1</th>\n",
       "      <td>8/7/2020 12:04</td>\n",
       "      <td>Male</td>\n",
       "      <td>21.0</td>\n",
       "      <td>Islamic education</td>\n",
       "      <td>year 2</td>\n",
       "      <td>3.00 - 3.49</td>\n",
       "      <td>No</td>\n",
       "      <td>No</td>\n",
       "      <td>Yes</td>\n",
       "      <td>No</td>\n",
       "      <td>No</td>\n",
       "    </tr>\n",
       "    <tr>\n",
       "      <th>2</th>\n",
       "      <td>8/7/2020 12:05</td>\n",
       "      <td>Male</td>\n",
       "      <td>19.0</td>\n",
       "      <td>BIT</td>\n",
       "      <td>Year 1</td>\n",
       "      <td>3.00 - 3.49</td>\n",
       "      <td>No</td>\n",
       "      <td>Yes</td>\n",
       "      <td>Yes</td>\n",
       "      <td>Yes</td>\n",
       "      <td>No</td>\n",
       "    </tr>\n",
       "    <tr>\n",
       "      <th>3</th>\n",
       "      <td>8/7/2020 12:06</td>\n",
       "      <td>Female</td>\n",
       "      <td>22.0</td>\n",
       "      <td>Laws</td>\n",
       "      <td>year 3</td>\n",
       "      <td>3.00 - 3.49</td>\n",
       "      <td>Yes</td>\n",
       "      <td>Yes</td>\n",
       "      <td>No</td>\n",
       "      <td>No</td>\n",
       "      <td>No</td>\n",
       "    </tr>\n",
       "    <tr>\n",
       "      <th>4</th>\n",
       "      <td>8/7/2020 12:13</td>\n",
       "      <td>Male</td>\n",
       "      <td>23.0</td>\n",
       "      <td>Mathemathics</td>\n",
       "      <td>year 4</td>\n",
       "      <td>3.00 - 3.49</td>\n",
       "      <td>No</td>\n",
       "      <td>No</td>\n",
       "      <td>No</td>\n",
       "      <td>No</td>\n",
       "      <td>No</td>\n",
       "    </tr>\n",
       "    <tr>\n",
       "      <th>...</th>\n",
       "      <td>...</td>\n",
       "      <td>...</td>\n",
       "      <td>...</td>\n",
       "      <td>...</td>\n",
       "      <td>...</td>\n",
       "      <td>...</td>\n",
       "      <td>...</td>\n",
       "      <td>...</td>\n",
       "      <td>...</td>\n",
       "      <td>...</td>\n",
       "      <td>...</td>\n",
       "    </tr>\n",
       "    <tr>\n",
       "      <th>96</th>\n",
       "      <td>13/07/2020 19:56:49</td>\n",
       "      <td>Female</td>\n",
       "      <td>21.0</td>\n",
       "      <td>BCS</td>\n",
       "      <td>year 1</td>\n",
       "      <td>3.50 - 4.00</td>\n",
       "      <td>No</td>\n",
       "      <td>No</td>\n",
       "      <td>Yes</td>\n",
       "      <td>No</td>\n",
       "      <td>No</td>\n",
       "    </tr>\n",
       "    <tr>\n",
       "      <th>97</th>\n",
       "      <td>13/07/2020 21:21:42</td>\n",
       "      <td>Male</td>\n",
       "      <td>18.0</td>\n",
       "      <td>Engineering</td>\n",
       "      <td>Year 2</td>\n",
       "      <td>3.00 - 3.49</td>\n",
       "      <td>No</td>\n",
       "      <td>Yes</td>\n",
       "      <td>Yes</td>\n",
       "      <td>No</td>\n",
       "      <td>No</td>\n",
       "    </tr>\n",
       "    <tr>\n",
       "      <th>98</th>\n",
       "      <td>13/07/2020 21:22:56</td>\n",
       "      <td>Female</td>\n",
       "      <td>19.0</td>\n",
       "      <td>Nursing</td>\n",
       "      <td>Year 3</td>\n",
       "      <td>3.50 - 4.00</td>\n",
       "      <td>Yes</td>\n",
       "      <td>Yes</td>\n",
       "      <td>No</td>\n",
       "      <td>Yes</td>\n",
       "      <td>No</td>\n",
       "    </tr>\n",
       "    <tr>\n",
       "      <th>99</th>\n",
       "      <td>13/07/2020 21:23:57</td>\n",
       "      <td>Female</td>\n",
       "      <td>23.0</td>\n",
       "      <td>Pendidikan Islam</td>\n",
       "      <td>year 4</td>\n",
       "      <td>3.50 - 4.00</td>\n",
       "      <td>No</td>\n",
       "      <td>No</td>\n",
       "      <td>No</td>\n",
       "      <td>No</td>\n",
       "      <td>No</td>\n",
       "    </tr>\n",
       "    <tr>\n",
       "      <th>100</th>\n",
       "      <td>18/07/2020 20:16:21</td>\n",
       "      <td>Male</td>\n",
       "      <td>20.0</td>\n",
       "      <td>Biomedical science</td>\n",
       "      <td>Year 2</td>\n",
       "      <td>3.00 - 3.49</td>\n",
       "      <td>No</td>\n",
       "      <td>No</td>\n",
       "      <td>No</td>\n",
       "      <td>No</td>\n",
       "      <td>No</td>\n",
       "    </tr>\n",
       "  </tbody>\n",
       "</table>\n",
       "<p>101 rows × 11 columns</p>\n",
       "</div>"
      ],
      "text/plain": [
       "               Timestamp  Gender   Age              Course Year of Study  \\\n",
       "0         8/7/2020 12:02  Female  18.0         Engineering        year 1   \n",
       "1         8/7/2020 12:04    Male  21.0   Islamic education        year 2   \n",
       "2         8/7/2020 12:05    Male  19.0                 BIT        Year 1   \n",
       "3         8/7/2020 12:06  Female  22.0                Laws        year 3   \n",
       "4         8/7/2020 12:13    Male  23.0        Mathemathics        year 4   \n",
       "..                   ...     ...   ...                 ...           ...   \n",
       "96   13/07/2020 19:56:49  Female  21.0                 BCS        year 1   \n",
       "97   13/07/2020 21:21:42    Male  18.0         Engineering        Year 2   \n",
       "98   13/07/2020 21:22:56  Female  19.0            Nursing         Year 3   \n",
       "99   13/07/2020 21:23:57  Female  23.0    Pendidikan Islam        year 4   \n",
       "100  18/07/2020 20:16:21    Male  20.0  Biomedical science        Year 2   \n",
       "\n",
       "            CGPA Marital status Depression Anxiety Panic attack Treatment  \n",
       "0    3.00 - 3.49             No        Yes      No          Yes        No  \n",
       "1    3.00 - 3.49             No         No     Yes           No        No  \n",
       "2    3.00 - 3.49             No        Yes     Yes          Yes        No  \n",
       "3    3.00 - 3.49            Yes        Yes      No           No        No  \n",
       "4    3.00 - 3.49             No         No      No           No        No  \n",
       "..           ...            ...        ...     ...          ...       ...  \n",
       "96   3.50 - 4.00             No         No     Yes           No        No  \n",
       "97   3.00 - 3.49             No        Yes     Yes           No        No  \n",
       "98   3.50 - 4.00            Yes        Yes      No          Yes        No  \n",
       "99   3.50 - 4.00             No         No      No           No        No  \n",
       "100  3.00 - 3.49             No         No      No           No        No  \n",
       "\n",
       "[101 rows x 11 columns]"
      ]
     },
     "execution_count": 11,
     "metadata": {},
     "output_type": "execute_result"
    }
   ],
   "source": [
    "df"
   ]
  },
  {
   "cell_type": "code",
   "execution_count": 12,
   "id": "b65563f0",
   "metadata": {
    "execution": {
     "iopub.execute_input": "2024-07-27T21:26:58.500583Z",
     "iopub.status.busy": "2024-07-27T21:26:58.500261Z",
     "iopub.status.idle": "2024-07-27T21:26:58.509516Z",
     "shell.execute_reply": "2024-07-27T21:26:58.508334Z"
    },
    "papermill": {
     "duration": 0.144101,
     "end_time": "2024-07-27T21:26:58.512424",
     "exception": false,
     "start_time": "2024-07-27T21:26:58.368323",
     "status": "completed"
    },
    "tags": []
   },
   "outputs": [
    {
     "data": {
      "text/plain": [
       "array(['year 1', 'year 2', 'Year 1', 'year 3', 'year 4', 'Year 2',\n",
       "       'Year 3'], dtype=object)"
      ]
     },
     "execution_count": 12,
     "metadata": {},
     "output_type": "execute_result"
    }
   ],
   "source": [
    "df['Year of Study'].unique()"
   ]
  },
  {
   "cell_type": "code",
   "execution_count": 13,
   "id": "931f3d43",
   "metadata": {
    "execution": {
     "iopub.execute_input": "2024-07-27T21:26:58.758141Z",
     "iopub.status.busy": "2024-07-27T21:26:58.757803Z",
     "iopub.status.idle": "2024-07-27T21:26:58.765245Z",
     "shell.execute_reply": "2024-07-27T21:26:58.764288Z"
    },
    "papermill": {
     "duration": 0.130571,
     "end_time": "2024-07-27T21:26:58.767758",
     "exception": false,
     "start_time": "2024-07-27T21:26:58.637187",
     "status": "completed"
    },
    "tags": []
   },
   "outputs": [],
   "source": [
    "df['Year of Study'].replace({'year 1': 'year 1', 'year 2': 'year 2', 'Year 1': 'year 1', 'year 3': 'year 3', 'year 4': 'year 4', 'Year 2': 'year 2',\n",
    "       'Year 3': 'year 3'}, inplace = True)"
   ]
  },
  {
   "cell_type": "code",
   "execution_count": 14,
   "id": "af4600b0",
   "metadata": {
    "execution": {
     "iopub.execute_input": "2024-07-27T21:26:59.016283Z",
     "iopub.status.busy": "2024-07-27T21:26:59.015873Z",
     "iopub.status.idle": "2024-07-27T21:26:59.025469Z",
     "shell.execute_reply": "2024-07-27T21:26:59.024351Z"
    },
    "papermill": {
     "duration": 0.137256,
     "end_time": "2024-07-27T21:26:59.028936",
     "exception": false,
     "start_time": "2024-07-27T21:26:58.891680",
     "status": "completed"
    },
    "tags": []
   },
   "outputs": [
    {
     "data": {
      "text/plain": [
       "array(['year 1', 'year 2', 'year 3', 'year 4'], dtype=object)"
      ]
     },
     "execution_count": 14,
     "metadata": {},
     "output_type": "execute_result"
    }
   ],
   "source": [
    "df['Year of Study'].unique()"
   ]
  },
  {
   "cell_type": "code",
   "execution_count": 15,
   "id": "82b77379",
   "metadata": {
    "execution": {
     "iopub.execute_input": "2024-07-27T21:26:59.279533Z",
     "iopub.status.busy": "2024-07-27T21:26:59.279087Z",
     "iopub.status.idle": "2024-07-27T21:26:59.288578Z",
     "shell.execute_reply": "2024-07-27T21:26:59.286963Z"
    },
    "papermill": {
     "duration": 0.138056,
     "end_time": "2024-07-27T21:26:59.291609",
     "exception": false,
     "start_time": "2024-07-27T21:26:59.153553",
     "status": "completed"
    },
    "tags": []
   },
   "outputs": [
    {
     "data": {
      "text/plain": [
       "array(['Engineering', 'Islamic education', 'BIT', 'Laws', 'Mathemathics',\n",
       "       'Pendidikan islam', 'BCS', 'Human Resources', 'Irkhs',\n",
       "       'Psychology', 'KENMS', 'Accounting ', 'ENM', 'Marine science',\n",
       "       'KOE', 'Banking Studies', 'Business Administration', 'Law',\n",
       "       'KIRKHS', 'Usuluddin ', 'TAASL', 'Engine', 'ALA',\n",
       "       'Biomedical science', 'koe', 'Kirkhs', 'BENL', 'Benl', 'IT', 'CTS',\n",
       "       'engin', 'Econs', 'MHSC', 'Malcom', 'Kop', 'Human Sciences ',\n",
       "       'Biotechnology', 'Communication ', 'Diploma Nursing',\n",
       "       'Pendidikan Islam ', 'Radiography', 'psychology', 'Fiqh fatwa ',\n",
       "       'DIPLOMA TESL', 'Koe', 'Fiqh', 'Islamic Education', 'Nursing ',\n",
       "       'Pendidikan Islam'], dtype=object)"
      ]
     },
     "execution_count": 15,
     "metadata": {},
     "output_type": "execute_result"
    }
   ],
   "source": [
    "df['Course'].unique()"
   ]
  },
  {
   "cell_type": "code",
   "execution_count": 16,
   "id": "1a756dc7",
   "metadata": {
    "execution": {
     "iopub.execute_input": "2024-07-27T21:26:59.567089Z",
     "iopub.status.busy": "2024-07-27T21:26:59.566648Z",
     "iopub.status.idle": "2024-07-27T21:26:59.578702Z",
     "shell.execute_reply": "2024-07-27T21:26:59.576795Z"
    },
    "papermill": {
     "duration": 0.157325,
     "end_time": "2024-07-27T21:26:59.581802",
     "exception": false,
     "start_time": "2024-07-27T21:26:59.424477",
     "status": "completed"
    },
    "tags": []
   },
   "outputs": [],
   "source": [
    "df['Course'].replace({'engin': 'Engineering' , 'Engine':'Engineering' , 'Islamic education':'Islamic Education' , 'Pendidikan islam':'Pendidikan Islam' , 'BIT':'IT', 'psychology':'Psychology', 'koe': 'KOE','Koe': 'KOE', 'Kirkhs': 'Irkhs', 'KIRKHS': 'Irkhs', 'BENL': 'Benl', 'Fiqh fatwa ': 'Fiqh', 'Laws': 'Law', 'Econs': 'Economics'} , inplace = True)"
   ]
  },
  {
   "cell_type": "code",
   "execution_count": 17,
   "id": "8d7f1562",
   "metadata": {
    "execution": {
     "iopub.execute_input": "2024-07-27T21:26:59.863629Z",
     "iopub.status.busy": "2024-07-27T21:26:59.863243Z",
     "iopub.status.idle": "2024-07-27T21:26:59.872947Z",
     "shell.execute_reply": "2024-07-27T21:26:59.871502Z"
    },
    "papermill": {
     "duration": 0.157322,
     "end_time": "2024-07-27T21:26:59.875798",
     "exception": false,
     "start_time": "2024-07-27T21:26:59.718476",
     "status": "completed"
    },
    "tags": []
   },
   "outputs": [
    {
     "data": {
      "text/plain": [
       "array(['Engineering', 'Islamic Education', 'IT', 'Law', 'Mathemathics',\n",
       "       'Pendidikan Islam', 'BCS', 'Human Resources', 'Irkhs',\n",
       "       'Psychology', 'KENMS', 'Accounting ', 'ENM', 'Marine science',\n",
       "       'KOE', 'Banking Studies', 'Business Administration', 'Usuluddin ',\n",
       "       'TAASL', 'ALA', 'Biomedical science', 'Benl', 'CTS', 'Economics',\n",
       "       'MHSC', 'Malcom', 'Kop', 'Human Sciences ', 'Biotechnology',\n",
       "       'Communication ', 'Diploma Nursing', 'Pendidikan Islam ',\n",
       "       'Radiography', 'Fiqh', 'DIPLOMA TESL', 'Nursing '], dtype=object)"
      ]
     },
     "execution_count": 17,
     "metadata": {},
     "output_type": "execute_result"
    }
   ],
   "source": [
    "df['Course'].unique()"
   ]
  },
  {
   "cell_type": "code",
   "execution_count": 18,
   "id": "a61e8117",
   "metadata": {
    "execution": {
     "iopub.execute_input": "2024-07-27T21:27:00.127557Z",
     "iopub.status.busy": "2024-07-27T21:27:00.126172Z",
     "iopub.status.idle": "2024-07-27T21:27:00.135906Z",
     "shell.execute_reply": "2024-07-27T21:27:00.134670Z"
    },
    "papermill": {
     "duration": 0.139382,
     "end_time": "2024-07-27T21:27:00.139400",
     "exception": false,
     "start_time": "2024-07-27T21:27:00.000018",
     "status": "completed"
    },
    "tags": []
   },
   "outputs": [
    {
     "data": {
      "text/plain": [
       "array(['3.00 - 3.49', '3.50 - 4.00', '3.50 - 4.00 ', '2.50 - 2.99',\n",
       "       '2.00 - 2.49', '0 - 1.99'], dtype=object)"
      ]
     },
     "execution_count": 18,
     "metadata": {},
     "output_type": "execute_result"
    }
   ],
   "source": [
    "df['CGPA'].unique()"
   ]
  },
  {
   "cell_type": "code",
   "execution_count": 19,
   "id": "b0c485da",
   "metadata": {
    "execution": {
     "iopub.execute_input": "2024-07-27T21:27:00.408646Z",
     "iopub.status.busy": "2024-07-27T21:27:00.406499Z",
     "iopub.status.idle": "2024-07-27T21:27:00.417170Z",
     "shell.execute_reply": "2024-07-27T21:27:00.415323Z"
    },
    "papermill": {
     "duration": 0.154954,
     "end_time": "2024-07-27T21:27:00.420734",
     "exception": false,
     "start_time": "2024-07-27T21:27:00.265780",
     "status": "completed"
    },
    "tags": []
   },
   "outputs": [],
   "source": [
    "df['CGPA'] = df['CGPA'].str.strip()"
   ]
  },
  {
   "cell_type": "code",
   "execution_count": 20,
   "id": "7b6842ef",
   "metadata": {
    "execution": {
     "iopub.execute_input": "2024-07-27T21:27:00.681749Z",
     "iopub.status.busy": "2024-07-27T21:27:00.681279Z",
     "iopub.status.idle": "2024-07-27T21:27:00.689259Z",
     "shell.execute_reply": "2024-07-27T21:27:00.688302Z"
    },
    "papermill": {
     "duration": 0.143322,
     "end_time": "2024-07-27T21:27:00.691804",
     "exception": false,
     "start_time": "2024-07-27T21:27:00.548482",
     "status": "completed"
    },
    "tags": []
   },
   "outputs": [
    {
     "data": {
      "text/plain": [
       "array(['3.00 - 3.49', '3.50 - 4.00', '2.50 - 2.99', '2.00 - 2.49',\n",
       "       '0 - 1.99'], dtype=object)"
      ]
     },
     "execution_count": 20,
     "metadata": {},
     "output_type": "execute_result"
    }
   ],
   "source": [
    "df['CGPA'].unique()"
   ]
  },
  {
   "cell_type": "code",
   "execution_count": 21,
   "id": "297d1eb3",
   "metadata": {
    "execution": {
     "iopub.execute_input": "2024-07-27T21:27:00.949230Z",
     "iopub.status.busy": "2024-07-27T21:27:00.948811Z",
     "iopub.status.idle": "2024-07-27T21:27:00.970967Z",
     "shell.execute_reply": "2024-07-27T21:27:00.969960Z"
    },
    "papermill": {
     "duration": 0.155212,
     "end_time": "2024-07-27T21:27:00.973980",
     "exception": false,
     "start_time": "2024-07-27T21:27:00.818768",
     "status": "completed"
    },
    "tags": []
   },
   "outputs": [
    {
     "name": "stdout",
     "output_type": "stream",
     "text": [
      "<class 'pandas.core.frame.DataFrame'>\n",
      "RangeIndex: 101 entries, 0 to 100\n",
      "Data columns (total 11 columns):\n",
      " #   Column          Non-Null Count  Dtype  \n",
      "---  ------          --------------  -----  \n",
      " 0   Timestamp       101 non-null    object \n",
      " 1   Gender          101 non-null    object \n",
      " 2   Age             100 non-null    float64\n",
      " 3   Course          101 non-null    object \n",
      " 4   Year of Study   101 non-null    object \n",
      " 5   CGPA            101 non-null    object \n",
      " 6   Marital status  101 non-null    object \n",
      " 7   Depression      101 non-null    object \n",
      " 8   Anxiety         101 non-null    object \n",
      " 9   Panic attack    101 non-null    object \n",
      " 10  Treatment       101 non-null    object \n",
      "dtypes: float64(1), object(10)\n",
      "memory usage: 8.8+ KB\n"
     ]
    }
   ],
   "source": [
    "df.info()"
   ]
  },
  {
   "cell_type": "markdown",
   "id": "36f86fd1",
   "metadata": {
    "papermill": {
     "duration": 0.135878,
     "end_time": "2024-07-27T21:27:01.245618",
     "exception": false,
     "start_time": "2024-07-27T21:27:01.109740",
     "status": "completed"
    },
    "tags": []
   },
   "source": [
    "Missing Value in Age Column"
   ]
  },
  {
   "cell_type": "code",
   "execution_count": 22,
   "id": "6da7d702",
   "metadata": {
    "execution": {
     "iopub.execute_input": "2024-07-27T21:27:01.521584Z",
     "iopub.status.busy": "2024-07-27T21:27:01.519129Z",
     "iopub.status.idle": "2024-07-27T21:27:01.532669Z",
     "shell.execute_reply": "2024-07-27T21:27:01.530990Z"
    },
    "papermill": {
     "duration": 0.151441,
     "end_time": "2024-07-27T21:27:01.535336",
     "exception": false,
     "start_time": "2024-07-27T21:27:01.383895",
     "status": "completed"
    },
    "tags": []
   },
   "outputs": [
    {
     "data": {
      "text/plain": [
       "19.0"
      ]
     },
     "execution_count": 22,
     "metadata": {},
     "output_type": "execute_result"
    }
   ],
   "source": [
    "median_age = df['Age'].median()\n",
    "median_age "
   ]
  },
  {
   "cell_type": "code",
   "execution_count": 23,
   "id": "7a37c01c",
   "metadata": {
    "execution": {
     "iopub.execute_input": "2024-07-27T21:27:01.807114Z",
     "iopub.status.busy": "2024-07-27T21:27:01.805821Z",
     "iopub.status.idle": "2024-07-27T21:27:01.813475Z",
     "shell.execute_reply": "2024-07-27T21:27:01.812151Z"
    },
    "papermill": {
     "duration": 0.143571,
     "end_time": "2024-07-27T21:27:01.816619",
     "exception": false,
     "start_time": "2024-07-27T21:27:01.673048",
     "status": "completed"
    },
    "tags": []
   },
   "outputs": [],
   "source": [
    "df['Age'] = df['Age'].fillna(median_age)\n"
   ]
  },
  {
   "cell_type": "markdown",
   "id": "20b1b8ea",
   "metadata": {
    "papermill": {
     "duration": 0.145336,
     "end_time": "2024-07-27T21:27:02.094072",
     "exception": false,
     "start_time": "2024-07-27T21:27:01.948736",
     "status": "completed"
    },
    "tags": []
   },
   "source": [
    "Type casting to Int"
   ]
  },
  {
   "cell_type": "code",
   "execution_count": 24,
   "id": "132fa07f",
   "metadata": {
    "execution": {
     "iopub.execute_input": "2024-07-27T21:27:02.381672Z",
     "iopub.status.busy": "2024-07-27T21:27:02.379962Z",
     "iopub.status.idle": "2024-07-27T21:27:02.388496Z",
     "shell.execute_reply": "2024-07-27T21:27:02.386988Z"
    },
    "papermill": {
     "duration": 0.166288,
     "end_time": "2024-07-27T21:27:02.392405",
     "exception": false,
     "start_time": "2024-07-27T21:27:02.226117",
     "status": "completed"
    },
    "tags": []
   },
   "outputs": [],
   "source": [
    "df['Age'] = df['Age'].astype(int)"
   ]
  },
  {
   "cell_type": "code",
   "execution_count": 25,
   "id": "ed9f8651",
   "metadata": {
    "execution": {
     "iopub.execute_input": "2024-07-27T21:27:02.658948Z",
     "iopub.status.busy": "2024-07-27T21:27:02.658495Z",
     "iopub.status.idle": "2024-07-27T21:27:02.678658Z",
     "shell.execute_reply": "2024-07-27T21:27:02.677469Z"
    },
    "papermill": {
     "duration": 0.155055,
     "end_time": "2024-07-27T21:27:02.681613",
     "exception": false,
     "start_time": "2024-07-27T21:27:02.526558",
     "status": "completed"
    },
    "tags": []
   },
   "outputs": [
    {
     "name": "stdout",
     "output_type": "stream",
     "text": [
      "<class 'pandas.core.frame.DataFrame'>\n",
      "RangeIndex: 101 entries, 0 to 100\n",
      "Data columns (total 11 columns):\n",
      " #   Column          Non-Null Count  Dtype \n",
      "---  ------          --------------  ----- \n",
      " 0   Timestamp       101 non-null    object\n",
      " 1   Gender          101 non-null    object\n",
      " 2   Age             101 non-null    int64 \n",
      " 3   Course          101 non-null    object\n",
      " 4   Year of Study   101 non-null    object\n",
      " 5   CGPA            101 non-null    object\n",
      " 6   Marital status  101 non-null    object\n",
      " 7   Depression      101 non-null    object\n",
      " 8   Anxiety         101 non-null    object\n",
      " 9   Panic attack    101 non-null    object\n",
      " 10  Treatment       101 non-null    object\n",
      "dtypes: int64(1), object(10)\n",
      "memory usage: 8.8+ KB\n"
     ]
    }
   ],
   "source": [
    "df.info()"
   ]
  },
  {
   "cell_type": "code",
   "execution_count": 26,
   "id": "20ece952",
   "metadata": {
    "execution": {
     "iopub.execute_input": "2024-07-27T21:27:02.949114Z",
     "iopub.status.busy": "2024-07-27T21:27:02.948736Z",
     "iopub.status.idle": "2024-07-27T21:27:02.958261Z",
     "shell.execute_reply": "2024-07-27T21:27:02.956951Z"
    },
    "papermill": {
     "duration": 0.145875,
     "end_time": "2024-07-27T21:27:02.960991",
     "exception": false,
     "start_time": "2024-07-27T21:27:02.815116",
     "status": "completed"
    },
    "tags": []
   },
   "outputs": [
    {
     "data": {
      "text/plain": [
       "array(['Yes', 'No'], dtype=object)"
      ]
     },
     "execution_count": 26,
     "metadata": {},
     "output_type": "execute_result"
    }
   ],
   "source": [
    "df['Depression'].unique()"
   ]
  },
  {
   "cell_type": "code",
   "execution_count": 27,
   "id": "8a75e9c8",
   "metadata": {
    "execution": {
     "iopub.execute_input": "2024-07-27T21:27:03.234079Z",
     "iopub.status.busy": "2024-07-27T21:27:03.233700Z",
     "iopub.status.idle": "2024-07-27T21:27:03.241087Z",
     "shell.execute_reply": "2024-07-27T21:27:03.239725Z"
    },
    "papermill": {
     "duration": 0.147239,
     "end_time": "2024-07-27T21:27:03.243802",
     "exception": false,
     "start_time": "2024-07-27T21:27:03.096563",
     "status": "completed"
    },
    "tags": []
   },
   "outputs": [],
   "source": [
    "df['Depression'] = df['Depression'].replace({'Yes': 'Depressed', 'No': 'Not depressed'})"
   ]
  },
  {
   "cell_type": "code",
   "execution_count": 28,
   "id": "d8cfd210",
   "metadata": {
    "execution": {
     "iopub.execute_input": "2024-07-27T21:27:03.525634Z",
     "iopub.status.busy": "2024-07-27T21:27:03.525161Z",
     "iopub.status.idle": "2024-07-27T21:27:03.535403Z",
     "shell.execute_reply": "2024-07-27T21:27:03.534275Z"
    },
    "papermill": {
     "duration": 0.153122,
     "end_time": "2024-07-27T21:27:03.539039",
     "exception": false,
     "start_time": "2024-07-27T21:27:03.385917",
     "status": "completed"
    },
    "tags": []
   },
   "outputs": [
    {
     "data": {
      "text/plain": [
       "array(['Depressed', 'Not depressed'], dtype=object)"
      ]
     },
     "execution_count": 28,
     "metadata": {},
     "output_type": "execute_result"
    }
   ],
   "source": [
    "df['Depression'].unique()"
   ]
  },
  {
   "cell_type": "code",
   "execution_count": 29,
   "id": "6304e8a9",
   "metadata": {
    "execution": {
     "iopub.execute_input": "2024-07-27T21:27:03.809142Z",
     "iopub.status.busy": "2024-07-27T21:27:03.808069Z",
     "iopub.status.idle": "2024-07-27T21:27:03.816523Z",
     "shell.execute_reply": "2024-07-27T21:27:03.815494Z"
    },
    "papermill": {
     "duration": 0.142303,
     "end_time": "2024-07-27T21:27:03.819058",
     "exception": false,
     "start_time": "2024-07-27T21:27:03.676755",
     "status": "completed"
    },
    "tags": []
   },
   "outputs": [
    {
     "data": {
      "text/plain": [
       "Index(['Timestamp', 'Gender', 'Age', 'Course', 'Year of Study', 'CGPA',\n",
       "       'Marital status', 'Depression', 'Anxiety', 'Panic attack', 'Treatment'],\n",
       "      dtype='object')"
      ]
     },
     "execution_count": 29,
     "metadata": {},
     "output_type": "execute_result"
    }
   ],
   "source": [
    "df.columns"
   ]
  },
  {
   "cell_type": "code",
   "execution_count": 30,
   "id": "bb2a176e",
   "metadata": {
    "execution": {
     "iopub.execute_input": "2024-07-27T21:27:04.075770Z",
     "iopub.status.busy": "2024-07-27T21:27:04.075397Z",
     "iopub.status.idle": "2024-07-27T21:27:04.084035Z",
     "shell.execute_reply": "2024-07-27T21:27:04.082692Z"
    },
    "papermill": {
     "duration": 0.139806,
     "end_time": "2024-07-27T21:27:04.086868",
     "exception": false,
     "start_time": "2024-07-27T21:27:03.947062",
     "status": "completed"
    },
    "tags": []
   },
   "outputs": [
    {
     "data": {
      "text/plain": [
       "array(['Yes', 'No'], dtype=object)"
      ]
     },
     "execution_count": 30,
     "metadata": {},
     "output_type": "execute_result"
    }
   ],
   "source": [
    "df['Panic attack'].unique()"
   ]
  },
  {
   "cell_type": "code",
   "execution_count": 31,
   "id": "ba4d9129",
   "metadata": {
    "execution": {
     "iopub.execute_input": "2024-07-27T21:27:04.353209Z",
     "iopub.status.busy": "2024-07-27T21:27:04.352781Z",
     "iopub.status.idle": "2024-07-27T21:27:04.361116Z",
     "shell.execute_reply": "2024-07-27T21:27:04.359640Z"
    },
    "papermill": {
     "duration": 0.146171,
     "end_time": "2024-07-27T21:27:04.364103",
     "exception": false,
     "start_time": "2024-07-27T21:27:04.217932",
     "status": "completed"
    },
    "tags": []
   },
   "outputs": [],
   "source": [
    "df['Panic attack'] = df['Panic attack'].replace({'Yes': 'Panic attack', 'No': 'No panic_attack'})"
   ]
  },
  {
   "cell_type": "code",
   "execution_count": 32,
   "id": "5da555fb",
   "metadata": {
    "execution": {
     "iopub.execute_input": "2024-07-27T21:27:04.627312Z",
     "iopub.status.busy": "2024-07-27T21:27:04.626891Z",
     "iopub.status.idle": "2024-07-27T21:27:04.636444Z",
     "shell.execute_reply": "2024-07-27T21:27:04.635379Z"
    },
    "papermill": {
     "duration": 0.143434,
     "end_time": "2024-07-27T21:27:04.639948",
     "exception": false,
     "start_time": "2024-07-27T21:27:04.496514",
     "status": "completed"
    },
    "tags": []
   },
   "outputs": [
    {
     "data": {
      "text/plain": [
       "array(['Panic attack', 'No panic_attack'], dtype=object)"
      ]
     },
     "execution_count": 32,
     "metadata": {},
     "output_type": "execute_result"
    }
   ],
   "source": [
    "df['Panic attack'].unique()"
   ]
  },
  {
   "cell_type": "code",
   "execution_count": 33,
   "id": "79997f9e",
   "metadata": {
    "execution": {
     "iopub.execute_input": "2024-07-27T21:27:04.918995Z",
     "iopub.status.busy": "2024-07-27T21:27:04.918604Z",
     "iopub.status.idle": "2024-07-27T21:27:04.926554Z",
     "shell.execute_reply": "2024-07-27T21:27:04.925004Z"
    },
    "papermill": {
     "duration": 0.150169,
     "end_time": "2024-07-27T21:27:04.929479",
     "exception": false,
     "start_time": "2024-07-27T21:27:04.779310",
     "status": "completed"
    },
    "tags": []
   },
   "outputs": [],
   "source": [
    "df['Anxiety'] = df['Anxiety'].replace({'Yes': 'Anxiety_present', 'No': 'No_anxiety'})"
   ]
  },
  {
   "cell_type": "code",
   "execution_count": 34,
   "id": "cb14c78d",
   "metadata": {
    "execution": {
     "iopub.execute_input": "2024-07-27T21:27:05.195021Z",
     "iopub.status.busy": "2024-07-27T21:27:05.194631Z",
     "iopub.status.idle": "2024-07-27T21:27:05.203626Z",
     "shell.execute_reply": "2024-07-27T21:27:05.202305Z"
    },
    "papermill": {
     "duration": 0.141678,
     "end_time": "2024-07-27T21:27:05.207479",
     "exception": false,
     "start_time": "2024-07-27T21:27:05.065801",
     "status": "completed"
    },
    "tags": []
   },
   "outputs": [
    {
     "data": {
      "text/plain": [
       "array(['No_anxiety', 'Anxiety_present'], dtype=object)"
      ]
     },
     "execution_count": 34,
     "metadata": {},
     "output_type": "execute_result"
    }
   ],
   "source": [
    "df['Anxiety'].unique()"
   ]
  },
  {
   "cell_type": "code",
   "execution_count": 35,
   "id": "90895dd8",
   "metadata": {
    "execution": {
     "iopub.execute_input": "2024-07-27T21:27:05.488149Z",
     "iopub.status.busy": "2024-07-27T21:27:05.487019Z",
     "iopub.status.idle": "2024-07-27T21:27:05.495852Z",
     "shell.execute_reply": "2024-07-27T21:27:05.494493Z"
    },
    "papermill": {
     "duration": 0.148918,
     "end_time": "2024-07-27T21:27:05.499329",
     "exception": false,
     "start_time": "2024-07-27T21:27:05.350411",
     "status": "completed"
    },
    "tags": []
   },
   "outputs": [],
   "source": [
    "df['Treatment'] = df['Treatment'].replace({'Yes': 'Treatment', 'No': 'No_treatment'})"
   ]
  },
  {
   "cell_type": "code",
   "execution_count": 36,
   "id": "e6305e13",
   "metadata": {
    "execution": {
     "iopub.execute_input": "2024-07-27T21:27:05.766431Z",
     "iopub.status.busy": "2024-07-27T21:27:05.766075Z",
     "iopub.status.idle": "2024-07-27T21:27:05.774465Z",
     "shell.execute_reply": "2024-07-27T21:27:05.773119Z"
    },
    "papermill": {
     "duration": 0.146585,
     "end_time": "2024-07-27T21:27:05.777440",
     "exception": false,
     "start_time": "2024-07-27T21:27:05.630855",
     "status": "completed"
    },
    "tags": []
   },
   "outputs": [
    {
     "data": {
      "text/plain": [
       "array(['No_treatment', 'Treatment'], dtype=object)"
      ]
     },
     "execution_count": 36,
     "metadata": {},
     "output_type": "execute_result"
    }
   ],
   "source": [
    "df['Treatment'].unique()"
   ]
  },
  {
   "cell_type": "code",
   "execution_count": 37,
   "id": "85a7a05a",
   "metadata": {
    "execution": {
     "iopub.execute_input": "2024-07-27T21:27:06.037784Z",
     "iopub.status.busy": "2024-07-27T21:27:06.037416Z",
     "iopub.status.idle": "2024-07-27T21:27:06.046656Z",
     "shell.execute_reply": "2024-07-27T21:27:06.045240Z"
    },
    "papermill": {
     "duration": 0.142192,
     "end_time": "2024-07-27T21:27:06.049819",
     "exception": false,
     "start_time": "2024-07-27T21:27:05.907627",
     "status": "completed"
    },
    "tags": []
   },
   "outputs": [],
   "source": [
    "df['Marital status'] = df['Marital status'].replace({'Yes': 'Married', 'No': 'Not_married'})"
   ]
  },
  {
   "cell_type": "code",
   "execution_count": 38,
   "id": "f9f09d00",
   "metadata": {
    "execution": {
     "iopub.execute_input": "2024-07-27T21:27:06.325020Z",
     "iopub.status.busy": "2024-07-27T21:27:06.324638Z",
     "iopub.status.idle": "2024-07-27T21:27:06.363299Z",
     "shell.execute_reply": "2024-07-27T21:27:06.361307Z"
    },
    "papermill": {
     "duration": 0.179044,
     "end_time": "2024-07-27T21:27:06.367114",
     "exception": false,
     "start_time": "2024-07-27T21:27:06.188070",
     "status": "completed"
    },
    "tags": []
   },
   "outputs": [
    {
     "data": {
      "text/html": [
       "<div>\n",
       "<style scoped>\n",
       "    .dataframe tbody tr th:only-of-type {\n",
       "        vertical-align: middle;\n",
       "    }\n",
       "\n",
       "    .dataframe tbody tr th {\n",
       "        vertical-align: top;\n",
       "    }\n",
       "\n",
       "    .dataframe thead th {\n",
       "        text-align: right;\n",
       "    }\n",
       "</style>\n",
       "<table border=\"1\" class=\"dataframe\">\n",
       "  <thead>\n",
       "    <tr style=\"text-align: right;\">\n",
       "      <th></th>\n",
       "      <th>Timestamp</th>\n",
       "      <th>Gender</th>\n",
       "      <th>Age</th>\n",
       "      <th>Course</th>\n",
       "      <th>Year of Study</th>\n",
       "      <th>CGPA</th>\n",
       "      <th>Marital status</th>\n",
       "      <th>Depression</th>\n",
       "      <th>Anxiety</th>\n",
       "      <th>Panic attack</th>\n",
       "      <th>Treatment</th>\n",
       "    </tr>\n",
       "  </thead>\n",
       "  <tbody>\n",
       "    <tr>\n",
       "      <th>0</th>\n",
       "      <td>8/7/2020 12:02</td>\n",
       "      <td>Female</td>\n",
       "      <td>18</td>\n",
       "      <td>Engineering</td>\n",
       "      <td>year 1</td>\n",
       "      <td>3.00 - 3.49</td>\n",
       "      <td>Not_married</td>\n",
       "      <td>Depressed</td>\n",
       "      <td>No_anxiety</td>\n",
       "      <td>Panic attack</td>\n",
       "      <td>No_treatment</td>\n",
       "    </tr>\n",
       "    <tr>\n",
       "      <th>1</th>\n",
       "      <td>8/7/2020 12:04</td>\n",
       "      <td>Male</td>\n",
       "      <td>21</td>\n",
       "      <td>Islamic Education</td>\n",
       "      <td>year 2</td>\n",
       "      <td>3.00 - 3.49</td>\n",
       "      <td>Not_married</td>\n",
       "      <td>Not depressed</td>\n",
       "      <td>Anxiety_present</td>\n",
       "      <td>No panic_attack</td>\n",
       "      <td>No_treatment</td>\n",
       "    </tr>\n",
       "    <tr>\n",
       "      <th>2</th>\n",
       "      <td>8/7/2020 12:05</td>\n",
       "      <td>Male</td>\n",
       "      <td>19</td>\n",
       "      <td>IT</td>\n",
       "      <td>year 1</td>\n",
       "      <td>3.00 - 3.49</td>\n",
       "      <td>Not_married</td>\n",
       "      <td>Depressed</td>\n",
       "      <td>Anxiety_present</td>\n",
       "      <td>Panic attack</td>\n",
       "      <td>No_treatment</td>\n",
       "    </tr>\n",
       "    <tr>\n",
       "      <th>3</th>\n",
       "      <td>8/7/2020 12:06</td>\n",
       "      <td>Female</td>\n",
       "      <td>22</td>\n",
       "      <td>Law</td>\n",
       "      <td>year 3</td>\n",
       "      <td>3.00 - 3.49</td>\n",
       "      <td>Married</td>\n",
       "      <td>Depressed</td>\n",
       "      <td>No_anxiety</td>\n",
       "      <td>No panic_attack</td>\n",
       "      <td>No_treatment</td>\n",
       "    </tr>\n",
       "    <tr>\n",
       "      <th>4</th>\n",
       "      <td>8/7/2020 12:13</td>\n",
       "      <td>Male</td>\n",
       "      <td>23</td>\n",
       "      <td>Mathemathics</td>\n",
       "      <td>year 4</td>\n",
       "      <td>3.00 - 3.49</td>\n",
       "      <td>Not_married</td>\n",
       "      <td>Not depressed</td>\n",
       "      <td>No_anxiety</td>\n",
       "      <td>No panic_attack</td>\n",
       "      <td>No_treatment</td>\n",
       "    </tr>\n",
       "    <tr>\n",
       "      <th>...</th>\n",
       "      <td>...</td>\n",
       "      <td>...</td>\n",
       "      <td>...</td>\n",
       "      <td>...</td>\n",
       "      <td>...</td>\n",
       "      <td>...</td>\n",
       "      <td>...</td>\n",
       "      <td>...</td>\n",
       "      <td>...</td>\n",
       "      <td>...</td>\n",
       "      <td>...</td>\n",
       "    </tr>\n",
       "    <tr>\n",
       "      <th>96</th>\n",
       "      <td>13/07/2020 19:56:49</td>\n",
       "      <td>Female</td>\n",
       "      <td>21</td>\n",
       "      <td>BCS</td>\n",
       "      <td>year 1</td>\n",
       "      <td>3.50 - 4.00</td>\n",
       "      <td>Not_married</td>\n",
       "      <td>Not depressed</td>\n",
       "      <td>Anxiety_present</td>\n",
       "      <td>No panic_attack</td>\n",
       "      <td>No_treatment</td>\n",
       "    </tr>\n",
       "    <tr>\n",
       "      <th>97</th>\n",
       "      <td>13/07/2020 21:21:42</td>\n",
       "      <td>Male</td>\n",
       "      <td>18</td>\n",
       "      <td>Engineering</td>\n",
       "      <td>year 2</td>\n",
       "      <td>3.00 - 3.49</td>\n",
       "      <td>Not_married</td>\n",
       "      <td>Depressed</td>\n",
       "      <td>Anxiety_present</td>\n",
       "      <td>No panic_attack</td>\n",
       "      <td>No_treatment</td>\n",
       "    </tr>\n",
       "    <tr>\n",
       "      <th>98</th>\n",
       "      <td>13/07/2020 21:22:56</td>\n",
       "      <td>Female</td>\n",
       "      <td>19</td>\n",
       "      <td>Nursing</td>\n",
       "      <td>year 3</td>\n",
       "      <td>3.50 - 4.00</td>\n",
       "      <td>Married</td>\n",
       "      <td>Depressed</td>\n",
       "      <td>No_anxiety</td>\n",
       "      <td>Panic attack</td>\n",
       "      <td>No_treatment</td>\n",
       "    </tr>\n",
       "    <tr>\n",
       "      <th>99</th>\n",
       "      <td>13/07/2020 21:23:57</td>\n",
       "      <td>Female</td>\n",
       "      <td>23</td>\n",
       "      <td>Pendidikan Islam</td>\n",
       "      <td>year 4</td>\n",
       "      <td>3.50 - 4.00</td>\n",
       "      <td>Not_married</td>\n",
       "      <td>Not depressed</td>\n",
       "      <td>No_anxiety</td>\n",
       "      <td>No panic_attack</td>\n",
       "      <td>No_treatment</td>\n",
       "    </tr>\n",
       "    <tr>\n",
       "      <th>100</th>\n",
       "      <td>18/07/2020 20:16:21</td>\n",
       "      <td>Male</td>\n",
       "      <td>20</td>\n",
       "      <td>Biomedical science</td>\n",
       "      <td>year 2</td>\n",
       "      <td>3.00 - 3.49</td>\n",
       "      <td>Not_married</td>\n",
       "      <td>Not depressed</td>\n",
       "      <td>No_anxiety</td>\n",
       "      <td>No panic_attack</td>\n",
       "      <td>No_treatment</td>\n",
       "    </tr>\n",
       "  </tbody>\n",
       "</table>\n",
       "<p>101 rows × 11 columns</p>\n",
       "</div>"
      ],
      "text/plain": [
       "               Timestamp  Gender  Age              Course Year of Study  \\\n",
       "0         8/7/2020 12:02  Female   18         Engineering        year 1   \n",
       "1         8/7/2020 12:04    Male   21   Islamic Education        year 2   \n",
       "2         8/7/2020 12:05    Male   19                  IT        year 1   \n",
       "3         8/7/2020 12:06  Female   22                 Law        year 3   \n",
       "4         8/7/2020 12:13    Male   23        Mathemathics        year 4   \n",
       "..                   ...     ...  ...                 ...           ...   \n",
       "96   13/07/2020 19:56:49  Female   21                 BCS        year 1   \n",
       "97   13/07/2020 21:21:42    Male   18         Engineering        year 2   \n",
       "98   13/07/2020 21:22:56  Female   19            Nursing         year 3   \n",
       "99   13/07/2020 21:23:57  Female   23    Pendidikan Islam        year 4   \n",
       "100  18/07/2020 20:16:21    Male   20  Biomedical science        year 2   \n",
       "\n",
       "            CGPA Marital status     Depression          Anxiety  \\\n",
       "0    3.00 - 3.49    Not_married      Depressed       No_anxiety   \n",
       "1    3.00 - 3.49    Not_married  Not depressed  Anxiety_present   \n",
       "2    3.00 - 3.49    Not_married      Depressed  Anxiety_present   \n",
       "3    3.00 - 3.49        Married      Depressed       No_anxiety   \n",
       "4    3.00 - 3.49    Not_married  Not depressed       No_anxiety   \n",
       "..           ...            ...            ...              ...   \n",
       "96   3.50 - 4.00    Not_married  Not depressed  Anxiety_present   \n",
       "97   3.00 - 3.49    Not_married      Depressed  Anxiety_present   \n",
       "98   3.50 - 4.00        Married      Depressed       No_anxiety   \n",
       "99   3.50 - 4.00    Not_married  Not depressed       No_anxiety   \n",
       "100  3.00 - 3.49    Not_married  Not depressed       No_anxiety   \n",
       "\n",
       "        Panic attack     Treatment  \n",
       "0       Panic attack  No_treatment  \n",
       "1    No panic_attack  No_treatment  \n",
       "2       Panic attack  No_treatment  \n",
       "3    No panic_attack  No_treatment  \n",
       "4    No panic_attack  No_treatment  \n",
       "..               ...           ...  \n",
       "96   No panic_attack  No_treatment  \n",
       "97   No panic_attack  No_treatment  \n",
       "98      Panic attack  No_treatment  \n",
       "99   No panic_attack  No_treatment  \n",
       "100  No panic_attack  No_treatment  \n",
       "\n",
       "[101 rows x 11 columns]"
      ]
     },
     "execution_count": 38,
     "metadata": {},
     "output_type": "execute_result"
    }
   ],
   "source": [
    "df"
   ]
  },
  {
   "cell_type": "markdown",
   "id": "c97595b0",
   "metadata": {
    "papermill": {
     "duration": 0.131745,
     "end_time": "2024-07-27T21:27:06.637298",
     "exception": false,
     "start_time": "2024-07-27T21:27:06.505553",
     "status": "completed"
    },
    "tags": []
   },
   "source": [
    "DATA EXPLORATION"
   ]
  },
  {
   "cell_type": "code",
   "execution_count": 39,
   "id": "2bffec9d",
   "metadata": {
    "execution": {
     "iopub.execute_input": "2024-07-27T21:27:06.899362Z",
     "iopub.status.busy": "2024-07-27T21:27:06.898966Z",
     "iopub.status.idle": "2024-07-27T21:27:06.907446Z",
     "shell.execute_reply": "2024-07-27T21:27:06.906159Z"
    },
    "papermill": {
     "duration": 0.142747,
     "end_time": "2024-07-27T21:27:06.910228",
     "exception": false,
     "start_time": "2024-07-27T21:27:06.767481",
     "status": "completed"
    },
    "tags": []
   },
   "outputs": [
    {
     "data": {
      "text/plain": [
       "Index(['Timestamp', 'Gender', 'Age', 'Course', 'Year of Study', 'CGPA',\n",
       "       'Marital status', 'Depression', 'Anxiety', 'Panic attack', 'Treatment'],\n",
       "      dtype='object')"
      ]
     },
     "execution_count": 39,
     "metadata": {},
     "output_type": "execute_result"
    }
   ],
   "source": [
    "df.columns"
   ]
  },
  {
   "cell_type": "code",
   "execution_count": 40,
   "id": "fcbd2e8c",
   "metadata": {
    "execution": {
     "iopub.execute_input": "2024-07-27T21:27:07.175170Z",
     "iopub.status.busy": "2024-07-27T21:27:07.174588Z",
     "iopub.status.idle": "2024-07-27T21:27:07.698362Z",
     "shell.execute_reply": "2024-07-27T21:27:07.696976Z"
    },
    "papermill": {
     "duration": 0.659017,
     "end_time": "2024-07-27T21:27:07.700996",
     "exception": false,
     "start_time": "2024-07-27T21:27:07.041979",
     "status": "completed"
    },
    "tags": []
   },
   "outputs": [
    {
     "data": {
      "image/png": "[encoded data removed]",
      "text/plain": [
       "<Figure size 720x360 with 1 Axes>"
      ]
     },
     "metadata": {
      "needs_background": "light"
     },
     "output_type": "display_data"
    },
    {
     "data": {
      "image/png": "[encoded data removed]",
      "text/plain": [
       "<Figure size 720x360 with 1 Axes>"
      ]
     },
     "metadata": {
      "needs_background": "light"
     },
     "output_type": "display_data"
    }
   ],
   "source": [
    "numerical_variables = ['Age', 'CGPA']\n",
    "colors = ['#AA6347', '#AA4500']\n",
    "\n",
    "for column, color in zip(numerical_variables, colors):\n",
    "    plt.figure(figsize=(10, 5))\n",
    "    sns.histplot(data=df, x = column, kde=True, color = color)\n",
    "    plt.title(f'Distribution of {column}')\n",
    "    plt.show()\n",
    "    \n"
   ]
  },
  {
   "cell_type": "markdown",
   "id": "69a5cde0",
   "metadata": {
    "papermill": {
     "duration": 0.141224,
     "end_time": "2024-07-27T21:27:07.978843",
     "exception": false,
     "start_time": "2024-07-27T21:27:07.837619",
     "status": "completed"
    },
    "tags": []
   },
   "source": [
    "Majority of the students fall in the age range 18-19 and 23-24.This distribution account for the fact that most of the students are in the first year. Most of the students have excellent performance, reasons why the majority of students fall in the CGPA ranges of 3.0 - 3.49 and 3.5 - 4.00.\n",
    "\n"
   ]
  },
  {
   "cell_type": "code",
   "execution_count": 41,
   "id": "bd0e6cb2",
   "metadata": {
    "execution": {
     "iopub.execute_input": "2024-07-27T21:27:08.243404Z",
     "iopub.status.busy": "2024-07-27T21:27:08.243004Z",
     "iopub.status.idle": "2024-07-27T21:27:08.253226Z",
     "shell.execute_reply": "2024-07-27T21:27:08.251800Z"
    },
    "papermill": {
     "duration": 0.146459,
     "end_time": "2024-07-27T21:27:08.255859",
     "exception": false,
     "start_time": "2024-07-27T21:27:08.109400",
     "status": "completed"
    },
    "tags": []
   },
   "outputs": [
    {
     "data": {
      "text/plain": [
       "Not depressed    66\n",
       "Depressed        35\n",
       "Name: Depression, dtype: int64"
      ]
     },
     "execution_count": 41,
     "metadata": {},
     "output_type": "execute_result"
    }
   ],
   "source": [
    "df['Depression'].value_counts()"
   ]
  },
  {
   "cell_type": "code",
   "execution_count": 42,
   "id": "578fb8a8",
   "metadata": {
    "execution": {
     "iopub.execute_input": "2024-07-27T21:27:08.542951Z",
     "iopub.status.busy": "2024-07-27T21:27:08.542269Z",
     "iopub.status.idle": "2024-07-27T21:27:08.698007Z",
     "shell.execute_reply": "2024-07-27T21:27:08.696281Z"
    },
    "papermill": {
     "duration": 0.30275,
     "end_time": "2024-07-27T21:27:08.703398",
     "exception": false,
     "start_time": "2024-07-27T21:27:08.400648",
     "status": "completed"
    },
    "tags": []
   },
   "outputs": [
    {
     "data": {
      "image/png": "[encoded data removed]",
      "text/plain": [
       "<Figure size 432x288 with 1 Axes>"
      ]
     },
     "metadata": {},
     "output_type": "display_data"
    }
   ],
   "source": [
    "df['Depression'].value_counts().plot(kind='pie', autopct='%1.1f%%', colors=['#008000', '#FF0000'])\n",
    "\n",
    "plt.title('Distribution of Depression Levels Among Students')\n",
    "plt.show()"
   ]
  },
  {
   "cell_type": "code",
   "execution_count": 43,
   "id": "3938e46c",
   "metadata": {
    "execution": {
     "iopub.execute_input": "2024-07-27T21:27:09.054891Z",
     "iopub.status.busy": "2024-07-27T21:27:09.054449Z",
     "iopub.status.idle": "2024-07-27T21:27:09.803315Z",
     "shell.execute_reply": "2024-07-27T21:27:09.801924Z"
    },
    "papermill": {
     "duration": 0.914178,
     "end_time": "2024-07-27T21:27:09.806819",
     "exception": false,
     "start_time": "2024-07-27T21:27:08.892641",
     "status": "completed"
    },
    "tags": []
   },
   "outputs": [
    {
     "data": {
      "image/png": "[encoded data removed]",
      "text/plain": [
       "<Figure size 576x432 with 1 Axes>"
      ]
     },
     "metadata": {
      "needs_background": "light"
     },
     "output_type": "display_data"
    },
    {
     "data": {
      "text/plain": [
       "<Figure size 864x720 with 0 Axes>"
      ]
     },
     "metadata": {},
     "output_type": "display_data"
    },
    {
     "data": {
      "image/png": "[encoded data removed]",
      "text/plain": [
       "<Figure size 180x180 with 2 Axes>"
      ]
     },
     "metadata": {
      "needs_background": "light"
     },
     "output_type": "display_data"
    }
   ],
   "source": [
    "import pandas as pd\n",
    "import seaborn as sns\n",
    "import matplotlib.pyplot as plt\n",
    "\n",
    "# Assuming your dataset is named 'df'\n",
    "\n",
    "# Selecting numeric columns\n",
    "numeric_columns = df.select_dtypes(include='number').columns\n",
    "\n",
    "# Plot univariate distribution for each numeric column\n",
    "for column in numeric_columns:\n",
    "    plt.figure(figsize=(8, 6))\n",
    "    sns.histplot(df[column], kde=True, color='brown', bins=20)  # Histogram with kernel density estimation\n",
    "    plt.title(f'Univariate Distribution of {column}')\n",
    "    plt.xlabel(column)\n",
    "    plt.ylabel('Frequency')\n",
    "    plt.show()\n",
    "\n",
    "# Plot pairwise joint distribution for all numeric columns\n",
    "plt.figure(figsize=(12, 10))\n",
    "sns.pairplot(df[numeric_columns], kind='scatter', diag_kind='kde', palette='husl')\n",
    "plt.suptitle('Pairwise Joint Distribution of Numeric Data', y=1.02)\n",
    "plt.show()\n"
   ]
  },
  {
   "cell_type": "code",
   "execution_count": 44,
   "id": "0fbe7e2f",
   "metadata": {
    "execution": {
     "iopub.execute_input": "2024-07-27T21:27:10.111774Z",
     "iopub.status.busy": "2024-07-27T21:27:10.111358Z",
     "iopub.status.idle": "2024-07-27T21:27:10.241386Z",
     "shell.execute_reply": "2024-07-27T21:27:10.240175Z"
    },
    "papermill": {
     "duration": 0.286375,
     "end_time": "2024-07-27T21:27:10.247316",
     "exception": false,
     "start_time": "2024-07-27T21:27:09.960941",
     "status": "completed"
    },
    "tags": []
   },
   "outputs": [
    {
     "data": {
      "image/png": "[encoded data removed]",
      "text/plain": [
       "<Figure size 432x288 with 1 Axes>"
      ]
     },
     "metadata": {},
     "output_type": "display_data"
    }
   ],
   "source": [
    "df['Gender'].value_counts().plot(kind='pie', autopct='%1.1f%%', colors=['#008000', '#FF0000'])\n",
    "plt.title('Distribution of Gender')\n",
    "plt.show()"
   ]
  },
  {
   "cell_type": "code",
   "execution_count": 45,
   "id": "76723deb",
   "metadata": {
    "execution": {
     "iopub.execute_input": "2024-07-27T21:27:10.608856Z",
     "iopub.status.busy": "2024-07-27T21:27:10.607926Z",
     "iopub.status.idle": "2024-07-27T21:27:11.102464Z",
     "shell.execute_reply": "2024-07-27T21:27:11.101039Z"
    },
    "papermill": {
     "duration": 0.659337,
     "end_time": "2024-07-27T21:27:11.105426",
     "exception": false,
     "start_time": "2024-07-27T21:27:10.446089",
     "status": "completed"
    },
    "tags": []
   },
   "outputs": [
    {
     "data": {
      "image/png": "[encoded data removed]",
      "text/plain": [
       "<Figure size 720x360 with 1 Axes>"
      ]
     },
     "metadata": {
      "needs_background": "light"
     },
     "output_type": "display_data"
    },
    {
     "data": {
      "image/png": "[encoded data removed]",
      "text/plain": [
       "<Figure size 720x360 with 1 Axes>"
      ]
     },
     "metadata": {
      "needs_background": "light"
     },
     "output_type": "display_data"
    }
   ],
   "source": [
    "categorical_variables = [ 'Year of Study', 'Anxiety']\n",
    "colors=['#008000', '#FF0000']\n",
    "\n",
    "for column, color in zip(categorical_variables, colors):\n",
    "    plt.figure(figsize=(10, 5))\n",
    "    sns.countplot(data=df, y=column, color=color)\n",
    "    plt.title(f'Distribution of {column}')\n",
    "plt.tight_layout()\n",
    "plt.show()\n"
   ]
  },
  {
   "cell_type": "markdown",
   "id": "0fde74e5",
   "metadata": {
    "papermill": {
     "duration": 0.154242,
     "end_time": "2024-07-27T21:27:11.404744",
     "exception": false,
     "start_time": "2024-07-27T21:27:11.250502",
     "status": "completed"
    },
    "tags": []
   },
   "source": [
    "# Dominant Age Group: Year 1 (18-19)"
   ]
  },
  {
   "cell_type": "markdown",
   "id": "77634abe",
   "metadata": {
    "papermill": {
     "duration": 0.150457,
     "end_time": "2024-07-27T21:27:11.706837",
     "exception": false,
     "start_time": "2024-07-27T21:27:11.556380",
     "status": "completed"
    },
    "tags": []
   },
   "source": [
    "Majority of the students are in the first year. this could be one of the reasons why the dominant age group is 18 and 19. For the count of students with anxiety a considerable count(30 and above) for students expiriencing anxiety and 60% and above are not experiencing anxiety.\n",
    "\n",
    "Also relevant to my research:\n",
    "\n",
    "* Students in 18-19 age group: closer to high school student age (brain development still occuring)\n",
    "* **New Students**: signicant because perhaps newer students have higher correlation to depression\n",
    "\n"
   ]
  },
  {
   "cell_type": "code",
   "execution_count": 46,
   "id": "14a57a4e",
   "metadata": {
    "execution": {
     "iopub.execute_input": "2024-07-27T21:27:12.003928Z",
     "iopub.status.busy": "2024-07-27T21:27:12.003298Z",
     "iopub.status.idle": "2024-07-27T21:27:12.013935Z",
     "shell.execute_reply": "2024-07-27T21:27:12.012764Z"
    },
    "papermill": {
     "duration": 0.165276,
     "end_time": "2024-07-27T21:27:12.017215",
     "exception": false,
     "start_time": "2024-07-27T21:27:11.851939",
     "status": "completed"
    },
    "tags": []
   },
   "outputs": [
    {
     "data": {
      "text/plain": [
       "36"
      ]
     },
     "execution_count": 46,
     "metadata": {},
     "output_type": "execute_result"
    }
   ],
   "source": [
    "len(df['Course'].unique())"
   ]
  },
  {
   "cell_type": "code",
   "execution_count": 47,
   "id": "901e8d52",
   "metadata": {
    "execution": {
     "iopub.execute_input": "2024-07-27T21:27:12.323169Z",
     "iopub.status.busy": "2024-07-27T21:27:12.322650Z",
     "iopub.status.idle": "2024-07-27T21:27:12.733624Z",
     "shell.execute_reply": "2024-07-27T21:27:12.732181Z"
    },
    "papermill": {
     "duration": 0.569567,
     "end_time": "2024-07-27T21:27:12.736451",
     "exception": false,
     "start_time": "2024-07-27T21:27:12.166884",
     "status": "completed"
    },
    "tags": []
   },
   "outputs": [
    {
     "data": {
      "image/png": "[encoded data removed]",
      "text/plain": [
       "<Figure size 720x576 with 1 Axes>"
      ]
     },
     "metadata": {
      "needs_background": "light"
     },
     "output_type": "display_data"
    }
   ],
   "source": [
    "plt.figure(figsize=(10, 8))\n",
    "df.Course.value_counts().iloc[:18].plot(kind='barh',color= '#AA6347')\n",
    "plt.title('Top 18 Course by Order Count', fontsize=15)\n",
    "plt.xlabel('Order Count')\n",
    "plt.ylabel('Course')\n",
    "plt.show()"
   ]
  },
  {
   "cell_type": "markdown",
   "id": "d8022cb5",
   "metadata": {
    "papermill": {
     "duration": 0.159027,
     "end_time": "2024-07-27T21:27:13.050415",
     "exception": false,
     "start_time": "2024-07-27T21:27:12.891388",
     "status": "completed"
    },
    "tags": []
   },
   "source": [
    "# Engineering most common Course"
   ]
  },
  {
   "cell_type": "markdown",
   "id": "1e5bacba",
   "metadata": {
    "papermill": {
     "duration": 0.16666,
     "end_time": "2024-07-27T21:27:13.370058",
     "exception": false,
     "start_time": "2024-07-27T21:27:13.203398",
     "status": "completed"
    },
    "tags": []
   },
   "source": [
    "The majority of students take Stem related classes. **Engineering** and BCS are the top 2 most common courses taken by students in this data set."
   ]
  },
  {
   "cell_type": "markdown",
   "id": "8d7c73f5",
   "metadata": {
    "papermill": {
     "duration": 0.163175,
     "end_time": "2024-07-27T21:27:13.700183",
     "exception": false,
     "start_time": "2024-07-27T21:27:13.537008",
     "status": "completed"
    },
    "tags": []
   },
   "source": [
    "All Depressed Students:\n",
    "35"
   ]
  },
  {
   "cell_type": "code",
   "execution_count": 48,
   "id": "74af1ce8",
   "metadata": {
    "execution": {
     "iopub.execute_input": "2024-07-27T21:27:14.006078Z",
     "iopub.status.busy": "2024-07-27T21:27:14.004936Z",
     "iopub.status.idle": "2024-07-27T21:27:14.049272Z",
     "shell.execute_reply": "2024-07-27T21:27:14.048036Z"
    },
    "papermill": {
     "duration": 0.201306,
     "end_time": "2024-07-27T21:27:14.052295",
     "exception": false,
     "start_time": "2024-07-27T21:27:13.850989",
     "status": "completed"
    },
    "tags": []
   },
   "outputs": [
    {
     "data": {
      "text/html": [
       "<div>\n",
       "<style scoped>\n",
       "    .dataframe tbody tr th:only-of-type {\n",
       "        vertical-align: middle;\n",
       "    }\n",
       "\n",
       "    .dataframe tbody tr th {\n",
       "        vertical-align: top;\n",
       "    }\n",
       "\n",
       "    .dataframe thead th {\n",
       "        text-align: right;\n",
       "    }\n",
       "</style>\n",
       "<table border=\"1\" class=\"dataframe\">\n",
       "  <thead>\n",
       "    <tr style=\"text-align: right;\">\n",
       "      <th></th>\n",
       "      <th>Timestamp</th>\n",
       "      <th>Gender</th>\n",
       "      <th>Age</th>\n",
       "      <th>Course</th>\n",
       "      <th>Year of Study</th>\n",
       "      <th>CGPA</th>\n",
       "      <th>Marital status</th>\n",
       "      <th>Depression</th>\n",
       "      <th>Anxiety</th>\n",
       "      <th>Panic attack</th>\n",
       "      <th>Treatment</th>\n",
       "    </tr>\n",
       "  </thead>\n",
       "  <tbody>\n",
       "    <tr>\n",
       "      <th>0</th>\n",
       "      <td>8/7/2020 12:02</td>\n",
       "      <td>Female</td>\n",
       "      <td>18</td>\n",
       "      <td>Engineering</td>\n",
       "      <td>year 1</td>\n",
       "      <td>3.00 - 3.49</td>\n",
       "      <td>Not_married</td>\n",
       "      <td>Depressed</td>\n",
       "      <td>No_anxiety</td>\n",
       "      <td>Panic attack</td>\n",
       "      <td>No_treatment</td>\n",
       "    </tr>\n",
       "    <tr>\n",
       "      <th>2</th>\n",
       "      <td>8/7/2020 12:05</td>\n",
       "      <td>Male</td>\n",
       "      <td>19</td>\n",
       "      <td>IT</td>\n",
       "      <td>year 1</td>\n",
       "      <td>3.00 - 3.49</td>\n",
       "      <td>Not_married</td>\n",
       "      <td>Depressed</td>\n",
       "      <td>Anxiety_present</td>\n",
       "      <td>Panic attack</td>\n",
       "      <td>No_treatment</td>\n",
       "    </tr>\n",
       "    <tr>\n",
       "      <th>3</th>\n",
       "      <td>8/7/2020 12:06</td>\n",
       "      <td>Female</td>\n",
       "      <td>22</td>\n",
       "      <td>Law</td>\n",
       "      <td>year 3</td>\n",
       "      <td>3.00 - 3.49</td>\n",
       "      <td>Married</td>\n",
       "      <td>Depressed</td>\n",
       "      <td>No_anxiety</td>\n",
       "      <td>No panic_attack</td>\n",
       "      <td>No_treatment</td>\n",
       "    </tr>\n",
       "    <tr>\n",
       "      <th>6</th>\n",
       "      <td>8/7/2020 12:32</td>\n",
       "      <td>Female</td>\n",
       "      <td>23</td>\n",
       "      <td>Pendidikan Islam</td>\n",
       "      <td>year 2</td>\n",
       "      <td>3.50 - 4.00</td>\n",
       "      <td>Married</td>\n",
       "      <td>Depressed</td>\n",
       "      <td>No_anxiety</td>\n",
       "      <td>Panic attack</td>\n",
       "      <td>No_treatment</td>\n",
       "    </tr>\n",
       "    <tr>\n",
       "      <th>11</th>\n",
       "      <td>8/7/2020 12:39</td>\n",
       "      <td>Female</td>\n",
       "      <td>24</td>\n",
       "      <td>Engineering</td>\n",
       "      <td>year 3</td>\n",
       "      <td>3.50 - 4.00</td>\n",
       "      <td>Married</td>\n",
       "      <td>Depressed</td>\n",
       "      <td>No_anxiety</td>\n",
       "      <td>No panic_attack</td>\n",
       "      <td>No_treatment</td>\n",
       "    </tr>\n",
       "    <tr>\n",
       "      <th>12</th>\n",
       "      <td>8/7/2020 12:40</td>\n",
       "      <td>Female</td>\n",
       "      <td>18</td>\n",
       "      <td>BCS</td>\n",
       "      <td>year 1</td>\n",
       "      <td>3.00 - 3.49</td>\n",
       "      <td>Not_married</td>\n",
       "      <td>Depressed</td>\n",
       "      <td>No_anxiety</td>\n",
       "      <td>No panic_attack</td>\n",
       "      <td>No_treatment</td>\n",
       "    </tr>\n",
       "    <tr>\n",
       "      <th>17</th>\n",
       "      <td>8/7/2020 12:52</td>\n",
       "      <td>Female</td>\n",
       "      <td>24</td>\n",
       "      <td>ENM</td>\n",
       "      <td>year 4</td>\n",
       "      <td>3.00 - 3.49</td>\n",
       "      <td>Married</td>\n",
       "      <td>Depressed</td>\n",
       "      <td>Anxiety_present</td>\n",
       "      <td>Panic attack</td>\n",
       "      <td>No_treatment</td>\n",
       "    </tr>\n",
       "    <tr>\n",
       "      <th>19</th>\n",
       "      <td>8/7/2020 13:07</td>\n",
       "      <td>Female</td>\n",
       "      <td>18</td>\n",
       "      <td>Marine science</td>\n",
       "      <td>year 2</td>\n",
       "      <td>3.50 - 4.00</td>\n",
       "      <td>Married</td>\n",
       "      <td>Depressed</td>\n",
       "      <td>Anxiety_present</td>\n",
       "      <td>Panic attack</td>\n",
       "      <td>No_treatment</td>\n",
       "    </tr>\n",
       "    <tr>\n",
       "      <th>24</th>\n",
       "      <td>8/7/2020 13:17</td>\n",
       "      <td>Female</td>\n",
       "      <td>23</td>\n",
       "      <td>BCS</td>\n",
       "      <td>year 3</td>\n",
       "      <td>3.50 - 4.00</td>\n",
       "      <td>Not_married</td>\n",
       "      <td>Depressed</td>\n",
       "      <td>Anxiety_present</td>\n",
       "      <td>Panic attack</td>\n",
       "      <td>No_treatment</td>\n",
       "    </tr>\n",
       "    <tr>\n",
       "      <th>27</th>\n",
       "      <td>8/7/2020 13:41</td>\n",
       "      <td>Male</td>\n",
       "      <td>18</td>\n",
       "      <td>Engineering</td>\n",
       "      <td>year 2</td>\n",
       "      <td>3.00 - 3.49</td>\n",
       "      <td>Married</td>\n",
       "      <td>Depressed</td>\n",
       "      <td>Anxiety_present</td>\n",
       "      <td>No panic_attack</td>\n",
       "      <td>No_treatment</td>\n",
       "    </tr>\n",
       "    <tr>\n",
       "      <th>28</th>\n",
       "      <td>8/7/2020 13:58</td>\n",
       "      <td>Female</td>\n",
       "      <td>24</td>\n",
       "      <td>IT</td>\n",
       "      <td>year 3</td>\n",
       "      <td>3.50 - 4.00</td>\n",
       "      <td>Married</td>\n",
       "      <td>Depressed</td>\n",
       "      <td>Anxiety_present</td>\n",
       "      <td>Panic attack</td>\n",
       "      <td>Treatment</td>\n",
       "    </tr>\n",
       "    <tr>\n",
       "      <th>33</th>\n",
       "      <td>8/7/2020 14:31</td>\n",
       "      <td>Male</td>\n",
       "      <td>18</td>\n",
       "      <td>BCS</td>\n",
       "      <td>year 2</td>\n",
       "      <td>3.50 - 4.00</td>\n",
       "      <td>Married</td>\n",
       "      <td>Depressed</td>\n",
       "      <td>Anxiety_present</td>\n",
       "      <td>No panic_attack</td>\n",
       "      <td>Treatment</td>\n",
       "    </tr>\n",
       "    <tr>\n",
       "      <th>34</th>\n",
       "      <td>8/7/2020 14:41</td>\n",
       "      <td>Female</td>\n",
       "      <td>19</td>\n",
       "      <td>IT</td>\n",
       "      <td>year 1</td>\n",
       "      <td>3.00 - 3.49</td>\n",
       "      <td>Not_married</td>\n",
       "      <td>Depressed</td>\n",
       "      <td>Anxiety_present</td>\n",
       "      <td>Panic attack</td>\n",
       "      <td>No_treatment</td>\n",
       "    </tr>\n",
       "    <tr>\n",
       "      <th>36</th>\n",
       "      <td>8/7/2020 14:43</td>\n",
       "      <td>Female</td>\n",
       "      <td>18</td>\n",
       "      <td>Law</td>\n",
       "      <td>year 3</td>\n",
       "      <td>3.00 - 3.49</td>\n",
       "      <td>Not_married</td>\n",
       "      <td>Depressed</td>\n",
       "      <td>Anxiety_present</td>\n",
       "      <td>No panic_attack</td>\n",
       "      <td>No_treatment</td>\n",
       "    </tr>\n",
       "    <tr>\n",
       "      <th>37</th>\n",
       "      <td>8/7/2020 14:45</td>\n",
       "      <td>Female</td>\n",
       "      <td>19</td>\n",
       "      <td>IT</td>\n",
       "      <td>year 1</td>\n",
       "      <td>2.50 - 2.99</td>\n",
       "      <td>Not_married</td>\n",
       "      <td>Depressed</td>\n",
       "      <td>Anxiety_present</td>\n",
       "      <td>Panic attack</td>\n",
       "      <td>No_treatment</td>\n",
       "    </tr>\n",
       "    <tr>\n",
       "      <th>39</th>\n",
       "      <td>8/7/2020 14:56</td>\n",
       "      <td>Female</td>\n",
       "      <td>24</td>\n",
       "      <td>Engineering</td>\n",
       "      <td>year 2</td>\n",
       "      <td>2.50 - 2.99</td>\n",
       "      <td>Married</td>\n",
       "      <td>Depressed</td>\n",
       "      <td>No_anxiety</td>\n",
       "      <td>Panic attack</td>\n",
       "      <td>Treatment</td>\n",
       "    </tr>\n",
       "    <tr>\n",
       "      <th>42</th>\n",
       "      <td>8/7/2020 14:58</td>\n",
       "      <td>Female</td>\n",
       "      <td>20</td>\n",
       "      <td>Usuluddin</td>\n",
       "      <td>year 2</td>\n",
       "      <td>3.00 - 3.49</td>\n",
       "      <td>Not_married</td>\n",
       "      <td>Depressed</td>\n",
       "      <td>No_anxiety</td>\n",
       "      <td>No panic_attack</td>\n",
       "      <td>No_treatment</td>\n",
       "    </tr>\n",
       "    <tr>\n",
       "      <th>48</th>\n",
       "      <td>8/7/2020 15:14</td>\n",
       "      <td>Male</td>\n",
       "      <td>24</td>\n",
       "      <td>BCS</td>\n",
       "      <td>year 2</td>\n",
       "      <td>3.00 - 3.49</td>\n",
       "      <td>Not_married</td>\n",
       "      <td>Depressed</td>\n",
       "      <td>No_anxiety</td>\n",
       "      <td>No panic_attack</td>\n",
       "      <td>No_treatment</td>\n",
       "    </tr>\n",
       "    <tr>\n",
       "      <th>50</th>\n",
       "      <td>8/7/2020 15:27</td>\n",
       "      <td>Female</td>\n",
       "      <td>23</td>\n",
       "      <td>ALA</td>\n",
       "      <td>year 1</td>\n",
       "      <td>2.50 - 2.99</td>\n",
       "      <td>Married</td>\n",
       "      <td>Depressed</td>\n",
       "      <td>No_anxiety</td>\n",
       "      <td>Panic attack</td>\n",
       "      <td>Treatment</td>\n",
       "    </tr>\n",
       "    <tr>\n",
       "      <th>53</th>\n",
       "      <td>8/7/2020 15:48</td>\n",
       "      <td>Female</td>\n",
       "      <td>20</td>\n",
       "      <td>KOE</td>\n",
       "      <td>year 3</td>\n",
       "      <td>3.00 - 3.49</td>\n",
       "      <td>Married</td>\n",
       "      <td>Depressed</td>\n",
       "      <td>Anxiety_present</td>\n",
       "      <td>Panic attack</td>\n",
       "      <td>No_treatment</td>\n",
       "    </tr>\n",
       "    <tr>\n",
       "      <th>54</th>\n",
       "      <td>8/7/2020 15:57</td>\n",
       "      <td>Female</td>\n",
       "      <td>19</td>\n",
       "      <td>BCS</td>\n",
       "      <td>year 1</td>\n",
       "      <td>3.50 - 4.00</td>\n",
       "      <td>Not_married</td>\n",
       "      <td>Depressed</td>\n",
       "      <td>No_anxiety</td>\n",
       "      <td>Panic attack</td>\n",
       "      <td>Treatment</td>\n",
       "    </tr>\n",
       "    <tr>\n",
       "      <th>57</th>\n",
       "      <td>8/7/2020 16:21</td>\n",
       "      <td>Female</td>\n",
       "      <td>20</td>\n",
       "      <td>Benl</td>\n",
       "      <td>year 3</td>\n",
       "      <td>3.00 - 3.49</td>\n",
       "      <td>Not_married</td>\n",
       "      <td>Depressed</td>\n",
       "      <td>Anxiety_present</td>\n",
       "      <td>No panic_attack</td>\n",
       "      <td>No_treatment</td>\n",
       "    </tr>\n",
       "    <tr>\n",
       "      <th>65</th>\n",
       "      <td>8/7/2020 17:50</td>\n",
       "      <td>Female</td>\n",
       "      <td>23</td>\n",
       "      <td>Economics</td>\n",
       "      <td>year 1</td>\n",
       "      <td>3.50 - 4.00</td>\n",
       "      <td>Not_married</td>\n",
       "      <td>Depressed</td>\n",
       "      <td>Anxiety_present</td>\n",
       "      <td>No panic_attack</td>\n",
       "      <td>No_treatment</td>\n",
       "    </tr>\n",
       "    <tr>\n",
       "      <th>67</th>\n",
       "      <td>8/7/2020 18:11</td>\n",
       "      <td>Male</td>\n",
       "      <td>19</td>\n",
       "      <td>MHSC</td>\n",
       "      <td>year 3</td>\n",
       "      <td>3.00 - 3.49</td>\n",
       "      <td>Married</td>\n",
       "      <td>Depressed</td>\n",
       "      <td>No_anxiety</td>\n",
       "      <td>Panic attack</td>\n",
       "      <td>No_treatment</td>\n",
       "    </tr>\n",
       "    <tr>\n",
       "      <th>68</th>\n",
       "      <td>8/7/2020 19:05</td>\n",
       "      <td>Female</td>\n",
       "      <td>18</td>\n",
       "      <td>Malcom</td>\n",
       "      <td>year 1</td>\n",
       "      <td>3.50 - 4.00</td>\n",
       "      <td>Not_married</td>\n",
       "      <td>Depressed</td>\n",
       "      <td>No_anxiety</td>\n",
       "      <td>No panic_attack</td>\n",
       "      <td>No_treatment</td>\n",
       "    </tr>\n",
       "    <tr>\n",
       "      <th>72</th>\n",
       "      <td>8/7/2020 22:35</td>\n",
       "      <td>Female</td>\n",
       "      <td>19</td>\n",
       "      <td>IT</td>\n",
       "      <td>year 3</td>\n",
       "      <td>3.00 - 3.49</td>\n",
       "      <td>Married</td>\n",
       "      <td>Depressed</td>\n",
       "      <td>No_anxiety</td>\n",
       "      <td>No panic_attack</td>\n",
       "      <td>No_treatment</td>\n",
       "    </tr>\n",
       "    <tr>\n",
       "      <th>76</th>\n",
       "      <td>9/7/2020 13:15</td>\n",
       "      <td>Female</td>\n",
       "      <td>23</td>\n",
       "      <td>Engineering</td>\n",
       "      <td>year 1</td>\n",
       "      <td>3.00 - 3.49</td>\n",
       "      <td>Not_married</td>\n",
       "      <td>Depressed</td>\n",
       "      <td>No_anxiety</td>\n",
       "      <td>No panic_attack</td>\n",
       "      <td>No_treatment</td>\n",
       "    </tr>\n",
       "    <tr>\n",
       "      <th>80</th>\n",
       "      <td>13/07/2020 10:11:26</td>\n",
       "      <td>Female</td>\n",
       "      <td>24</td>\n",
       "      <td>Communication</td>\n",
       "      <td>year 2</td>\n",
       "      <td>3.50 - 4.00</td>\n",
       "      <td>Married</td>\n",
       "      <td>Depressed</td>\n",
       "      <td>Anxiety_present</td>\n",
       "      <td>Panic attack</td>\n",
       "      <td>No_treatment</td>\n",
       "    </tr>\n",
       "    <tr>\n",
       "      <th>82</th>\n",
       "      <td>13/07/2020 10:12:26</td>\n",
       "      <td>Female</td>\n",
       "      <td>19</td>\n",
       "      <td>Engineering</td>\n",
       "      <td>year 1</td>\n",
       "      <td>3.00 - 3.49</td>\n",
       "      <td>Not_married</td>\n",
       "      <td>Depressed</td>\n",
       "      <td>Anxiety_present</td>\n",
       "      <td>No panic_attack</td>\n",
       "      <td>No_treatment</td>\n",
       "    </tr>\n",
       "    <tr>\n",
       "      <th>85</th>\n",
       "      <td>13/07/2020 10:33:47</td>\n",
       "      <td>Female</td>\n",
       "      <td>18</td>\n",
       "      <td>Psychology</td>\n",
       "      <td>year 1</td>\n",
       "      <td>3.50 - 4.00</td>\n",
       "      <td>Not_married</td>\n",
       "      <td>Depressed</td>\n",
       "      <td>Anxiety_present</td>\n",
       "      <td>No panic_attack</td>\n",
       "      <td>Treatment</td>\n",
       "    </tr>\n",
       "    <tr>\n",
       "      <th>87</th>\n",
       "      <td>13/07/2020 11:46:13</td>\n",
       "      <td>Female</td>\n",
       "      <td>18</td>\n",
       "      <td>Psychology</td>\n",
       "      <td>year 1</td>\n",
       "      <td>3.50 - 4.00</td>\n",
       "      <td>Not_married</td>\n",
       "      <td>Depressed</td>\n",
       "      <td>Anxiety_present</td>\n",
       "      <td>Panic attack</td>\n",
       "      <td>No_treatment</td>\n",
       "    </tr>\n",
       "    <tr>\n",
       "      <th>92</th>\n",
       "      <td>13/07/2020 14:48:05</td>\n",
       "      <td>Female</td>\n",
       "      <td>19</td>\n",
       "      <td>KOE</td>\n",
       "      <td>year 2</td>\n",
       "      <td>3.00 - 3.49</td>\n",
       "      <td>Married</td>\n",
       "      <td>Depressed</td>\n",
       "      <td>No_anxiety</td>\n",
       "      <td>No panic_attack</td>\n",
       "      <td>No_treatment</td>\n",
       "    </tr>\n",
       "    <tr>\n",
       "      <th>93</th>\n",
       "      <td>13/07/2020 16:15:13</td>\n",
       "      <td>Female</td>\n",
       "      <td>18</td>\n",
       "      <td>Benl</td>\n",
       "      <td>year 1</td>\n",
       "      <td>3.00 - 3.49</td>\n",
       "      <td>Not_married</td>\n",
       "      <td>Depressed</td>\n",
       "      <td>No_anxiety</td>\n",
       "      <td>No panic_attack</td>\n",
       "      <td>No_treatment</td>\n",
       "    </tr>\n",
       "    <tr>\n",
       "      <th>97</th>\n",
       "      <td>13/07/2020 21:21:42</td>\n",
       "      <td>Male</td>\n",
       "      <td>18</td>\n",
       "      <td>Engineering</td>\n",
       "      <td>year 2</td>\n",
       "      <td>3.00 - 3.49</td>\n",
       "      <td>Not_married</td>\n",
       "      <td>Depressed</td>\n",
       "      <td>Anxiety_present</td>\n",
       "      <td>No panic_attack</td>\n",
       "      <td>No_treatment</td>\n",
       "    </tr>\n",
       "    <tr>\n",
       "      <th>98</th>\n",
       "      <td>13/07/2020 21:22:56</td>\n",
       "      <td>Female</td>\n",
       "      <td>19</td>\n",
       "      <td>Nursing</td>\n",
       "      <td>year 3</td>\n",
       "      <td>3.50 - 4.00</td>\n",
       "      <td>Married</td>\n",
       "      <td>Depressed</td>\n",
       "      <td>No_anxiety</td>\n",
       "      <td>Panic attack</td>\n",
       "      <td>No_treatment</td>\n",
       "    </tr>\n",
       "  </tbody>\n",
       "</table>\n",
       "</div>"
      ],
      "text/plain": [
       "              Timestamp  Gender  Age            Course Year of Study  \\\n",
       "0        8/7/2020 12:02  Female   18       Engineering        year 1   \n",
       "2        8/7/2020 12:05    Male   19                IT        year 1   \n",
       "3        8/7/2020 12:06  Female   22               Law        year 3   \n",
       "6        8/7/2020 12:32  Female   23  Pendidikan Islam        year 2   \n",
       "11       8/7/2020 12:39  Female   24       Engineering        year 3   \n",
       "12       8/7/2020 12:40  Female   18               BCS        year 1   \n",
       "17       8/7/2020 12:52  Female   24               ENM        year 4   \n",
       "19       8/7/2020 13:07  Female   18    Marine science        year 2   \n",
       "24       8/7/2020 13:17  Female   23               BCS        year 3   \n",
       "27       8/7/2020 13:41    Male   18       Engineering        year 2   \n",
       "28       8/7/2020 13:58  Female   24                IT        year 3   \n",
       "33       8/7/2020 14:31    Male   18               BCS        year 2   \n",
       "34       8/7/2020 14:41  Female   19                IT        year 1   \n",
       "36       8/7/2020 14:43  Female   18               Law        year 3   \n",
       "37       8/7/2020 14:45  Female   19                IT        year 1   \n",
       "39       8/7/2020 14:56  Female   24       Engineering        year 2   \n",
       "42       8/7/2020 14:58  Female   20        Usuluddin         year 2   \n",
       "48       8/7/2020 15:14    Male   24               BCS        year 2   \n",
       "50       8/7/2020 15:27  Female   23               ALA        year 1   \n",
       "53       8/7/2020 15:48  Female   20               KOE        year 3   \n",
       "54       8/7/2020 15:57  Female   19               BCS        year 1   \n",
       "57       8/7/2020 16:21  Female   20              Benl        year 3   \n",
       "65       8/7/2020 17:50  Female   23         Economics        year 1   \n",
       "67       8/7/2020 18:11    Male   19              MHSC        year 3   \n",
       "68       8/7/2020 19:05  Female   18            Malcom        year 1   \n",
       "72       8/7/2020 22:35  Female   19                IT        year 3   \n",
       "76       9/7/2020 13:15  Female   23       Engineering        year 1   \n",
       "80  13/07/2020 10:11:26  Female   24    Communication         year 2   \n",
       "82  13/07/2020 10:12:26  Female   19       Engineering        year 1   \n",
       "85  13/07/2020 10:33:47  Female   18        Psychology        year 1   \n",
       "87  13/07/2020 11:46:13  Female   18        Psychology        year 1   \n",
       "92  13/07/2020 14:48:05  Female   19               KOE        year 2   \n",
       "93  13/07/2020 16:15:13  Female   18              Benl        year 1   \n",
       "97  13/07/2020 21:21:42    Male   18       Engineering        year 2   \n",
       "98  13/07/2020 21:22:56  Female   19          Nursing         year 3   \n",
       "\n",
       "           CGPA Marital status Depression          Anxiety     Panic attack  \\\n",
       "0   3.00 - 3.49    Not_married  Depressed       No_anxiety     Panic attack   \n",
       "2   3.00 - 3.49    Not_married  Depressed  Anxiety_present     Panic attack   \n",
       "3   3.00 - 3.49        Married  Depressed       No_anxiety  No panic_attack   \n",
       "6   3.50 - 4.00        Married  Depressed       No_anxiety     Panic attack   \n",
       "11  3.50 - 4.00        Married  Depressed       No_anxiety  No panic_attack   \n",
       "12  3.00 - 3.49    Not_married  Depressed       No_anxiety  No panic_attack   \n",
       "17  3.00 - 3.49        Married  Depressed  Anxiety_present     Panic attack   \n",
       "19  3.50 - 4.00        Married  Depressed  Anxiety_present     Panic attack   \n",
       "24  3.50 - 4.00    Not_married  Depressed  Anxiety_present     Panic attack   \n",
       "27  3.00 - 3.49        Married  Depressed  Anxiety_present  No panic_attack   \n",
       "28  3.50 - 4.00        Married  Depressed  Anxiety_present     Panic attack   \n",
       "33  3.50 - 4.00        Married  Depressed  Anxiety_present  No panic_attack   \n",
       "34  3.00 - 3.49    Not_married  Depressed  Anxiety_present     Panic attack   \n",
       "36  3.00 - 3.49    Not_married  Depressed  Anxiety_present  No panic_attack   \n",
       "37  2.50 - 2.99    Not_married  Depressed  Anxiety_present     Panic attack   \n",
       "39  2.50 - 2.99        Married  Depressed       No_anxiety     Panic attack   \n",
       "42  3.00 - 3.49    Not_married  Depressed       No_anxiety  No panic_attack   \n",
       "48  3.00 - 3.49    Not_married  Depressed       No_anxiety  No panic_attack   \n",
       "50  2.50 - 2.99        Married  Depressed       No_anxiety     Panic attack   \n",
       "53  3.00 - 3.49        Married  Depressed  Anxiety_present     Panic attack   \n",
       "54  3.50 - 4.00    Not_married  Depressed       No_anxiety     Panic attack   \n",
       "57  3.00 - 3.49    Not_married  Depressed  Anxiety_present  No panic_attack   \n",
       "65  3.50 - 4.00    Not_married  Depressed  Anxiety_present  No panic_attack   \n",
       "67  3.00 - 3.49        Married  Depressed       No_anxiety     Panic attack   \n",
       "68  3.50 - 4.00    Not_married  Depressed       No_anxiety  No panic_attack   \n",
       "72  3.00 - 3.49        Married  Depressed       No_anxiety  No panic_attack   \n",
       "76  3.00 - 3.49    Not_married  Depressed       No_anxiety  No panic_attack   \n",
       "80  3.50 - 4.00        Married  Depressed  Anxiety_present     Panic attack   \n",
       "82  3.00 - 3.49    Not_married  Depressed  Anxiety_present  No panic_attack   \n",
       "85  3.50 - 4.00    Not_married  Depressed  Anxiety_present  No panic_attack   \n",
       "87  3.50 - 4.00    Not_married  Depressed  Anxiety_present     Panic attack   \n",
       "92  3.00 - 3.49        Married  Depressed       No_anxiety  No panic_attack   \n",
       "93  3.00 - 3.49    Not_married  Depressed       No_anxiety  No panic_attack   \n",
       "97  3.00 - 3.49    Not_married  Depressed  Anxiety_present  No panic_attack   \n",
       "98  3.50 - 4.00        Married  Depressed       No_anxiety     Panic attack   \n",
       "\n",
       "       Treatment  \n",
       "0   No_treatment  \n",
       "2   No_treatment  \n",
       "3   No_treatment  \n",
       "6   No_treatment  \n",
       "11  No_treatment  \n",
       "12  No_treatment  \n",
       "17  No_treatment  \n",
       "19  No_treatment  \n",
       "24  No_treatment  \n",
       "27  No_treatment  \n",
       "28     Treatment  \n",
       "33     Treatment  \n",
       "34  No_treatment  \n",
       "36  No_treatment  \n",
       "37  No_treatment  \n",
       "39     Treatment  \n",
       "42  No_treatment  \n",
       "48  No_treatment  \n",
       "50     Treatment  \n",
       "53  No_treatment  \n",
       "54     Treatment  \n",
       "57  No_treatment  \n",
       "65  No_treatment  \n",
       "67  No_treatment  \n",
       "68  No_treatment  \n",
       "72  No_treatment  \n",
       "76  No_treatment  \n",
       "80  No_treatment  \n",
       "82  No_treatment  \n",
       "85     Treatment  \n",
       "87  No_treatment  \n",
       "92  No_treatment  \n",
       "93  No_treatment  \n",
       "97  No_treatment  \n",
       "98  No_treatment  "
      ]
     },
     "execution_count": 48,
     "metadata": {},
     "output_type": "execute_result"
    }
   ],
   "source": [
    "depression_df = df[df.Depression == 'Depressed']\n",
    "depression_df"
   ]
  },
  {
   "cell_type": "code",
   "execution_count": 49,
   "id": "a97f4202",
   "metadata": {
    "execution": {
     "iopub.execute_input": "2024-07-27T21:27:14.385364Z",
     "iopub.status.busy": "2024-07-27T21:27:14.384612Z",
     "iopub.status.idle": "2024-07-27T21:27:14.403181Z",
     "shell.execute_reply": "2024-07-27T21:27:14.401869Z"
    },
    "papermill": {
     "duration": 0.193865,
     "end_time": "2024-07-27T21:27:14.407472",
     "exception": false,
     "start_time": "2024-07-27T21:27:14.213607",
     "status": "completed"
    },
    "tags": []
   },
   "outputs": [
    {
     "name": "stdout",
     "output_type": "stream",
     "text": [
      "<class 'pandas.core.frame.DataFrame'>\n",
      "Int64Index: 35 entries, 0 to 98\n",
      "Data columns (total 11 columns):\n",
      " #   Column          Non-Null Count  Dtype \n",
      "---  ------          --------------  ----- \n",
      " 0   Timestamp       35 non-null     object\n",
      " 1   Gender          35 non-null     object\n",
      " 2   Age             35 non-null     int64 \n",
      " 3   Course          35 non-null     object\n",
      " 4   Year of Study   35 non-null     object\n",
      " 5   CGPA            35 non-null     object\n",
      " 6   Marital status  35 non-null     object\n",
      " 7   Depression      35 non-null     object\n",
      " 8   Anxiety         35 non-null     object\n",
      " 9   Panic attack    35 non-null     object\n",
      " 10  Treatment       35 non-null     object\n",
      "dtypes: int64(1), object(10)\n",
      "memory usage: 3.3+ KB\n"
     ]
    }
   ],
   "source": [
    "depression_df.info()"
   ]
  },
  {
   "cell_type": "markdown",
   "id": "ad90c418",
   "metadata": {
    "papermill": {
     "duration": 0.147253,
     "end_time": "2024-07-27T21:27:14.709584",
     "exception": false,
     "start_time": "2024-07-27T21:27:14.562331",
     "status": "completed"
    },
    "tags": []
   },
   "source": []
  },
  {
   "cell_type": "code",
   "execution_count": 50,
   "id": "4819d3dd",
   "metadata": {
    "execution": {
     "iopub.execute_input": "2024-07-27T21:27:15.005025Z",
     "iopub.status.busy": "2024-07-27T21:27:15.004608Z",
     "iopub.status.idle": "2024-07-27T21:27:15.020936Z",
     "shell.execute_reply": "2024-07-27T21:27:15.018695Z"
    },
    "papermill": {
     "duration": 0.169282,
     "end_time": "2024-07-27T21:27:15.025757",
     "exception": false,
     "start_time": "2024-07-27T21:27:14.856475",
     "status": "completed"
    },
    "tags": []
   },
   "outputs": [
    {
     "data": {
      "text/plain": [
       "Female    0.828571\n",
       "Male      0.171429\n",
       "Name: Gender, dtype: float64"
      ]
     },
     "execution_count": 50,
     "metadata": {},
     "output_type": "execute_result"
    }
   ],
   "source": [
    "depression_df.Gender.value_counts(normalize=True)"
   ]
  },
  {
   "cell_type": "code",
   "execution_count": 51,
   "id": "58934020",
   "metadata": {
    "execution": {
     "iopub.execute_input": "2024-07-27T21:27:15.378148Z",
     "iopub.status.busy": "2024-07-27T21:27:15.376666Z",
     "iopub.status.idle": "2024-07-27T21:27:15.596713Z",
     "shell.execute_reply": "2024-07-27T21:27:15.594901Z"
    },
    "papermill": {
     "duration": 0.402276,
     "end_time": "2024-07-27T21:27:15.599664",
     "exception": false,
     "start_time": "2024-07-27T21:27:15.197388",
     "status": "completed"
    },
    "tags": []
   },
   "outputs": [
    {
     "data": {
      "image/png": "[encoded data removed]",
      "text/plain": [
       "<Figure size 432x288 with 1 Axes>"
      ]
     },
     "metadata": {
      "needs_background": "light"
     },
     "output_type": "display_data"
    }
   ],
   "source": [
    "colors= ['#FF0000', '#0000FF']\n",
    "\n",
    "plt.figure(figsize=(6, 4))\n",
    "sns.countplot(data=depression_df, x='Gender', palette=colors)\n",
    "plt.title('Distribution of Depressed Student Across Gender', fontsize=12)\n",
    "plt.xlabel('Gender')\n",
    "plt.ylabel('Count')\n",
    "plt.show()"
   ]
  },
  {
   "cell_type": "markdown",
   "id": "bfe85875",
   "metadata": {
    "papermill": {
     "duration": 0.146773,
     "end_time": "2024-07-27T21:27:15.894673",
     "exception": false,
     "start_time": "2024-07-27T21:27:15.747900",
     "status": "completed"
    },
    "tags": []
   },
   "source": [
    "# Gender & Depression Conclusion: More **female students** are depressed than males."
   ]
  },
  {
   "cell_type": "code",
   "execution_count": 52,
   "id": "341053bd",
   "metadata": {
    "execution": {
     "iopub.execute_input": "2024-07-27T21:27:16.210630Z",
     "iopub.status.busy": "2024-07-27T21:27:16.209520Z",
     "iopub.status.idle": "2024-07-27T21:27:16.445763Z",
     "shell.execute_reply": "2024-07-27T21:27:16.444131Z"
    },
    "papermill": {
     "duration": 0.397038,
     "end_time": "2024-07-27T21:27:16.448988",
     "exception": false,
     "start_time": "2024-07-27T21:27:16.051950",
     "status": "completed"
    },
    "tags": []
   },
   "outputs": [
    {
     "data": {
      "image/png": "[encoded data removed]",
      "text/plain": [
       "<Figure size 432x288 with 1 Axes>"
      ]
     },
     "metadata": {
      "needs_background": "light"
     },
     "output_type": "display_data"
    }
   ],
   "source": [
    "colors = ['#FF0000','#008000']\n",
    "\n",
    "plt.figure(figsize=(6, 4))\n",
    "sns.countplot(data=depression_df, x='Marital status', palette=colors)\n",
    "plt.title('Distribution of Depressed Student Across Marital status', fontsize=12)\n",
    "plt.xlabel('Marital status')\n",
    "plt.ylabel('Count')\n",
    "plt.show()"
   ]
  },
  {
   "cell_type": "code",
   "execution_count": 53,
   "id": "73b22e79",
   "metadata": {
    "execution": {
     "iopub.execute_input": "2024-07-27T21:27:16.758867Z",
     "iopub.status.busy": "2024-07-27T21:27:16.758530Z",
     "iopub.status.idle": "2024-07-27T21:27:16.918735Z",
     "shell.execute_reply": "2024-07-27T21:27:16.917314Z"
    },
    "papermill": {
     "duration": 0.317308,
     "end_time": "2024-07-27T21:27:16.924133",
     "exception": false,
     "start_time": "2024-07-27T21:27:16.606825",
     "status": "completed"
    },
    "tags": []
   },
   "outputs": [
    {
     "data": {
      "image/png": "[encoded data removed]",
      "text/plain": [
       "<Figure size 576x432 with 1 Axes>"
      ]
     },
     "metadata": {},
     "output_type": "display_data"
    }
   ],
   "source": [
    "marital_status_counts = df['Marital status'].value_counts()\n",
    "\n",
    "# Define colors\n",
    "colors = ['#FF0000','#008000']\n",
    "\n",
    "# Plotting the distribution using a pie chart with custom colors\n",
    "plt.figure(figsize=(8, 6))  # Adjust the figure size if needed\n",
    "plt.pie(marital_status_counts, labels=marital_status_counts.index, autopct='%1.1f%%', startangle=140, colors=colors)\n",
    "plt.title('Distribution of Marital Status')\n",
    "plt.axis('equal')  # Equal aspect ratio ensures that pie is drawn as a circle\n",
    "plt.show()"
   ]
  },
  {
   "cell_type": "markdown",
   "id": "0f9b2cf5",
   "metadata": {
    "papermill": {
     "duration": 0.149648,
     "end_time": "2024-07-27T21:27:17.260138",
     "exception": false,
     "start_time": "2024-07-27T21:27:17.110490",
     "status": "completed"
    },
    "tags": []
   },
   "source": [
    "Conclusion: \n",
    "No apparent correlation between marital status and depression amongst students. However the  increased prevalence of depression in non-married couples is slightly revealing of the emotional fortitude and stability that married couples share. The exeriences of married inidividuals gathered in matrimony typically makes them more stable. "
   ]
  },
  {
   "cell_type": "code",
   "execution_count": 54,
   "id": "e3a65060",
   "metadata": {
    "execution": {
     "iopub.execute_input": "2024-07-27T21:27:17.596385Z",
     "iopub.status.busy": "2024-07-27T21:27:17.594941Z",
     "iopub.status.idle": "2024-07-27T21:27:18.061619Z",
     "shell.execute_reply": "2024-07-27T21:27:18.060283Z"
    },
    "papermill": {
     "duration": 0.647425,
     "end_time": "2024-07-27T21:27:18.064481",
     "exception": false,
     "start_time": "2024-07-27T21:27:17.417056",
     "status": "completed"
    },
    "tags": []
   },
   "outputs": [
    {
     "data": {
      "image/png": "[encoded data removed]",
      "text/plain": [
       "<Figure size 432x288 with 1 Axes>"
      ]
     },
     "metadata": {
      "needs_background": "light"
     },
     "output_type": "display_data"
    }
   ],
   "source": [
    "colors = ['#AA6347', '#AA5500', '#AF5000', '#DA4500', '#AA6347', '#AA4500']\n",
    "\n",
    "\n",
    "plt.figure(figsize=(6, 4))\n",
    "sns.countplot(data=depression_df, x='Age', palette=colors)\n",
    "plt.title('Distribution of Depressed Students Across Age', fontsize=10)\n",
    "plt.xlabel('Age')\n",
    "plt.ylabel('Count')\n",
    "plt.show()\n"
   ]
  },
  {
   "cell_type": "markdown",
   "id": "3f6daabe",
   "metadata": {
    "papermill": {
     "duration": 0.152171,
     "end_time": "2024-07-27T21:27:18.368534",
     "exception": false,
     "start_time": "2024-07-27T21:27:18.216363",
     "status": "completed"
    },
    "tags": []
   },
   "source": [
    "Across student age the proportion of students who are depressed falls with age 18 and 19. At 20 to 22 the proportion of depressed students decrease. There is also a noticeable increase in the number of depressed studnt form Age 24.\n",
    "\n"
   ]
  },
  {
   "cell_type": "code",
   "execution_count": 55,
   "id": "8dbe838a",
   "metadata": {
    "execution": {
     "iopub.execute_input": "2024-07-27T21:27:18.668183Z",
     "iopub.status.busy": "2024-07-27T21:27:18.667749Z",
     "iopub.status.idle": "2024-07-27T21:27:18.818759Z",
     "shell.execute_reply": "2024-07-27T21:27:18.817304Z"
    },
    "papermill": {
     "duration": 0.304215,
     "end_time": "2024-07-27T21:27:18.822467",
     "exception": false,
     "start_time": "2024-07-27T21:27:18.518252",
     "status": "completed"
    },
    "tags": []
   },
   "outputs": [
    {
     "data": {
      "image/png": "[encoded data removed]",
      "text/plain": [
       "<Figure size 432x288 with 1 Axes>"
      ]
     },
     "metadata": {
      "needs_background": "light"
     },
     "output_type": "display_data"
    }
   ],
   "source": [
    "colors = ['#AA5500', '#AF5000', '#DA4500']\n",
    "plt.figure(figsize=(6, 4))\n",
    "sns.countplot(data=depression_df, x='CGPA', palette=colors)\n",
    "plt.title('Distribution of Depressed Student Across CGPA', fontsize=10)\n",
    "plt.xlabel('CGPA')\n",
    "plt.ylabel('Count')\n",
    "plt.show()"
   ]
  },
  {
   "cell_type": "markdown",
   "id": "adaa402a",
   "metadata": {
    "papermill": {
     "duration": 0.162065,
     "end_time": "2024-07-27T21:27:19.141656",
     "exception": false,
     "start_time": "2024-07-27T21:27:18.979591",
     "status": "completed"
    },
    "tags": []
   },
   "source": [
    "There are more depressed students with CGPA OF 3.00 - 3.49, followed by students with CGPA of 3.50 - 4.00. Only a few proportion of student with CGPA OF 2.50 - 2.99 are depressed.\n",
    "\n",
    "We are working with smarter students.\n",
    "\n"
   ]
  },
  {
   "cell_type": "code",
   "execution_count": 56,
   "id": "d73cc9fa",
   "metadata": {
    "execution": {
     "iopub.execute_input": "2024-07-27T21:27:19.448985Z",
     "iopub.status.busy": "2024-07-27T21:27:19.448588Z",
     "iopub.status.idle": "2024-07-27T21:27:19.456397Z",
     "shell.execute_reply": "2024-07-27T21:27:19.455247Z"
    },
    "papermill": {
     "duration": 0.16568,
     "end_time": "2024-07-27T21:27:19.458859",
     "exception": false,
     "start_time": "2024-07-27T21:27:19.293179",
     "status": "completed"
    },
    "tags": []
   },
   "outputs": [
    {
     "data": {
      "text/plain": [
       "Index(['Timestamp', 'Gender', 'Age', 'Course', 'Year of Study', 'CGPA',\n",
       "       'Marital status', 'Depression', 'Anxiety', 'Panic attack', 'Treatment'],\n",
       "      dtype='object')"
      ]
     },
     "execution_count": 56,
     "metadata": {},
     "output_type": "execute_result"
    }
   ],
   "source": [
    "depression_df.columns"
   ]
  },
  {
   "cell_type": "markdown",
   "id": "a66dab1b",
   "metadata": {
    "papermill": {
     "duration": 0.161807,
     "end_time": "2024-07-27T21:27:19.786906",
     "exception": false,
     "start_time": "2024-07-27T21:27:19.625099",
     "status": "completed"
    },
    "tags": []
   },
   "source": [
    "Check for Null"
   ]
  },
  {
   "cell_type": "markdown",
   "id": "4ef4c45e",
   "metadata": {
    "papermill": {
     "duration": 0.164259,
     "end_time": "2024-07-27T21:27:20.110313",
     "exception": false,
     "start_time": "2024-07-27T21:27:19.946054",
     "status": "completed"
    },
    "tags": []
   },
   "source": [
    "Panic Attack coount distribution"
   ]
  },
  {
   "cell_type": "code",
   "execution_count": 57,
   "id": "93f70d1e",
   "metadata": {
    "execution": {
     "iopub.execute_input": "2024-07-27T21:27:20.453668Z",
     "iopub.status.busy": "2024-07-27T21:27:20.453164Z",
     "iopub.status.idle": "2024-07-27T21:27:20.699885Z",
     "shell.execute_reply": "2024-07-27T21:27:20.698347Z"
    },
    "papermill": {
     "duration": 0.433491,
     "end_time": "2024-07-27T21:27:20.703015",
     "exception": false,
     "start_time": "2024-07-27T21:27:20.269524",
     "status": "completed"
    },
    "tags": []
   },
   "outputs": [
    {
     "data": {
      "image/png": "[encoded data removed]",
      "text/plain": [
       "<Figure size 576x432 with 1 Axes>"
      ]
     },
     "metadata": {
      "needs_background": "light"
     },
     "output_type": "display_data"
    }
   ],
   "source": [
    "\n",
    "def plot_count_distribution_panic_attack(data):\n",
    "    plt.figure(figsize=(8, 6))  \n",
    "    sns.countplot(data['Panic attack'], palette=['#AA5500', '#AF5000'])\n",
    "    plt.title('Count Distribution of Panic Attack')\n",
    "    plt.xlabel('Panic Attack')\n",
    "    plt.ylabel('Count')\n",
    "    plt.xticks(rotation=45) \n",
    "    plt.show()\n",
    "\n",
    "# Assuming your dataset is named 'df'\n",
    "# Plot count distribution of categorical data for panic attack\n",
    "plot_count_distribution_panic_attack(df)"
   ]
  },
  {
   "cell_type": "code",
   "execution_count": 58,
   "id": "cc88e93b",
   "metadata": {
    "execution": {
     "iopub.execute_input": "2024-07-27T21:27:21.057215Z",
     "iopub.status.busy": "2024-07-27T21:27:21.056769Z",
     "iopub.status.idle": "2024-07-27T21:27:21.613039Z",
     "shell.execute_reply": "2024-07-27T21:27:21.611543Z"
    },
    "papermill": {
     "duration": 0.743431,
     "end_time": "2024-07-27T21:27:21.616788",
     "exception": false,
     "start_time": "2024-07-27T21:27:20.873357",
     "status": "completed"
    },
    "tags": []
   },
   "outputs": [
    {
     "data": {
      "text/plain": [
       "<Figure size 576x360 with 0 Axes>"
      ]
     },
     "metadata": {},
     "output_type": "display_data"
    },
    {
     "data": {
      "image/png": "[encoded data removed]",
      "text/plain": [
       "<Figure size 476x360 with 1 Axes>"
      ]
     },
     "metadata": {
      "needs_background": "light"
     },
     "output_type": "display_data"
    }
   ],
   "source": [
    "colors = colors = {'Panic attack': '#FA3500', 'No panic_attack': '#AF5000'}\n",
    "\n",
    "plt.figure(figsize=(8, 5))\n",
    "sns.displot(data=depression_df, x='Age', hue='Panic attack', palette=colors, kind='kde', fill=True)\n",
    "plt.title('Distribution of Age with Panic Attack', fontsize=12)\n",
    "plt.xlabel('Age')\n",
    "plt.ylabel('Density')\n",
    "plt.show()"
   ]
  },
  {
   "cell_type": "markdown",
   "id": "2ccc8f2c",
   "metadata": {
    "papermill": {
     "duration": 0.170071,
     "end_time": "2024-07-27T21:27:21.949654",
     "exception": false,
     "start_time": "2024-07-27T21:27:21.779583",
     "status": "completed"
    },
    "tags": []
   },
   "source": [
    "The kernel density plot indicate that there are variations in the distribution of ages between students with panick and no panick attack. Furthermore, students within the age of 18 and above without panick attack are more likely to be depressed relative to a student with a panick attack.\n",
    "\n"
   ]
  },
  {
   "cell_type": "markdown",
   "id": "408500c0",
   "metadata": {
    "papermill": {
     "duration": 0.161508,
     "end_time": "2024-07-27T21:27:22.286279",
     "exception": false,
     "start_time": "2024-07-27T21:27:22.124771",
     "status": "completed"
    },
    "tags": []
   },
   "source": [
    "Treatment Count Distribution"
   ]
  },
  {
   "cell_type": "code",
   "execution_count": 59,
   "id": "542552e8",
   "metadata": {
    "execution": {
     "iopub.execute_input": "2024-07-27T21:27:22.651933Z",
     "iopub.status.busy": "2024-07-27T21:27:22.651573Z",
     "iopub.status.idle": "2024-07-27T21:27:22.799549Z",
     "shell.execute_reply": "2024-07-27T21:27:22.797985Z"
    },
    "papermill": {
     "duration": 0.320863,
     "end_time": "2024-07-27T21:27:22.804569",
     "exception": false,
     "start_time": "2024-07-27T21:27:22.483706",
     "status": "completed"
    },
    "tags": []
   },
   "outputs": [
    {
     "data": {
      "image/png": "[encoded data removed]",
      "text/plain": [
       "<Figure size 576x432 with 1 Axes>"
      ]
     },
     "metadata": {
      "needs_background": "light"
     },
     "output_type": "display_data"
    }
   ],
   "source": [
    "\n",
    "def plot_count_distribution_treatment(data):\n",
    "    plt.figure(figsize=(8, 6))  \n",
    "    sns.countplot(data['Treatment'], palette=['#AA5500', '#AF5000'])\n",
    "    plt.title('Count Distribution of Treatment Seeking')\n",
    "    plt.xlabel('Treatment Seeking')\n",
    "    plt.ylabel('Count')\n",
    "    plt.xticks(rotation=45) \n",
    "    plt.show()\n",
    "\n",
    "# Assuming your dataset is named 'df'\n",
    "# Plot count distribution of categorical data for treatment seeking\n",
    "plot_count_distribution_treatment(df)"
   ]
  },
  {
   "cell_type": "code",
   "execution_count": 60,
   "id": "cb6f58ab",
   "metadata": {
    "execution": {
     "iopub.execute_input": "2024-07-27T21:27:23.128058Z",
     "iopub.status.busy": "2024-07-27T21:27:23.126620Z",
     "iopub.status.idle": "2024-07-27T21:27:23.155881Z",
     "shell.execute_reply": "2024-07-27T21:27:23.154798Z"
    },
    "papermill": {
     "duration": 0.193781,
     "end_time": "2024-07-27T21:27:23.160130",
     "exception": false,
     "start_time": "2024-07-27T21:27:22.966349",
     "status": "completed"
    },
    "tags": []
   },
   "outputs": [
    {
     "name": "stdout",
     "output_type": "stream",
     "text": [
      "               Timestamp  Gender  Age                   Course Year of Study  \\\n",
      "0         8/7/2020 12:02  Female   18              Engineering        year 1   \n",
      "1         8/7/2020 12:04    Male   21        Islamic Education        year 2   \n",
      "2         8/7/2020 12:05    Male   19                       IT        year 1   \n",
      "3         8/7/2020 12:06  Female   22                      Law        year 3   \n",
      "4         8/7/2020 12:13    Male   23             Mathemathics        year 4   \n",
      "5         8/7/2020 12:31    Male   19              Engineering        year 2   \n",
      "6         8/7/2020 12:32  Female   23         Pendidikan Islam        year 2   \n",
      "7         8/7/2020 12:33  Female   18                      BCS        year 1   \n",
      "8         8/7/2020 12:35  Female   19          Human Resources        year 2   \n",
      "9         8/7/2020 12:39    Male   18                    Irkhs        year 1   \n",
      "10        8/7/2020 12:39  Female   20               Psychology        year 1   \n",
      "11        8/7/2020 12:39  Female   24              Engineering        year 3   \n",
      "12        8/7/2020 12:40  Female   18                      BCS        year 1   \n",
      "13        8/7/2020 12:41    Male   19              Engineering        year 1   \n",
      "14        8/7/2020 12:43  Female   18                    KENMS        year 2   \n",
      "15        8/7/2020 12:43    Male   24                      BCS        year 3   \n",
      "16        8/7/2020 12:46  Female   24              Accounting         year 3   \n",
      "17        8/7/2020 12:52  Female   24                      ENM        year 4   \n",
      "18        8/7/2020 13:05  Female   20                       IT        year 2   \n",
      "19        8/7/2020 13:07  Female   18           Marine science        year 2   \n",
      "20        8/7/2020 13:12  Female   19              Engineering        year 1   \n",
      "21        8/7/2020 13:13  Female   18                      KOE        year 2   \n",
      "22        8/7/2020 13:13  Female   24                      BCS        year 1   \n",
      "23        8/7/2020 13:15  Female   24              Engineering        year 1   \n",
      "24        8/7/2020 13:17  Female   23                      BCS        year 3   \n",
      "25        8/7/2020 13:29  Female   18          Banking Studies        year 1   \n",
      "26        8/7/2020 13:35  Female   19              Engineering        year 1   \n",
      "27        8/7/2020 13:41    Male   18              Engineering        year 2   \n",
      "28        8/7/2020 13:58  Female   24                       IT        year 3   \n",
      "29        8/7/2020 14:05  Female   24                      BCS        year 4   \n",
      "30        8/7/2020 14:27  Female   23  Business Administration        year 2   \n",
      "31        8/7/2020 14:29    Male   18                      BCS        year 2   \n",
      "32        8/7/2020 14:29    Male   19                      BCS        year 1   \n",
      "33        8/7/2020 14:31    Male   18                      BCS        year 2   \n",
      "34        8/7/2020 14:41  Female   19                       IT        year 1   \n",
      "35        8/7/2020 14:43  Female   18              Engineering        year 1   \n",
      "36        8/7/2020 14:43  Female   18                      Law        year 3   \n",
      "37        8/7/2020 14:45  Female   19                       IT        year 1   \n",
      "38        8/7/2020 14:47  Female   18                    Irkhs        year 1   \n",
      "39        8/7/2020 14:56  Female   24              Engineering        year 2   \n",
      "40        8/7/2020 14:57  Female   24                       IT        year 3   \n",
      "41        8/7/2020 14:57  Female   22              Engineering        year 4   \n",
      "42        8/7/2020 14:58  Female   20               Usuluddin         year 2   \n",
      "43        8/7/2020 15:07    Male   19                       IT        year 1   \n",
      "44        8/7/2020 15:08    Male   23                    TAASL        year 2   \n",
      "45        8/7/2020 15:09    Male   18                      BCS        year 1   \n",
      "46        8/7/2020 15:12  Female   19              Engineering        year 1   \n",
      "47        8/7/2020 15:14  Female   18              Engineering        year 4   \n",
      "48        8/7/2020 15:14    Male   24                      BCS        year 2   \n",
      "49        8/7/2020 15:18  Female   24                      BCS        year 3   \n",
      "50        8/7/2020 15:27  Female   23                      ALA        year 1   \n",
      "51        8/7/2020 15:37  Female   18                      BCS        year 2   \n",
      "52        8/7/2020 15:47  Female   19       Biomedical science        year 3   \n",
      "53        8/7/2020 15:48  Female   20                      KOE        year 3   \n",
      "54        8/7/2020 15:57  Female   19                      BCS        year 1   \n",
      "55        8/7/2020 15:58    Male   21                      BCS        year 1   \n",
      "56        8/7/2020 16:08    Male   23                    Irkhs        year 3   \n",
      "57        8/7/2020 16:21  Female   20                     Benl        year 3   \n",
      "58        8/7/2020 16:22  Female   18                      BCS        year 1   \n",
      "59        8/7/2020 16:34  Female   23                     Benl        year 1   \n",
      "60        8/7/2020 16:34  Female   18                       IT        year 3   \n",
      "61        8/7/2020 16:53  Female   19                      BCS        year 1   \n",
      "62        8/7/2020 17:05  Female   18                      CTS        year 1   \n",
      "63        8/7/2020 17:37  Female   24              Engineering        year 1   \n",
      "64        8/7/2020 17:46  Female   24              Engineering        year 1   \n",
      "65        8/7/2020 17:50  Female   23                Economics        year 1   \n",
      "66        8/7/2020 18:10  Female   18                      KOE        year 3   \n",
      "67        8/7/2020 18:11    Male   19                     MHSC        year 3   \n",
      "68        8/7/2020 19:05  Female   18                   Malcom        year 1   \n",
      "69        8/7/2020 19:32  Female   24                      Kop        year 4   \n",
      "70        8/7/2020 20:36  Female   24       Biomedical science        year 1   \n",
      "71        8/7/2020 21:21  Female   18                      Law        year 3   \n",
      "72        8/7/2020 22:35  Female   19                       IT        year 3   \n",
      "73         9/7/2020 6:57    Male   18       Biomedical science        year 1   \n",
      "74        9/7/2020 11:43    Male   24                       IT        year 3   \n",
      "75        9/7/2020 11:57  Female   24                      KOE        year 1   \n",
      "76        9/7/2020 13:15  Female   23              Engineering        year 1   \n",
      "77        9/7/2020 18:24  Female   18          Human Sciences         year 2   \n",
      "78   13/07/2020 10:07:32  Female   19            Biotechnology        year 3   \n",
      "79   13/07/2020 10:10:30  Female   18              Engineering        year 4   \n",
      "80   13/07/2020 10:11:26  Female   24           Communication         year 2   \n",
      "81   13/07/2020 10:12:18  Female   24          Diploma Nursing        year 2   \n",
      "82   13/07/2020 10:12:26  Female   19              Engineering        year 1   \n",
      "83   13/07/2020 10:12:28  Female   19        Pendidikan Islam         year 2   \n",
      "84   13/07/2020 10:14:46    Male   23              Radiography        year 1   \n",
      "85   13/07/2020 10:33:47  Female   18               Psychology        year 1   \n",
      "86   13/07/2020 10:34:08  Female   19                     Fiqh        year 3   \n",
      "87   13/07/2020 11:46:13  Female   18               Psychology        year 1   \n",
      "88   13/07/2020 11:49:02    Male   24                       IT        year 1   \n",
      "89   13/07/2020 11:54:58    Male   24              Engineering        year 2   \n",
      "90   13/07/2020 13:57:11  Female   23             DIPLOMA TESL        year 3   \n",
      "91   13/07/2020 14:38:12    Male   18                      KOE        year 2   \n",
      "92   13/07/2020 14:48:05  Female   19                      KOE        year 2   \n",
      "93   13/07/2020 16:15:13  Female   18                     Benl        year 1   \n",
      "94   13/07/2020 17:30:44  Female   24                     Fiqh        year 3   \n",
      "95   13/07/2020 19:08:32  Female   18        Islamic Education        year 1   \n",
      "96   13/07/2020 19:56:49  Female   21                      BCS        year 1   \n",
      "97   13/07/2020 21:21:42    Male   18              Engineering        year 2   \n",
      "98   13/07/2020 21:22:56  Female   19                 Nursing         year 3   \n",
      "99   13/07/2020 21:23:57  Female   23         Pendidikan Islam        year 4   \n",
      "100  18/07/2020 20:16:21    Male   20       Biomedical science        year 2   \n",
      "\n",
      "            CGPA Marital status     Depression          Anxiety  \\\n",
      "0    3.00 - 3.49    Not_married      Depressed       No_anxiety   \n",
      "1    3.00 - 3.49    Not_married  Not depressed  Anxiety_present   \n",
      "2    3.00 - 3.49    Not_married      Depressed  Anxiety_present   \n",
      "3    3.00 - 3.49        Married      Depressed       No_anxiety   \n",
      "4    3.00 - 3.49    Not_married  Not depressed       No_anxiety   \n",
      "5    3.50 - 4.00    Not_married  Not depressed       No_anxiety   \n",
      "6    3.50 - 4.00        Married      Depressed       No_anxiety   \n",
      "7    3.50 - 4.00    Not_married  Not depressed  Anxiety_present   \n",
      "8    2.50 - 2.99    Not_married  Not depressed       No_anxiety   \n",
      "9    3.50 - 4.00    Not_married  Not depressed  Anxiety_present   \n",
      "10   3.50 - 4.00    Not_married  Not depressed       No_anxiety   \n",
      "11   3.50 - 4.00        Married      Depressed       No_anxiety   \n",
      "12   3.00 - 3.49    Not_married      Depressed       No_anxiety   \n",
      "13   3.00 - 3.49    Not_married  Not depressed       No_anxiety   \n",
      "14   3.50 - 4.00    Not_married  Not depressed  Anxiety_present   \n",
      "15   3.50 - 4.00    Not_married  Not depressed       No_anxiety   \n",
      "16   3.00 - 3.49    Not_married  Not depressed       No_anxiety   \n",
      "17   3.00 - 3.49        Married      Depressed  Anxiety_present   \n",
      "18   3.50 - 4.00    Not_married  Not depressed  Anxiety_present   \n",
      "19   3.50 - 4.00        Married      Depressed  Anxiety_present   \n",
      "20   3.00 - 3.49    Not_married  Not depressed       No_anxiety   \n",
      "21   3.00 - 3.49    Not_married  Not depressed       No_anxiety   \n",
      "22   3.50 - 4.00    Not_married  Not depressed       No_anxiety   \n",
      "23   3.00 - 3.49    Not_married  Not depressed       No_anxiety   \n",
      "24   3.50 - 4.00    Not_married      Depressed  Anxiety_present   \n",
      "25   3.50 - 4.00    Not_married  Not depressed       No_anxiety   \n",
      "26   3.50 - 4.00    Not_married  Not depressed       No_anxiety   \n",
      "27   3.00 - 3.49        Married      Depressed  Anxiety_present   \n",
      "28   3.50 - 4.00        Married      Depressed  Anxiety_present   \n",
      "29   3.50 - 4.00    Not_married  Not depressed       No_anxiety   \n",
      "30   3.00 - 3.49    Not_married  Not depressed       No_anxiety   \n",
      "31   3.00 - 3.49    Not_married  Not depressed       No_anxiety   \n",
      "32   3.50 - 4.00    Not_married  Not depressed       No_anxiety   \n",
      "33   3.50 - 4.00        Married      Depressed  Anxiety_present   \n",
      "34   3.00 - 3.49    Not_married      Depressed  Anxiety_present   \n",
      "35   2.00 - 2.49    Not_married  Not depressed       No_anxiety   \n",
      "36   3.00 - 3.49    Not_married      Depressed  Anxiety_present   \n",
      "37   2.50 - 2.99    Not_married      Depressed  Anxiety_present   \n",
      "38   3.50 - 4.00    Not_married  Not depressed       No_anxiety   \n",
      "39   2.50 - 2.99        Married      Depressed       No_anxiety   \n",
      "40   3.00 - 3.49    Not_married  Not depressed  Anxiety_present   \n",
      "41   3.50 - 4.00    Not_married  Not depressed       No_anxiety   \n",
      "42   3.00 - 3.49    Not_married      Depressed       No_anxiety   \n",
      "43      0 - 1.99    Not_married  Not depressed       No_anxiety   \n",
      "44   3.50 - 4.00    Not_married  Not depressed       No_anxiety   \n",
      "45   3.50 - 4.00    Not_married  Not depressed  Anxiety_present   \n",
      "46   3.50 - 4.00    Not_married  Not depressed  Anxiety_present   \n",
      "47   3.50 - 4.00    Not_married  Not depressed       No_anxiety   \n",
      "48   3.00 - 3.49    Not_married      Depressed       No_anxiety   \n",
      "49   3.50 - 4.00    Not_married  Not depressed       No_anxiety   \n",
      "50   2.50 - 2.99        Married      Depressed       No_anxiety   \n",
      "51   3.50 - 4.00    Not_married  Not depressed  Anxiety_present   \n",
      "52   3.00 - 3.49    Not_married  Not depressed       No_anxiety   \n",
      "53   3.00 - 3.49        Married      Depressed  Anxiety_present   \n",
      "54   3.50 - 4.00    Not_married      Depressed       No_anxiety   \n",
      "55   3.00 - 3.49    Not_married  Not depressed       No_anxiety   \n",
      "56   3.50 - 4.00    Not_married  Not depressed       No_anxiety   \n",
      "57   3.00 - 3.49    Not_married      Depressed  Anxiety_present   \n",
      "58   3.50 - 4.00    Not_married  Not depressed       No_anxiety   \n",
      "59   3.00 - 3.49    Not_married  Not depressed       No_anxiety   \n",
      "60   3.00 - 3.49    Not_married  Not depressed       No_anxiety   \n",
      "61   3.50 - 4.00    Not_married  Not depressed       No_anxiety   \n",
      "62   3.50 - 4.00    Not_married  Not depressed       No_anxiety   \n",
      "63   3.50 - 4.00    Not_married  Not depressed       No_anxiety   \n",
      "64   3.50 - 4.00    Not_married  Not depressed       No_anxiety   \n",
      "65   3.50 - 4.00    Not_married      Depressed  Anxiety_present   \n",
      "66   3.00 - 3.49    Not_married  Not depressed  Anxiety_present   \n",
      "67   3.00 - 3.49        Married      Depressed       No_anxiety   \n",
      "68   3.50 - 4.00    Not_married      Depressed       No_anxiety   \n",
      "69   3.00 - 3.49    Not_married  Not depressed  Anxiety_present   \n",
      "70   3.00 - 3.49    Not_married  Not depressed       No_anxiety   \n",
      "71   3.50 - 4.00    Not_married  Not depressed       No_anxiety   \n",
      "72   3.00 - 3.49        Married      Depressed       No_anxiety   \n",
      "73      0 - 1.99    Not_married  Not depressed       No_anxiety   \n",
      "74   3.50 - 4.00    Not_married  Not depressed  Anxiety_present   \n",
      "75   3.50 - 4.00    Not_married  Not depressed  Anxiety_present   \n",
      "76   3.00 - 3.49    Not_married      Depressed       No_anxiety   \n",
      "77   3.00 - 3.49    Not_married  Not depressed       No_anxiety   \n",
      "78      0 - 1.99    Not_married  Not depressed       No_anxiety   \n",
      "79   3.50 - 4.00    Not_married  Not depressed       No_anxiety   \n",
      "80   3.50 - 4.00        Married      Depressed  Anxiety_present   \n",
      "81   3.50 - 4.00    Not_married  Not depressed       No_anxiety   \n",
      "82   3.00 - 3.49    Not_married      Depressed  Anxiety_present   \n",
      "83   3.00 - 3.49    Not_married  Not depressed       No_anxiety   \n",
      "84   3.00 - 3.49    Not_married  Not depressed       No_anxiety   \n",
      "85   3.50 - 4.00    Not_married      Depressed  Anxiety_present   \n",
      "86   3.00 - 3.49    Not_married  Not depressed       No_anxiety   \n",
      "87   3.50 - 4.00    Not_married      Depressed  Anxiety_present   \n",
      "88   3.00 - 3.49    Not_married  Not depressed  Anxiety_present   \n",
      "89   2.00 - 2.49    Not_married  Not depressed       No_anxiety   \n",
      "90   3.50 - 4.00    Not_married  Not depressed       No_anxiety   \n",
      "91   3.00 - 3.49    Not_married  Not depressed  Anxiety_present   \n",
      "92   3.00 - 3.49        Married      Depressed       No_anxiety   \n",
      "93   3.00 - 3.49    Not_married      Depressed       No_anxiety   \n",
      "94      0 - 1.99    Not_married  Not depressed       No_anxiety   \n",
      "95   3.50 - 4.00    Not_married  Not depressed       No_anxiety   \n",
      "96   3.50 - 4.00    Not_married  Not depressed  Anxiety_present   \n",
      "97   3.00 - 3.49    Not_married      Depressed  Anxiety_present   \n",
      "98   3.50 - 4.00        Married      Depressed       No_anxiety   \n",
      "99   3.50 - 4.00    Not_married  Not depressed       No_anxiety   \n",
      "100  3.00 - 3.49    Not_married  Not depressed       No_anxiety   \n",
      "\n",
      "        Panic attack     Treatment  \n",
      "0       Panic attack  No_treatment  \n",
      "1    No panic_attack  No_treatment  \n",
      "2       Panic attack  No_treatment  \n",
      "3    No panic_attack  No_treatment  \n",
      "4    No panic_attack  No_treatment  \n",
      "5       Panic attack  No_treatment  \n",
      "6       Panic attack  No_treatment  \n",
      "7    No panic_attack  No_treatment  \n",
      "8    No panic_attack  No_treatment  \n",
      "9       Panic attack  No_treatment  \n",
      "10   No panic_attack  No_treatment  \n",
      "11   No panic_attack  No_treatment  \n",
      "12   No panic_attack  No_treatment  \n",
      "13   No panic_attack  No_treatment  \n",
      "14   No panic_attack  No_treatment  \n",
      "15   No panic_attack  No_treatment  \n",
      "16   No panic_attack  No_treatment  \n",
      "17      Panic attack  No_treatment  \n",
      "18   No panic_attack  No_treatment  \n",
      "19      Panic attack  No_treatment  \n",
      "20      Panic attack  No_treatment  \n",
      "21   No panic_attack  No_treatment  \n",
      "22   No panic_attack  No_treatment  \n",
      "23   No panic_attack  No_treatment  \n",
      "24      Panic attack  No_treatment  \n",
      "25   No panic_attack  No_treatment  \n",
      "26   No panic_attack  No_treatment  \n",
      "27   No panic_attack  No_treatment  \n",
      "28      Panic attack     Treatment  \n",
      "29   No panic_attack  No_treatment  \n",
      "30   No panic_attack  No_treatment  \n",
      "31   No panic_attack  No_treatment  \n",
      "32      Panic attack  No_treatment  \n",
      "33   No panic_attack     Treatment  \n",
      "34      Panic attack  No_treatment  \n",
      "35   No panic_attack  No_treatment  \n",
      "36   No panic_attack  No_treatment  \n",
      "37      Panic attack  No_treatment  \n",
      "38   No panic_attack  No_treatment  \n",
      "39      Panic attack     Treatment  \n",
      "40   No panic_attack  No_treatment  \n",
      "41   No panic_attack  No_treatment  \n",
      "42   No panic_attack  No_treatment  \n",
      "43   No panic_attack  No_treatment  \n",
      "44      Panic attack  No_treatment  \n",
      "45      Panic attack  No_treatment  \n",
      "46   No panic_attack  No_treatment  \n",
      "47   No panic_attack  No_treatment  \n",
      "48   No panic_attack  No_treatment  \n",
      "49      Panic attack  No_treatment  \n",
      "50      Panic attack     Treatment  \n",
      "51   No panic_attack  No_treatment  \n",
      "52   No panic_attack  No_treatment  \n",
      "53      Panic attack  No_treatment  \n",
      "54      Panic attack     Treatment  \n",
      "55   No panic_attack  No_treatment  \n",
      "56   No panic_attack  No_treatment  \n",
      "57   No panic_attack  No_treatment  \n",
      "58   No panic_attack  No_treatment  \n",
      "59   No panic_attack  No_treatment  \n",
      "60      Panic attack  No_treatment  \n",
      "61   No panic_attack  No_treatment  \n",
      "62      Panic attack  No_treatment  \n",
      "63      Panic attack  No_treatment  \n",
      "64   No panic_attack  No_treatment  \n",
      "65   No panic_attack  No_treatment  \n",
      "66   No panic_attack  No_treatment  \n",
      "67      Panic attack  No_treatment  \n",
      "68   No panic_attack  No_treatment  \n",
      "69   No panic_attack  No_treatment  \n",
      "70   No panic_attack  No_treatment  \n",
      "71      Panic attack  No_treatment  \n",
      "72   No panic_attack  No_treatment  \n",
      "73   No panic_attack  No_treatment  \n",
      "74   No panic_attack  No_treatment  \n",
      "75      Panic attack  No_treatment  \n",
      "76   No panic_attack  No_treatment  \n",
      "77      Panic attack  No_treatment  \n",
      "78   No panic_attack  No_treatment  \n",
      "79   No panic_attack  No_treatment  \n",
      "80      Panic attack  No_treatment  \n",
      "81   No panic_attack  No_treatment  \n",
      "82   No panic_attack  No_treatment  \n",
      "83   No panic_attack  No_treatment  \n",
      "84   No panic_attack  No_treatment  \n",
      "85   No panic_attack     Treatment  \n",
      "86   No panic_attack  No_treatment  \n",
      "87      Panic attack  No_treatment  \n",
      "88   No panic_attack  No_treatment  \n",
      "89      Panic attack  No_treatment  \n",
      "90      Panic attack  No_treatment  \n",
      "91   No panic_attack  No_treatment  \n",
      "92   No panic_attack  No_treatment  \n",
      "93   No panic_attack  No_treatment  \n",
      "94      Panic attack  No_treatment  \n",
      "95   No panic_attack  No_treatment  \n",
      "96   No panic_attack  No_treatment  \n",
      "97   No panic_attack  No_treatment  \n",
      "98      Panic attack  No_treatment  \n",
      "99   No panic_attack  No_treatment  \n",
      "100  No panic_attack  No_treatment  \n",
      "0      18\n",
      "1      21\n",
      "2      19\n",
      "3      22\n",
      "4      23\n",
      "5      19\n",
      "6      23\n",
      "7      18\n",
      "8      19\n",
      "9      18\n",
      "10     20\n",
      "11     24\n",
      "12     18\n",
      "13     19\n",
      "14     18\n",
      "15     24\n",
      "16     24\n",
      "17     24\n",
      "18     20\n",
      "19     18\n",
      "20     19\n",
      "21     18\n",
      "22     24\n",
      "23     24\n",
      "24     23\n",
      "25     18\n",
      "26     19\n",
      "27     18\n",
      "28     24\n",
      "29     24\n",
      "30     23\n",
      "31     18\n",
      "32     19\n",
      "33     18\n",
      "34     19\n",
      "35     18\n",
      "36     18\n",
      "37     19\n",
      "38     18\n",
      "39     24\n",
      "40     24\n",
      "41     22\n",
      "42     20\n",
      "43     19\n",
      "44     23\n",
      "45     18\n",
      "46     19\n",
      "47     18\n",
      "48     24\n",
      "49     24\n",
      "50     23\n",
      "51     18\n",
      "52     19\n",
      "53     20\n",
      "54     19\n",
      "55     21\n",
      "56     23\n",
      "57     20\n",
      "58     18\n",
      "59     23\n",
      "60     18\n",
      "61     19\n",
      "62     18\n",
      "63     24\n",
      "64     24\n",
      "65     23\n",
      "66     18\n",
      "67     19\n",
      "68     18\n",
      "69     24\n",
      "70     24\n",
      "71     18\n",
      "72     19\n",
      "73     18\n",
      "74     24\n",
      "75     24\n",
      "76     23\n",
      "77     18\n",
      "78     19\n",
      "79     18\n",
      "80     24\n",
      "81     24\n",
      "82     19\n",
      "83     19\n",
      "84     23\n",
      "85     18\n",
      "86     19\n",
      "87     18\n",
      "88     24\n",
      "89     24\n",
      "90     23\n",
      "91     18\n",
      "92     19\n",
      "93     18\n",
      "94     24\n",
      "95     18\n",
      "96     21\n",
      "97     18\n",
      "98     19\n",
      "99     23\n",
      "100    20\n",
      "Name: Age, dtype: int64\n"
     ]
    }
   ],
   "source": [
    "ages = df['Age']\n",
    "# Set display options to show all rows and columns\n",
    "pd.set_option('display.max_rows', None)\n",
    "pd.set_option('display.max_columns', None)\n",
    "\n",
    "# Now display your DataFrame\n",
    "print(df)\n",
    "print(ages)"
   ]
  },
  {
   "cell_type": "code",
   "execution_count": 61,
   "id": "433868da",
   "metadata": {
    "execution": {
     "iopub.execute_input": "2024-07-27T21:27:23.489250Z",
     "iopub.status.busy": "2024-07-27T21:27:23.488877Z",
     "iopub.status.idle": "2024-07-27T21:27:23.548040Z",
     "shell.execute_reply": "2024-07-27T21:27:23.546956Z"
    },
    "papermill": {
     "duration": 0.23272,
     "end_time": "2024-07-27T21:27:23.551710",
     "exception": false,
     "start_time": "2024-07-27T21:27:23.318990",
     "status": "completed"
    },
    "tags": []
   },
   "outputs": [
    {
     "data": {
      "text/html": [
       "<div>\n",
       "<style scoped>\n",
       "    .dataframe tbody tr th:only-of-type {\n",
       "        vertical-align: middle;\n",
       "    }\n",
       "\n",
       "    .dataframe tbody tr th {\n",
       "        vertical-align: top;\n",
       "    }\n",
       "\n",
       "    .dataframe thead th {\n",
       "        text-align: right;\n",
       "    }\n",
       "</style>\n",
       "<table border=\"1\" class=\"dataframe\">\n",
       "  <thead>\n",
       "    <tr style=\"text-align: right;\">\n",
       "      <th></th>\n",
       "      <th>Timestamp</th>\n",
       "      <th>Gender</th>\n",
       "      <th>Age</th>\n",
       "      <th>Course</th>\n",
       "      <th>Year of Study</th>\n",
       "      <th>CGPA</th>\n",
       "      <th>Marital status</th>\n",
       "      <th>Depression</th>\n",
       "      <th>Anxiety</th>\n",
       "      <th>Panic attack</th>\n",
       "      <th>Treatment</th>\n",
       "    </tr>\n",
       "  </thead>\n",
       "  <tbody>\n",
       "    <tr>\n",
       "      <th>0</th>\n",
       "      <td>8/7/2020 12:02</td>\n",
       "      <td>Female</td>\n",
       "      <td>18</td>\n",
       "      <td>Engineering</td>\n",
       "      <td>year 1</td>\n",
       "      <td>3.00 - 3.49</td>\n",
       "      <td>Not_married</td>\n",
       "      <td>Depressed</td>\n",
       "      <td>No_anxiety</td>\n",
       "      <td>Panic attack</td>\n",
       "      <td>No_treatment</td>\n",
       "    </tr>\n",
       "    <tr>\n",
       "      <th>1</th>\n",
       "      <td>8/7/2020 12:04</td>\n",
       "      <td>Male</td>\n",
       "      <td>21</td>\n",
       "      <td>Islamic Education</td>\n",
       "      <td>year 2</td>\n",
       "      <td>3.00 - 3.49</td>\n",
       "      <td>Not_married</td>\n",
       "      <td>Not depressed</td>\n",
       "      <td>Anxiety_present</td>\n",
       "      <td>No panic_attack</td>\n",
       "      <td>No_treatment</td>\n",
       "    </tr>\n",
       "    <tr>\n",
       "      <th>2</th>\n",
       "      <td>8/7/2020 12:05</td>\n",
       "      <td>Male</td>\n",
       "      <td>19</td>\n",
       "      <td>IT</td>\n",
       "      <td>year 1</td>\n",
       "      <td>3.00 - 3.49</td>\n",
       "      <td>Not_married</td>\n",
       "      <td>Depressed</td>\n",
       "      <td>Anxiety_present</td>\n",
       "      <td>Panic attack</td>\n",
       "      <td>No_treatment</td>\n",
       "    </tr>\n",
       "    <tr>\n",
       "      <th>3</th>\n",
       "      <td>8/7/2020 12:06</td>\n",
       "      <td>Female</td>\n",
       "      <td>22</td>\n",
       "      <td>Law</td>\n",
       "      <td>year 3</td>\n",
       "      <td>3.00 - 3.49</td>\n",
       "      <td>Married</td>\n",
       "      <td>Depressed</td>\n",
       "      <td>No_anxiety</td>\n",
       "      <td>No panic_attack</td>\n",
       "      <td>No_treatment</td>\n",
       "    </tr>\n",
       "    <tr>\n",
       "      <th>4</th>\n",
       "      <td>8/7/2020 12:13</td>\n",
       "      <td>Male</td>\n",
       "      <td>23</td>\n",
       "      <td>Mathemathics</td>\n",
       "      <td>year 4</td>\n",
       "      <td>3.00 - 3.49</td>\n",
       "      <td>Not_married</td>\n",
       "      <td>Not depressed</td>\n",
       "      <td>No_anxiety</td>\n",
       "      <td>No panic_attack</td>\n",
       "      <td>No_treatment</td>\n",
       "    </tr>\n",
       "    <tr>\n",
       "      <th>5</th>\n",
       "      <td>8/7/2020 12:31</td>\n",
       "      <td>Male</td>\n",
       "      <td>19</td>\n",
       "      <td>Engineering</td>\n",
       "      <td>year 2</td>\n",
       "      <td>3.50 - 4.00</td>\n",
       "      <td>Not_married</td>\n",
       "      <td>Not depressed</td>\n",
       "      <td>No_anxiety</td>\n",
       "      <td>Panic attack</td>\n",
       "      <td>No_treatment</td>\n",
       "    </tr>\n",
       "    <tr>\n",
       "      <th>6</th>\n",
       "      <td>8/7/2020 12:32</td>\n",
       "      <td>Female</td>\n",
       "      <td>23</td>\n",
       "      <td>Pendidikan Islam</td>\n",
       "      <td>year 2</td>\n",
       "      <td>3.50 - 4.00</td>\n",
       "      <td>Married</td>\n",
       "      <td>Depressed</td>\n",
       "      <td>No_anxiety</td>\n",
       "      <td>Panic attack</td>\n",
       "      <td>No_treatment</td>\n",
       "    </tr>\n",
       "    <tr>\n",
       "      <th>7</th>\n",
       "      <td>8/7/2020 12:33</td>\n",
       "      <td>Female</td>\n",
       "      <td>18</td>\n",
       "      <td>BCS</td>\n",
       "      <td>year 1</td>\n",
       "      <td>3.50 - 4.00</td>\n",
       "      <td>Not_married</td>\n",
       "      <td>Not depressed</td>\n",
       "      <td>Anxiety_present</td>\n",
       "      <td>No panic_attack</td>\n",
       "      <td>No_treatment</td>\n",
       "    </tr>\n",
       "    <tr>\n",
       "      <th>8</th>\n",
       "      <td>8/7/2020 12:35</td>\n",
       "      <td>Female</td>\n",
       "      <td>19</td>\n",
       "      <td>Human Resources</td>\n",
       "      <td>year 2</td>\n",
       "      <td>2.50 - 2.99</td>\n",
       "      <td>Not_married</td>\n",
       "      <td>Not depressed</td>\n",
       "      <td>No_anxiety</td>\n",
       "      <td>No panic_attack</td>\n",
       "      <td>No_treatment</td>\n",
       "    </tr>\n",
       "    <tr>\n",
       "      <th>9</th>\n",
       "      <td>8/7/2020 12:39</td>\n",
       "      <td>Male</td>\n",
       "      <td>18</td>\n",
       "      <td>Irkhs</td>\n",
       "      <td>year 1</td>\n",
       "      <td>3.50 - 4.00</td>\n",
       "      <td>Not_married</td>\n",
       "      <td>Not depressed</td>\n",
       "      <td>Anxiety_present</td>\n",
       "      <td>Panic attack</td>\n",
       "      <td>No_treatment</td>\n",
       "    </tr>\n",
       "    <tr>\n",
       "      <th>10</th>\n",
       "      <td>8/7/2020 12:39</td>\n",
       "      <td>Female</td>\n",
       "      <td>20</td>\n",
       "      <td>Psychology</td>\n",
       "      <td>year 1</td>\n",
       "      <td>3.50 - 4.00</td>\n",
       "      <td>Not_married</td>\n",
       "      <td>Not depressed</td>\n",
       "      <td>No_anxiety</td>\n",
       "      <td>No panic_attack</td>\n",
       "      <td>No_treatment</td>\n",
       "    </tr>\n",
       "    <tr>\n",
       "      <th>11</th>\n",
       "      <td>8/7/2020 12:39</td>\n",
       "      <td>Female</td>\n",
       "      <td>24</td>\n",
       "      <td>Engineering</td>\n",
       "      <td>year 3</td>\n",
       "      <td>3.50 - 4.00</td>\n",
       "      <td>Married</td>\n",
       "      <td>Depressed</td>\n",
       "      <td>No_anxiety</td>\n",
       "      <td>No panic_attack</td>\n",
       "      <td>No_treatment</td>\n",
       "    </tr>\n",
       "    <tr>\n",
       "      <th>12</th>\n",
       "      <td>8/7/2020 12:40</td>\n",
       "      <td>Female</td>\n",
       "      <td>18</td>\n",
       "      <td>BCS</td>\n",
       "      <td>year 1</td>\n",
       "      <td>3.00 - 3.49</td>\n",
       "      <td>Not_married</td>\n",
       "      <td>Depressed</td>\n",
       "      <td>No_anxiety</td>\n",
       "      <td>No panic_attack</td>\n",
       "      <td>No_treatment</td>\n",
       "    </tr>\n",
       "    <tr>\n",
       "      <th>13</th>\n",
       "      <td>8/7/2020 12:41</td>\n",
       "      <td>Male</td>\n",
       "      <td>19</td>\n",
       "      <td>Engineering</td>\n",
       "      <td>year 1</td>\n",
       "      <td>3.00 - 3.49</td>\n",
       "      <td>Not_married</td>\n",
       "      <td>Not depressed</td>\n",
       "      <td>No_anxiety</td>\n",
       "      <td>No panic_attack</td>\n",
       "      <td>No_treatment</td>\n",
       "    </tr>\n",
       "    <tr>\n",
       "      <th>14</th>\n",
       "      <td>8/7/2020 12:43</td>\n",
       "      <td>Female</td>\n",
       "      <td>18</td>\n",
       "      <td>KENMS</td>\n",
       "      <td>year 2</td>\n",
       "      <td>3.50 - 4.00</td>\n",
       "      <td>Not_married</td>\n",
       "      <td>Not depressed</td>\n",
       "      <td>Anxiety_present</td>\n",
       "      <td>No panic_attack</td>\n",
       "      <td>No_treatment</td>\n",
       "    </tr>\n",
       "    <tr>\n",
       "      <th>15</th>\n",
       "      <td>8/7/2020 12:43</td>\n",
       "      <td>Male</td>\n",
       "      <td>24</td>\n",
       "      <td>BCS</td>\n",
       "      <td>year 3</td>\n",
       "      <td>3.50 - 4.00</td>\n",
       "      <td>Not_married</td>\n",
       "      <td>Not depressed</td>\n",
       "      <td>No_anxiety</td>\n",
       "      <td>No panic_attack</td>\n",
       "      <td>No_treatment</td>\n",
       "    </tr>\n",
       "    <tr>\n",
       "      <th>16</th>\n",
       "      <td>8/7/2020 12:46</td>\n",
       "      <td>Female</td>\n",
       "      <td>24</td>\n",
       "      <td>Accounting</td>\n",
       "      <td>year 3</td>\n",
       "      <td>3.00 - 3.49</td>\n",
       "      <td>Not_married</td>\n",
       "      <td>Not depressed</td>\n",
       "      <td>No_anxiety</td>\n",
       "      <td>No panic_attack</td>\n",
       "      <td>No_treatment</td>\n",
       "    </tr>\n",
       "    <tr>\n",
       "      <th>17</th>\n",
       "      <td>8/7/2020 12:52</td>\n",
       "      <td>Female</td>\n",
       "      <td>24</td>\n",
       "      <td>ENM</td>\n",
       "      <td>year 4</td>\n",
       "      <td>3.00 - 3.49</td>\n",
       "      <td>Married</td>\n",
       "      <td>Depressed</td>\n",
       "      <td>Anxiety_present</td>\n",
       "      <td>Panic attack</td>\n",
       "      <td>No_treatment</td>\n",
       "    </tr>\n",
       "    <tr>\n",
       "      <th>18</th>\n",
       "      <td>8/7/2020 13:05</td>\n",
       "      <td>Female</td>\n",
       "      <td>20</td>\n",
       "      <td>IT</td>\n",
       "      <td>year 2</td>\n",
       "      <td>3.50 - 4.00</td>\n",
       "      <td>Not_married</td>\n",
       "      <td>Not depressed</td>\n",
       "      <td>Anxiety_present</td>\n",
       "      <td>No panic_attack</td>\n",
       "      <td>No_treatment</td>\n",
       "    </tr>\n",
       "    <tr>\n",
       "      <th>19</th>\n",
       "      <td>8/7/2020 13:07</td>\n",
       "      <td>Female</td>\n",
       "      <td>18</td>\n",
       "      <td>Marine science</td>\n",
       "      <td>year 2</td>\n",
       "      <td>3.50 - 4.00</td>\n",
       "      <td>Married</td>\n",
       "      <td>Depressed</td>\n",
       "      <td>Anxiety_present</td>\n",
       "      <td>Panic attack</td>\n",
       "      <td>No_treatment</td>\n",
       "    </tr>\n",
       "    <tr>\n",
       "      <th>20</th>\n",
       "      <td>8/7/2020 13:12</td>\n",
       "      <td>Female</td>\n",
       "      <td>19</td>\n",
       "      <td>Engineering</td>\n",
       "      <td>year 1</td>\n",
       "      <td>3.00 - 3.49</td>\n",
       "      <td>Not_married</td>\n",
       "      <td>Not depressed</td>\n",
       "      <td>No_anxiety</td>\n",
       "      <td>Panic attack</td>\n",
       "      <td>No_treatment</td>\n",
       "    </tr>\n",
       "    <tr>\n",
       "      <th>21</th>\n",
       "      <td>8/7/2020 13:13</td>\n",
       "      <td>Female</td>\n",
       "      <td>18</td>\n",
       "      <td>KOE</td>\n",
       "      <td>year 2</td>\n",
       "      <td>3.00 - 3.49</td>\n",
       "      <td>Not_married</td>\n",
       "      <td>Not depressed</td>\n",
       "      <td>No_anxiety</td>\n",
       "      <td>No panic_attack</td>\n",
       "      <td>No_treatment</td>\n",
       "    </tr>\n",
       "    <tr>\n",
       "      <th>22</th>\n",
       "      <td>8/7/2020 13:13</td>\n",
       "      <td>Female</td>\n",
       "      <td>24</td>\n",
       "      <td>BCS</td>\n",
       "      <td>year 1</td>\n",
       "      <td>3.50 - 4.00</td>\n",
       "      <td>Not_married</td>\n",
       "      <td>Not depressed</td>\n",
       "      <td>No_anxiety</td>\n",
       "      <td>No panic_attack</td>\n",
       "      <td>No_treatment</td>\n",
       "    </tr>\n",
       "    <tr>\n",
       "      <th>23</th>\n",
       "      <td>8/7/2020 13:15</td>\n",
       "      <td>Female</td>\n",
       "      <td>24</td>\n",
       "      <td>Engineering</td>\n",
       "      <td>year 1</td>\n",
       "      <td>3.00 - 3.49</td>\n",
       "      <td>Not_married</td>\n",
       "      <td>Not depressed</td>\n",
       "      <td>No_anxiety</td>\n",
       "      <td>No panic_attack</td>\n",
       "      <td>No_treatment</td>\n",
       "    </tr>\n",
       "    <tr>\n",
       "      <th>24</th>\n",
       "      <td>8/7/2020 13:17</td>\n",
       "      <td>Female</td>\n",
       "      <td>23</td>\n",
       "      <td>BCS</td>\n",
       "      <td>year 3</td>\n",
       "      <td>3.50 - 4.00</td>\n",
       "      <td>Not_married</td>\n",
       "      <td>Depressed</td>\n",
       "      <td>Anxiety_present</td>\n",
       "      <td>Panic attack</td>\n",
       "      <td>No_treatment</td>\n",
       "    </tr>\n",
       "    <tr>\n",
       "      <th>25</th>\n",
       "      <td>8/7/2020 13:29</td>\n",
       "      <td>Female</td>\n",
       "      <td>18</td>\n",
       "      <td>Banking Studies</td>\n",
       "      <td>year 1</td>\n",
       "      <td>3.50 - 4.00</td>\n",
       "      <td>Not_married</td>\n",
       "      <td>Not depressed</td>\n",
       "      <td>No_anxiety</td>\n",
       "      <td>No panic_attack</td>\n",
       "      <td>No_treatment</td>\n",
       "    </tr>\n",
       "    <tr>\n",
       "      <th>26</th>\n",
       "      <td>8/7/2020 13:35</td>\n",
       "      <td>Female</td>\n",
       "      <td>19</td>\n",
       "      <td>Engineering</td>\n",
       "      <td>year 1</td>\n",
       "      <td>3.50 - 4.00</td>\n",
       "      <td>Not_married</td>\n",
       "      <td>Not depressed</td>\n",
       "      <td>No_anxiety</td>\n",
       "      <td>No panic_attack</td>\n",
       "      <td>No_treatment</td>\n",
       "    </tr>\n",
       "    <tr>\n",
       "      <th>27</th>\n",
       "      <td>8/7/2020 13:41</td>\n",
       "      <td>Male</td>\n",
       "      <td>18</td>\n",
       "      <td>Engineering</td>\n",
       "      <td>year 2</td>\n",
       "      <td>3.00 - 3.49</td>\n",
       "      <td>Married</td>\n",
       "      <td>Depressed</td>\n",
       "      <td>Anxiety_present</td>\n",
       "      <td>No panic_attack</td>\n",
       "      <td>No_treatment</td>\n",
       "    </tr>\n",
       "    <tr>\n",
       "      <th>28</th>\n",
       "      <td>8/7/2020 13:58</td>\n",
       "      <td>Female</td>\n",
       "      <td>24</td>\n",
       "      <td>IT</td>\n",
       "      <td>year 3</td>\n",
       "      <td>3.50 - 4.00</td>\n",
       "      <td>Married</td>\n",
       "      <td>Depressed</td>\n",
       "      <td>Anxiety_present</td>\n",
       "      <td>Panic attack</td>\n",
       "      <td>Treatment</td>\n",
       "    </tr>\n",
       "    <tr>\n",
       "      <th>29</th>\n",
       "      <td>8/7/2020 14:05</td>\n",
       "      <td>Female</td>\n",
       "      <td>24</td>\n",
       "      <td>BCS</td>\n",
       "      <td>year 4</td>\n",
       "      <td>3.50 - 4.00</td>\n",
       "      <td>Not_married</td>\n",
       "      <td>Not depressed</td>\n",
       "      <td>No_anxiety</td>\n",
       "      <td>No panic_attack</td>\n",
       "      <td>No_treatment</td>\n",
       "    </tr>\n",
       "    <tr>\n",
       "      <th>30</th>\n",
       "      <td>8/7/2020 14:27</td>\n",
       "      <td>Female</td>\n",
       "      <td>23</td>\n",
       "      <td>Business Administration</td>\n",
       "      <td>year 2</td>\n",
       "      <td>3.00 - 3.49</td>\n",
       "      <td>Not_married</td>\n",
       "      <td>Not depressed</td>\n",
       "      <td>No_anxiety</td>\n",
       "      <td>No panic_attack</td>\n",
       "      <td>No_treatment</td>\n",
       "    </tr>\n",
       "    <tr>\n",
       "      <th>31</th>\n",
       "      <td>8/7/2020 14:29</td>\n",
       "      <td>Male</td>\n",
       "      <td>18</td>\n",
       "      <td>BCS</td>\n",
       "      <td>year 2</td>\n",
       "      <td>3.00 - 3.49</td>\n",
       "      <td>Not_married</td>\n",
       "      <td>Not depressed</td>\n",
       "      <td>No_anxiety</td>\n",
       "      <td>No panic_attack</td>\n",
       "      <td>No_treatment</td>\n",
       "    </tr>\n",
       "    <tr>\n",
       "      <th>32</th>\n",
       "      <td>8/7/2020 14:29</td>\n",
       "      <td>Male</td>\n",
       "      <td>19</td>\n",
       "      <td>BCS</td>\n",
       "      <td>year 1</td>\n",
       "      <td>3.50 - 4.00</td>\n",
       "      <td>Not_married</td>\n",
       "      <td>Not depressed</td>\n",
       "      <td>No_anxiety</td>\n",
       "      <td>Panic attack</td>\n",
       "      <td>No_treatment</td>\n",
       "    </tr>\n",
       "    <tr>\n",
       "      <th>33</th>\n",
       "      <td>8/7/2020 14:31</td>\n",
       "      <td>Male</td>\n",
       "      <td>18</td>\n",
       "      <td>BCS</td>\n",
       "      <td>year 2</td>\n",
       "      <td>3.50 - 4.00</td>\n",
       "      <td>Married</td>\n",
       "      <td>Depressed</td>\n",
       "      <td>Anxiety_present</td>\n",
       "      <td>No panic_attack</td>\n",
       "      <td>Treatment</td>\n",
       "    </tr>\n",
       "    <tr>\n",
       "      <th>34</th>\n",
       "      <td>8/7/2020 14:41</td>\n",
       "      <td>Female</td>\n",
       "      <td>19</td>\n",
       "      <td>IT</td>\n",
       "      <td>year 1</td>\n",
       "      <td>3.00 - 3.49</td>\n",
       "      <td>Not_married</td>\n",
       "      <td>Depressed</td>\n",
       "      <td>Anxiety_present</td>\n",
       "      <td>Panic attack</td>\n",
       "      <td>No_treatment</td>\n",
       "    </tr>\n",
       "    <tr>\n",
       "      <th>35</th>\n",
       "      <td>8/7/2020 14:43</td>\n",
       "      <td>Female</td>\n",
       "      <td>18</td>\n",
       "      <td>Engineering</td>\n",
       "      <td>year 1</td>\n",
       "      <td>2.00 - 2.49</td>\n",
       "      <td>Not_married</td>\n",
       "      <td>Not depressed</td>\n",
       "      <td>No_anxiety</td>\n",
       "      <td>No panic_attack</td>\n",
       "      <td>No_treatment</td>\n",
       "    </tr>\n",
       "    <tr>\n",
       "      <th>36</th>\n",
       "      <td>8/7/2020 14:43</td>\n",
       "      <td>Female</td>\n",
       "      <td>18</td>\n",
       "      <td>Law</td>\n",
       "      <td>year 3</td>\n",
       "      <td>3.00 - 3.49</td>\n",
       "      <td>Not_married</td>\n",
       "      <td>Depressed</td>\n",
       "      <td>Anxiety_present</td>\n",
       "      <td>No panic_attack</td>\n",
       "      <td>No_treatment</td>\n",
       "    </tr>\n",
       "    <tr>\n",
       "      <th>37</th>\n",
       "      <td>8/7/2020 14:45</td>\n",
       "      <td>Female</td>\n",
       "      <td>19</td>\n",
       "      <td>IT</td>\n",
       "      <td>year 1</td>\n",
       "      <td>2.50 - 2.99</td>\n",
       "      <td>Not_married</td>\n",
       "      <td>Depressed</td>\n",
       "      <td>Anxiety_present</td>\n",
       "      <td>Panic attack</td>\n",
       "      <td>No_treatment</td>\n",
       "    </tr>\n",
       "    <tr>\n",
       "      <th>38</th>\n",
       "      <td>8/7/2020 14:47</td>\n",
       "      <td>Female</td>\n",
       "      <td>18</td>\n",
       "      <td>Irkhs</td>\n",
       "      <td>year 1</td>\n",
       "      <td>3.50 - 4.00</td>\n",
       "      <td>Not_married</td>\n",
       "      <td>Not depressed</td>\n",
       "      <td>No_anxiety</td>\n",
       "      <td>No panic_attack</td>\n",
       "      <td>No_treatment</td>\n",
       "    </tr>\n",
       "    <tr>\n",
       "      <th>39</th>\n",
       "      <td>8/7/2020 14:56</td>\n",
       "      <td>Female</td>\n",
       "      <td>24</td>\n",
       "      <td>Engineering</td>\n",
       "      <td>year 2</td>\n",
       "      <td>2.50 - 2.99</td>\n",
       "      <td>Married</td>\n",
       "      <td>Depressed</td>\n",
       "      <td>No_anxiety</td>\n",
       "      <td>Panic attack</td>\n",
       "      <td>Treatment</td>\n",
       "    </tr>\n",
       "    <tr>\n",
       "      <th>40</th>\n",
       "      <td>8/7/2020 14:57</td>\n",
       "      <td>Female</td>\n",
       "      <td>24</td>\n",
       "      <td>IT</td>\n",
       "      <td>year 3</td>\n",
       "      <td>3.00 - 3.49</td>\n",
       "      <td>Not_married</td>\n",
       "      <td>Not depressed</td>\n",
       "      <td>Anxiety_present</td>\n",
       "      <td>No panic_attack</td>\n",
       "      <td>No_treatment</td>\n",
       "    </tr>\n",
       "    <tr>\n",
       "      <th>41</th>\n",
       "      <td>8/7/2020 14:57</td>\n",
       "      <td>Female</td>\n",
       "      <td>22</td>\n",
       "      <td>Engineering</td>\n",
       "      <td>year 4</td>\n",
       "      <td>3.50 - 4.00</td>\n",
       "      <td>Not_married</td>\n",
       "      <td>Not depressed</td>\n",
       "      <td>No_anxiety</td>\n",
       "      <td>No panic_attack</td>\n",
       "      <td>No_treatment</td>\n",
       "    </tr>\n",
       "    <tr>\n",
       "      <th>42</th>\n",
       "      <td>8/7/2020 14:58</td>\n",
       "      <td>Female</td>\n",
       "      <td>20</td>\n",
       "      <td>Usuluddin</td>\n",
       "      <td>year 2</td>\n",
       "      <td>3.00 - 3.49</td>\n",
       "      <td>Not_married</td>\n",
       "      <td>Depressed</td>\n",
       "      <td>No_anxiety</td>\n",
       "      <td>No panic_attack</td>\n",
       "      <td>No_treatment</td>\n",
       "    </tr>\n",
       "    <tr>\n",
       "      <th>43</th>\n",
       "      <td>8/7/2020 15:07</td>\n",
       "      <td>Male</td>\n",
       "      <td>19</td>\n",
       "      <td>IT</td>\n",
       "      <td>year 1</td>\n",
       "      <td>0 - 1.99</td>\n",
       "      <td>Not_married</td>\n",
       "      <td>Not depressed</td>\n",
       "      <td>No_anxiety</td>\n",
       "      <td>No panic_attack</td>\n",
       "      <td>No_treatment</td>\n",
       "    </tr>\n",
       "    <tr>\n",
       "      <th>44</th>\n",
       "      <td>8/7/2020 15:08</td>\n",
       "      <td>Male</td>\n",
       "      <td>23</td>\n",
       "      <td>TAASL</td>\n",
       "      <td>year 2</td>\n",
       "      <td>3.50 - 4.00</td>\n",
       "      <td>Not_married</td>\n",
       "      <td>Not depressed</td>\n",
       "      <td>No_anxiety</td>\n",
       "      <td>Panic attack</td>\n",
       "      <td>No_treatment</td>\n",
       "    </tr>\n",
       "    <tr>\n",
       "      <th>45</th>\n",
       "      <td>8/7/2020 15:09</td>\n",
       "      <td>Male</td>\n",
       "      <td>18</td>\n",
       "      <td>BCS</td>\n",
       "      <td>year 1</td>\n",
       "      <td>3.50 - 4.00</td>\n",
       "      <td>Not_married</td>\n",
       "      <td>Not depressed</td>\n",
       "      <td>Anxiety_present</td>\n",
       "      <td>Panic attack</td>\n",
       "      <td>No_treatment</td>\n",
       "    </tr>\n",
       "    <tr>\n",
       "      <th>46</th>\n",
       "      <td>8/7/2020 15:12</td>\n",
       "      <td>Female</td>\n",
       "      <td>19</td>\n",
       "      <td>Engineering</td>\n",
       "      <td>year 1</td>\n",
       "      <td>3.50 - 4.00</td>\n",
       "      <td>Not_married</td>\n",
       "      <td>Not depressed</td>\n",
       "      <td>Anxiety_present</td>\n",
       "      <td>No panic_attack</td>\n",
       "      <td>No_treatment</td>\n",
       "    </tr>\n",
       "    <tr>\n",
       "      <th>47</th>\n",
       "      <td>8/7/2020 15:14</td>\n",
       "      <td>Female</td>\n",
       "      <td>18</td>\n",
       "      <td>Engineering</td>\n",
       "      <td>year 4</td>\n",
       "      <td>3.50 - 4.00</td>\n",
       "      <td>Not_married</td>\n",
       "      <td>Not depressed</td>\n",
       "      <td>No_anxiety</td>\n",
       "      <td>No panic_attack</td>\n",
       "      <td>No_treatment</td>\n",
       "    </tr>\n",
       "    <tr>\n",
       "      <th>48</th>\n",
       "      <td>8/7/2020 15:14</td>\n",
       "      <td>Male</td>\n",
       "      <td>24</td>\n",
       "      <td>BCS</td>\n",
       "      <td>year 2</td>\n",
       "      <td>3.00 - 3.49</td>\n",
       "      <td>Not_married</td>\n",
       "      <td>Depressed</td>\n",
       "      <td>No_anxiety</td>\n",
       "      <td>No panic_attack</td>\n",
       "      <td>No_treatment</td>\n",
       "    </tr>\n",
       "    <tr>\n",
       "      <th>49</th>\n",
       "      <td>8/7/2020 15:18</td>\n",
       "      <td>Female</td>\n",
       "      <td>24</td>\n",
       "      <td>BCS</td>\n",
       "      <td>year 3</td>\n",
       "      <td>3.50 - 4.00</td>\n",
       "      <td>Not_married</td>\n",
       "      <td>Not depressed</td>\n",
       "      <td>No_anxiety</td>\n",
       "      <td>Panic attack</td>\n",
       "      <td>No_treatment</td>\n",
       "    </tr>\n",
       "    <tr>\n",
       "      <th>50</th>\n",
       "      <td>8/7/2020 15:27</td>\n",
       "      <td>Female</td>\n",
       "      <td>23</td>\n",
       "      <td>ALA</td>\n",
       "      <td>year 1</td>\n",
       "      <td>2.50 - 2.99</td>\n",
       "      <td>Married</td>\n",
       "      <td>Depressed</td>\n",
       "      <td>No_anxiety</td>\n",
       "      <td>Panic attack</td>\n",
       "      <td>Treatment</td>\n",
       "    </tr>\n",
       "    <tr>\n",
       "      <th>51</th>\n",
       "      <td>8/7/2020 15:37</td>\n",
       "      <td>Female</td>\n",
       "      <td>18</td>\n",
       "      <td>BCS</td>\n",
       "      <td>year 2</td>\n",
       "      <td>3.50 - 4.00</td>\n",
       "      <td>Not_married</td>\n",
       "      <td>Not depressed</td>\n",
       "      <td>Anxiety_present</td>\n",
       "      <td>No panic_attack</td>\n",
       "      <td>No_treatment</td>\n",
       "    </tr>\n",
       "    <tr>\n",
       "      <th>52</th>\n",
       "      <td>8/7/2020 15:47</td>\n",
       "      <td>Female</td>\n",
       "      <td>19</td>\n",
       "      <td>Biomedical science</td>\n",
       "      <td>year 3</td>\n",
       "      <td>3.00 - 3.49</td>\n",
       "      <td>Not_married</td>\n",
       "      <td>Not depressed</td>\n",
       "      <td>No_anxiety</td>\n",
       "      <td>No panic_attack</td>\n",
       "      <td>No_treatment</td>\n",
       "    </tr>\n",
       "    <tr>\n",
       "      <th>53</th>\n",
       "      <td>8/7/2020 15:48</td>\n",
       "      <td>Female</td>\n",
       "      <td>20</td>\n",
       "      <td>KOE</td>\n",
       "      <td>year 3</td>\n",
       "      <td>3.00 - 3.49</td>\n",
       "      <td>Married</td>\n",
       "      <td>Depressed</td>\n",
       "      <td>Anxiety_present</td>\n",
       "      <td>Panic attack</td>\n",
       "      <td>No_treatment</td>\n",
       "    </tr>\n",
       "    <tr>\n",
       "      <th>54</th>\n",
       "      <td>8/7/2020 15:57</td>\n",
       "      <td>Female</td>\n",
       "      <td>19</td>\n",
       "      <td>BCS</td>\n",
       "      <td>year 1</td>\n",
       "      <td>3.50 - 4.00</td>\n",
       "      <td>Not_married</td>\n",
       "      <td>Depressed</td>\n",
       "      <td>No_anxiety</td>\n",
       "      <td>Panic attack</td>\n",
       "      <td>Treatment</td>\n",
       "    </tr>\n",
       "    <tr>\n",
       "      <th>55</th>\n",
       "      <td>8/7/2020 15:58</td>\n",
       "      <td>Male</td>\n",
       "      <td>21</td>\n",
       "      <td>BCS</td>\n",
       "      <td>year 1</td>\n",
       "      <td>3.00 - 3.49</td>\n",
       "      <td>Not_married</td>\n",
       "      <td>Not depressed</td>\n",
       "      <td>No_anxiety</td>\n",
       "      <td>No panic_attack</td>\n",
       "      <td>No_treatment</td>\n",
       "    </tr>\n",
       "    <tr>\n",
       "      <th>56</th>\n",
       "      <td>8/7/2020 16:08</td>\n",
       "      <td>Male</td>\n",
       "      <td>23</td>\n",
       "      <td>Irkhs</td>\n",
       "      <td>year 3</td>\n",
       "      <td>3.50 - 4.00</td>\n",
       "      <td>Not_married</td>\n",
       "      <td>Not depressed</td>\n",
       "      <td>No_anxiety</td>\n",
       "      <td>No panic_attack</td>\n",
       "      <td>No_treatment</td>\n",
       "    </tr>\n",
       "    <tr>\n",
       "      <th>57</th>\n",
       "      <td>8/7/2020 16:21</td>\n",
       "      <td>Female</td>\n",
       "      <td>20</td>\n",
       "      <td>Benl</td>\n",
       "      <td>year 3</td>\n",
       "      <td>3.00 - 3.49</td>\n",
       "      <td>Not_married</td>\n",
       "      <td>Depressed</td>\n",
       "      <td>Anxiety_present</td>\n",
       "      <td>No panic_attack</td>\n",
       "      <td>No_treatment</td>\n",
       "    </tr>\n",
       "    <tr>\n",
       "      <th>58</th>\n",
       "      <td>8/7/2020 16:22</td>\n",
       "      <td>Female</td>\n",
       "      <td>18</td>\n",
       "      <td>BCS</td>\n",
       "      <td>year 1</td>\n",
       "      <td>3.50 - 4.00</td>\n",
       "      <td>Not_married</td>\n",
       "      <td>Not depressed</td>\n",
       "      <td>No_anxiety</td>\n",
       "      <td>No panic_attack</td>\n",
       "      <td>No_treatment</td>\n",
       "    </tr>\n",
       "    <tr>\n",
       "      <th>59</th>\n",
       "      <td>8/7/2020 16:34</td>\n",
       "      <td>Female</td>\n",
       "      <td>23</td>\n",
       "      <td>Benl</td>\n",
       "      <td>year 1</td>\n",
       "      <td>3.00 - 3.49</td>\n",
       "      <td>Not_married</td>\n",
       "      <td>Not depressed</td>\n",
       "      <td>No_anxiety</td>\n",
       "      <td>No panic_attack</td>\n",
       "      <td>No_treatment</td>\n",
       "    </tr>\n",
       "    <tr>\n",
       "      <th>60</th>\n",
       "      <td>8/7/2020 16:34</td>\n",
       "      <td>Female</td>\n",
       "      <td>18</td>\n",
       "      <td>IT</td>\n",
       "      <td>year 3</td>\n",
       "      <td>3.00 - 3.49</td>\n",
       "      <td>Not_married</td>\n",
       "      <td>Not depressed</td>\n",
       "      <td>No_anxiety</td>\n",
       "      <td>Panic attack</td>\n",
       "      <td>No_treatment</td>\n",
       "    </tr>\n",
       "    <tr>\n",
       "      <th>61</th>\n",
       "      <td>8/7/2020 16:53</td>\n",
       "      <td>Female</td>\n",
       "      <td>19</td>\n",
       "      <td>BCS</td>\n",
       "      <td>year 1</td>\n",
       "      <td>3.50 - 4.00</td>\n",
       "      <td>Not_married</td>\n",
       "      <td>Not depressed</td>\n",
       "      <td>No_anxiety</td>\n",
       "      <td>No panic_attack</td>\n",
       "      <td>No_treatment</td>\n",
       "    </tr>\n",
       "    <tr>\n",
       "      <th>62</th>\n",
       "      <td>8/7/2020 17:05</td>\n",
       "      <td>Female</td>\n",
       "      <td>18</td>\n",
       "      <td>CTS</td>\n",
       "      <td>year 1</td>\n",
       "      <td>3.50 - 4.00</td>\n",
       "      <td>Not_married</td>\n",
       "      <td>Not depressed</td>\n",
       "      <td>No_anxiety</td>\n",
       "      <td>Panic attack</td>\n",
       "      <td>No_treatment</td>\n",
       "    </tr>\n",
       "    <tr>\n",
       "      <th>63</th>\n",
       "      <td>8/7/2020 17:37</td>\n",
       "      <td>Female</td>\n",
       "      <td>24</td>\n",
       "      <td>Engineering</td>\n",
       "      <td>year 1</td>\n",
       "      <td>3.50 - 4.00</td>\n",
       "      <td>Not_married</td>\n",
       "      <td>Not depressed</td>\n",
       "      <td>No_anxiety</td>\n",
       "      <td>Panic attack</td>\n",
       "      <td>No_treatment</td>\n",
       "    </tr>\n",
       "    <tr>\n",
       "      <th>64</th>\n",
       "      <td>8/7/2020 17:46</td>\n",
       "      <td>Female</td>\n",
       "      <td>24</td>\n",
       "      <td>Engineering</td>\n",
       "      <td>year 1</td>\n",
       "      <td>3.50 - 4.00</td>\n",
       "      <td>Not_married</td>\n",
       "      <td>Not depressed</td>\n",
       "      <td>No_anxiety</td>\n",
       "      <td>No panic_attack</td>\n",
       "      <td>No_treatment</td>\n",
       "    </tr>\n",
       "    <tr>\n",
       "      <th>65</th>\n",
       "      <td>8/7/2020 17:50</td>\n",
       "      <td>Female</td>\n",
       "      <td>23</td>\n",
       "      <td>Economics</td>\n",
       "      <td>year 1</td>\n",
       "      <td>3.50 - 4.00</td>\n",
       "      <td>Not_married</td>\n",
       "      <td>Depressed</td>\n",
       "      <td>Anxiety_present</td>\n",
       "      <td>No panic_attack</td>\n",
       "      <td>No_treatment</td>\n",
       "    </tr>\n",
       "    <tr>\n",
       "      <th>66</th>\n",
       "      <td>8/7/2020 18:10</td>\n",
       "      <td>Female</td>\n",
       "      <td>18</td>\n",
       "      <td>KOE</td>\n",
       "      <td>year 3</td>\n",
       "      <td>3.00 - 3.49</td>\n",
       "      <td>Not_married</td>\n",
       "      <td>Not depressed</td>\n",
       "      <td>Anxiety_present</td>\n",
       "      <td>No panic_attack</td>\n",
       "      <td>No_treatment</td>\n",
       "    </tr>\n",
       "    <tr>\n",
       "      <th>67</th>\n",
       "      <td>8/7/2020 18:11</td>\n",
       "      <td>Male</td>\n",
       "      <td>19</td>\n",
       "      <td>MHSC</td>\n",
       "      <td>year 3</td>\n",
       "      <td>3.00 - 3.49</td>\n",
       "      <td>Married</td>\n",
       "      <td>Depressed</td>\n",
       "      <td>No_anxiety</td>\n",
       "      <td>Panic attack</td>\n",
       "      <td>No_treatment</td>\n",
       "    </tr>\n",
       "    <tr>\n",
       "      <th>68</th>\n",
       "      <td>8/7/2020 19:05</td>\n",
       "      <td>Female</td>\n",
       "      <td>18</td>\n",
       "      <td>Malcom</td>\n",
       "      <td>year 1</td>\n",
       "      <td>3.50 - 4.00</td>\n",
       "      <td>Not_married</td>\n",
       "      <td>Depressed</td>\n",
       "      <td>No_anxiety</td>\n",
       "      <td>No panic_attack</td>\n",
       "      <td>No_treatment</td>\n",
       "    </tr>\n",
       "    <tr>\n",
       "      <th>69</th>\n",
       "      <td>8/7/2020 19:32</td>\n",
       "      <td>Female</td>\n",
       "      <td>24</td>\n",
       "      <td>Kop</td>\n",
       "      <td>year 4</td>\n",
       "      <td>3.00 - 3.49</td>\n",
       "      <td>Not_married</td>\n",
       "      <td>Not depressed</td>\n",
       "      <td>Anxiety_present</td>\n",
       "      <td>No panic_attack</td>\n",
       "      <td>No_treatment</td>\n",
       "    </tr>\n",
       "    <tr>\n",
       "      <th>70</th>\n",
       "      <td>8/7/2020 20:36</td>\n",
       "      <td>Female</td>\n",
       "      <td>24</td>\n",
       "      <td>Biomedical science</td>\n",
       "      <td>year 1</td>\n",
       "      <td>3.00 - 3.49</td>\n",
       "      <td>Not_married</td>\n",
       "      <td>Not depressed</td>\n",
       "      <td>No_anxiety</td>\n",
       "      <td>No panic_attack</td>\n",
       "      <td>No_treatment</td>\n",
       "    </tr>\n",
       "    <tr>\n",
       "      <th>71</th>\n",
       "      <td>8/7/2020 21:21</td>\n",
       "      <td>Female</td>\n",
       "      <td>18</td>\n",
       "      <td>Law</td>\n",
       "      <td>year 3</td>\n",
       "      <td>3.50 - 4.00</td>\n",
       "      <td>Not_married</td>\n",
       "      <td>Not depressed</td>\n",
       "      <td>No_anxiety</td>\n",
       "      <td>Panic attack</td>\n",
       "      <td>No_treatment</td>\n",
       "    </tr>\n",
       "    <tr>\n",
       "      <th>72</th>\n",
       "      <td>8/7/2020 22:35</td>\n",
       "      <td>Female</td>\n",
       "      <td>19</td>\n",
       "      <td>IT</td>\n",
       "      <td>year 3</td>\n",
       "      <td>3.00 - 3.49</td>\n",
       "      <td>Married</td>\n",
       "      <td>Depressed</td>\n",
       "      <td>No_anxiety</td>\n",
       "      <td>No panic_attack</td>\n",
       "      <td>No_treatment</td>\n",
       "    </tr>\n",
       "    <tr>\n",
       "      <th>73</th>\n",
       "      <td>9/7/2020 6:57</td>\n",
       "      <td>Male</td>\n",
       "      <td>18</td>\n",
       "      <td>Biomedical science</td>\n",
       "      <td>year 1</td>\n",
       "      <td>0 - 1.99</td>\n",
       "      <td>Not_married</td>\n",
       "      <td>Not depressed</td>\n",
       "      <td>No_anxiety</td>\n",
       "      <td>No panic_attack</td>\n",
       "      <td>No_treatment</td>\n",
       "    </tr>\n",
       "    <tr>\n",
       "      <th>74</th>\n",
       "      <td>9/7/2020 11:43</td>\n",
       "      <td>Male</td>\n",
       "      <td>24</td>\n",
       "      <td>IT</td>\n",
       "      <td>year 3</td>\n",
       "      <td>3.50 - 4.00</td>\n",
       "      <td>Not_married</td>\n",
       "      <td>Not depressed</td>\n",
       "      <td>Anxiety_present</td>\n",
       "      <td>No panic_attack</td>\n",
       "      <td>No_treatment</td>\n",
       "    </tr>\n",
       "    <tr>\n",
       "      <th>75</th>\n",
       "      <td>9/7/2020 11:57</td>\n",
       "      <td>Female</td>\n",
       "      <td>24</td>\n",
       "      <td>KOE</td>\n",
       "      <td>year 1</td>\n",
       "      <td>3.50 - 4.00</td>\n",
       "      <td>Not_married</td>\n",
       "      <td>Not depressed</td>\n",
       "      <td>Anxiety_present</td>\n",
       "      <td>Panic attack</td>\n",
       "      <td>No_treatment</td>\n",
       "    </tr>\n",
       "    <tr>\n",
       "      <th>76</th>\n",
       "      <td>9/7/2020 13:15</td>\n",
       "      <td>Female</td>\n",
       "      <td>23</td>\n",
       "      <td>Engineering</td>\n",
       "      <td>year 1</td>\n",
       "      <td>3.00 - 3.49</td>\n",
       "      <td>Not_married</td>\n",
       "      <td>Depressed</td>\n",
       "      <td>No_anxiety</td>\n",
       "      <td>No panic_attack</td>\n",
       "      <td>No_treatment</td>\n",
       "    </tr>\n",
       "    <tr>\n",
       "      <th>77</th>\n",
       "      <td>9/7/2020 18:24</td>\n",
       "      <td>Female</td>\n",
       "      <td>18</td>\n",
       "      <td>Human Sciences</td>\n",
       "      <td>year 2</td>\n",
       "      <td>3.00 - 3.49</td>\n",
       "      <td>Not_married</td>\n",
       "      <td>Not depressed</td>\n",
       "      <td>No_anxiety</td>\n",
       "      <td>Panic attack</td>\n",
       "      <td>No_treatment</td>\n",
       "    </tr>\n",
       "    <tr>\n",
       "      <th>78</th>\n",
       "      <td>13/07/2020 10:07:32</td>\n",
       "      <td>Female</td>\n",
       "      <td>19</td>\n",
       "      <td>Biotechnology</td>\n",
       "      <td>year 3</td>\n",
       "      <td>0 - 1.99</td>\n",
       "      <td>Not_married</td>\n",
       "      <td>Not depressed</td>\n",
       "      <td>No_anxiety</td>\n",
       "      <td>No panic_attack</td>\n",
       "      <td>No_treatment</td>\n",
       "    </tr>\n",
       "    <tr>\n",
       "      <th>79</th>\n",
       "      <td>13/07/2020 10:10:30</td>\n",
       "      <td>Female</td>\n",
       "      <td>18</td>\n",
       "      <td>Engineering</td>\n",
       "      <td>year 4</td>\n",
       "      <td>3.50 - 4.00</td>\n",
       "      <td>Not_married</td>\n",
       "      <td>Not depressed</td>\n",
       "      <td>No_anxiety</td>\n",
       "      <td>No panic_attack</td>\n",
       "      <td>No_treatment</td>\n",
       "    </tr>\n",
       "    <tr>\n",
       "      <th>80</th>\n",
       "      <td>13/07/2020 10:11:26</td>\n",
       "      <td>Female</td>\n",
       "      <td>24</td>\n",
       "      <td>Communication</td>\n",
       "      <td>year 2</td>\n",
       "      <td>3.50 - 4.00</td>\n",
       "      <td>Married</td>\n",
       "      <td>Depressed</td>\n",
       "      <td>Anxiety_present</td>\n",
       "      <td>Panic attack</td>\n",
       "      <td>No_treatment</td>\n",
       "    </tr>\n",
       "    <tr>\n",
       "      <th>81</th>\n",
       "      <td>13/07/2020 10:12:18</td>\n",
       "      <td>Female</td>\n",
       "      <td>24</td>\n",
       "      <td>Diploma Nursing</td>\n",
       "      <td>year 2</td>\n",
       "      <td>3.50 - 4.00</td>\n",
       "      <td>Not_married</td>\n",
       "      <td>Not depressed</td>\n",
       "      <td>No_anxiety</td>\n",
       "      <td>No panic_attack</td>\n",
       "      <td>No_treatment</td>\n",
       "    </tr>\n",
       "    <tr>\n",
       "      <th>82</th>\n",
       "      <td>13/07/2020 10:12:26</td>\n",
       "      <td>Female</td>\n",
       "      <td>19</td>\n",
       "      <td>Engineering</td>\n",
       "      <td>year 1</td>\n",
       "      <td>3.00 - 3.49</td>\n",
       "      <td>Not_married</td>\n",
       "      <td>Depressed</td>\n",
       "      <td>Anxiety_present</td>\n",
       "      <td>No panic_attack</td>\n",
       "      <td>No_treatment</td>\n",
       "    </tr>\n",
       "    <tr>\n",
       "      <th>83</th>\n",
       "      <td>13/07/2020 10:12:28</td>\n",
       "      <td>Female</td>\n",
       "      <td>19</td>\n",
       "      <td>Pendidikan Islam</td>\n",
       "      <td>year 2</td>\n",
       "      <td>3.00 - 3.49</td>\n",
       "      <td>Not_married</td>\n",
       "      <td>Not depressed</td>\n",
       "      <td>No_anxiety</td>\n",
       "      <td>No panic_attack</td>\n",
       "      <td>No_treatment</td>\n",
       "    </tr>\n",
       "    <tr>\n",
       "      <th>84</th>\n",
       "      <td>13/07/2020 10:14:46</td>\n",
       "      <td>Male</td>\n",
       "      <td>23</td>\n",
       "      <td>Radiography</td>\n",
       "      <td>year 1</td>\n",
       "      <td>3.00 - 3.49</td>\n",
       "      <td>Not_married</td>\n",
       "      <td>Not depressed</td>\n",
       "      <td>No_anxiety</td>\n",
       "      <td>No panic_attack</td>\n",
       "      <td>No_treatment</td>\n",
       "    </tr>\n",
       "    <tr>\n",
       "      <th>85</th>\n",
       "      <td>13/07/2020 10:33:47</td>\n",
       "      <td>Female</td>\n",
       "      <td>18</td>\n",
       "      <td>Psychology</td>\n",
       "      <td>year 1</td>\n",
       "      <td>3.50 - 4.00</td>\n",
       "      <td>Not_married</td>\n",
       "      <td>Depressed</td>\n",
       "      <td>Anxiety_present</td>\n",
       "      <td>No panic_attack</td>\n",
       "      <td>Treatment</td>\n",
       "    </tr>\n",
       "    <tr>\n",
       "      <th>86</th>\n",
       "      <td>13/07/2020 10:34:08</td>\n",
       "      <td>Female</td>\n",
       "      <td>19</td>\n",
       "      <td>Fiqh</td>\n",
       "      <td>year 3</td>\n",
       "      <td>3.00 - 3.49</td>\n",
       "      <td>Not_married</td>\n",
       "      <td>Not depressed</td>\n",
       "      <td>No_anxiety</td>\n",
       "      <td>No panic_attack</td>\n",
       "      <td>No_treatment</td>\n",
       "    </tr>\n",
       "    <tr>\n",
       "      <th>87</th>\n",
       "      <td>13/07/2020 11:46:13</td>\n",
       "      <td>Female</td>\n",
       "      <td>18</td>\n",
       "      <td>Psychology</td>\n",
       "      <td>year 1</td>\n",
       "      <td>3.50 - 4.00</td>\n",
       "      <td>Not_married</td>\n",
       "      <td>Depressed</td>\n",
       "      <td>Anxiety_present</td>\n",
       "      <td>Panic attack</td>\n",
       "      <td>No_treatment</td>\n",
       "    </tr>\n",
       "    <tr>\n",
       "      <th>88</th>\n",
       "      <td>13/07/2020 11:49:02</td>\n",
       "      <td>Male</td>\n",
       "      <td>24</td>\n",
       "      <td>IT</td>\n",
       "      <td>year 1</td>\n",
       "      <td>3.00 - 3.49</td>\n",
       "      <td>Not_married</td>\n",
       "      <td>Not depressed</td>\n",
       "      <td>Anxiety_present</td>\n",
       "      <td>No panic_attack</td>\n",
       "      <td>No_treatment</td>\n",
       "    </tr>\n",
       "    <tr>\n",
       "      <th>89</th>\n",
       "      <td>13/07/2020 11:54:58</td>\n",
       "      <td>Male</td>\n",
       "      <td>24</td>\n",
       "      <td>Engineering</td>\n",
       "      <td>year 2</td>\n",
       "      <td>2.00 - 2.49</td>\n",
       "      <td>Not_married</td>\n",
       "      <td>Not depressed</td>\n",
       "      <td>No_anxiety</td>\n",
       "      <td>Panic attack</td>\n",
       "      <td>No_treatment</td>\n",
       "    </tr>\n",
       "    <tr>\n",
       "      <th>90</th>\n",
       "      <td>13/07/2020 13:57:11</td>\n",
       "      <td>Female</td>\n",
       "      <td>23</td>\n",
       "      <td>DIPLOMA TESL</td>\n",
       "      <td>year 3</td>\n",
       "      <td>3.50 - 4.00</td>\n",
       "      <td>Not_married</td>\n",
       "      <td>Not depressed</td>\n",
       "      <td>No_anxiety</td>\n",
       "      <td>Panic attack</td>\n",
       "      <td>No_treatment</td>\n",
       "    </tr>\n",
       "    <tr>\n",
       "      <th>91</th>\n",
       "      <td>13/07/2020 14:38:12</td>\n",
       "      <td>Male</td>\n",
       "      <td>18</td>\n",
       "      <td>KOE</td>\n",
       "      <td>year 2</td>\n",
       "      <td>3.00 - 3.49</td>\n",
       "      <td>Not_married</td>\n",
       "      <td>Not depressed</td>\n",
       "      <td>Anxiety_present</td>\n",
       "      <td>No panic_attack</td>\n",
       "      <td>No_treatment</td>\n",
       "    </tr>\n",
       "    <tr>\n",
       "      <th>92</th>\n",
       "      <td>13/07/2020 14:48:05</td>\n",
       "      <td>Female</td>\n",
       "      <td>19</td>\n",
       "      <td>KOE</td>\n",
       "      <td>year 2</td>\n",
       "      <td>3.00 - 3.49</td>\n",
       "      <td>Married</td>\n",
       "      <td>Depressed</td>\n",
       "      <td>No_anxiety</td>\n",
       "      <td>No panic_attack</td>\n",
       "      <td>No_treatment</td>\n",
       "    </tr>\n",
       "    <tr>\n",
       "      <th>93</th>\n",
       "      <td>13/07/2020 16:15:13</td>\n",
       "      <td>Female</td>\n",
       "      <td>18</td>\n",
       "      <td>Benl</td>\n",
       "      <td>year 1</td>\n",
       "      <td>3.00 - 3.49</td>\n",
       "      <td>Not_married</td>\n",
       "      <td>Depressed</td>\n",
       "      <td>No_anxiety</td>\n",
       "      <td>No panic_attack</td>\n",
       "      <td>No_treatment</td>\n",
       "    </tr>\n",
       "    <tr>\n",
       "      <th>94</th>\n",
       "      <td>13/07/2020 17:30:44</td>\n",
       "      <td>Female</td>\n",
       "      <td>24</td>\n",
       "      <td>Fiqh</td>\n",
       "      <td>year 3</td>\n",
       "      <td>0 - 1.99</td>\n",
       "      <td>Not_married</td>\n",
       "      <td>Not depressed</td>\n",
       "      <td>No_anxiety</td>\n",
       "      <td>Panic attack</td>\n",
       "      <td>No_treatment</td>\n",
       "    </tr>\n",
       "    <tr>\n",
       "      <th>95</th>\n",
       "      <td>13/07/2020 19:08:32</td>\n",
       "      <td>Female</td>\n",
       "      <td>18</td>\n",
       "      <td>Islamic Education</td>\n",
       "      <td>year 1</td>\n",
       "      <td>3.50 - 4.00</td>\n",
       "      <td>Not_married</td>\n",
       "      <td>Not depressed</td>\n",
       "      <td>No_anxiety</td>\n",
       "      <td>No panic_attack</td>\n",
       "      <td>No_treatment</td>\n",
       "    </tr>\n",
       "    <tr>\n",
       "      <th>96</th>\n",
       "      <td>13/07/2020 19:56:49</td>\n",
       "      <td>Female</td>\n",
       "      <td>21</td>\n",
       "      <td>BCS</td>\n",
       "      <td>year 1</td>\n",
       "      <td>3.50 - 4.00</td>\n",
       "      <td>Not_married</td>\n",
       "      <td>Not depressed</td>\n",
       "      <td>Anxiety_present</td>\n",
       "      <td>No panic_attack</td>\n",
       "      <td>No_treatment</td>\n",
       "    </tr>\n",
       "    <tr>\n",
       "      <th>97</th>\n",
       "      <td>13/07/2020 21:21:42</td>\n",
       "      <td>Male</td>\n",
       "      <td>18</td>\n",
       "      <td>Engineering</td>\n",
       "      <td>year 2</td>\n",
       "      <td>3.00 - 3.49</td>\n",
       "      <td>Not_married</td>\n",
       "      <td>Depressed</td>\n",
       "      <td>Anxiety_present</td>\n",
       "      <td>No panic_attack</td>\n",
       "      <td>No_treatment</td>\n",
       "    </tr>\n",
       "    <tr>\n",
       "      <th>98</th>\n",
       "      <td>13/07/2020 21:22:56</td>\n",
       "      <td>Female</td>\n",
       "      <td>19</td>\n",
       "      <td>Nursing</td>\n",
       "      <td>year 3</td>\n",
       "      <td>3.50 - 4.00</td>\n",
       "      <td>Married</td>\n",
       "      <td>Depressed</td>\n",
       "      <td>No_anxiety</td>\n",
       "      <td>Panic attack</td>\n",
       "      <td>No_treatment</td>\n",
       "    </tr>\n",
       "    <tr>\n",
       "      <th>99</th>\n",
       "      <td>13/07/2020 21:23:57</td>\n",
       "      <td>Female</td>\n",
       "      <td>23</td>\n",
       "      <td>Pendidikan Islam</td>\n",
       "      <td>year 4</td>\n",
       "      <td>3.50 - 4.00</td>\n",
       "      <td>Not_married</td>\n",
       "      <td>Not depressed</td>\n",
       "      <td>No_anxiety</td>\n",
       "      <td>No panic_attack</td>\n",
       "      <td>No_treatment</td>\n",
       "    </tr>\n",
       "    <tr>\n",
       "      <th>100</th>\n",
       "      <td>18/07/2020 20:16:21</td>\n",
       "      <td>Male</td>\n",
       "      <td>20</td>\n",
       "      <td>Biomedical science</td>\n",
       "      <td>year 2</td>\n",
       "      <td>3.00 - 3.49</td>\n",
       "      <td>Not_married</td>\n",
       "      <td>Not depressed</td>\n",
       "      <td>No_anxiety</td>\n",
       "      <td>No panic_attack</td>\n",
       "      <td>No_treatment</td>\n",
       "    </tr>\n",
       "  </tbody>\n",
       "</table>\n",
       "</div>"
      ],
      "text/plain": [
       "               Timestamp  Gender  Age                   Course Year of Study  \\\n",
       "0         8/7/2020 12:02  Female   18              Engineering        year 1   \n",
       "1         8/7/2020 12:04    Male   21        Islamic Education        year 2   \n",
       "2         8/7/2020 12:05    Male   19                       IT        year 1   \n",
       "3         8/7/2020 12:06  Female   22                      Law        year 3   \n",
       "4         8/7/2020 12:13    Male   23             Mathemathics        year 4   \n",
       "5         8/7/2020 12:31    Male   19              Engineering        year 2   \n",
       "6         8/7/2020 12:32  Female   23         Pendidikan Islam        year 2   \n",
       "7         8/7/2020 12:33  Female   18                      BCS        year 1   \n",
       "8         8/7/2020 12:35  Female   19          Human Resources        year 2   \n",
       "9         8/7/2020 12:39    Male   18                    Irkhs        year 1   \n",
       "10        8/7/2020 12:39  Female   20               Psychology        year 1   \n",
       "11        8/7/2020 12:39  Female   24              Engineering        year 3   \n",
       "12        8/7/2020 12:40  Female   18                      BCS        year 1   \n",
       "13        8/7/2020 12:41    Male   19              Engineering        year 1   \n",
       "14        8/7/2020 12:43  Female   18                    KENMS        year 2   \n",
       "15        8/7/2020 12:43    Male   24                      BCS        year 3   \n",
       "16        8/7/2020 12:46  Female   24              Accounting         year 3   \n",
       "17        8/7/2020 12:52  Female   24                      ENM        year 4   \n",
       "18        8/7/2020 13:05  Female   20                       IT        year 2   \n",
       "19        8/7/2020 13:07  Female   18           Marine science        year 2   \n",
       "20        8/7/2020 13:12  Female   19              Engineering        year 1   \n",
       "21        8/7/2020 13:13  Female   18                      KOE        year 2   \n",
       "22        8/7/2020 13:13  Female   24                      BCS        year 1   \n",
       "23        8/7/2020 13:15  Female   24              Engineering        year 1   \n",
       "24        8/7/2020 13:17  Female   23                      BCS        year 3   \n",
       "25        8/7/2020 13:29  Female   18          Banking Studies        year 1   \n",
       "26        8/7/2020 13:35  Female   19              Engineering        year 1   \n",
       "27        8/7/2020 13:41    Male   18              Engineering        year 2   \n",
       "28        8/7/2020 13:58  Female   24                       IT        year 3   \n",
       "29        8/7/2020 14:05  Female   24                      BCS        year 4   \n",
       "30        8/7/2020 14:27  Female   23  Business Administration        year 2   \n",
       "31        8/7/2020 14:29    Male   18                      BCS        year 2   \n",
       "32        8/7/2020 14:29    Male   19                      BCS        year 1   \n",
       "33        8/7/2020 14:31    Male   18                      BCS        year 2   \n",
       "34        8/7/2020 14:41  Female   19                       IT        year 1   \n",
       "35        8/7/2020 14:43  Female   18              Engineering        year 1   \n",
       "36        8/7/2020 14:43  Female   18                      Law        year 3   \n",
       "37        8/7/2020 14:45  Female   19                       IT        year 1   \n",
       "38        8/7/2020 14:47  Female   18                    Irkhs        year 1   \n",
       "39        8/7/2020 14:56  Female   24              Engineering        year 2   \n",
       "40        8/7/2020 14:57  Female   24                       IT        year 3   \n",
       "41        8/7/2020 14:57  Female   22              Engineering        year 4   \n",
       "42        8/7/2020 14:58  Female   20               Usuluddin         year 2   \n",
       "43        8/7/2020 15:07    Male   19                       IT        year 1   \n",
       "44        8/7/2020 15:08    Male   23                    TAASL        year 2   \n",
       "45        8/7/2020 15:09    Male   18                      BCS        year 1   \n",
       "46        8/7/2020 15:12  Female   19              Engineering        year 1   \n",
       "47        8/7/2020 15:14  Female   18              Engineering        year 4   \n",
       "48        8/7/2020 15:14    Male   24                      BCS        year 2   \n",
       "49        8/7/2020 15:18  Female   24                      BCS        year 3   \n",
       "50        8/7/2020 15:27  Female   23                      ALA        year 1   \n",
       "51        8/7/2020 15:37  Female   18                      BCS        year 2   \n",
       "52        8/7/2020 15:47  Female   19       Biomedical science        year 3   \n",
       "53        8/7/2020 15:48  Female   20                      KOE        year 3   \n",
       "54        8/7/2020 15:57  Female   19                      BCS        year 1   \n",
       "55        8/7/2020 15:58    Male   21                      BCS        year 1   \n",
       "56        8/7/2020 16:08    Male   23                    Irkhs        year 3   \n",
       "57        8/7/2020 16:21  Female   20                     Benl        year 3   \n",
       "58        8/7/2020 16:22  Female   18                      BCS        year 1   \n",
       "59        8/7/2020 16:34  Female   23                     Benl        year 1   \n",
       "60        8/7/2020 16:34  Female   18                       IT        year 3   \n",
       "61        8/7/2020 16:53  Female   19                      BCS        year 1   \n",
       "62        8/7/2020 17:05  Female   18                      CTS        year 1   \n",
       "63        8/7/2020 17:37  Female   24              Engineering        year 1   \n",
       "64        8/7/2020 17:46  Female   24              Engineering        year 1   \n",
       "65        8/7/2020 17:50  Female   23                Economics        year 1   \n",
       "66        8/7/2020 18:10  Female   18                      KOE        year 3   \n",
       "67        8/7/2020 18:11    Male   19                     MHSC        year 3   \n",
       "68        8/7/2020 19:05  Female   18                   Malcom        year 1   \n",
       "69        8/7/2020 19:32  Female   24                      Kop        year 4   \n",
       "70        8/7/2020 20:36  Female   24       Biomedical science        year 1   \n",
       "71        8/7/2020 21:21  Female   18                      Law        year 3   \n",
       "72        8/7/2020 22:35  Female   19                       IT        year 3   \n",
       "73         9/7/2020 6:57    Male   18       Biomedical science        year 1   \n",
       "74        9/7/2020 11:43    Male   24                       IT        year 3   \n",
       "75        9/7/2020 11:57  Female   24                      KOE        year 1   \n",
       "76        9/7/2020 13:15  Female   23              Engineering        year 1   \n",
       "77        9/7/2020 18:24  Female   18          Human Sciences         year 2   \n",
       "78   13/07/2020 10:07:32  Female   19            Biotechnology        year 3   \n",
       "79   13/07/2020 10:10:30  Female   18              Engineering        year 4   \n",
       "80   13/07/2020 10:11:26  Female   24           Communication         year 2   \n",
       "81   13/07/2020 10:12:18  Female   24          Diploma Nursing        year 2   \n",
       "82   13/07/2020 10:12:26  Female   19              Engineering        year 1   \n",
       "83   13/07/2020 10:12:28  Female   19        Pendidikan Islam         year 2   \n",
       "84   13/07/2020 10:14:46    Male   23              Radiography        year 1   \n",
       "85   13/07/2020 10:33:47  Female   18               Psychology        year 1   \n",
       "86   13/07/2020 10:34:08  Female   19                     Fiqh        year 3   \n",
       "87   13/07/2020 11:46:13  Female   18               Psychology        year 1   \n",
       "88   13/07/2020 11:49:02    Male   24                       IT        year 1   \n",
       "89   13/07/2020 11:54:58    Male   24              Engineering        year 2   \n",
       "90   13/07/2020 13:57:11  Female   23             DIPLOMA TESL        year 3   \n",
       "91   13/07/2020 14:38:12    Male   18                      KOE        year 2   \n",
       "92   13/07/2020 14:48:05  Female   19                      KOE        year 2   \n",
       "93   13/07/2020 16:15:13  Female   18                     Benl        year 1   \n",
       "94   13/07/2020 17:30:44  Female   24                     Fiqh        year 3   \n",
       "95   13/07/2020 19:08:32  Female   18        Islamic Education        year 1   \n",
       "96   13/07/2020 19:56:49  Female   21                      BCS        year 1   \n",
       "97   13/07/2020 21:21:42    Male   18              Engineering        year 2   \n",
       "98   13/07/2020 21:22:56  Female   19                 Nursing         year 3   \n",
       "99   13/07/2020 21:23:57  Female   23         Pendidikan Islam        year 4   \n",
       "100  18/07/2020 20:16:21    Male   20       Biomedical science        year 2   \n",
       "\n",
       "            CGPA Marital status     Depression          Anxiety  \\\n",
       "0    3.00 - 3.49    Not_married      Depressed       No_anxiety   \n",
       "1    3.00 - 3.49    Not_married  Not depressed  Anxiety_present   \n",
       "2    3.00 - 3.49    Not_married      Depressed  Anxiety_present   \n",
       "3    3.00 - 3.49        Married      Depressed       No_anxiety   \n",
       "4    3.00 - 3.49    Not_married  Not depressed       No_anxiety   \n",
       "5    3.50 - 4.00    Not_married  Not depressed       No_anxiety   \n",
       "6    3.50 - 4.00        Married      Depressed       No_anxiety   \n",
       "7    3.50 - 4.00    Not_married  Not depressed  Anxiety_present   \n",
       "8    2.50 - 2.99    Not_married  Not depressed       No_anxiety   \n",
       "9    3.50 - 4.00    Not_married  Not depressed  Anxiety_present   \n",
       "10   3.50 - 4.00    Not_married  Not depressed       No_anxiety   \n",
       "11   3.50 - 4.00        Married      Depressed       No_anxiety   \n",
       "12   3.00 - 3.49    Not_married      Depressed       No_anxiety   \n",
       "13   3.00 - 3.49    Not_married  Not depressed       No_anxiety   \n",
       "14   3.50 - 4.00    Not_married  Not depressed  Anxiety_present   \n",
       "15   3.50 - 4.00    Not_married  Not depressed       No_anxiety   \n",
       "16   3.00 - 3.49    Not_married  Not depressed       No_anxiety   \n",
       "17   3.00 - 3.49        Married      Depressed  Anxiety_present   \n",
       "18   3.50 - 4.00    Not_married  Not depressed  Anxiety_present   \n",
       "19   3.50 - 4.00        Married      Depressed  Anxiety_present   \n",
       "20   3.00 - 3.49    Not_married  Not depressed       No_anxiety   \n",
       "21   3.00 - 3.49    Not_married  Not depressed       No_anxiety   \n",
       "22   3.50 - 4.00    Not_married  Not depressed       No_anxiety   \n",
       "23   3.00 - 3.49    Not_married  Not depressed       No_anxiety   \n",
       "24   3.50 - 4.00    Not_married      Depressed  Anxiety_present   \n",
       "25   3.50 - 4.00    Not_married  Not depressed       No_anxiety   \n",
       "26   3.50 - 4.00    Not_married  Not depressed       No_anxiety   \n",
       "27   3.00 - 3.49        Married      Depressed  Anxiety_present   \n",
       "28   3.50 - 4.00        Married      Depressed  Anxiety_present   \n",
       "29   3.50 - 4.00    Not_married  Not depressed       No_anxiety   \n",
       "30   3.00 - 3.49    Not_married  Not depressed       No_anxiety   \n",
       "31   3.00 - 3.49    Not_married  Not depressed       No_anxiety   \n",
       "32   3.50 - 4.00    Not_married  Not depressed       No_anxiety   \n",
       "33   3.50 - 4.00        Married      Depressed  Anxiety_present   \n",
       "34   3.00 - 3.49    Not_married      Depressed  Anxiety_present   \n",
       "35   2.00 - 2.49    Not_married  Not depressed       No_anxiety   \n",
       "36   3.00 - 3.49    Not_married      Depressed  Anxiety_present   \n",
       "37   2.50 - 2.99    Not_married      Depressed  Anxiety_present   \n",
       "38   3.50 - 4.00    Not_married  Not depressed       No_anxiety   \n",
       "39   2.50 - 2.99        Married      Depressed       No_anxiety   \n",
       "40   3.00 - 3.49    Not_married  Not depressed  Anxiety_present   \n",
       "41   3.50 - 4.00    Not_married  Not depressed       No_anxiety   \n",
       "42   3.00 - 3.49    Not_married      Depressed       No_anxiety   \n",
       "43      0 - 1.99    Not_married  Not depressed       No_anxiety   \n",
       "44   3.50 - 4.00    Not_married  Not depressed       No_anxiety   \n",
       "45   3.50 - 4.00    Not_married  Not depressed  Anxiety_present   \n",
       "46   3.50 - 4.00    Not_married  Not depressed  Anxiety_present   \n",
       "47   3.50 - 4.00    Not_married  Not depressed       No_anxiety   \n",
       "48   3.00 - 3.49    Not_married      Depressed       No_anxiety   \n",
       "49   3.50 - 4.00    Not_married  Not depressed       No_anxiety   \n",
       "50   2.50 - 2.99        Married      Depressed       No_anxiety   \n",
       "51   3.50 - 4.00    Not_married  Not depressed  Anxiety_present   \n",
       "52   3.00 - 3.49    Not_married  Not depressed       No_anxiety   \n",
       "53   3.00 - 3.49        Married      Depressed  Anxiety_present   \n",
       "54   3.50 - 4.00    Not_married      Depressed       No_anxiety   \n",
       "55   3.00 - 3.49    Not_married  Not depressed       No_anxiety   \n",
       "56   3.50 - 4.00    Not_married  Not depressed       No_anxiety   \n",
       "57   3.00 - 3.49    Not_married      Depressed  Anxiety_present   \n",
       "58   3.50 - 4.00    Not_married  Not depressed       No_anxiety   \n",
       "59   3.00 - 3.49    Not_married  Not depressed       No_anxiety   \n",
       "60   3.00 - 3.49    Not_married  Not depressed       No_anxiety   \n",
       "61   3.50 - 4.00    Not_married  Not depressed       No_anxiety   \n",
       "62   3.50 - 4.00    Not_married  Not depressed       No_anxiety   \n",
       "63   3.50 - 4.00    Not_married  Not depressed       No_anxiety   \n",
       "64   3.50 - 4.00    Not_married  Not depressed       No_anxiety   \n",
       "65   3.50 - 4.00    Not_married      Depressed  Anxiety_present   \n",
       "66   3.00 - 3.49    Not_married  Not depressed  Anxiety_present   \n",
       "67   3.00 - 3.49        Married      Depressed       No_anxiety   \n",
       "68   3.50 - 4.00    Not_married      Depressed       No_anxiety   \n",
       "69   3.00 - 3.49    Not_married  Not depressed  Anxiety_present   \n",
       "70   3.00 - 3.49    Not_married  Not depressed       No_anxiety   \n",
       "71   3.50 - 4.00    Not_married  Not depressed       No_anxiety   \n",
       "72   3.00 - 3.49        Married      Depressed       No_anxiety   \n",
       "73      0 - 1.99    Not_married  Not depressed       No_anxiety   \n",
       "74   3.50 - 4.00    Not_married  Not depressed  Anxiety_present   \n",
       "75   3.50 - 4.00    Not_married  Not depressed  Anxiety_present   \n",
       "76   3.00 - 3.49    Not_married      Depressed       No_anxiety   \n",
       "77   3.00 - 3.49    Not_married  Not depressed       No_anxiety   \n",
       "78      0 - 1.99    Not_married  Not depressed       No_anxiety   \n",
       "79   3.50 - 4.00    Not_married  Not depressed       No_anxiety   \n",
       "80   3.50 - 4.00        Married      Depressed  Anxiety_present   \n",
       "81   3.50 - 4.00    Not_married  Not depressed       No_anxiety   \n",
       "82   3.00 - 3.49    Not_married      Depressed  Anxiety_present   \n",
       "83   3.00 - 3.49    Not_married  Not depressed       No_anxiety   \n",
       "84   3.00 - 3.49    Not_married  Not depressed       No_anxiety   \n",
       "85   3.50 - 4.00    Not_married      Depressed  Anxiety_present   \n",
       "86   3.00 - 3.49    Not_married  Not depressed       No_anxiety   \n",
       "87   3.50 - 4.00    Not_married      Depressed  Anxiety_present   \n",
       "88   3.00 - 3.49    Not_married  Not depressed  Anxiety_present   \n",
       "89   2.00 - 2.49    Not_married  Not depressed       No_anxiety   \n",
       "90   3.50 - 4.00    Not_married  Not depressed       No_anxiety   \n",
       "91   3.00 - 3.49    Not_married  Not depressed  Anxiety_present   \n",
       "92   3.00 - 3.49        Married      Depressed       No_anxiety   \n",
       "93   3.00 - 3.49    Not_married      Depressed       No_anxiety   \n",
       "94      0 - 1.99    Not_married  Not depressed       No_anxiety   \n",
       "95   3.50 - 4.00    Not_married  Not depressed       No_anxiety   \n",
       "96   3.50 - 4.00    Not_married  Not depressed  Anxiety_present   \n",
       "97   3.00 - 3.49    Not_married      Depressed  Anxiety_present   \n",
       "98   3.50 - 4.00        Married      Depressed       No_anxiety   \n",
       "99   3.50 - 4.00    Not_married  Not depressed       No_anxiety   \n",
       "100  3.00 - 3.49    Not_married  Not depressed       No_anxiety   \n",
       "\n",
       "        Panic attack     Treatment  \n",
       "0       Panic attack  No_treatment  \n",
       "1    No panic_attack  No_treatment  \n",
       "2       Panic attack  No_treatment  \n",
       "3    No panic_attack  No_treatment  \n",
       "4    No panic_attack  No_treatment  \n",
       "5       Panic attack  No_treatment  \n",
       "6       Panic attack  No_treatment  \n",
       "7    No panic_attack  No_treatment  \n",
       "8    No panic_attack  No_treatment  \n",
       "9       Panic attack  No_treatment  \n",
       "10   No panic_attack  No_treatment  \n",
       "11   No panic_attack  No_treatment  \n",
       "12   No panic_attack  No_treatment  \n",
       "13   No panic_attack  No_treatment  \n",
       "14   No panic_attack  No_treatment  \n",
       "15   No panic_attack  No_treatment  \n",
       "16   No panic_attack  No_treatment  \n",
       "17      Panic attack  No_treatment  \n",
       "18   No panic_attack  No_treatment  \n",
       "19      Panic attack  No_treatment  \n",
       "20      Panic attack  No_treatment  \n",
       "21   No panic_attack  No_treatment  \n",
       "22   No panic_attack  No_treatment  \n",
       "23   No panic_attack  No_treatment  \n",
       "24      Panic attack  No_treatment  \n",
       "25   No panic_attack  No_treatment  \n",
       "26   No panic_attack  No_treatment  \n",
       "27   No panic_attack  No_treatment  \n",
       "28      Panic attack     Treatment  \n",
       "29   No panic_attack  No_treatment  \n",
       "30   No panic_attack  No_treatment  \n",
       "31   No panic_attack  No_treatment  \n",
       "32      Panic attack  No_treatment  \n",
       "33   No panic_attack     Treatment  \n",
       "34      Panic attack  No_treatment  \n",
       "35   No panic_attack  No_treatment  \n",
       "36   No panic_attack  No_treatment  \n",
       "37      Panic attack  No_treatment  \n",
       "38   No panic_attack  No_treatment  \n",
       "39      Panic attack     Treatment  \n",
       "40   No panic_attack  No_treatment  \n",
       "41   No panic_attack  No_treatment  \n",
       "42   No panic_attack  No_treatment  \n",
       "43   No panic_attack  No_treatment  \n",
       "44      Panic attack  No_treatment  \n",
       "45      Panic attack  No_treatment  \n",
       "46   No panic_attack  No_treatment  \n",
       "47   No panic_attack  No_treatment  \n",
       "48   No panic_attack  No_treatment  \n",
       "49      Panic attack  No_treatment  \n",
       "50      Panic attack     Treatment  \n",
       "51   No panic_attack  No_treatment  \n",
       "52   No panic_attack  No_treatment  \n",
       "53      Panic attack  No_treatment  \n",
       "54      Panic attack     Treatment  \n",
       "55   No panic_attack  No_treatment  \n",
       "56   No panic_attack  No_treatment  \n",
       "57   No panic_attack  No_treatment  \n",
       "58   No panic_attack  No_treatment  \n",
       "59   No panic_attack  No_treatment  \n",
       "60      Panic attack  No_treatment  \n",
       "61   No panic_attack  No_treatment  \n",
       "62      Panic attack  No_treatment  \n",
       "63      Panic attack  No_treatment  \n",
       "64   No panic_attack  No_treatment  \n",
       "65   No panic_attack  No_treatment  \n",
       "66   No panic_attack  No_treatment  \n",
       "67      Panic attack  No_treatment  \n",
       "68   No panic_attack  No_treatment  \n",
       "69   No panic_attack  No_treatment  \n",
       "70   No panic_attack  No_treatment  \n",
       "71      Panic attack  No_treatment  \n",
       "72   No panic_attack  No_treatment  \n",
       "73   No panic_attack  No_treatment  \n",
       "74   No panic_attack  No_treatment  \n",
       "75      Panic attack  No_treatment  \n",
       "76   No panic_attack  No_treatment  \n",
       "77      Panic attack  No_treatment  \n",
       "78   No panic_attack  No_treatment  \n",
       "79   No panic_attack  No_treatment  \n",
       "80      Panic attack  No_treatment  \n",
       "81   No panic_attack  No_treatment  \n",
       "82   No panic_attack  No_treatment  \n",
       "83   No panic_attack  No_treatment  \n",
       "84   No panic_attack  No_treatment  \n",
       "85   No panic_attack     Treatment  \n",
       "86   No panic_attack  No_treatment  \n",
       "87      Panic attack  No_treatment  \n",
       "88   No panic_attack  No_treatment  \n",
       "89      Panic attack  No_treatment  \n",
       "90      Panic attack  No_treatment  \n",
       "91   No panic_attack  No_treatment  \n",
       "92   No panic_attack  No_treatment  \n",
       "93   No panic_attack  No_treatment  \n",
       "94      Panic attack  No_treatment  \n",
       "95   No panic_attack  No_treatment  \n",
       "96   No panic_attack  No_treatment  \n",
       "97   No panic_attack  No_treatment  \n",
       "98      Panic attack  No_treatment  \n",
       "99   No panic_attack  No_treatment  \n",
       "100  No panic_attack  No_treatment  "
      ]
     },
     "execution_count": 61,
     "metadata": {},
     "output_type": "execute_result"
    }
   ],
   "source": [
    "df"
   ]
  },
  {
   "cell_type": "markdown",
   "id": "4cfed3b6",
   "metadata": {
    "papermill": {
     "duration": 0.160455,
     "end_time": "2024-07-27T21:27:23.875931",
     "exception": false,
     "start_time": "2024-07-27T21:27:23.715476",
     "status": "completed"
    },
    "tags": []
   },
   "source": [
    "# ANALYZE TIME SERIES of Numeric Data (only age)\n"
   ]
  },
  {
   "cell_type": "code",
   "execution_count": 62,
   "id": "f3d52757",
   "metadata": {
    "execution": {
     "iopub.execute_input": "2024-07-27T21:27:24.202668Z",
     "iopub.status.busy": "2024-07-27T21:27:24.202324Z",
     "iopub.status.idle": "2024-07-27T21:27:24.213033Z",
     "shell.execute_reply": "2024-07-27T21:27:24.211608Z"
    },
    "papermill": {
     "duration": 0.175681,
     "end_time": "2024-07-27T21:27:24.215926",
     "exception": false,
     "start_time": "2024-07-27T21:27:24.040245",
     "status": "completed"
    },
    "tags": []
   },
   "outputs": [
    {
     "data": {
      "text/plain": [
       "0      18\n",
       "1      21\n",
       "2      19\n",
       "3      22\n",
       "4      23\n",
       "5      19\n",
       "6      23\n",
       "7      18\n",
       "8      19\n",
       "9      18\n",
       "10     20\n",
       "11     24\n",
       "12     18\n",
       "13     19\n",
       "14     18\n",
       "15     24\n",
       "16     24\n",
       "17     24\n",
       "18     20\n",
       "19     18\n",
       "20     19\n",
       "21     18\n",
       "22     24\n",
       "23     24\n",
       "24     23\n",
       "25     18\n",
       "26     19\n",
       "27     18\n",
       "28     24\n",
       "29     24\n",
       "30     23\n",
       "31     18\n",
       "32     19\n",
       "33     18\n",
       "34     19\n",
       "35     18\n",
       "36     18\n",
       "37     19\n",
       "38     18\n",
       "39     24\n",
       "40     24\n",
       "41     22\n",
       "42     20\n",
       "43     19\n",
       "44     23\n",
       "45     18\n",
       "46     19\n",
       "47     18\n",
       "48     24\n",
       "49     24\n",
       "50     23\n",
       "51     18\n",
       "52     19\n",
       "53     20\n",
       "54     19\n",
       "55     21\n",
       "56     23\n",
       "57     20\n",
       "58     18\n",
       "59     23\n",
       "60     18\n",
       "61     19\n",
       "62     18\n",
       "63     24\n",
       "64     24\n",
       "65     23\n",
       "66     18\n",
       "67     19\n",
       "68     18\n",
       "69     24\n",
       "70     24\n",
       "71     18\n",
       "72     19\n",
       "73     18\n",
       "74     24\n",
       "75     24\n",
       "76     23\n",
       "77     18\n",
       "78     19\n",
       "79     18\n",
       "80     24\n",
       "81     24\n",
       "82     19\n",
       "83     19\n",
       "84     23\n",
       "85     18\n",
       "86     19\n",
       "87     18\n",
       "88     24\n",
       "89     24\n",
       "90     23\n",
       "91     18\n",
       "92     19\n",
       "93     18\n",
       "94     24\n",
       "95     18\n",
       "96     21\n",
       "97     18\n",
       "98     19\n",
       "99     23\n",
       "100    20\n",
       "Name: Age, dtype: int64"
      ]
     },
     "execution_count": 62,
     "metadata": {},
     "output_type": "execute_result"
    }
   ],
   "source": [
    "df.Age"
   ]
  },
  {
   "cell_type": "code",
   "execution_count": 63,
   "id": "f925d4f5",
   "metadata": {
    "execution": {
     "iopub.execute_input": "2024-07-27T21:27:24.542024Z",
     "iopub.status.busy": "2024-07-27T21:27:24.541667Z",
     "iopub.status.idle": "2024-07-27T21:27:24.549740Z",
     "shell.execute_reply": "2024-07-27T21:27:24.548570Z"
    },
    "papermill": {
     "duration": 0.173839,
     "end_time": "2024-07-27T21:27:24.552358",
     "exception": false,
     "start_time": "2024-07-27T21:27:24.378519",
     "status": "completed"
    },
    "tags": []
   },
   "outputs": [
    {
     "data": {
      "text/plain": [
       "Index(['Timestamp', 'Gender', 'Age', 'Course', 'Year of Study', 'CGPA',\n",
       "       'Marital status', 'Depression', 'Anxiety', 'Panic attack', 'Treatment'],\n",
       "      dtype='object')"
      ]
     },
     "execution_count": 63,
     "metadata": {},
     "output_type": "execute_result"
    }
   ],
   "source": [
    "df.columns"
   ]
  },
  {
   "cell_type": "code",
   "execution_count": 64,
   "id": "a6f5c52a",
   "metadata": {
    "execution": {
     "iopub.execute_input": "2024-07-27T21:27:24.877595Z",
     "iopub.status.busy": "2024-07-27T21:27:24.877222Z",
     "iopub.status.idle": "2024-07-27T21:27:25.782483Z",
     "shell.execute_reply": "2024-07-27T21:27:25.781305Z"
    },
    "papermill": {
     "duration": 1.072032,
     "end_time": "2024-07-27T21:27:25.785370",
     "exception": false,
     "start_time": "2024-07-27T21:27:24.713338",
     "status": "completed"
    },
    "tags": []
   },
   "outputs": [
    {
     "data": {
      "image/png": "[encoded data removed]",
      "text/plain": [
       "<Figure size 864x720 with 3 Axes>"
      ]
     },
     "metadata": {
      "needs_background": "light"
     },
     "output_type": "display_data"
    }
   ],
   "source": [
    "import pandas as pd\n",
    "import matplotlib.pyplot as plt\n",
    "import seaborn as sns\n",
    "\n",
    "# Assuming your DataFrame is named 'df' and the timestamp column is named 'Timestamp'\n",
    "# Convert 'Timestamp' column to datetime if it's not already in datetime format\n",
    "df['Timestamp'] = pd.to_datetime(df['Timestamp'])\n",
    "\n",
    "# Set 'Timestamp' column as the index\n",
    "df.set_index('Timestamp', inplace=True)\n",
    "\n",
    "# Resample the 'Age' data for daily, monthly, and yearly frequencies\n",
    "daily_age = df['Age'].resample('D').mean()  # Using mean as an example aggregation function\n",
    "monthly_age = df['Age'].resample('M').mean()  # Using mean as an example aggregation function\n",
    "yearly_age = df['Age'].resample('Y').mean()  # Using mean as an example aggregation function\n",
    "\n",
    "# Plotting\n",
    "plt.figure(figsize=(12, 10))\n",
    "\n",
    "# Daily frequency\n",
    "plt.subplot(3, 1, 1)\n",
    "sns.lineplot(data=daily_age, color='blue')\n",
    "plt.title('Daily Age Distribution')\n",
    "plt.xlabel('Date')\n",
    "plt.ylabel('Average Age')\n",
    "\n",
    "# Monthly frequency\n",
    "plt.subplot(3, 1, 2)\n",
    "sns.lineplot(data=monthly_age, color='green')\n",
    "plt.title('Monthly Age Distribution')\n",
    "plt.xlabel('Date')\n",
    "plt.ylabel('Average Age')\n",
    "\n",
    "# Yearly frequency\n",
    "plt.subplot(3, 1, 3)\n",
    "sns.lineplot(data=yearly_age, color='red')\n",
    "plt.title('Yearly Age Distribution')\n",
    "plt.xlabel('Date')\n",
    "plt.ylabel('Average Age')\n",
    "\n",
    "plt.tight_layout()\n",
    "plt.show()"
   ]
  },
  {
   "cell_type": "code",
   "execution_count": 65,
   "id": "91fee532",
   "metadata": {
    "execution": {
     "iopub.execute_input": "2024-07-27T21:27:26.116365Z",
     "iopub.status.busy": "2024-07-27T21:27:26.115984Z",
     "iopub.status.idle": "2024-07-27T21:27:26.127474Z",
     "shell.execute_reply": "2024-07-27T21:27:26.126340Z"
    },
    "papermill": {
     "duration": 0.17962,
     "end_time": "2024-07-27T21:27:26.130344",
     "exception": false,
     "start_time": "2024-07-27T21:27:25.950724",
     "status": "completed"
    },
    "tags": []
   },
   "outputs": [
    {
     "name": "stdout",
     "output_type": "stream",
     "text": [
      "Daily Age:\n",
      " Timestamp\n",
      "2020-07-13    20.454545\n",
      "2020-07-14          NaN\n",
      "2020-07-15          NaN\n",
      "2020-07-16          NaN\n",
      "2020-07-17          NaN\n",
      "2020-07-18    20.000000\n",
      "2020-07-19          NaN\n",
      "2020-07-20          NaN\n",
      "2020-07-21          NaN\n",
      "2020-07-22          NaN\n",
      "2020-07-23          NaN\n",
      "2020-07-24          NaN\n",
      "2020-07-25          NaN\n",
      "2020-07-26          NaN\n",
      "2020-07-27          NaN\n",
      "2020-07-28          NaN\n",
      "2020-07-29          NaN\n",
      "2020-07-30          NaN\n",
      "2020-07-31          NaN\n",
      "2020-08-01          NaN\n",
      "2020-08-02          NaN\n",
      "2020-08-03          NaN\n",
      "2020-08-04          NaN\n",
      "2020-08-05          NaN\n",
      "2020-08-06          NaN\n",
      "2020-08-07    20.479452\n",
      "2020-08-08          NaN\n",
      "2020-08-09          NaN\n",
      "2020-08-10          NaN\n",
      "2020-08-11          NaN\n",
      "2020-08-12          NaN\n",
      "2020-08-13          NaN\n",
      "2020-08-14          NaN\n",
      "2020-08-15          NaN\n",
      "2020-08-16          NaN\n",
      "2020-08-17          NaN\n",
      "2020-08-18          NaN\n",
      "2020-08-19          NaN\n",
      "2020-08-20          NaN\n",
      "2020-08-21          NaN\n",
      "2020-08-22          NaN\n",
      "2020-08-23          NaN\n",
      "2020-08-24          NaN\n",
      "2020-08-25          NaN\n",
      "2020-08-26          NaN\n",
      "2020-08-27          NaN\n",
      "2020-08-28          NaN\n",
      "2020-08-29          NaN\n",
      "2020-08-30          NaN\n",
      "2020-08-31          NaN\n",
      "2020-09-01          NaN\n",
      "2020-09-02          NaN\n",
      "2020-09-03          NaN\n",
      "2020-09-04          NaN\n",
      "2020-09-05          NaN\n",
      "2020-09-06          NaN\n",
      "2020-09-07    21.400000\n",
      "Freq: D, Name: Age, dtype: float64\n",
      "\n",
      "Monthly Age:\n",
      " Timestamp\n",
      "2020-07-31    20.434783\n",
      "2020-08-31    20.479452\n",
      "2020-09-30    21.400000\n",
      "Freq: M, Name: Age, dtype: float64\n",
      "\n",
      "Yearly Age:\n",
      " Timestamp\n",
      "2020-12-31    20.514851\n",
      "Freq: A-DEC, Name: Age, dtype: float64\n"
     ]
    }
   ],
   "source": [
    "print(\"Daily Age:\\n\", daily_age)\n",
    "print(\"\\nMonthly Age:\\n\", monthly_age)\n",
    "print(\"\\nYearly Age:\\n\", yearly_age)"
   ]
  },
  {
   "cell_type": "code",
   "execution_count": 66,
   "id": "06317f91",
   "metadata": {
    "execution": {
     "iopub.execute_input": "2024-07-27T21:27:26.471614Z",
     "iopub.status.busy": "2024-07-27T21:27:26.470252Z",
     "iopub.status.idle": "2024-07-27T21:27:26.483514Z",
     "shell.execute_reply": "2024-07-27T21:27:26.481615Z"
    },
    "papermill": {
     "duration": 0.192765,
     "end_time": "2024-07-27T21:27:26.487978",
     "exception": false,
     "start_time": "2024-07-27T21:27:26.295213",
     "status": "completed"
    },
    "tags": []
   },
   "outputs": [
    {
     "name": "stdout",
     "output_type": "stream",
     "text": [
      "Entries with null values:\n",
      "Empty DataFrame\n",
      "Columns: [Gender, Age, Course, Year of Study, CGPA, Marital status, Depression, Anxiety, Panic attack, Treatment]\n",
      "Index: []\n"
     ]
    }
   ],
   "source": [
    "# Assuming your dataset is named 'df'\n",
    "# Check for null or missing values in the dataset\n",
    "null_entries = df[df.isnull().any(axis=1)]\n",
    "\n",
    "# Display the entries with null values\n",
    "print(\"Entries with null values:\")\n",
    "print(null_entries)"
   ]
  },
  {
   "cell_type": "markdown",
   "id": "2b61f766",
   "metadata": {
    "papermill": {
     "duration": 0.169371,
     "end_time": "2024-07-27T21:27:26.833344",
     "exception": false,
     "start_time": "2024-07-27T21:27:26.663973",
     "status": "completed"
    },
    "tags": []
   },
   "source": [
    "Check for Duplicates"
   ]
  },
  {
   "cell_type": "code",
   "execution_count": 67,
   "id": "1b05824c",
   "metadata": {
    "execution": {
     "iopub.execute_input": "2024-07-27T21:27:27.174564Z",
     "iopub.status.busy": "2024-07-27T21:27:27.174234Z",
     "iopub.status.idle": "2024-07-27T21:27:27.191099Z",
     "shell.execute_reply": "2024-07-27T21:27:27.189755Z"
    },
    "papermill": {
     "duration": 0.191918,
     "end_time": "2024-07-27T21:27:27.194350",
     "exception": false,
     "start_time": "2024-07-27T21:27:27.002432",
     "status": "completed"
    },
    "tags": []
   },
   "outputs": [
    {
     "name": "stdout",
     "output_type": "stream",
     "text": [
      "Duplicate entries:\n",
      "                     Gender  Age       Course Year of Study         CGPA  \\\n",
      "Timestamp                                                                  \n",
      "2020-07-13 10:10:30  Female   18  Engineering        year 4  3.50 - 4.00   \n",
      "\n",
      "                    Marital status     Depression     Anxiety  \\\n",
      "Timestamp                                                       \n",
      "2020-07-13 10:10:30    Not_married  Not depressed  No_anxiety   \n",
      "\n",
      "                        Panic attack     Treatment  \n",
      "Timestamp                                           \n",
      "2020-07-13 10:10:30  No panic_attack  No_treatment  \n"
     ]
    }
   ],
   "source": [
    "# Check for duplicate entries in the dataset\n",
    "duplicate_entries = df[df.duplicated()]\n",
    "\n",
    "# Display the duplicate entries\n",
    "print(\"Duplicate entries:\")\n",
    "print(duplicate_entries)"
   ]
  },
  {
   "cell_type": "code",
   "execution_count": 68,
   "id": "e6ac4d97",
   "metadata": {
    "execution": {
     "iopub.execute_input": "2024-07-27T21:27:27.570959Z",
     "iopub.status.busy": "2024-07-27T21:27:27.570556Z",
     "iopub.status.idle": "2024-07-27T21:27:27.589604Z",
     "shell.execute_reply": "2024-07-27T21:27:27.587702Z"
    },
    "papermill": {
     "duration": 0.213916,
     "end_time": "2024-07-27T21:27:27.592604",
     "exception": false,
     "start_time": "2024-07-27T21:27:27.378688",
     "status": "completed"
    },
    "tags": []
   },
   "outputs": [
    {
     "name": "stdout",
     "output_type": "stream",
     "text": [
      "<class 'pandas.core.frame.DataFrame'>\n",
      "DatetimeIndex: 101 entries, 2020-08-07 12:02:00 to 2020-07-18 20:16:21\n",
      "Data columns (total 10 columns):\n",
      " #   Column          Non-Null Count  Dtype \n",
      "---  ------          --------------  ----- \n",
      " 0   Gender          101 non-null    object\n",
      " 1   Age             101 non-null    int64 \n",
      " 2   Course          101 non-null    object\n",
      " 3   Year of Study   101 non-null    object\n",
      " 4   CGPA            101 non-null    object\n",
      " 5   Marital status  101 non-null    object\n",
      " 6   Depression      101 non-null    object\n",
      " 7   Anxiety         101 non-null    object\n",
      " 8   Panic attack    101 non-null    object\n",
      " 9   Treatment       101 non-null    object\n",
      "dtypes: int64(1), object(9)\n",
      "memory usage: 8.7+ KB\n"
     ]
    }
   ],
   "source": [
    "df.info()"
   ]
  },
  {
   "cell_type": "code",
   "execution_count": 69,
   "id": "13bbf41b",
   "metadata": {
    "execution": {
     "iopub.execute_input": "2024-07-27T21:27:27.944276Z",
     "iopub.status.busy": "2024-07-27T21:27:27.943857Z",
     "iopub.status.idle": "2024-07-27T21:27:27.955953Z",
     "shell.execute_reply": "2024-07-27T21:27:27.954654Z"
    },
    "papermill": {
     "duration": 0.190022,
     "end_time": "2024-07-27T21:27:27.958993",
     "exception": false,
     "start_time": "2024-07-27T21:27:27.768971",
     "status": "completed"
    },
    "tags": []
   },
   "outputs": [
    {
     "data": {
      "text/plain": [
       "Gender            0\n",
       "Age               0\n",
       "Course            0\n",
       "Year of Study     0\n",
       "CGPA              0\n",
       "Marital status    0\n",
       "Depression        0\n",
       "Anxiety           0\n",
       "Panic attack      0\n",
       "Treatment         0\n",
       "dtype: int64"
      ]
     },
     "execution_count": 69,
     "metadata": {},
     "output_type": "execute_result"
    }
   ],
   "source": [
    "df.isna().sum()"
   ]
  },
  {
   "cell_type": "code",
   "execution_count": 70,
   "id": "40d7c5de",
   "metadata": {
    "execution": {
     "iopub.execute_input": "2024-07-27T21:27:28.344946Z",
     "iopub.status.busy": "2024-07-27T21:27:28.344551Z",
     "iopub.status.idle": "2024-07-27T21:27:28.368925Z",
     "shell.execute_reply": "2024-07-27T21:27:28.367588Z"
    },
    "papermill": {
     "duration": 0.219131,
     "end_time": "2024-07-27T21:27:28.372271",
     "exception": false,
     "start_time": "2024-07-27T21:27:28.153140",
     "status": "completed"
    },
    "tags": []
   },
   "outputs": [
    {
     "data": {
      "text/html": [
       "<div>\n",
       "<style scoped>\n",
       "    .dataframe tbody tr th:only-of-type {\n",
       "        vertical-align: middle;\n",
       "    }\n",
       "\n",
       "    .dataframe tbody tr th {\n",
       "        vertical-align: top;\n",
       "    }\n",
       "\n",
       "    .dataframe thead th {\n",
       "        text-align: right;\n",
       "    }\n",
       "</style>\n",
       "<table border=\"1\" class=\"dataframe\">\n",
       "  <thead>\n",
       "    <tr style=\"text-align: right;\">\n",
       "      <th></th>\n",
       "      <th>Age</th>\n",
       "    </tr>\n",
       "  </thead>\n",
       "  <tbody>\n",
       "    <tr>\n",
       "      <th>count</th>\n",
       "      <td>101.000000</td>\n",
       "    </tr>\n",
       "    <tr>\n",
       "      <th>mean</th>\n",
       "      <td>20.514851</td>\n",
       "    </tr>\n",
       "    <tr>\n",
       "      <th>std</th>\n",
       "      <td>2.488429</td>\n",
       "    </tr>\n",
       "    <tr>\n",
       "      <th>min</th>\n",
       "      <td>18.000000</td>\n",
       "    </tr>\n",
       "    <tr>\n",
       "      <th>25%</th>\n",
       "      <td>18.000000</td>\n",
       "    </tr>\n",
       "    <tr>\n",
       "      <th>50%</th>\n",
       "      <td>19.000000</td>\n",
       "    </tr>\n",
       "    <tr>\n",
       "      <th>75%</th>\n",
       "      <td>23.000000</td>\n",
       "    </tr>\n",
       "    <tr>\n",
       "      <th>max</th>\n",
       "      <td>24.000000</td>\n",
       "    </tr>\n",
       "  </tbody>\n",
       "</table>\n",
       "</div>"
      ],
      "text/plain": [
       "              Age\n",
       "count  101.000000\n",
       "mean    20.514851\n",
       "std      2.488429\n",
       "min     18.000000\n",
       "25%     18.000000\n",
       "50%     19.000000\n",
       "75%     23.000000\n",
       "max     24.000000"
      ]
     },
     "execution_count": 70,
     "metadata": {},
     "output_type": "execute_result"
    }
   ],
   "source": [
    "df.describe()\n"
   ]
  },
  {
   "cell_type": "markdown",
   "id": "3687a3e2",
   "metadata": {
    "papermill": {
     "duration": 0.170674,
     "end_time": "2024-07-27T21:27:28.732608",
     "exception": false,
     "start_time": "2024-07-27T21:27:28.561934",
     "status": "completed"
    },
    "tags": []
   },
   "source": [
    "Plot: Univariate Distribution of Age\n"
   ]
  },
  {
   "cell_type": "code",
   "execution_count": 71,
   "id": "10ebaaed",
   "metadata": {
    "execution": {
     "iopub.execute_input": "2024-07-27T21:27:29.079345Z",
     "iopub.status.busy": "2024-07-27T21:27:29.078850Z",
     "iopub.status.idle": "2024-07-27T21:27:31.164947Z",
     "shell.execute_reply": "2024-07-27T21:27:31.163706Z"
    },
    "papermill": {
     "duration": 2.263824,
     "end_time": "2024-07-27T21:27:31.167768",
     "exception": false,
     "start_time": "2024-07-27T21:27:28.903944",
     "status": "completed"
    },
    "tags": []
   },
   "outputs": [
    {
     "data": {
      "image/png": "[encoded data removed]",
      "text/plain": [
       "<Figure size 1728x432 with 1 Axes>"
      ]
     },
     "metadata": {
      "needs_background": "light"
     },
     "output_type": "display_data"
    },
    {
     "data": {
      "image/png": "[encoded data removed]",
      "text/plain": [
       "<Figure size 1728x432 with 1 Axes>"
      ]
     },
     "metadata": {
      "needs_background": "light"
     },
     "output_type": "display_data"
    },
    {
     "data": {
      "image/png": "[encoded data removed]",
      "text/plain": [
       "<Figure size 1728x432 with 1 Axes>"
      ]
     },
     "metadata": {
      "needs_background": "light"
     },
     "output_type": "display_data"
    },
    {
     "data": {
      "image/png": "[encoded data removed]",
      "text/plain": [
       "<Figure size 1728x432 with 1 Axes>"
      ]
     },
     "metadata": {
      "needs_background": "light"
     },
     "output_type": "display_data"
    },
    {
     "data": {
      "image/png": "[encoded data removed]",
      "text/plain": [
       "<Figure size 1728x432 with 1 Axes>"
      ]
     },
     "metadata": {
      "needs_background": "light"
     },
     "output_type": "display_data"
    },
    {
     "data": {
      "image/png": "[encoded data removed]",
      "text/plain": [
       "<Figure size 1728x432 with 1 Axes>"
      ]
     },
     "metadata": {
      "needs_background": "light"
     },
     "output_type": "display_data"
    },
    {
     "data": {
      "image/png": "[encoded data removed]",
      "text/plain": [
       "<Figure size 1728x432 with 1 Axes>"
      ]
     },
     "metadata": {
      "needs_background": "light"
     },
     "output_type": "display_data"
    },
    {
     "data": {
      "image/png": "[encoded data removed]",
      "text/plain": [
       "<Figure size 1728x432 with 1 Axes>"
      ]
     },
     "metadata": {
      "needs_background": "light"
     },
     "output_type": "display_data"
    },
    {
     "data": {
      "image/png": "[encoded data removed]",
      "text/plain": [
       "<Figure size 1728x432 with 1 Axes>"
      ]
     },
     "metadata": {
      "needs_background": "light"
     },
     "output_type": "display_data"
    }
   ],
   "source": [
    "\n",
    "def plot_count_distribution(data):\n",
    "    for column in data.select_dtypes(include='object').columns:\n",
    "        plt.figure(figsize=(24, 6))  # Increase width of the figure\n",
    "        sns.countplot(data[column], color='#AA5500')  # Set the color here\n",
    "        plt.title(f'Count Distribution of {column}')\n",
    "        plt.xlabel(column)\n",
    "        plt.ylabel('Count')\n",
    "        plt.xticks(rotation=45)  # Rotate x-axis labels for better readability\n",
    "        plt.show()\n",
    "\n",
    "# Assuming your dataset is named 'df'\n",
    "# Plot count distribution of categorical data\n",
    "plot_count_distribution(df)"
   ]
  },
  {
   "cell_type": "markdown",
   "id": "acb09a7f",
   "metadata": {
    "papermill": {
     "duration": 0.197577,
     "end_time": "2024-07-27T21:27:31.563187",
     "exception": false,
     "start_time": "2024-07-27T21:27:31.365610",
     "status": "completed"
    },
    "tags": []
   },
   "source": [
    "Plot Count Distribution for Categorical Data"
   ]
  },
  {
   "cell_type": "markdown",
   "id": "a9a23394",
   "metadata": {
    "papermill": {
     "duration": 0.188672,
     "end_time": "2024-07-27T21:27:31.938057",
     "exception": false,
     "start_time": "2024-07-27T21:27:31.749385",
     "status": "completed"
    },
    "tags": []
   },
   "source": [
    "MAKE GRAPHS WIDER"
   ]
  },
  {
   "cell_type": "code",
   "execution_count": 72,
   "id": "0f49dd6e",
   "metadata": {
    "execution": {
     "iopub.execute_input": "2024-07-27T21:27:32.319694Z",
     "iopub.status.busy": "2024-07-27T21:27:32.317978Z",
     "iopub.status.idle": "2024-07-27T21:27:34.660512Z",
     "shell.execute_reply": "2024-07-27T21:27:34.659208Z"
    },
    "papermill": {
     "duration": 2.536557,
     "end_time": "2024-07-27T21:27:34.663148",
     "exception": false,
     "start_time": "2024-07-27T21:27:32.126591",
     "status": "completed"
    },
    "tags": []
   },
   "outputs": [
    {
     "data": {
      "image/png": "[encoded data removed]",
      "text/plain": [
       "<Figure size 1728x432 with 1 Axes>"
      ]
     },
     "metadata": {
      "needs_background": "light"
     },
     "output_type": "display_data"
    },
    {
     "data": {
      "image/png": "[encoded data removed]",
      "text/plain": [
       "<Figure size 1728x432 with 1 Axes>"
      ]
     },
     "metadata": {
      "needs_background": "light"
     },
     "output_type": "display_data"
    },
    {
     "data": {
      "image/png": "[encoded data removed]",
      "text/plain": [
       "<Figure size 1728x432 with 1 Axes>"
      ]
     },
     "metadata": {
      "needs_background": "light"
     },
     "output_type": "display_data"
    },
    {
     "data": {
      "image/png": "[encoded data removed]",
      "text/plain": [
       "<Figure size 1728x432 with 1 Axes>"
      ]
     },
     "metadata": {
      "needs_background": "light"
     },
     "output_type": "display_data"
    },
    {
     "data": {
      "image/png": "[encoded data removed]",
      "text/plain": [
       "<Figure size 1728x432 with 1 Axes>"
      ]
     },
     "metadata": {
      "needs_background": "light"
     },
     "output_type": "display_data"
    },
    {
     "data": {
      "image/png": "[encoded data removed]",
      "text/plain": [
       "<Figure size 1728x432 with 1 Axes>"
      ]
     },
     "metadata": {
      "needs_background": "light"
     },
     "output_type": "display_data"
    },
    {
     "data": {
      "image/png": "[encoded data removed]",
      "text/plain": [
       "<Figure size 1728x432 with 1 Axes>"
      ]
     },
     "metadata": {
      "needs_background": "light"
     },
     "output_type": "display_data"
    },
    {
     "data": {
      "image/png": "[encoded data removed]",
      "text/plain": [
       "<Figure size 1728x432 with 1 Axes>"
      ]
     },
     "metadata": {
      "needs_background": "light"
     },
     "output_type": "display_data"
    },
    {
     "data": {
      "image/png": "[encoded data removed]",
      "text/plain": [
       "<Figure size 1728x432 with 1 Axes>"
      ]
     },
     "metadata": {
      "needs_background": "light"
     },
     "output_type": "display_data"
    }
   ],
   "source": [
    "import seaborn as sns\n",
    "import matplotlib.pyplot as plt\n",
    "\n",
    "def plot_count_distribution(data):\n",
    "    for column in data.select_dtypes(include='object').columns:\n",
    "        plt.figure(figsize=(24, 6))  # Increase width of the figure\n",
    "        sns.countplot(data[column], color='#AA5500')  # Set the color here\n",
    "        plt.title(f'Count Distribution of {column}')\n",
    "        plt.xlabel(column)\n",
    "        plt.ylabel('Count')\n",
    "        plt.xticks(rotation=45)  # Rotate x-axis labels for better readability\n",
    "        plt.show()\n",
    "\n",
    "# Assuming your dataset is named 'df'\n",
    "# Plot count distribution of categorical data\n",
    "plot_count_distribution(df)\n"
   ]
  },
  {
   "cell_type": "markdown",
   "id": "f3beb8b9",
   "metadata": {
    "papermill": {
     "duration": 0.192001,
     "end_time": "2024-07-27T21:27:35.049010",
     "exception": false,
     "start_time": "2024-07-27T21:27:34.857009",
     "status": "completed"
    },
    "tags": []
   },
   "source": [
    "# Aggregate Mental Health Indicator"
   ]
  },
  {
   "cell_type": "code",
   "execution_count": 73,
   "id": "afa981f1",
   "metadata": {
    "execution": {
     "iopub.execute_input": "2024-07-27T21:27:35.444628Z",
     "iopub.status.busy": "2024-07-27T21:27:35.444307Z",
     "iopub.status.idle": "2024-07-27T21:27:35.592318Z",
     "shell.execute_reply": "2024-07-27T21:27:35.591035Z"
    },
    "papermill": {
     "duration": 0.351795,
     "end_time": "2024-07-27T21:27:35.596965",
     "exception": false,
     "start_time": "2024-07-27T21:27:35.245170",
     "status": "completed"
    },
    "tags": []
   },
   "outputs": [
    {
     "name": "stdout",
     "output_type": "stream",
     "text": [
      "        Timestamp  Gender   Age             Course Year of Study         CGPA  \\\n",
      "0  8/7/2020 12:02  Female  18.0        Engineering        year 1  3.00 - 3.49   \n",
      "1  8/7/2020 12:04    Male  21.0  Islamic education        year 2  3.00 - 3.49   \n",
      "2  8/7/2020 12:05    Male  19.0                BIT        Year 1  3.00 - 3.49   \n",
      "3  8/7/2020 12:06  Female  22.0               Laws        year 3  3.00 - 3.49   \n",
      "4  8/7/2020 12:13    Male  23.0       Mathemathics        year 4  3.00 - 3.49   \n",
      "\n",
      "  Marital status Depression Anxiety Panic attack Treatment Mental Issues  \n",
      "0             No        Yes      No          Yes        No           yes  \n",
      "1             No         No     Yes           No        No           yes  \n",
      "2             No        Yes     Yes          Yes        No           yes  \n",
      "3            Yes        Yes      No           No        No           yes  \n",
      "4             No         No      No           No        No            no  \n"
     ]
    },
    {
     "data": {
      "image/png": "[encoded data removed]",
      "text/plain": [
       "<Figure size 432x288 with 1 Axes>"
      ]
     },
     "metadata": {},
     "output_type": "display_data"
    }
   ],
   "source": [
    "\n",
    "import pandas as pd\n",
    " \n",
    " \n",
    "data = pd.read_csv(\"/kaggle/input/student-mental-health/Student Mental health.csv\")\n",
    "data.columns = ['Timestamp', 'Gender', 'Age', 'Course',\n",
    "                'Year of Study', 'CGPA', 'Marital status',\n",
    "                'Depression', 'Anxiety', 'Panic attack', 'Treatment']\n",
    " \n",
    "def aggregate_mental_issues(row):\n",
    "    if row['Depression'] == 'Yes' or row['Anxiety'] == 'Yes' or row['Panic attack'] == 'Yes':\n",
    "        return 'yes'\n",
    "    else:\n",
    "        return 'no'\n",
    " \n",
    "data['Mental Issues'] = data.apply(aggregate_mental_issues, axis=1)\n",
    " \n",
    " \n",
    "print(data.head())\n",
    "\n",
    "# Plotting the pie chart\n",
    "data['Mental Issues'].value_counts().plot(kind='pie', autopct='%1.1f%%', colors=['#FF0000', '#0000FF'], title='Mental Issues Distribution')\n",
    "\n",
    "# Display the plot\n",
    "plt.show()\n",
    " "
   ]
  }
 ],
 "metadata": {
  "kaggle": {
   "accelerator": "none",
   "dataSources": [
    {
     "datasetId": 2594075,
     "sourceId": 4429121,
     "sourceType": "datasetVersion"
    },
    {
     "datasetId": 2168167,
     "sourceId": 5012788,
     "sourceType": "datasetVersion"
    }
   ],
   "dockerImageVersionId": 30191,
   "isGpuEnabled": false,
   "isInternetEnabled": false,
   "language": "python",
   "sourceType": "notebook"
  },
  "kernelspec": {
   "display_name": "Python 3",
   "language": "python",
   "name": "python3"
  },
  "language_info": {
   "codemirror_mode": {
    "name": "ipython",
    "version": 3
   },
   "file_extension": ".py",
   "mimetype": "text/x-python",
   "name": "python",
   "nbconvert_exporter": "python",
   "pygments_lexer": "ipython3",
   "version": "3.7.12"
  },
  "papermill": {
   "default_parameters": {},
   "duration": 60.579667,
   "end_time": "2024-07-27T21:27:36.956932",
   "environment_variables": {},
   "exception": null,
   "input_path": "__notebook__.ipynb",
   "output_path": "__notebook__.ipynb",
   "parameters": {},
   "start_time": "2024-07-27T21:26:36.377265",
   "version": "2.3.4"
  }
 },
 "nbformat": 4,
 "nbformat_minor": 5
}
