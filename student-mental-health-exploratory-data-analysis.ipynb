{
 "cells": [
  {
   "cell_type": "markdown",
   "id": "31050839",
   "metadata": {
    "papermill": {
     "duration": 0.087241,
     "end_time": "2024-02-12T05:35:12.285450",
     "exception": false,
     "start_time": "2024-02-12T05:35:12.198209",
     "status": "completed"
    },
    "tags": []
   },
   "source": [
    "TODOS:\n",
    "* a.\tCheck total number of entries and column types\n",
    "1.     101\n",
    "1.     11 COLUMN TYPES\n",
    "* b.\tCheck any null (i.e. missing) values\n",
    "* c.\tCheck duplicate entries\n",
    "* d.\tPlot distribution of numeric data (univariate and pairwise joint distribution)\n",
    "* e.\tPlot count distribution of categorical data\n",
    "* f.\tAnalyze time series of numeric data by daily, monthly and yearly frequencies\n",
    "* g.\tCheck with your mentor on additional steps to conduct (see below)"
   ]
  },
  {
   "cell_type": "markdown",
   "id": "0f364828",
   "metadata": {
    "papermill": {
     "duration": 0.082387,
     "end_time": "2024-02-12T05:35:12.452506",
     "exception": false,
     "start_time": "2024-02-12T05:35:12.370119",
     "status": "completed"
    },
    "tags": []
   },
   "source": [
    "STEP 0: Imports and Reading in Data\n"
   ]
  },
  {
   "cell_type": "code",
   "execution_count": 1,
   "id": "98501438",
   "metadata": {
    "execution": {
     "iopub.execute_input": "2024-02-12T05:35:12.620653Z",
     "iopub.status.busy": "2024-02-12T05:35:12.620284Z",
     "iopub.status.idle": "2024-02-12T05:35:13.786703Z",
     "shell.execute_reply": "2024-02-12T05:35:13.785800Z"
    },
    "papermill": {
     "duration": 1.255609,
     "end_time": "2024-02-12T05:35:13.790216",
     "exception": false,
     "start_time": "2024-02-12T05:35:12.534607",
     "status": "completed"
    },
    "tags": []
   },
   "outputs": [
    {
     "name": "stdout",
     "output_type": "stream",
     "text": [
      "/kaggle/input/mental-health-conversational-data/intents.json\n",
      "/kaggle/input/student-mental-health/Student Mental health.csv\n"
     ]
    }
   ],
   "source": [
    "# This Python 3 environment comes with many helpful analytics libraries installed\n",
    "# It is defined by the kaggle/python Docker image: https://github.com/kaggle/docker-python\n",
    "# For example, here's several helpful packages to load\n",
    "\n",
    "import numpy as np # linear algebra\n",
    "import pandas as pd # data processing, CSV file I/O (e.g. pd.read_csv)\n",
    "import matplotlib.pyplot as plt\n",
    "import seaborn as sns\n",
    "import warnings\n",
    "warnings.filterwarnings(\"ignore\")\n",
    "# Input data files are available in the read-only \"../input/\" directory\n",
    "# For example, running this (by clicking run or pressing Shift+Enter) will list all files under the input directory\n",
    "\n",
    "import os\n",
    "for dirname, _, filenames in os.walk('/kaggle/input'):\n",
    "    for filename in filenames:\n",
    "        print(os.path.join(dirname, filename))\n",
    "\n",
    "# You can write up to 20GB to the current directory (/kaggle/working/) that gets preserved as output when you create a version using \"Save & Run All\" \n",
    "# You can also write temporary files to /kaggle/temp/, but they won't be saved outside of the current session"
   ]
  },
  {
   "cell_type": "code",
   "execution_count": 2,
   "id": "4ba1285c",
   "metadata": {
    "execution": {
     "iopub.execute_input": "2024-02-12T05:35:13.963913Z",
     "iopub.status.busy": "2024-02-12T05:35:13.963516Z",
     "iopub.status.idle": "2024-02-12T05:35:13.980406Z",
     "shell.execute_reply": "2024-02-12T05:35:13.979183Z"
    },
    "papermill": {
     "duration": 0.105696,
     "end_time": "2024-02-12T05:35:13.983445",
     "exception": false,
     "start_time": "2024-02-12T05:35:13.877749",
     "status": "completed"
    },
    "tags": []
   },
   "outputs": [],
   "source": [
    "data = pd.read_csv(\"/kaggle/input/student-mental-health/Student Mental health.csv\")"
   ]
  },
  {
   "cell_type": "markdown",
   "id": "e8d653af",
   "metadata": {
    "papermill": {
     "duration": 0.085342,
     "end_time": "2024-02-12T05:35:14.155684",
     "exception": false,
     "start_time": "2024-02-12T05:35:14.070342",
     "status": "completed"
    },
    "tags": []
   },
   "source": [
    "STEP 1: Data Understanding\n",
    "* Dataframe shape\n",
    "* head and tail\n",
    "* dtypes\n",
    "* describes"
   ]
  },
  {
   "cell_type": "code",
   "execution_count": 3,
   "id": "194f1b38",
   "metadata": {
    "execution": {
     "iopub.execute_input": "2024-02-12T05:35:14.324764Z",
     "iopub.status.busy": "2024-02-12T05:35:14.324214Z",
     "iopub.status.idle": "2024-02-12T05:35:14.352327Z",
     "shell.execute_reply": "2024-02-12T05:35:14.351063Z"
    },
    "papermill": {
     "duration": 0.115049,
     "end_time": "2024-02-12T05:35:14.355008",
     "exception": false,
     "start_time": "2024-02-12T05:35:14.239959",
     "status": "completed"
    },
    "tags": []
   },
   "outputs": [
    {
     "data": {
      "text/html": [
       "<div>\n",
       "<style scoped>\n",
       "    .dataframe tbody tr th:only-of-type {\n",
       "        vertical-align: middle;\n",
       "    }\n",
       "\n",
       "    .dataframe tbody tr th {\n",
       "        vertical-align: top;\n",
       "    }\n",
       "\n",
       "    .dataframe thead th {\n",
       "        text-align: right;\n",
       "    }\n",
       "</style>\n",
       "<table border=\"1\" class=\"dataframe\">\n",
       "  <thead>\n",
       "    <tr style=\"text-align: right;\">\n",
       "      <th></th>\n",
       "      <th>Timestamp</th>\n",
       "      <th>Choose your gender</th>\n",
       "      <th>Age</th>\n",
       "      <th>What is your course?</th>\n",
       "      <th>Your current year of Study</th>\n",
       "      <th>What is your CGPA?</th>\n",
       "      <th>Marital status</th>\n",
       "      <th>Do you have Depression?</th>\n",
       "      <th>Do you have Anxiety?</th>\n",
       "      <th>Do you have Panic attack?</th>\n",
       "      <th>Did you seek any specialist for a treatment?</th>\n",
       "    </tr>\n",
       "  </thead>\n",
       "  <tbody>\n",
       "    <tr>\n",
       "      <th>0</th>\n",
       "      <td>8/7/2020 12:02</td>\n",
       "      <td>Female</td>\n",
       "      <td>18.0</td>\n",
       "      <td>Engineering</td>\n",
       "      <td>year 1</td>\n",
       "      <td>3.00 - 3.49</td>\n",
       "      <td>No</td>\n",
       "      <td>Yes</td>\n",
       "      <td>No</td>\n",
       "      <td>Yes</td>\n",
       "      <td>No</td>\n",
       "    </tr>\n",
       "    <tr>\n",
       "      <th>1</th>\n",
       "      <td>8/7/2020 12:04</td>\n",
       "      <td>Male</td>\n",
       "      <td>21.0</td>\n",
       "      <td>Islamic education</td>\n",
       "      <td>year 2</td>\n",
       "      <td>3.00 - 3.49</td>\n",
       "      <td>No</td>\n",
       "      <td>No</td>\n",
       "      <td>Yes</td>\n",
       "      <td>No</td>\n",
       "      <td>No</td>\n",
       "    </tr>\n",
       "    <tr>\n",
       "      <th>2</th>\n",
       "      <td>8/7/2020 12:05</td>\n",
       "      <td>Male</td>\n",
       "      <td>19.0</td>\n",
       "      <td>BIT</td>\n",
       "      <td>Year 1</td>\n",
       "      <td>3.00 - 3.49</td>\n",
       "      <td>No</td>\n",
       "      <td>Yes</td>\n",
       "      <td>Yes</td>\n",
       "      <td>Yes</td>\n",
       "      <td>No</td>\n",
       "    </tr>\n",
       "  </tbody>\n",
       "</table>\n",
       "</div>"
      ],
      "text/plain": [
       "        Timestamp Choose your gender   Age What is your course?  \\\n",
       "0  8/7/2020 12:02             Female  18.0          Engineering   \n",
       "1  8/7/2020 12:04               Male  21.0    Islamic education   \n",
       "2  8/7/2020 12:05               Male  19.0                  BIT   \n",
       "\n",
       "  Your current year of Study What is your CGPA? Marital status  \\\n",
       "0                     year 1        3.00 - 3.49             No   \n",
       "1                     year 2        3.00 - 3.49             No   \n",
       "2                     Year 1        3.00 - 3.49             No   \n",
       "\n",
       "  Do you have Depression? Do you have Anxiety? Do you have Panic attack?  \\\n",
       "0                     Yes                   No                       Yes   \n",
       "1                      No                  Yes                        No   \n",
       "2                     Yes                  Yes                       Yes   \n",
       "\n",
       "  Did you seek any specialist for a treatment?  \n",
       "0                                           No  \n",
       "1                                           No  \n",
       "2                                           No  "
      ]
     },
     "execution_count": 3,
     "metadata": {},
     "output_type": "execute_result"
    }
   ],
   "source": [
    "data.head(3)"
   ]
  },
  {
   "cell_type": "code",
   "execution_count": 4,
   "id": "484d1992",
   "metadata": {
    "execution": {
     "iopub.execute_input": "2024-02-12T05:35:14.527385Z",
     "iopub.status.busy": "2024-02-12T05:35:14.527044Z",
     "iopub.status.idle": "2024-02-12T05:35:14.543142Z",
     "shell.execute_reply": "2024-02-12T05:35:14.542511Z"
    },
    "papermill": {
     "duration": 0.102871,
     "end_time": "2024-02-12T05:35:14.545511",
     "exception": false,
     "start_time": "2024-02-12T05:35:14.442640",
     "status": "completed"
    },
    "tags": []
   },
   "outputs": [
    {
     "data": {
      "text/html": [
       "<div>\n",
       "<style scoped>\n",
       "    .dataframe tbody tr th:only-of-type {\n",
       "        vertical-align: middle;\n",
       "    }\n",
       "\n",
       "    .dataframe tbody tr th {\n",
       "        vertical-align: top;\n",
       "    }\n",
       "\n",
       "    .dataframe thead th {\n",
       "        text-align: right;\n",
       "    }\n",
       "</style>\n",
       "<table border=\"1\" class=\"dataframe\">\n",
       "  <thead>\n",
       "    <tr style=\"text-align: right;\">\n",
       "      <th></th>\n",
       "      <th>Timestamp</th>\n",
       "      <th>Choose your gender</th>\n",
       "      <th>Age</th>\n",
       "      <th>What is your course?</th>\n",
       "      <th>Your current year of Study</th>\n",
       "      <th>What is your CGPA?</th>\n",
       "      <th>Marital status</th>\n",
       "      <th>Do you have Depression?</th>\n",
       "      <th>Do you have Anxiety?</th>\n",
       "      <th>Do you have Panic attack?</th>\n",
       "      <th>Did you seek any specialist for a treatment?</th>\n",
       "    </tr>\n",
       "  </thead>\n",
       "  <tbody>\n",
       "    <tr>\n",
       "      <th>98</th>\n",
       "      <td>13/07/2020 21:22:56</td>\n",
       "      <td>Female</td>\n",
       "      <td>19.0</td>\n",
       "      <td>Nursing</td>\n",
       "      <td>Year 3</td>\n",
       "      <td>3.50 - 4.00</td>\n",
       "      <td>Yes</td>\n",
       "      <td>Yes</td>\n",
       "      <td>No</td>\n",
       "      <td>Yes</td>\n",
       "      <td>No</td>\n",
       "    </tr>\n",
       "    <tr>\n",
       "      <th>99</th>\n",
       "      <td>13/07/2020 21:23:57</td>\n",
       "      <td>Female</td>\n",
       "      <td>23.0</td>\n",
       "      <td>Pendidikan Islam</td>\n",
       "      <td>year 4</td>\n",
       "      <td>3.50 - 4.00</td>\n",
       "      <td>No</td>\n",
       "      <td>No</td>\n",
       "      <td>No</td>\n",
       "      <td>No</td>\n",
       "      <td>No</td>\n",
       "    </tr>\n",
       "    <tr>\n",
       "      <th>100</th>\n",
       "      <td>18/07/2020 20:16:21</td>\n",
       "      <td>Male</td>\n",
       "      <td>20.0</td>\n",
       "      <td>Biomedical science</td>\n",
       "      <td>Year 2</td>\n",
       "      <td>3.00 - 3.49</td>\n",
       "      <td>No</td>\n",
       "      <td>No</td>\n",
       "      <td>No</td>\n",
       "      <td>No</td>\n",
       "      <td>No</td>\n",
       "    </tr>\n",
       "  </tbody>\n",
       "</table>\n",
       "</div>"
      ],
      "text/plain": [
       "               Timestamp Choose your gender   Age What is your course?  \\\n",
       "98   13/07/2020 21:22:56             Female  19.0             Nursing    \n",
       "99   13/07/2020 21:23:57             Female  23.0     Pendidikan Islam   \n",
       "100  18/07/2020 20:16:21               Male  20.0   Biomedical science   \n",
       "\n",
       "    Your current year of Study What is your CGPA? Marital status  \\\n",
       "98                      Year 3        3.50 - 4.00            Yes   \n",
       "99                      year 4        3.50 - 4.00             No   \n",
       "100                     Year 2        3.00 - 3.49             No   \n",
       "\n",
       "    Do you have Depression? Do you have Anxiety? Do you have Panic attack?  \\\n",
       "98                      Yes                   No                       Yes   \n",
       "99                       No                   No                        No   \n",
       "100                      No                   No                        No   \n",
       "\n",
       "    Did you seek any specialist for a treatment?  \n",
       "98                                            No  \n",
       "99                                            No  \n",
       "100                                           No  "
      ]
     },
     "execution_count": 4,
     "metadata": {},
     "output_type": "execute_result"
    }
   ],
   "source": [
    "data.tail(3)"
   ]
  },
  {
   "cell_type": "markdown",
   "id": "f6e2c725",
   "metadata": {
    "papermill": {
     "duration": 0.087404,
     "end_time": "2024-02-12T05:35:14.717161",
     "exception": false,
     "start_time": "2024-02-12T05:35:14.629757",
     "status": "completed"
    },
    "tags": []
   },
   "source": [
    "CHECKING FOR NULL\n",
    "entry 434"
   ]
  },
  {
   "cell_type": "code",
   "execution_count": 5,
   "id": "d6f73e31",
   "metadata": {
    "execution": {
     "iopub.execute_input": "2024-02-12T05:35:14.891048Z",
     "iopub.status.busy": "2024-02-12T05:35:14.889710Z",
     "iopub.status.idle": "2024-02-12T05:35:14.918722Z",
     "shell.execute_reply": "2024-02-12T05:35:14.917954Z"
    },
    "papermill": {
     "duration": 0.11796,
     "end_time": "2024-02-12T05:35:14.921190",
     "exception": false,
     "start_time": "2024-02-12T05:35:14.803230",
     "status": "completed"
    },
    "tags": []
   },
   "outputs": [
    {
     "data": {
      "text/html": [
       "<div>\n",
       "<style scoped>\n",
       "    .dataframe tbody tr th:only-of-type {\n",
       "        vertical-align: middle;\n",
       "    }\n",
       "\n",
       "    .dataframe tbody tr th {\n",
       "        vertical-align: top;\n",
       "    }\n",
       "\n",
       "    .dataframe thead th {\n",
       "        text-align: right;\n",
       "    }\n",
       "</style>\n",
       "<table border=\"1\" class=\"dataframe\">\n",
       "  <thead>\n",
       "    <tr style=\"text-align: right;\">\n",
       "      <th></th>\n",
       "      <th>Age</th>\n",
       "    </tr>\n",
       "  </thead>\n",
       "  <tbody>\n",
       "    <tr>\n",
       "      <th>count</th>\n",
       "      <td>100.00000</td>\n",
       "    </tr>\n",
       "    <tr>\n",
       "      <th>mean</th>\n",
       "      <td>20.53000</td>\n",
       "    </tr>\n",
       "    <tr>\n",
       "      <th>std</th>\n",
       "      <td>2.49628</td>\n",
       "    </tr>\n",
       "    <tr>\n",
       "      <th>min</th>\n",
       "      <td>18.00000</td>\n",
       "    </tr>\n",
       "    <tr>\n",
       "      <th>25%</th>\n",
       "      <td>18.00000</td>\n",
       "    </tr>\n",
       "    <tr>\n",
       "      <th>50%</th>\n",
       "      <td>19.00000</td>\n",
       "    </tr>\n",
       "    <tr>\n",
       "      <th>75%</th>\n",
       "      <td>23.00000</td>\n",
       "    </tr>\n",
       "    <tr>\n",
       "      <th>max</th>\n",
       "      <td>24.00000</td>\n",
       "    </tr>\n",
       "  </tbody>\n",
       "</table>\n",
       "</div>"
      ],
      "text/plain": [
       "             Age\n",
       "count  100.00000\n",
       "mean    20.53000\n",
       "std      2.49628\n",
       "min     18.00000\n",
       "25%     18.00000\n",
       "50%     19.00000\n",
       "75%     23.00000\n",
       "max     24.00000"
      ]
     },
     "execution_count": 5,
     "metadata": {},
     "output_type": "execute_result"
    }
   ],
   "source": [
    "data.describe()"
   ]
  },
  {
   "cell_type": "code",
   "execution_count": 6,
   "id": "a19f1546",
   "metadata": {
    "execution": {
     "iopub.execute_input": "2024-02-12T05:35:15.095717Z",
     "iopub.status.busy": "2024-02-12T05:35:15.094306Z",
     "iopub.status.idle": "2024-02-12T05:35:15.106937Z",
     "shell.execute_reply": "2024-02-12T05:35:15.106207Z"
    },
    "papermill": {
     "duration": 0.098671,
     "end_time": "2024-02-12T05:35:15.109242",
     "exception": false,
     "start_time": "2024-02-12T05:35:15.010571",
     "status": "completed"
    },
    "tags": []
   },
   "outputs": [
    {
     "data": {
      "text/plain": [
       "0"
      ]
     },
     "execution_count": 6,
     "metadata": {},
     "output_type": "execute_result"
    }
   ],
   "source": [
    "data.duplicated().sum()\n"
   ]
  },
  {
   "cell_type": "markdown",
   "id": "93f04152",
   "metadata": {
    "papermill": {
     "duration": 0.08971,
     "end_time": "2024-02-12T05:35:15.286202",
     "exception": false,
     "start_time": "2024-02-12T05:35:15.196492",
     "status": "completed"
    },
    "tags": []
   },
   "source": [
    "DATA CLEANING AND TRANSFORMATION\n",
    "* renaming column labels for easy identification\n",
    "* handling missing values"
   ]
  },
  {
   "cell_type": "code",
   "execution_count": 7,
   "id": "e01f6201",
   "metadata": {
    "execution": {
     "iopub.execute_input": "2024-02-12T05:35:15.466670Z",
     "iopub.status.busy": "2024-02-12T05:35:15.466111Z",
     "iopub.status.idle": "2024-02-12T05:35:15.470227Z",
     "shell.execute_reply": "2024-02-12T05:35:15.469432Z"
    },
    "papermill": {
     "duration": 0.096642,
     "end_time": "2024-02-12T05:35:15.472581",
     "exception": false,
     "start_time": "2024-02-12T05:35:15.375939",
     "status": "completed"
    },
    "tags": []
   },
   "outputs": [],
   "source": [
    "df = data.copy()"
   ]
  },
  {
   "cell_type": "code",
   "execution_count": 8,
   "id": "a8df3d3f",
   "metadata": {
    "execution": {
     "iopub.execute_input": "2024-02-12T05:35:15.649098Z",
     "iopub.status.busy": "2024-02-12T05:35:15.648783Z",
     "iopub.status.idle": "2024-02-12T05:35:15.654807Z",
     "shell.execute_reply": "2024-02-12T05:35:15.653935Z"
    },
    "papermill": {
     "duration": 0.09609,
     "end_time": "2024-02-12T05:35:15.657027",
     "exception": false,
     "start_time": "2024-02-12T05:35:15.560937",
     "status": "completed"
    },
    "tags": []
   },
   "outputs": [
    {
     "data": {
      "text/plain": [
       "Index(['Timestamp', 'Choose your gender', 'Age', 'What is your course?',\n",
       "       'Your current year of Study', 'What is your CGPA?', 'Marital status',\n",
       "       'Do you have Depression?', 'Do you have Anxiety?',\n",
       "       'Do you have Panic attack?',\n",
       "       'Did you seek any specialist for a treatment?'],\n",
       "      dtype='object')"
      ]
     },
     "execution_count": 8,
     "metadata": {},
     "output_type": "execute_result"
    }
   ],
   "source": [
    "df.columns"
   ]
  },
  {
   "cell_type": "markdown",
   "id": "80f3ec05",
   "metadata": {
    "papermill": {
     "duration": 0.08738,
     "end_time": "2024-02-12T05:35:15.829023",
     "exception": false,
     "start_time": "2024-02-12T05:35:15.741643",
     "status": "completed"
    },
    "tags": []
   },
   "source": [
    "Renaming of Colum Labels"
   ]
  },
  {
   "cell_type": "code",
   "execution_count": 9,
   "id": "43514ebc",
   "metadata": {
    "execution": {
     "iopub.execute_input": "2024-02-12T05:35:16.008485Z",
     "iopub.status.busy": "2024-02-12T05:35:16.008112Z",
     "iopub.status.idle": "2024-02-12T05:35:16.013009Z",
     "shell.execute_reply": "2024-02-12T05:35:16.012058Z"
    },
    "papermill": {
     "duration": 0.098336,
     "end_time": "2024-02-12T05:35:16.015139",
     "exception": false,
     "start_time": "2024-02-12T05:35:15.916803",
     "status": "completed"
    },
    "tags": []
   },
   "outputs": [],
   "source": [
    "df.columns = ['Timestamp', 'Gender', 'Age', 'Course',\n",
    "       'Year of Study', 'CGPA', 'Marital status',\n",
    "       'Depression', 'Anxiety',\n",
    "       'Panic attack',\n",
    "       'Treatment']"
   ]
  },
  {
   "cell_type": "code",
   "execution_count": 10,
   "id": "5063e295",
   "metadata": {
    "execution": {
     "iopub.execute_input": "2024-02-12T05:35:16.185373Z",
     "iopub.status.busy": "2024-02-12T05:35:16.184667Z",
     "iopub.status.idle": "2024-02-12T05:35:16.193102Z",
     "shell.execute_reply": "2024-02-12T05:35:16.192107Z"
    },
    "papermill": {
     "duration": 0.096405,
     "end_time": "2024-02-12T05:35:16.195371",
     "exception": false,
     "start_time": "2024-02-12T05:35:16.098966",
     "status": "completed"
    },
    "tags": []
   },
   "outputs": [
    {
     "name": "stdout",
     "output_type": "stream",
     "text": [
      "Null values in each column:\n",
      "Timestamp         0\n",
      "Gender            0\n",
      "Age               1\n",
      "Course            0\n",
      "Year of Study     0\n",
      "CGPA              0\n",
      "Marital status    0\n",
      "Depression        0\n",
      "Anxiety           0\n",
      "Panic attack      0\n",
      "Treatment         0\n",
      "dtype: int64\n"
     ]
    }
   ],
   "source": [
    "# Assuming your dataset is named 'df'\n",
    "# Check for null or missing values in the dataset\n",
    "null_values = df.isnull().sum()\n",
    "\n",
    "# Display the count of null values for each column\n",
    "print(\"Null values in each column:\")\n",
    "print(null_values)"
   ]
  },
  {
   "cell_type": "code",
   "execution_count": 11,
   "id": "53dcf96d",
   "metadata": {
    "execution": {
     "iopub.execute_input": "2024-02-12T05:35:16.366194Z",
     "iopub.status.busy": "2024-02-12T05:35:16.365381Z",
     "iopub.status.idle": "2024-02-12T05:35:16.391514Z",
     "shell.execute_reply": "2024-02-12T05:35:16.390347Z"
    },
    "papermill": {
     "duration": 0.114842,
     "end_time": "2024-02-12T05:35:16.394158",
     "exception": false,
     "start_time": "2024-02-12T05:35:16.279316",
     "status": "completed"
    },
    "tags": []
   },
   "outputs": [
    {
     "data": {
      "text/html": [
       "<div>\n",
       "<style scoped>\n",
       "    .dataframe tbody tr th:only-of-type {\n",
       "        vertical-align: middle;\n",
       "    }\n",
       "\n",
       "    .dataframe tbody tr th {\n",
       "        vertical-align: top;\n",
       "    }\n",
       "\n",
       "    .dataframe thead th {\n",
       "        text-align: right;\n",
       "    }\n",
       "</style>\n",
       "<table border=\"1\" class=\"dataframe\">\n",
       "  <thead>\n",
       "    <tr style=\"text-align: right;\">\n",
       "      <th></th>\n",
       "      <th>Timestamp</th>\n",
       "      <th>Gender</th>\n",
       "      <th>Age</th>\n",
       "      <th>Course</th>\n",
       "      <th>Year of Study</th>\n",
       "      <th>CGPA</th>\n",
       "      <th>Marital status</th>\n",
       "      <th>Depression</th>\n",
       "      <th>Anxiety</th>\n",
       "      <th>Panic attack</th>\n",
       "      <th>Treatment</th>\n",
       "    </tr>\n",
       "  </thead>\n",
       "  <tbody>\n",
       "    <tr>\n",
       "      <th>0</th>\n",
       "      <td>8/7/2020 12:02</td>\n",
       "      <td>Female</td>\n",
       "      <td>18.0</td>\n",
       "      <td>Engineering</td>\n",
       "      <td>year 1</td>\n",
       "      <td>3.00 - 3.49</td>\n",
       "      <td>No</td>\n",
       "      <td>Yes</td>\n",
       "      <td>No</td>\n",
       "      <td>Yes</td>\n",
       "      <td>No</td>\n",
       "    </tr>\n",
       "    <tr>\n",
       "      <th>1</th>\n",
       "      <td>8/7/2020 12:04</td>\n",
       "      <td>Male</td>\n",
       "      <td>21.0</td>\n",
       "      <td>Islamic education</td>\n",
       "      <td>year 2</td>\n",
       "      <td>3.00 - 3.49</td>\n",
       "      <td>No</td>\n",
       "      <td>No</td>\n",
       "      <td>Yes</td>\n",
       "      <td>No</td>\n",
       "      <td>No</td>\n",
       "    </tr>\n",
       "    <tr>\n",
       "      <th>2</th>\n",
       "      <td>8/7/2020 12:05</td>\n",
       "      <td>Male</td>\n",
       "      <td>19.0</td>\n",
       "      <td>BIT</td>\n",
       "      <td>Year 1</td>\n",
       "      <td>3.00 - 3.49</td>\n",
       "      <td>No</td>\n",
       "      <td>Yes</td>\n",
       "      <td>Yes</td>\n",
       "      <td>Yes</td>\n",
       "      <td>No</td>\n",
       "    </tr>\n",
       "    <tr>\n",
       "      <th>3</th>\n",
       "      <td>8/7/2020 12:06</td>\n",
       "      <td>Female</td>\n",
       "      <td>22.0</td>\n",
       "      <td>Laws</td>\n",
       "      <td>year 3</td>\n",
       "      <td>3.00 - 3.49</td>\n",
       "      <td>Yes</td>\n",
       "      <td>Yes</td>\n",
       "      <td>No</td>\n",
       "      <td>No</td>\n",
       "      <td>No</td>\n",
       "    </tr>\n",
       "    <tr>\n",
       "      <th>4</th>\n",
       "      <td>8/7/2020 12:13</td>\n",
       "      <td>Male</td>\n",
       "      <td>23.0</td>\n",
       "      <td>Mathemathics</td>\n",
       "      <td>year 4</td>\n",
       "      <td>3.00 - 3.49</td>\n",
       "      <td>No</td>\n",
       "      <td>No</td>\n",
       "      <td>No</td>\n",
       "      <td>No</td>\n",
       "      <td>No</td>\n",
       "    </tr>\n",
       "    <tr>\n",
       "      <th>...</th>\n",
       "      <td>...</td>\n",
       "      <td>...</td>\n",
       "      <td>...</td>\n",
       "      <td>...</td>\n",
       "      <td>...</td>\n",
       "      <td>...</td>\n",
       "      <td>...</td>\n",
       "      <td>...</td>\n",
       "      <td>...</td>\n",
       "      <td>...</td>\n",
       "      <td>...</td>\n",
       "    </tr>\n",
       "    <tr>\n",
       "      <th>96</th>\n",
       "      <td>13/07/2020 19:56:49</td>\n",
       "      <td>Female</td>\n",
       "      <td>21.0</td>\n",
       "      <td>BCS</td>\n",
       "      <td>year 1</td>\n",
       "      <td>3.50 - 4.00</td>\n",
       "      <td>No</td>\n",
       "      <td>No</td>\n",
       "      <td>Yes</td>\n",
       "      <td>No</td>\n",
       "      <td>No</td>\n",
       "    </tr>\n",
       "    <tr>\n",
       "      <th>97</th>\n",
       "      <td>13/07/2020 21:21:42</td>\n",
       "      <td>Male</td>\n",
       "      <td>18.0</td>\n",
       "      <td>Engineering</td>\n",
       "      <td>Year 2</td>\n",
       "      <td>3.00 - 3.49</td>\n",
       "      <td>No</td>\n",
       "      <td>Yes</td>\n",
       "      <td>Yes</td>\n",
       "      <td>No</td>\n",
       "      <td>No</td>\n",
       "    </tr>\n",
       "    <tr>\n",
       "      <th>98</th>\n",
       "      <td>13/07/2020 21:22:56</td>\n",
       "      <td>Female</td>\n",
       "      <td>19.0</td>\n",
       "      <td>Nursing</td>\n",
       "      <td>Year 3</td>\n",
       "      <td>3.50 - 4.00</td>\n",
       "      <td>Yes</td>\n",
       "      <td>Yes</td>\n",
       "      <td>No</td>\n",
       "      <td>Yes</td>\n",
       "      <td>No</td>\n",
       "    </tr>\n",
       "    <tr>\n",
       "      <th>99</th>\n",
       "      <td>13/07/2020 21:23:57</td>\n",
       "      <td>Female</td>\n",
       "      <td>23.0</td>\n",
       "      <td>Pendidikan Islam</td>\n",
       "      <td>year 4</td>\n",
       "      <td>3.50 - 4.00</td>\n",
       "      <td>No</td>\n",
       "      <td>No</td>\n",
       "      <td>No</td>\n",
       "      <td>No</td>\n",
       "      <td>No</td>\n",
       "    </tr>\n",
       "    <tr>\n",
       "      <th>100</th>\n",
       "      <td>18/07/2020 20:16:21</td>\n",
       "      <td>Male</td>\n",
       "      <td>20.0</td>\n",
       "      <td>Biomedical science</td>\n",
       "      <td>Year 2</td>\n",
       "      <td>3.00 - 3.49</td>\n",
       "      <td>No</td>\n",
       "      <td>No</td>\n",
       "      <td>No</td>\n",
       "      <td>No</td>\n",
       "      <td>No</td>\n",
       "    </tr>\n",
       "  </tbody>\n",
       "</table>\n",
       "<p>101 rows × 11 columns</p>\n",
       "</div>"
      ],
      "text/plain": [
       "               Timestamp  Gender   Age              Course Year of Study  \\\n",
       "0         8/7/2020 12:02  Female  18.0         Engineering        year 1   \n",
       "1         8/7/2020 12:04    Male  21.0   Islamic education        year 2   \n",
       "2         8/7/2020 12:05    Male  19.0                 BIT        Year 1   \n",
       "3         8/7/2020 12:06  Female  22.0                Laws        year 3   \n",
       "4         8/7/2020 12:13    Male  23.0        Mathemathics        year 4   \n",
       "..                   ...     ...   ...                 ...           ...   \n",
       "96   13/07/2020 19:56:49  Female  21.0                 BCS        year 1   \n",
       "97   13/07/2020 21:21:42    Male  18.0         Engineering        Year 2   \n",
       "98   13/07/2020 21:22:56  Female  19.0            Nursing         Year 3   \n",
       "99   13/07/2020 21:23:57  Female  23.0    Pendidikan Islam        year 4   \n",
       "100  18/07/2020 20:16:21    Male  20.0  Biomedical science        Year 2   \n",
       "\n",
       "            CGPA Marital status Depression Anxiety Panic attack Treatment  \n",
       "0    3.00 - 3.49             No        Yes      No          Yes        No  \n",
       "1    3.00 - 3.49             No         No     Yes           No        No  \n",
       "2    3.00 - 3.49             No        Yes     Yes          Yes        No  \n",
       "3    3.00 - 3.49            Yes        Yes      No           No        No  \n",
       "4    3.00 - 3.49             No         No      No           No        No  \n",
       "..           ...            ...        ...     ...          ...       ...  \n",
       "96   3.50 - 4.00             No         No     Yes           No        No  \n",
       "97   3.00 - 3.49             No        Yes     Yes           No        No  \n",
       "98   3.50 - 4.00            Yes        Yes      No          Yes        No  \n",
       "99   3.50 - 4.00             No         No      No           No        No  \n",
       "100  3.00 - 3.49             No         No      No           No        No  \n",
       "\n",
       "[101 rows x 11 columns]"
      ]
     },
     "execution_count": 11,
     "metadata": {},
     "output_type": "execute_result"
    }
   ],
   "source": [
    "df"
   ]
  },
  {
   "cell_type": "code",
   "execution_count": 12,
   "id": "eda73a9c",
   "metadata": {
    "execution": {
     "iopub.execute_input": "2024-02-12T05:35:16.579221Z",
     "iopub.status.busy": "2024-02-12T05:35:16.578132Z",
     "iopub.status.idle": "2024-02-12T05:35:16.584676Z",
     "shell.execute_reply": "2024-02-12T05:35:16.584051Z"
    },
    "papermill": {
     "duration": 0.100744,
     "end_time": "2024-02-12T05:35:16.586728",
     "exception": false,
     "start_time": "2024-02-12T05:35:16.485984",
     "status": "completed"
    },
    "tags": []
   },
   "outputs": [
    {
     "data": {
      "text/plain": [
       "array(['year 1', 'year 2', 'Year 1', 'year 3', 'year 4', 'Year 2',\n",
       "       'Year 3'], dtype=object)"
      ]
     },
     "execution_count": 12,
     "metadata": {},
     "output_type": "execute_result"
    }
   ],
   "source": [
    "df['Year of Study'].unique()"
   ]
  },
  {
   "cell_type": "code",
   "execution_count": 13,
   "id": "53a56c26",
   "metadata": {
    "execution": {
     "iopub.execute_input": "2024-02-12T05:35:16.773019Z",
     "iopub.status.busy": "2024-02-12T05:35:16.771850Z",
     "iopub.status.idle": "2024-02-12T05:35:16.778195Z",
     "shell.execute_reply": "2024-02-12T05:35:16.777552Z"
    },
    "papermill": {
     "duration": 0.101253,
     "end_time": "2024-02-12T05:35:16.780540",
     "exception": false,
     "start_time": "2024-02-12T05:35:16.679287",
     "status": "completed"
    },
    "tags": []
   },
   "outputs": [],
   "source": [
    "df['Year of Study'].replace({'year 1': 'year 1', 'year 2': 'year 2', 'Year 1': 'year 1', 'year 3': 'year 3', 'year 4': 'year 4', 'Year 2': 'year 2',\n",
    "       'Year 3': 'year 3'}, inplace = True)"
   ]
  },
  {
   "cell_type": "code",
   "execution_count": 14,
   "id": "9f37578e",
   "metadata": {
    "execution": {
     "iopub.execute_input": "2024-02-12T05:35:16.962149Z",
     "iopub.status.busy": "2024-02-12T05:35:16.961738Z",
     "iopub.status.idle": "2024-02-12T05:35:16.969064Z",
     "shell.execute_reply": "2024-02-12T05:35:16.968079Z"
    },
    "papermill": {
     "duration": 0.101692,
     "end_time": "2024-02-12T05:35:16.971207",
     "exception": false,
     "start_time": "2024-02-12T05:35:16.869515",
     "status": "completed"
    },
    "tags": []
   },
   "outputs": [
    {
     "data": {
      "text/plain": [
       "array(['year 1', 'year 2', 'year 3', 'year 4'], dtype=object)"
      ]
     },
     "execution_count": 14,
     "metadata": {},
     "output_type": "execute_result"
    }
   ],
   "source": [
    "df['Year of Study'].unique()"
   ]
  },
  {
   "cell_type": "code",
   "execution_count": 15,
   "id": "f394395b",
   "metadata": {
    "execution": {
     "iopub.execute_input": "2024-02-12T05:35:17.148258Z",
     "iopub.status.busy": "2024-02-12T05:35:17.147776Z",
     "iopub.status.idle": "2024-02-12T05:35:17.154186Z",
     "shell.execute_reply": "2024-02-12T05:35:17.153345Z"
    },
    "papermill": {
     "duration": 0.098018,
     "end_time": "2024-02-12T05:35:17.156125",
     "exception": false,
     "start_time": "2024-02-12T05:35:17.058107",
     "status": "completed"
    },
    "tags": []
   },
   "outputs": [
    {
     "data": {
      "text/plain": [
       "array(['Engineering', 'Islamic education', 'BIT', 'Laws', 'Mathemathics',\n",
       "       'Pendidikan islam', 'BCS', 'Human Resources', 'Irkhs',\n",
       "       'Psychology', 'KENMS', 'Accounting ', 'ENM', 'Marine science',\n",
       "       'KOE', 'Banking Studies', 'Business Administration', 'Law',\n",
       "       'KIRKHS', 'Usuluddin ', 'TAASL', 'Engine', 'ALA',\n",
       "       'Biomedical science', 'koe', 'Kirkhs', 'BENL', 'Benl', 'IT', 'CTS',\n",
       "       'engin', 'Econs', 'MHSC', 'Malcom', 'Kop', 'Human Sciences ',\n",
       "       'Biotechnology', 'Communication ', 'Diploma Nursing',\n",
       "       'Pendidikan Islam ', 'Radiography', 'psychology', 'Fiqh fatwa ',\n",
       "       'DIPLOMA TESL', 'Koe', 'Fiqh', 'Islamic Education', 'Nursing ',\n",
       "       'Pendidikan Islam'], dtype=object)"
      ]
     },
     "execution_count": 15,
     "metadata": {},
     "output_type": "execute_result"
    }
   ],
   "source": [
    "df['Course'].unique()"
   ]
  },
  {
   "cell_type": "code",
   "execution_count": 16,
   "id": "ec450f7c",
   "metadata": {
    "execution": {
     "iopub.execute_input": "2024-02-12T05:35:17.330290Z",
     "iopub.status.busy": "2024-02-12T05:35:17.329530Z",
     "iopub.status.idle": "2024-02-12T05:35:17.338672Z",
     "shell.execute_reply": "2024-02-12T05:35:17.337531Z"
    },
    "papermill": {
     "duration": 0.099412,
     "end_time": "2024-02-12T05:35:17.341430",
     "exception": false,
     "start_time": "2024-02-12T05:35:17.242018",
     "status": "completed"
    },
    "tags": []
   },
   "outputs": [],
   "source": [
    "df['Course'].replace({'engin': 'Engineering' , 'Engine':'Engineering' , 'Islamic education':'Islamic Education' , 'Pendidikan islam':'Pendidikan Islam' , 'BIT':'IT', 'psychology':'Psychology', 'koe': 'KOE','Koe': 'KOE', 'Kirkhs': 'Irkhs', 'KIRKHS': 'Irkhs', 'BENL': 'Benl', 'Fiqh fatwa ': 'Fiqh', 'Laws': 'Law', 'Econs': 'Economics'} , inplace = True)"
   ]
  },
  {
   "cell_type": "code",
   "execution_count": 17,
   "id": "d127af9f",
   "metadata": {
    "execution": {
     "iopub.execute_input": "2024-02-12T05:35:17.528066Z",
     "iopub.status.busy": "2024-02-12T05:35:17.527698Z",
     "iopub.status.idle": "2024-02-12T05:35:17.534349Z",
     "shell.execute_reply": "2024-02-12T05:35:17.533461Z"
    },
    "papermill": {
     "duration": 0.100647,
     "end_time": "2024-02-12T05:35:17.536747",
     "exception": false,
     "start_time": "2024-02-12T05:35:17.436100",
     "status": "completed"
    },
    "tags": []
   },
   "outputs": [
    {
     "data": {
      "text/plain": [
       "array(['Engineering', 'Islamic Education', 'IT', 'Law', 'Mathemathics',\n",
       "       'Pendidikan Islam', 'BCS', 'Human Resources', 'Irkhs',\n",
       "       'Psychology', 'KENMS', 'Accounting ', 'ENM', 'Marine science',\n",
       "       'KOE', 'Banking Studies', 'Business Administration', 'Usuluddin ',\n",
       "       'TAASL', 'ALA', 'Biomedical science', 'Benl', 'CTS', 'Economics',\n",
       "       'MHSC', 'Malcom', 'Kop', 'Human Sciences ', 'Biotechnology',\n",
       "       'Communication ', 'Diploma Nursing', 'Pendidikan Islam ',\n",
       "       'Radiography', 'Fiqh', 'DIPLOMA TESL', 'Nursing '], dtype=object)"
      ]
     },
     "execution_count": 17,
     "metadata": {},
     "output_type": "execute_result"
    }
   ],
   "source": [
    "df['Course'].unique()"
   ]
  },
  {
   "cell_type": "code",
   "execution_count": 18,
   "id": "cf3091fb",
   "metadata": {
    "execution": {
     "iopub.execute_input": "2024-02-12T05:35:17.731118Z",
     "iopub.status.busy": "2024-02-12T05:35:17.730777Z",
     "iopub.status.idle": "2024-02-12T05:35:17.738092Z",
     "shell.execute_reply": "2024-02-12T05:35:17.737061Z"
    },
    "papermill": {
     "duration": 0.106361,
     "end_time": "2024-02-12T05:35:17.741342",
     "exception": false,
     "start_time": "2024-02-12T05:35:17.634981",
     "status": "completed"
    },
    "tags": []
   },
   "outputs": [
    {
     "data": {
      "text/plain": [
       "array(['3.00 - 3.49', '3.50 - 4.00', '3.50 - 4.00 ', '2.50 - 2.99',\n",
       "       '2.00 - 2.49', '0 - 1.99'], dtype=object)"
      ]
     },
     "execution_count": 18,
     "metadata": {},
     "output_type": "execute_result"
    }
   ],
   "source": [
    "df['CGPA'].unique()"
   ]
  },
  {
   "cell_type": "code",
   "execution_count": 19,
   "id": "af8c7763",
   "metadata": {
    "execution": {
     "iopub.execute_input": "2024-02-12T05:35:17.927660Z",
     "iopub.status.busy": "2024-02-12T05:35:17.927330Z",
     "iopub.status.idle": "2024-02-12T05:35:17.933138Z",
     "shell.execute_reply": "2024-02-12T05:35:17.931946Z"
    },
    "papermill": {
     "duration": 0.101783,
     "end_time": "2024-02-12T05:35:17.935333",
     "exception": false,
     "start_time": "2024-02-12T05:35:17.833550",
     "status": "completed"
    },
    "tags": []
   },
   "outputs": [],
   "source": [
    "df['CGPA'] = df['CGPA'].str.strip()"
   ]
  },
  {
   "cell_type": "code",
   "execution_count": 20,
   "id": "39a240e6",
   "metadata": {
    "execution": {
     "iopub.execute_input": "2024-02-12T05:35:18.112987Z",
     "iopub.status.busy": "2024-02-12T05:35:18.111982Z",
     "iopub.status.idle": "2024-02-12T05:35:18.119167Z",
     "shell.execute_reply": "2024-02-12T05:35:18.118035Z"
    },
    "papermill": {
     "duration": 0.097672,
     "end_time": "2024-02-12T05:35:18.121403",
     "exception": false,
     "start_time": "2024-02-12T05:35:18.023731",
     "status": "completed"
    },
    "tags": []
   },
   "outputs": [
    {
     "data": {
      "text/plain": [
       "array(['3.00 - 3.49', '3.50 - 4.00', '2.50 - 2.99', '2.00 - 2.49',\n",
       "       '0 - 1.99'], dtype=object)"
      ]
     },
     "execution_count": 20,
     "metadata": {},
     "output_type": "execute_result"
    }
   ],
   "source": [
    "df['CGPA'].unique()"
   ]
  },
  {
   "cell_type": "code",
   "execution_count": 21,
   "id": "bb8ccf0f",
   "metadata": {
    "execution": {
     "iopub.execute_input": "2024-02-12T05:35:18.300414Z",
     "iopub.status.busy": "2024-02-12T05:35:18.300134Z",
     "iopub.status.idle": "2024-02-12T05:35:18.317723Z",
     "shell.execute_reply": "2024-02-12T05:35:18.317028Z"
    },
    "papermill": {
     "duration": 0.110707,
     "end_time": "2024-02-12T05:35:18.320356",
     "exception": false,
     "start_time": "2024-02-12T05:35:18.209649",
     "status": "completed"
    },
    "tags": []
   },
   "outputs": [
    {
     "name": "stdout",
     "output_type": "stream",
     "text": [
      "<class 'pandas.core.frame.DataFrame'>\n",
      "RangeIndex: 101 entries, 0 to 100\n",
      "Data columns (total 11 columns):\n",
      " #   Column          Non-Null Count  Dtype  \n",
      "---  ------          --------------  -----  \n",
      " 0   Timestamp       101 non-null    object \n",
      " 1   Gender          101 non-null    object \n",
      " 2   Age             100 non-null    float64\n",
      " 3   Course          101 non-null    object \n",
      " 4   Year of Study   101 non-null    object \n",
      " 5   CGPA            101 non-null    object \n",
      " 6   Marital status  101 non-null    object \n",
      " 7   Depression      101 non-null    object \n",
      " 8   Anxiety         101 non-null    object \n",
      " 9   Panic attack    101 non-null    object \n",
      " 10  Treatment       101 non-null    object \n",
      "dtypes: float64(1), object(10)\n",
      "memory usage: 8.8+ KB\n"
     ]
    }
   ],
   "source": [
    "df.info()"
   ]
  },
  {
   "cell_type": "markdown",
   "id": "cfec42af",
   "metadata": {
    "papermill": {
     "duration": 0.092306,
     "end_time": "2024-02-12T05:35:18.504391",
     "exception": false,
     "start_time": "2024-02-12T05:35:18.412085",
     "status": "completed"
    },
    "tags": []
   },
   "source": [
    "Missing Value in Age Column"
   ]
  },
  {
   "cell_type": "code",
   "execution_count": 22,
   "id": "3cbcf2bb",
   "metadata": {
    "execution": {
     "iopub.execute_input": "2024-02-12T05:35:18.689268Z",
     "iopub.status.busy": "2024-02-12T05:35:18.688966Z",
     "iopub.status.idle": "2024-02-12T05:35:18.695242Z",
     "shell.execute_reply": "2024-02-12T05:35:18.694641Z"
    },
    "papermill": {
     "duration": 0.10344,
     "end_time": "2024-02-12T05:35:18.697826",
     "exception": false,
     "start_time": "2024-02-12T05:35:18.594386",
     "status": "completed"
    },
    "tags": []
   },
   "outputs": [
    {
     "data": {
      "text/plain": [
       "19.0"
      ]
     },
     "execution_count": 22,
     "metadata": {},
     "output_type": "execute_result"
    }
   ],
   "source": [
    "median_age = df['Age'].median()\n",
    "median_age "
   ]
  },
  {
   "cell_type": "code",
   "execution_count": 23,
   "id": "e92c8e70",
   "metadata": {
    "execution": {
     "iopub.execute_input": "2024-02-12T05:35:18.879494Z",
     "iopub.status.busy": "2024-02-12T05:35:18.879189Z",
     "iopub.status.idle": "2024-02-12T05:35:18.884469Z",
     "shell.execute_reply": "2024-02-12T05:35:18.883558Z"
    },
    "papermill": {
     "duration": 0.099597,
     "end_time": "2024-02-12T05:35:18.887109",
     "exception": false,
     "start_time": "2024-02-12T05:35:18.787512",
     "status": "completed"
    },
    "tags": []
   },
   "outputs": [],
   "source": [
    "df['Age'] = df['Age'].fillna(median_age)\n"
   ]
  },
  {
   "cell_type": "markdown",
   "id": "f58ca1dc",
   "metadata": {
    "papermill": {
     "duration": 0.089085,
     "end_time": "2024-02-12T05:35:19.065688",
     "exception": false,
     "start_time": "2024-02-12T05:35:18.976603",
     "status": "completed"
    },
    "tags": []
   },
   "source": [
    "Type casting to Int"
   ]
  },
  {
   "cell_type": "code",
   "execution_count": 24,
   "id": "66e8fcc4",
   "metadata": {
    "execution": {
     "iopub.execute_input": "2024-02-12T05:35:19.243152Z",
     "iopub.status.busy": "2024-02-12T05:35:19.242825Z",
     "iopub.status.idle": "2024-02-12T05:35:19.247909Z",
     "shell.execute_reply": "2024-02-12T05:35:19.247106Z"
    },
    "papermill": {
     "duration": 0.09555,
     "end_time": "2024-02-12T05:35:19.249809",
     "exception": false,
     "start_time": "2024-02-12T05:35:19.154259",
     "status": "completed"
    },
    "tags": []
   },
   "outputs": [],
   "source": [
    "df['Age'] = df['Age'].astype(int)"
   ]
  },
  {
   "cell_type": "code",
   "execution_count": 25,
   "id": "f944b0b0",
   "metadata": {
    "execution": {
     "iopub.execute_input": "2024-02-12T05:35:19.429379Z",
     "iopub.status.busy": "2024-02-12T05:35:19.429062Z",
     "iopub.status.idle": "2024-02-12T05:35:19.443515Z",
     "shell.execute_reply": "2024-02-12T05:35:19.442191Z"
    },
    "papermill": {
     "duration": 0.105953,
     "end_time": "2024-02-12T05:35:19.445795",
     "exception": false,
     "start_time": "2024-02-12T05:35:19.339842",
     "status": "completed"
    },
    "tags": []
   },
   "outputs": [
    {
     "name": "stdout",
     "output_type": "stream",
     "text": [
      "<class 'pandas.core.frame.DataFrame'>\n",
      "RangeIndex: 101 entries, 0 to 100\n",
      "Data columns (total 11 columns):\n",
      " #   Column          Non-Null Count  Dtype \n",
      "---  ------          --------------  ----- \n",
      " 0   Timestamp       101 non-null    object\n",
      " 1   Gender          101 non-null    object\n",
      " 2   Age             101 non-null    int64 \n",
      " 3   Course          101 non-null    object\n",
      " 4   Year of Study   101 non-null    object\n",
      " 5   CGPA            101 non-null    object\n",
      " 6   Marital status  101 non-null    object\n",
      " 7   Depression      101 non-null    object\n",
      " 8   Anxiety         101 non-null    object\n",
      " 9   Panic attack    101 non-null    object\n",
      " 10  Treatment       101 non-null    object\n",
      "dtypes: int64(1), object(10)\n",
      "memory usage: 8.8+ KB\n"
     ]
    }
   ],
   "source": [
    "df.info()"
   ]
  },
  {
   "cell_type": "code",
   "execution_count": 26,
   "id": "d921fbdf",
   "metadata": {
    "execution": {
     "iopub.execute_input": "2024-02-12T05:35:19.628433Z",
     "iopub.status.busy": "2024-02-12T05:35:19.628066Z",
     "iopub.status.idle": "2024-02-12T05:35:19.635791Z",
     "shell.execute_reply": "2024-02-12T05:35:19.634763Z"
    },
    "papermill": {
     "duration": 0.103284,
     "end_time": "2024-02-12T05:35:19.638050",
     "exception": false,
     "start_time": "2024-02-12T05:35:19.534766",
     "status": "completed"
    },
    "tags": []
   },
   "outputs": [
    {
     "data": {
      "text/plain": [
       "array(['Yes', 'No'], dtype=object)"
      ]
     },
     "execution_count": 26,
     "metadata": {},
     "output_type": "execute_result"
    }
   ],
   "source": [
    "df['Depression'].unique()"
   ]
  },
  {
   "cell_type": "code",
   "execution_count": 27,
   "id": "3afbf434",
   "metadata": {
    "execution": {
     "iopub.execute_input": "2024-02-12T05:35:19.836927Z",
     "iopub.status.busy": "2024-02-12T05:35:19.836537Z",
     "iopub.status.idle": "2024-02-12T05:35:19.843437Z",
     "shell.execute_reply": "2024-02-12T05:35:19.842091Z"
    },
    "papermill": {
     "duration": 0.09926,
     "end_time": "2024-02-12T05:35:19.845622",
     "exception": false,
     "start_time": "2024-02-12T05:35:19.746362",
     "status": "completed"
    },
    "tags": []
   },
   "outputs": [],
   "source": [
    "df['Depression'] = df['Depression'].replace({'Yes': 'Depressed', 'No': 'Not depressed'})"
   ]
  },
  {
   "cell_type": "code",
   "execution_count": 28,
   "id": "08016e70",
   "metadata": {
    "execution": {
     "iopub.execute_input": "2024-02-12T05:35:20.026130Z",
     "iopub.status.busy": "2024-02-12T05:35:20.025803Z",
     "iopub.status.idle": "2024-02-12T05:35:20.033225Z",
     "shell.execute_reply": "2024-02-12T05:35:20.032226Z"
    },
    "papermill": {
     "duration": 0.100493,
     "end_time": "2024-02-12T05:35:20.035257",
     "exception": false,
     "start_time": "2024-02-12T05:35:19.934764",
     "status": "completed"
    },
    "tags": []
   },
   "outputs": [
    {
     "data": {
      "text/plain": [
       "array(['Depressed', 'Not depressed'], dtype=object)"
      ]
     },
     "execution_count": 28,
     "metadata": {},
     "output_type": "execute_result"
    }
   ],
   "source": [
    "df['Depression'].unique()"
   ]
  },
  {
   "cell_type": "code",
   "execution_count": 29,
   "id": "271c7d2b",
   "metadata": {
    "execution": {
     "iopub.execute_input": "2024-02-12T05:35:20.216935Z",
     "iopub.status.busy": "2024-02-12T05:35:20.216540Z",
     "iopub.status.idle": "2024-02-12T05:35:20.223569Z",
     "shell.execute_reply": "2024-02-12T05:35:20.222563Z"
    },
    "papermill": {
     "duration": 0.100253,
     "end_time": "2024-02-12T05:35:20.225744",
     "exception": false,
     "start_time": "2024-02-12T05:35:20.125491",
     "status": "completed"
    },
    "tags": []
   },
   "outputs": [
    {
     "data": {
      "text/plain": [
       "Index(['Timestamp', 'Gender', 'Age', 'Course', 'Year of Study', 'CGPA',\n",
       "       'Marital status', 'Depression', 'Anxiety', 'Panic attack', 'Treatment'],\n",
       "      dtype='object')"
      ]
     },
     "execution_count": 29,
     "metadata": {},
     "output_type": "execute_result"
    }
   ],
   "source": [
    "df.columns"
   ]
  },
  {
   "cell_type": "code",
   "execution_count": 30,
   "id": "9e070b46",
   "metadata": {
    "execution": {
     "iopub.execute_input": "2024-02-12T05:35:20.405950Z",
     "iopub.status.busy": "2024-02-12T05:35:20.405544Z",
     "iopub.status.idle": "2024-02-12T05:35:20.412163Z",
     "shell.execute_reply": "2024-02-12T05:35:20.411286Z"
    },
    "papermill": {
     "duration": 0.100088,
     "end_time": "2024-02-12T05:35:20.414499",
     "exception": false,
     "start_time": "2024-02-12T05:35:20.314411",
     "status": "completed"
    },
    "tags": []
   },
   "outputs": [
    {
     "data": {
      "text/plain": [
       "array(['Yes', 'No'], dtype=object)"
      ]
     },
     "execution_count": 30,
     "metadata": {},
     "output_type": "execute_result"
    }
   ],
   "source": [
    "df['Panic attack'].unique()"
   ]
  },
  {
   "cell_type": "code",
   "execution_count": 31,
   "id": "05987e40",
   "metadata": {
    "execution": {
     "iopub.execute_input": "2024-02-12T05:35:20.597486Z",
     "iopub.status.busy": "2024-02-12T05:35:20.597184Z",
     "iopub.status.idle": "2024-02-12T05:35:20.603671Z",
     "shell.execute_reply": "2024-02-12T05:35:20.602476Z"
    },
    "papermill": {
     "duration": 0.101781,
     "end_time": "2024-02-12T05:35:20.605983",
     "exception": false,
     "start_time": "2024-02-12T05:35:20.504202",
     "status": "completed"
    },
    "tags": []
   },
   "outputs": [],
   "source": [
    "df['Panic attack'] = df['Panic attack'].replace({'Yes': 'Panic attack', 'No': 'No panic_attack'})"
   ]
  },
  {
   "cell_type": "code",
   "execution_count": 32,
   "id": "0b52a99d",
   "metadata": {
    "execution": {
     "iopub.execute_input": "2024-02-12T05:35:20.789695Z",
     "iopub.status.busy": "2024-02-12T05:35:20.789424Z",
     "iopub.status.idle": "2024-02-12T05:35:20.796315Z",
     "shell.execute_reply": "2024-02-12T05:35:20.795578Z"
    },
    "papermill": {
     "duration": 0.100677,
     "end_time": "2024-02-12T05:35:20.798449",
     "exception": false,
     "start_time": "2024-02-12T05:35:20.697772",
     "status": "completed"
    },
    "tags": []
   },
   "outputs": [
    {
     "data": {
      "text/plain": [
       "array(['Panic attack', 'No panic_attack'], dtype=object)"
      ]
     },
     "execution_count": 32,
     "metadata": {},
     "output_type": "execute_result"
    }
   ],
   "source": [
    "df['Panic attack'].unique()"
   ]
  },
  {
   "cell_type": "code",
   "execution_count": 33,
   "id": "cbfa7483",
   "metadata": {
    "execution": {
     "iopub.execute_input": "2024-02-12T05:35:20.983226Z",
     "iopub.status.busy": "2024-02-12T05:35:20.982655Z",
     "iopub.status.idle": "2024-02-12T05:35:20.989298Z",
     "shell.execute_reply": "2024-02-12T05:35:20.988252Z"
    },
    "papermill": {
     "duration": 0.101804,
     "end_time": "2024-02-12T05:35:20.991634",
     "exception": false,
     "start_time": "2024-02-12T05:35:20.889830",
     "status": "completed"
    },
    "tags": []
   },
   "outputs": [],
   "source": [
    "df['Anxiety'] = df['Anxiety'].replace({'Yes': 'Anxiety_present', 'No': 'No_anxiety'})"
   ]
  },
  {
   "cell_type": "code",
   "execution_count": 34,
   "id": "439ee3f3",
   "metadata": {
    "execution": {
     "iopub.execute_input": "2024-02-12T05:35:21.187212Z",
     "iopub.status.busy": "2024-02-12T05:35:21.186897Z",
     "iopub.status.idle": "2024-02-12T05:35:21.194049Z",
     "shell.execute_reply": "2024-02-12T05:35:21.192954Z"
    },
    "papermill": {
     "duration": 0.106239,
     "end_time": "2024-02-12T05:35:21.196290",
     "exception": false,
     "start_time": "2024-02-12T05:35:21.090051",
     "status": "completed"
    },
    "tags": []
   },
   "outputs": [
    {
     "data": {
      "text/plain": [
       "array(['No_anxiety', 'Anxiety_present'], dtype=object)"
      ]
     },
     "execution_count": 34,
     "metadata": {},
     "output_type": "execute_result"
    }
   ],
   "source": [
    "df['Anxiety'].unique()"
   ]
  },
  {
   "cell_type": "code",
   "execution_count": 35,
   "id": "87d86162",
   "metadata": {
    "execution": {
     "iopub.execute_input": "2024-02-12T05:35:21.380260Z",
     "iopub.status.busy": "2024-02-12T05:35:21.379986Z",
     "iopub.status.idle": "2024-02-12T05:35:21.385984Z",
     "shell.execute_reply": "2024-02-12T05:35:21.384919Z"
    },
    "papermill": {
     "duration": 0.10036,
     "end_time": "2024-02-12T05:35:21.388041",
     "exception": false,
     "start_time": "2024-02-12T05:35:21.287681",
     "status": "completed"
    },
    "tags": []
   },
   "outputs": [],
   "source": [
    "df['Treatment'] = df['Treatment'].replace({'Yes': 'Treatment', 'No': 'No_treatment'})"
   ]
  },
  {
   "cell_type": "code",
   "execution_count": 36,
   "id": "9600bffe",
   "metadata": {
    "execution": {
     "iopub.execute_input": "2024-02-12T05:35:21.572048Z",
     "iopub.status.busy": "2024-02-12T05:35:21.570627Z",
     "iopub.status.idle": "2024-02-12T05:35:21.578252Z",
     "shell.execute_reply": "2024-02-12T05:35:21.577489Z"
    },
    "papermill": {
     "duration": 0.101773,
     "end_time": "2024-02-12T05:35:21.580166",
     "exception": false,
     "start_time": "2024-02-12T05:35:21.478393",
     "status": "completed"
    },
    "tags": []
   },
   "outputs": [
    {
     "data": {
      "text/plain": [
       "array(['No_treatment', 'Treatment'], dtype=object)"
      ]
     },
     "execution_count": 36,
     "metadata": {},
     "output_type": "execute_result"
    }
   ],
   "source": [
    "df['Treatment'].unique()"
   ]
  },
  {
   "cell_type": "code",
   "execution_count": 37,
   "id": "7f1033be",
   "metadata": {
    "execution": {
     "iopub.execute_input": "2024-02-12T05:35:21.770161Z",
     "iopub.status.busy": "2024-02-12T05:35:21.769183Z",
     "iopub.status.idle": "2024-02-12T05:35:21.775580Z",
     "shell.execute_reply": "2024-02-12T05:35:21.774920Z"
    },
    "papermill": {
     "duration": 0.104648,
     "end_time": "2024-02-12T05:35:21.777634",
     "exception": false,
     "start_time": "2024-02-12T05:35:21.672986",
     "status": "completed"
    },
    "tags": []
   },
   "outputs": [],
   "source": [
    "df['Marital status'] = df['Marital status'].replace({'Yes': 'Married', 'No': 'Not_married'})"
   ]
  },
  {
   "cell_type": "code",
   "execution_count": 38,
   "id": "b6d0d056",
   "metadata": {
    "execution": {
     "iopub.execute_input": "2024-02-12T05:35:21.964145Z",
     "iopub.status.busy": "2024-02-12T05:35:21.963539Z",
     "iopub.status.idle": "2024-02-12T05:35:21.987702Z",
     "shell.execute_reply": "2024-02-12T05:35:21.986409Z"
    },
    "papermill": {
     "duration": 0.119281,
     "end_time": "2024-02-12T05:35:21.990288",
     "exception": false,
     "start_time": "2024-02-12T05:35:21.871007",
     "status": "completed"
    },
    "tags": []
   },
   "outputs": [
    {
     "data": {
      "text/html": [
       "<div>\n",
       "<style scoped>\n",
       "    .dataframe tbody tr th:only-of-type {\n",
       "        vertical-align: middle;\n",
       "    }\n",
       "\n",
       "    .dataframe tbody tr th {\n",
       "        vertical-align: top;\n",
       "    }\n",
       "\n",
       "    .dataframe thead th {\n",
       "        text-align: right;\n",
       "    }\n",
       "</style>\n",
       "<table border=\"1\" class=\"dataframe\">\n",
       "  <thead>\n",
       "    <tr style=\"text-align: right;\">\n",
       "      <th></th>\n",
       "      <th>Timestamp</th>\n",
       "      <th>Gender</th>\n",
       "      <th>Age</th>\n",
       "      <th>Course</th>\n",
       "      <th>Year of Study</th>\n",
       "      <th>CGPA</th>\n",
       "      <th>Marital status</th>\n",
       "      <th>Depression</th>\n",
       "      <th>Anxiety</th>\n",
       "      <th>Panic attack</th>\n",
       "      <th>Treatment</th>\n",
       "    </tr>\n",
       "  </thead>\n",
       "  <tbody>\n",
       "    <tr>\n",
       "      <th>0</th>\n",
       "      <td>8/7/2020 12:02</td>\n",
       "      <td>Female</td>\n",
       "      <td>18</td>\n",
       "      <td>Engineering</td>\n",
       "      <td>year 1</td>\n",
       "      <td>3.00 - 3.49</td>\n",
       "      <td>Not_married</td>\n",
       "      <td>Depressed</td>\n",
       "      <td>No_anxiety</td>\n",
       "      <td>Panic attack</td>\n",
       "      <td>No_treatment</td>\n",
       "    </tr>\n",
       "    <tr>\n",
       "      <th>1</th>\n",
       "      <td>8/7/2020 12:04</td>\n",
       "      <td>Male</td>\n",
       "      <td>21</td>\n",
       "      <td>Islamic Education</td>\n",
       "      <td>year 2</td>\n",
       "      <td>3.00 - 3.49</td>\n",
       "      <td>Not_married</td>\n",
       "      <td>Not depressed</td>\n",
       "      <td>Anxiety_present</td>\n",
       "      <td>No panic_attack</td>\n",
       "      <td>No_treatment</td>\n",
       "    </tr>\n",
       "    <tr>\n",
       "      <th>2</th>\n",
       "      <td>8/7/2020 12:05</td>\n",
       "      <td>Male</td>\n",
       "      <td>19</td>\n",
       "      <td>IT</td>\n",
       "      <td>year 1</td>\n",
       "      <td>3.00 - 3.49</td>\n",
       "      <td>Not_married</td>\n",
       "      <td>Depressed</td>\n",
       "      <td>Anxiety_present</td>\n",
       "      <td>Panic attack</td>\n",
       "      <td>No_treatment</td>\n",
       "    </tr>\n",
       "    <tr>\n",
       "      <th>3</th>\n",
       "      <td>8/7/2020 12:06</td>\n",
       "      <td>Female</td>\n",
       "      <td>22</td>\n",
       "      <td>Law</td>\n",
       "      <td>year 3</td>\n",
       "      <td>3.00 - 3.49</td>\n",
       "      <td>Married</td>\n",
       "      <td>Depressed</td>\n",
       "      <td>No_anxiety</td>\n",
       "      <td>No panic_attack</td>\n",
       "      <td>No_treatment</td>\n",
       "    </tr>\n",
       "    <tr>\n",
       "      <th>4</th>\n",
       "      <td>8/7/2020 12:13</td>\n",
       "      <td>Male</td>\n",
       "      <td>23</td>\n",
       "      <td>Mathemathics</td>\n",
       "      <td>year 4</td>\n",
       "      <td>3.00 - 3.49</td>\n",
       "      <td>Not_married</td>\n",
       "      <td>Not depressed</td>\n",
       "      <td>No_anxiety</td>\n",
       "      <td>No panic_attack</td>\n",
       "      <td>No_treatment</td>\n",
       "    </tr>\n",
       "    <tr>\n",
       "      <th>...</th>\n",
       "      <td>...</td>\n",
       "      <td>...</td>\n",
       "      <td>...</td>\n",
       "      <td>...</td>\n",
       "      <td>...</td>\n",
       "      <td>...</td>\n",
       "      <td>...</td>\n",
       "      <td>...</td>\n",
       "      <td>...</td>\n",
       "      <td>...</td>\n",
       "      <td>...</td>\n",
       "    </tr>\n",
       "    <tr>\n",
       "      <th>96</th>\n",
       "      <td>13/07/2020 19:56:49</td>\n",
       "      <td>Female</td>\n",
       "      <td>21</td>\n",
       "      <td>BCS</td>\n",
       "      <td>year 1</td>\n",
       "      <td>3.50 - 4.00</td>\n",
       "      <td>Not_married</td>\n",
       "      <td>Not depressed</td>\n",
       "      <td>Anxiety_present</td>\n",
       "      <td>No panic_attack</td>\n",
       "      <td>No_treatment</td>\n",
       "    </tr>\n",
       "    <tr>\n",
       "      <th>97</th>\n",
       "      <td>13/07/2020 21:21:42</td>\n",
       "      <td>Male</td>\n",
       "      <td>18</td>\n",
       "      <td>Engineering</td>\n",
       "      <td>year 2</td>\n",
       "      <td>3.00 - 3.49</td>\n",
       "      <td>Not_married</td>\n",
       "      <td>Depressed</td>\n",
       "      <td>Anxiety_present</td>\n",
       "      <td>No panic_attack</td>\n",
       "      <td>No_treatment</td>\n",
       "    </tr>\n",
       "    <tr>\n",
       "      <th>98</th>\n",
       "      <td>13/07/2020 21:22:56</td>\n",
       "      <td>Female</td>\n",
       "      <td>19</td>\n",
       "      <td>Nursing</td>\n",
       "      <td>year 3</td>\n",
       "      <td>3.50 - 4.00</td>\n",
       "      <td>Married</td>\n",
       "      <td>Depressed</td>\n",
       "      <td>No_anxiety</td>\n",
       "      <td>Panic attack</td>\n",
       "      <td>No_treatment</td>\n",
       "    </tr>\n",
       "    <tr>\n",
       "      <th>99</th>\n",
       "      <td>13/07/2020 21:23:57</td>\n",
       "      <td>Female</td>\n",
       "      <td>23</td>\n",
       "      <td>Pendidikan Islam</td>\n",
       "      <td>year 4</td>\n",
       "      <td>3.50 - 4.00</td>\n",
       "      <td>Not_married</td>\n",
       "      <td>Not depressed</td>\n",
       "      <td>No_anxiety</td>\n",
       "      <td>No panic_attack</td>\n",
       "      <td>No_treatment</td>\n",
       "    </tr>\n",
       "    <tr>\n",
       "      <th>100</th>\n",
       "      <td>18/07/2020 20:16:21</td>\n",
       "      <td>Male</td>\n",
       "      <td>20</td>\n",
       "      <td>Biomedical science</td>\n",
       "      <td>year 2</td>\n",
       "      <td>3.00 - 3.49</td>\n",
       "      <td>Not_married</td>\n",
       "      <td>Not depressed</td>\n",
       "      <td>No_anxiety</td>\n",
       "      <td>No panic_attack</td>\n",
       "      <td>No_treatment</td>\n",
       "    </tr>\n",
       "  </tbody>\n",
       "</table>\n",
       "<p>101 rows × 11 columns</p>\n",
       "</div>"
      ],
      "text/plain": [
       "               Timestamp  Gender  Age              Course Year of Study  \\\n",
       "0         8/7/2020 12:02  Female   18         Engineering        year 1   \n",
       "1         8/7/2020 12:04    Male   21   Islamic Education        year 2   \n",
       "2         8/7/2020 12:05    Male   19                  IT        year 1   \n",
       "3         8/7/2020 12:06  Female   22                 Law        year 3   \n",
       "4         8/7/2020 12:13    Male   23        Mathemathics        year 4   \n",
       "..                   ...     ...  ...                 ...           ...   \n",
       "96   13/07/2020 19:56:49  Female   21                 BCS        year 1   \n",
       "97   13/07/2020 21:21:42    Male   18         Engineering        year 2   \n",
       "98   13/07/2020 21:22:56  Female   19            Nursing         year 3   \n",
       "99   13/07/2020 21:23:57  Female   23    Pendidikan Islam        year 4   \n",
       "100  18/07/2020 20:16:21    Male   20  Biomedical science        year 2   \n",
       "\n",
       "            CGPA Marital status     Depression          Anxiety  \\\n",
       "0    3.00 - 3.49    Not_married      Depressed       No_anxiety   \n",
       "1    3.00 - 3.49    Not_married  Not depressed  Anxiety_present   \n",
       "2    3.00 - 3.49    Not_married      Depressed  Anxiety_present   \n",
       "3    3.00 - 3.49        Married      Depressed       No_anxiety   \n",
       "4    3.00 - 3.49    Not_married  Not depressed       No_anxiety   \n",
       "..           ...            ...            ...              ...   \n",
       "96   3.50 - 4.00    Not_married  Not depressed  Anxiety_present   \n",
       "97   3.00 - 3.49    Not_married      Depressed  Anxiety_present   \n",
       "98   3.50 - 4.00        Married      Depressed       No_anxiety   \n",
       "99   3.50 - 4.00    Not_married  Not depressed       No_anxiety   \n",
       "100  3.00 - 3.49    Not_married  Not depressed       No_anxiety   \n",
       "\n",
       "        Panic attack     Treatment  \n",
       "0       Panic attack  No_treatment  \n",
       "1    No panic_attack  No_treatment  \n",
       "2       Panic attack  No_treatment  \n",
       "3    No panic_attack  No_treatment  \n",
       "4    No panic_attack  No_treatment  \n",
       "..               ...           ...  \n",
       "96   No panic_attack  No_treatment  \n",
       "97   No panic_attack  No_treatment  \n",
       "98      Panic attack  No_treatment  \n",
       "99   No panic_attack  No_treatment  \n",
       "100  No panic_attack  No_treatment  \n",
       "\n",
       "[101 rows x 11 columns]"
      ]
     },
     "execution_count": 38,
     "metadata": {},
     "output_type": "execute_result"
    }
   ],
   "source": [
    "df"
   ]
  },
  {
   "cell_type": "markdown",
   "id": "0e2751c8",
   "metadata": {
    "papermill": {
     "duration": 0.091813,
     "end_time": "2024-02-12T05:35:22.177261",
     "exception": false,
     "start_time": "2024-02-12T05:35:22.085448",
     "status": "completed"
    },
    "tags": []
   },
   "source": [
    "DATA EXPLORATION"
   ]
  },
  {
   "cell_type": "code",
   "execution_count": 39,
   "id": "f71f56f2",
   "metadata": {
    "execution": {
     "iopub.execute_input": "2024-02-12T05:35:22.363959Z",
     "iopub.status.busy": "2024-02-12T05:35:22.363490Z",
     "iopub.status.idle": "2024-02-12T05:35:22.372322Z",
     "shell.execute_reply": "2024-02-12T05:35:22.370713Z"
    },
    "papermill": {
     "duration": 0.103727,
     "end_time": "2024-02-12T05:35:22.374341",
     "exception": false,
     "start_time": "2024-02-12T05:35:22.270614",
     "status": "completed"
    },
    "tags": []
   },
   "outputs": [
    {
     "data": {
      "text/plain": [
       "Index(['Timestamp', 'Gender', 'Age', 'Course', 'Year of Study', 'CGPA',\n",
       "       'Marital status', 'Depression', 'Anxiety', 'Panic attack', 'Treatment'],\n",
       "      dtype='object')"
      ]
     },
     "execution_count": 39,
     "metadata": {},
     "output_type": "execute_result"
    }
   ],
   "source": [
    "df.columns"
   ]
  },
  {
   "cell_type": "code",
   "execution_count": 40,
   "id": "0f9711f9",
   "metadata": {
    "execution": {
     "iopub.execute_input": "2024-02-12T05:35:22.561499Z",
     "iopub.status.busy": "2024-02-12T05:35:22.560513Z",
     "iopub.status.idle": "2024-02-12T05:35:23.065468Z",
     "shell.execute_reply": "2024-02-12T05:35:23.064257Z"
    },
    "papermill": {
     "duration": 0.601408,
     "end_time": "2024-02-12T05:35:23.067785",
     "exception": false,
     "start_time": "2024-02-12T05:35:22.466377",
     "status": "completed"
    },
    "tags": []
   },
   "outputs": [
    {
     "data": {
      "image/png": "[encoded data removed]",
      "text/plain": [
       "<Figure size 720x360 with 1 Axes>"
      ]
     },
     "metadata": {
      "needs_background": "light"
     },
     "output_type": "display_data"
    },
    {
     "data": {
      "image/png": "[encoded data removed]",
      "text/plain": [
       "<Figure size 720x360 with 1 Axes>"
      ]
     },
     "metadata": {
      "needs_background": "light"
     },
     "output_type": "display_data"
    }
   ],
   "source": [
    "numerical_variables = ['Age', 'CGPA']\n",
    "colors = ['#AA6347', '#AA4500']\n",
    "\n",
    "for column, color in zip(numerical_variables, colors):\n",
    "    plt.figure(figsize=(10, 5))\n",
    "    sns.histplot(data=df, x = column, kde=True, color = color)\n",
    "    plt.title(f'Distribution of {column}')\n",
    "    plt.show()\n",
    "    \n"
   ]
  },
  {
   "cell_type": "markdown",
   "id": "4cc0f34d",
   "metadata": {
    "papermill": {
     "duration": 0.094432,
     "end_time": "2024-02-12T05:35:23.258067",
     "exception": false,
     "start_time": "2024-02-12T05:35:23.163635",
     "status": "completed"
    },
    "tags": []
   },
   "source": [
    "Majority of the students fall in the age range 18-19 and 23-24.This distribution account for the fact that most of the students are in the first year. Most of the students have excellent performance, reasons why the majority of students fall in the CGPA ranges of 3.0 - 3.49 and 3.5 - 4.00.\n",
    "\n"
   ]
  },
  {
   "cell_type": "code",
   "execution_count": 41,
   "id": "8b95f42c",
   "metadata": {
    "execution": {
     "iopub.execute_input": "2024-02-12T05:35:23.449140Z",
     "iopub.status.busy": "2024-02-12T05:35:23.448774Z",
     "iopub.status.idle": "2024-02-12T05:35:23.457956Z",
     "shell.execute_reply": "2024-02-12T05:35:23.456740Z"
    },
    "papermill": {
     "duration": 0.107567,
     "end_time": "2024-02-12T05:35:23.460017",
     "exception": false,
     "start_time": "2024-02-12T05:35:23.352450",
     "status": "completed"
    },
    "tags": []
   },
   "outputs": [
    {
     "data": {
      "text/plain": [
       "Not depressed    66\n",
       "Depressed        35\n",
       "Name: Depression, dtype: int64"
      ]
     },
     "execution_count": 41,
     "metadata": {},
     "output_type": "execute_result"
    }
   ],
   "source": [
    "df['Depression'].value_counts()"
   ]
  },
  {
   "cell_type": "code",
   "execution_count": 42,
   "id": "3b91953f",
   "metadata": {
    "execution": {
     "iopub.execute_input": "2024-02-12T05:35:23.654243Z",
     "iopub.status.busy": "2024-02-12T05:35:23.653949Z",
     "iopub.status.idle": "2024-02-12T05:35:23.798619Z",
     "shell.execute_reply": "2024-02-12T05:35:23.797726Z"
    },
    "papermill": {
     "duration": 0.24572,
     "end_time": "2024-02-12T05:35:23.802233",
     "exception": false,
     "start_time": "2024-02-12T05:35:23.556513",
     "status": "completed"
    },
    "tags": []
   },
   "outputs": [
    {
     "data": {
      "image/png": "[encoded data removed]",
      "text/plain": [
       "<Figure size 432x288 with 1 Axes>"
      ]
     },
     "metadata": {},
     "output_type": "display_data"
    }
   ],
   "source": [
    "df['Depression'].value_counts().plot(kind='pie', autopct='%1.1f%%', colors=['#AA6347', '#AA4500'])\n",
    "\n",
    "plt.title('Distribution of Depression Levels Among Students')\n",
    "plt.show()"
   ]
  },
  {
   "cell_type": "code",
   "execution_count": 43,
   "id": "a6e0e548",
   "metadata": {
    "execution": {
     "iopub.execute_input": "2024-02-12T05:35:24.023510Z",
     "iopub.status.busy": "2024-02-12T05:35:24.023135Z",
     "iopub.status.idle": "2024-02-12T05:35:24.543650Z",
     "shell.execute_reply": "2024-02-12T05:35:24.542963Z"
    },
    "papermill": {
     "duration": 0.620559,
     "end_time": "2024-02-12T05:35:24.545947",
     "exception": false,
     "start_time": "2024-02-12T05:35:23.925388",
     "status": "completed"
    },
    "tags": []
   },
   "outputs": [
    {
     "data": {
      "image/png": "[encoded data removed]",
      "text/plain": [
       "<Figure size 576x432 with 1 Axes>"
      ]
     },
     "metadata": {
      "needs_background": "light"
     },
     "output_type": "display_data"
    },
    {
     "data": {
      "text/plain": [
       "<Figure size 864x720 with 0 Axes>"
      ]
     },
     "metadata": {},
     "output_type": "display_data"
    },
    {
     "data": {
      "image/png": "[encoded data removed]",
      "text/plain": [
       "<Figure size 180x180 with 2 Axes>"
      ]
     },
     "metadata": {
      "needs_background": "light"
     },
     "output_type": "display_data"
    }
   ],
   "source": [
    "import pandas as pd\n",
    "import seaborn as sns\n",
    "import matplotlib.pyplot as plt\n",
    "\n",
    "# Assuming your dataset is named 'df'\n",
    "\n",
    "# Selecting numeric columns\n",
    "numeric_columns = df.select_dtypes(include='number').columns\n",
    "\n",
    "# Plot univariate distribution for each numeric column\n",
    "for column in numeric_columns:\n",
    "    plt.figure(figsize=(8, 6))\n",
    "    sns.histplot(df[column], kde=True, color='brown', bins=20)  # Histogram with kernel density estimation\n",
    "    plt.title(f'Univariate Distribution of {column}')\n",
    "    plt.xlabel(column)\n",
    "    plt.ylabel('Frequency')\n",
    "    plt.show()\n",
    "\n",
    "# Plot pairwise joint distribution for all numeric columns\n",
    "plt.figure(figsize=(12, 10))\n",
    "sns.pairplot(df[numeric_columns], kind='scatter', diag_kind='kde', palette='husl')\n",
    "plt.suptitle('Pairwise Joint Distribution of Numeric Data', y=1.02)\n",
    "plt.show()\n"
   ]
  },
  {
   "cell_type": "code",
   "execution_count": 44,
   "id": "4869fdfe",
   "metadata": {
    "execution": {
     "iopub.execute_input": "2024-02-12T05:35:24.758358Z",
     "iopub.status.busy": "2024-02-12T05:35:24.757505Z",
     "iopub.status.idle": "2024-02-12T05:35:24.851949Z",
     "shell.execute_reply": "2024-02-12T05:35:24.851066Z"
    },
    "papermill": {
     "duration": 0.202869,
     "end_time": "2024-02-12T05:35:24.854894",
     "exception": false,
     "start_time": "2024-02-12T05:35:24.652025",
     "status": "completed"
    },
    "tags": []
   },
   "outputs": [
    {
     "data": {
      "image/png": "[encoded data removed]",
      "text/plain": [
       "<Figure size 432x288 with 1 Axes>"
      ]
     },
     "metadata": {},
     "output_type": "display_data"
    }
   ],
   "source": [
    "df['Gender'].value_counts().plot(kind='pie', autopct='%1.1f%%', colors=['#AA6347', '#AA4500'])\n",
    "plt.title('Distribution of Gender')\n",
    "plt.show()"
   ]
  },
  {
   "cell_type": "code",
   "execution_count": 45,
   "id": "0a414f8a",
   "metadata": {
    "execution": {
     "iopub.execute_input": "2024-02-12T05:35:25.100438Z",
     "iopub.status.busy": "2024-02-12T05:35:25.099976Z",
     "iopub.status.idle": "2024-02-12T05:35:25.430584Z",
     "shell.execute_reply": "2024-02-12T05:35:25.429613Z"
    },
    "papermill": {
     "duration": 0.442506,
     "end_time": "2024-02-12T05:35:25.432928",
     "exception": false,
     "start_time": "2024-02-12T05:35:24.990422",
     "status": "completed"
    },
    "tags": []
   },
   "outputs": [
    {
     "data": {
      "image/png": "[encoded data removed]",
      "text/plain": [
       "<Figure size 720x360 with 1 Axes>"
      ]
     },
     "metadata": {
      "needs_background": "light"
     },
     "output_type": "display_data"
    },
    {
     "data": {
      "image/png": "[encoded data removed]",
      "text/plain": [
       "<Figure size 720x360 with 1 Axes>"
      ]
     },
     "metadata": {
      "needs_background": "light"
     },
     "output_type": "display_data"
    }
   ],
   "source": [
    "categorical_variables = [ 'Year of Study', 'Anxiety']\n",
    "colors = ['#AA6347', '#AA4500']\n",
    "\n",
    "for column, color in zip(categorical_variables, colors):\n",
    "    plt.figure(figsize=(10, 5))\n",
    "    sns.countplot(data=df, y=column, color=color)\n",
    "    plt.title(f'Distribution of {column}')\n",
    "plt.tight_layout()\n",
    "plt.show()\n"
   ]
  },
  {
   "cell_type": "markdown",
   "id": "358f1af8",
   "metadata": {
    "papermill": {
     "duration": 0.102598,
     "end_time": "2024-02-12T05:35:25.638756",
     "exception": false,
     "start_time": "2024-02-12T05:35:25.536158",
     "status": "completed"
    },
    "tags": []
   },
   "source": [
    "# Dominant Age Group: Year 1 (18-19)"
   ]
  },
  {
   "cell_type": "markdown",
   "id": "f347b49f",
   "metadata": {
    "papermill": {
     "duration": 0.105588,
     "end_time": "2024-02-12T05:35:25.851165",
     "exception": false,
     "start_time": "2024-02-12T05:35:25.745577",
     "status": "completed"
    },
    "tags": []
   },
   "source": [
    "Majority of the students are in the first year. this could be one of the reasons why the dominant age group is 18 and 19. For the count of students with anxiety a considerable count(30 and above) for students expiriencing anxiety and 60% and above are not experiencing anxiety.\n",
    "\n",
    "Also relevant to my research:\n",
    "\n",
    "* Students in 18-19 age group: closer to high school student age (brain development still occuring)\n",
    "* **New Students**: signicant because perhaps newer students have higher correlation to depression\n",
    "\n"
   ]
  },
  {
   "cell_type": "code",
   "execution_count": 46,
   "id": "1772f6ce",
   "metadata": {
    "execution": {
     "iopub.execute_input": "2024-02-12T05:35:26.073134Z",
     "iopub.status.busy": "2024-02-12T05:35:26.072776Z",
     "iopub.status.idle": "2024-02-12T05:35:26.078791Z",
     "shell.execute_reply": "2024-02-12T05:35:26.078056Z"
    },
    "papermill": {
     "duration": 0.122174,
     "end_time": "2024-02-12T05:35:26.081763",
     "exception": false,
     "start_time": "2024-02-12T05:35:25.959589",
     "status": "completed"
    },
    "tags": []
   },
   "outputs": [
    {
     "data": {
      "text/plain": [
       "36"
      ]
     },
     "execution_count": 46,
     "metadata": {},
     "output_type": "execute_result"
    }
   ],
   "source": [
    "len(df['Course'].unique())"
   ]
  },
  {
   "cell_type": "code",
   "execution_count": 47,
   "id": "762cafa7",
   "metadata": {
    "execution": {
     "iopub.execute_input": "2024-02-12T05:35:26.302122Z",
     "iopub.status.busy": "2024-02-12T05:35:26.301505Z",
     "iopub.status.idle": "2024-02-12T05:35:26.620803Z",
     "shell.execute_reply": "2024-02-12T05:35:26.619816Z"
    },
    "papermill": {
     "duration": 0.430487,
     "end_time": "2024-02-12T05:35:26.623034",
     "exception": false,
     "start_time": "2024-02-12T05:35:26.192547",
     "status": "completed"
    },
    "tags": []
   },
   "outputs": [
    {
     "data": {
      "image/png": "[encoded data removed]",
      "text/plain": [
       "<Figure size 720x576 with 1 Axes>"
      ]
     },
     "metadata": {
      "needs_background": "light"
     },
     "output_type": "display_data"
    }
   ],
   "source": [
    "plt.figure(figsize=(10, 8))\n",
    "df.Course.value_counts().iloc[:18].plot(kind='barh',color= '#AA6347')\n",
    "plt.title('Top 18 Course by Order Count', fontsize=15)\n",
    "plt.xlabel('Order Count')\n",
    "plt.ylabel('Course')\n",
    "plt.show()"
   ]
  },
  {
   "cell_type": "markdown",
   "id": "7d88817e",
   "metadata": {
    "papermill": {
     "duration": 0.105728,
     "end_time": "2024-02-12T05:35:26.837434",
     "exception": false,
     "start_time": "2024-02-12T05:35:26.731706",
     "status": "completed"
    },
    "tags": []
   },
   "source": [
    "# Engineering most common Course"
   ]
  },
  {
   "cell_type": "markdown",
   "id": "84cba582",
   "metadata": {
    "papermill": {
     "duration": 0.105537,
     "end_time": "2024-02-12T05:35:27.047636",
     "exception": false,
     "start_time": "2024-02-12T05:35:26.942099",
     "status": "completed"
    },
    "tags": []
   },
   "source": [
    "The majority of students take Stem related classes. **Engineering** and BCS are the top 2 most common courses taken by students in this data set."
   ]
  },
  {
   "cell_type": "markdown",
   "id": "6a2ae773",
   "metadata": {
    "papermill": {
     "duration": 0.102216,
     "end_time": "2024-02-12T05:35:27.253237",
     "exception": false,
     "start_time": "2024-02-12T05:35:27.151021",
     "status": "completed"
    },
    "tags": []
   },
   "source": [
    "All Depressed Students:\n",
    "35"
   ]
  },
  {
   "cell_type": "code",
   "execution_count": 48,
   "id": "97f7777c",
   "metadata": {
    "execution": {
     "iopub.execute_input": "2024-02-12T05:35:27.459148Z",
     "iopub.status.busy": "2024-02-12T05:35:27.458693Z",
     "iopub.status.idle": "2024-02-12T05:35:27.489455Z",
     "shell.execute_reply": "2024-02-12T05:35:27.488711Z"
    },
    "papermill": {
     "duration": 0.136466,
     "end_time": "2024-02-12T05:35:27.491564",
     "exception": false,
     "start_time": "2024-02-12T05:35:27.355098",
     "status": "completed"
    },
    "tags": []
   },
   "outputs": [
    {
     "data": {
      "text/html": [
       "<div>\n",
       "<style scoped>\n",
       "    .dataframe tbody tr th:only-of-type {\n",
       "        vertical-align: middle;\n",
       "    }\n",
       "\n",
       "    .dataframe tbody tr th {\n",
       "        vertical-align: top;\n",
       "    }\n",
       "\n",
       "    .dataframe thead th {\n",
       "        text-align: right;\n",
       "    }\n",
       "</style>\n",
       "<table border=\"1\" class=\"dataframe\">\n",
       "  <thead>\n",
       "    <tr style=\"text-align: right;\">\n",
       "      <th></th>\n",
       "      <th>Timestamp</th>\n",
       "      <th>Gender</th>\n",
       "      <th>Age</th>\n",
       "      <th>Course</th>\n",
       "      <th>Year of Study</th>\n",
       "      <th>CGPA</th>\n",
       "      <th>Marital status</th>\n",
       "      <th>Depression</th>\n",
       "      <th>Anxiety</th>\n",
       "      <th>Panic attack</th>\n",
       "      <th>Treatment</th>\n",
       "    </tr>\n",
       "  </thead>\n",
       "  <tbody>\n",
       "    <tr>\n",
       "      <th>0</th>\n",
       "      <td>8/7/2020 12:02</td>\n",
       "      <td>Female</td>\n",
       "      <td>18</td>\n",
       "      <td>Engineering</td>\n",
       "      <td>year 1</td>\n",
       "      <td>3.00 - 3.49</td>\n",
       "      <td>Not_married</td>\n",
       "      <td>Depressed</td>\n",
       "      <td>No_anxiety</td>\n",
       "      <td>Panic attack</td>\n",
       "      <td>No_treatment</td>\n",
       "    </tr>\n",
       "    <tr>\n",
       "      <th>2</th>\n",
       "      <td>8/7/2020 12:05</td>\n",
       "      <td>Male</td>\n",
       "      <td>19</td>\n",
       "      <td>IT</td>\n",
       "      <td>year 1</td>\n",
       "      <td>3.00 - 3.49</td>\n",
       "      <td>Not_married</td>\n",
       "      <td>Depressed</td>\n",
       "      <td>Anxiety_present</td>\n",
       "      <td>Panic attack</td>\n",
       "      <td>No_treatment</td>\n",
       "    </tr>\n",
       "    <tr>\n",
       "      <th>3</th>\n",
       "      <td>8/7/2020 12:06</td>\n",
       "      <td>Female</td>\n",
       "      <td>22</td>\n",
       "      <td>Law</td>\n",
       "      <td>year 3</td>\n",
       "      <td>3.00 - 3.49</td>\n",
       "      <td>Married</td>\n",
       "      <td>Depressed</td>\n",
       "      <td>No_anxiety</td>\n",
       "      <td>No panic_attack</td>\n",
       "      <td>No_treatment</td>\n",
       "    </tr>\n",
       "    <tr>\n",
       "      <th>6</th>\n",
       "      <td>8/7/2020 12:32</td>\n",
       "      <td>Female</td>\n",
       "      <td>23</td>\n",
       "      <td>Pendidikan Islam</td>\n",
       "      <td>year 2</td>\n",
       "      <td>3.50 - 4.00</td>\n",
       "      <td>Married</td>\n",
       "      <td>Depressed</td>\n",
       "      <td>No_anxiety</td>\n",
       "      <td>Panic attack</td>\n",
       "      <td>No_treatment</td>\n",
       "    </tr>\n",
       "    <tr>\n",
       "      <th>11</th>\n",
       "      <td>8/7/2020 12:39</td>\n",
       "      <td>Female</td>\n",
       "      <td>24</td>\n",
       "      <td>Engineering</td>\n",
       "      <td>year 3</td>\n",
       "      <td>3.50 - 4.00</td>\n",
       "      <td>Married</td>\n",
       "      <td>Depressed</td>\n",
       "      <td>No_anxiety</td>\n",
       "      <td>No panic_attack</td>\n",
       "      <td>No_treatment</td>\n",
       "    </tr>\n",
       "    <tr>\n",
       "      <th>12</th>\n",
       "      <td>8/7/2020 12:40</td>\n",
       "      <td>Female</td>\n",
       "      <td>18</td>\n",
       "      <td>BCS</td>\n",
       "      <td>year 1</td>\n",
       "      <td>3.00 - 3.49</td>\n",
       "      <td>Not_married</td>\n",
       "      <td>Depressed</td>\n",
       "      <td>No_anxiety</td>\n",
       "      <td>No panic_attack</td>\n",
       "      <td>No_treatment</td>\n",
       "    </tr>\n",
       "    <tr>\n",
       "      <th>17</th>\n",
       "      <td>8/7/2020 12:52</td>\n",
       "      <td>Female</td>\n",
       "      <td>24</td>\n",
       "      <td>ENM</td>\n",
       "      <td>year 4</td>\n",
       "      <td>3.00 - 3.49</td>\n",
       "      <td>Married</td>\n",
       "      <td>Depressed</td>\n",
       "      <td>Anxiety_present</td>\n",
       "      <td>Panic attack</td>\n",
       "      <td>No_treatment</td>\n",
       "    </tr>\n",
       "    <tr>\n",
       "      <th>19</th>\n",
       "      <td>8/7/2020 13:07</td>\n",
       "      <td>Female</td>\n",
       "      <td>18</td>\n",
       "      <td>Marine science</td>\n",
       "      <td>year 2</td>\n",
       "      <td>3.50 - 4.00</td>\n",
       "      <td>Married</td>\n",
       "      <td>Depressed</td>\n",
       "      <td>Anxiety_present</td>\n",
       "      <td>Panic attack</td>\n",
       "      <td>No_treatment</td>\n",
       "    </tr>\n",
       "    <tr>\n",
       "      <th>24</th>\n",
       "      <td>8/7/2020 13:17</td>\n",
       "      <td>Female</td>\n",
       "      <td>23</td>\n",
       "      <td>BCS</td>\n",
       "      <td>year 3</td>\n",
       "      <td>3.50 - 4.00</td>\n",
       "      <td>Not_married</td>\n",
       "      <td>Depressed</td>\n",
       "      <td>Anxiety_present</td>\n",
       "      <td>Panic attack</td>\n",
       "      <td>No_treatment</td>\n",
       "    </tr>\n",
       "    <tr>\n",
       "      <th>27</th>\n",
       "      <td>8/7/2020 13:41</td>\n",
       "      <td>Male</td>\n",
       "      <td>18</td>\n",
       "      <td>Engineering</td>\n",
       "      <td>year 2</td>\n",
       "      <td>3.00 - 3.49</td>\n",
       "      <td>Married</td>\n",
       "      <td>Depressed</td>\n",
       "      <td>Anxiety_present</td>\n",
       "      <td>No panic_attack</td>\n",
       "      <td>No_treatment</td>\n",
       "    </tr>\n",
       "    <tr>\n",
       "      <th>28</th>\n",
       "      <td>8/7/2020 13:58</td>\n",
       "      <td>Female</td>\n",
       "      <td>24</td>\n",
       "      <td>IT</td>\n",
       "      <td>year 3</td>\n",
       "      <td>3.50 - 4.00</td>\n",
       "      <td>Married</td>\n",
       "      <td>Depressed</td>\n",
       "      <td>Anxiety_present</td>\n",
       "      <td>Panic attack</td>\n",
       "      <td>Treatment</td>\n",
       "    </tr>\n",
       "    <tr>\n",
       "      <th>33</th>\n",
       "      <td>8/7/2020 14:31</td>\n",
       "      <td>Male</td>\n",
       "      <td>18</td>\n",
       "      <td>BCS</td>\n",
       "      <td>year 2</td>\n",
       "      <td>3.50 - 4.00</td>\n",
       "      <td>Married</td>\n",
       "      <td>Depressed</td>\n",
       "      <td>Anxiety_present</td>\n",
       "      <td>No panic_attack</td>\n",
       "      <td>Treatment</td>\n",
       "    </tr>\n",
       "    <tr>\n",
       "      <th>34</th>\n",
       "      <td>8/7/2020 14:41</td>\n",
       "      <td>Female</td>\n",
       "      <td>19</td>\n",
       "      <td>IT</td>\n",
       "      <td>year 1</td>\n",
       "      <td>3.00 - 3.49</td>\n",
       "      <td>Not_married</td>\n",
       "      <td>Depressed</td>\n",
       "      <td>Anxiety_present</td>\n",
       "      <td>Panic attack</td>\n",
       "      <td>No_treatment</td>\n",
       "    </tr>\n",
       "    <tr>\n",
       "      <th>36</th>\n",
       "      <td>8/7/2020 14:43</td>\n",
       "      <td>Female</td>\n",
       "      <td>18</td>\n",
       "      <td>Law</td>\n",
       "      <td>year 3</td>\n",
       "      <td>3.00 - 3.49</td>\n",
       "      <td>Not_married</td>\n",
       "      <td>Depressed</td>\n",
       "      <td>Anxiety_present</td>\n",
       "      <td>No panic_attack</td>\n",
       "      <td>No_treatment</td>\n",
       "    </tr>\n",
       "    <tr>\n",
       "      <th>37</th>\n",
       "      <td>8/7/2020 14:45</td>\n",
       "      <td>Female</td>\n",
       "      <td>19</td>\n",
       "      <td>IT</td>\n",
       "      <td>year 1</td>\n",
       "      <td>2.50 - 2.99</td>\n",
       "      <td>Not_married</td>\n",
       "      <td>Depressed</td>\n",
       "      <td>Anxiety_present</td>\n",
       "      <td>Panic attack</td>\n",
       "      <td>No_treatment</td>\n",
       "    </tr>\n",
       "    <tr>\n",
       "      <th>39</th>\n",
       "      <td>8/7/2020 14:56</td>\n",
       "      <td>Female</td>\n",
       "      <td>24</td>\n",
       "      <td>Engineering</td>\n",
       "      <td>year 2</td>\n",
       "      <td>2.50 - 2.99</td>\n",
       "      <td>Married</td>\n",
       "      <td>Depressed</td>\n",
       "      <td>No_anxiety</td>\n",
       "      <td>Panic attack</td>\n",
       "      <td>Treatment</td>\n",
       "    </tr>\n",
       "    <tr>\n",
       "      <th>42</th>\n",
       "      <td>8/7/2020 14:58</td>\n",
       "      <td>Female</td>\n",
       "      <td>20</td>\n",
       "      <td>Usuluddin</td>\n",
       "      <td>year 2</td>\n",
       "      <td>3.00 - 3.49</td>\n",
       "      <td>Not_married</td>\n",
       "      <td>Depressed</td>\n",
       "      <td>No_anxiety</td>\n",
       "      <td>No panic_attack</td>\n",
       "      <td>No_treatment</td>\n",
       "    </tr>\n",
       "    <tr>\n",
       "      <th>48</th>\n",
       "      <td>8/7/2020 15:14</td>\n",
       "      <td>Male</td>\n",
       "      <td>24</td>\n",
       "      <td>BCS</td>\n",
       "      <td>year 2</td>\n",
       "      <td>3.00 - 3.49</td>\n",
       "      <td>Not_married</td>\n",
       "      <td>Depressed</td>\n",
       "      <td>No_anxiety</td>\n",
       "      <td>No panic_attack</td>\n",
       "      <td>No_treatment</td>\n",
       "    </tr>\n",
       "    <tr>\n",
       "      <th>50</th>\n",
       "      <td>8/7/2020 15:27</td>\n",
       "      <td>Female</td>\n",
       "      <td>23</td>\n",
       "      <td>ALA</td>\n",
       "      <td>year 1</td>\n",
       "      <td>2.50 - 2.99</td>\n",
       "      <td>Married</td>\n",
       "      <td>Depressed</td>\n",
       "      <td>No_anxiety</td>\n",
       "      <td>Panic attack</td>\n",
       "      <td>Treatment</td>\n",
       "    </tr>\n",
       "    <tr>\n",
       "      <th>53</th>\n",
       "      <td>8/7/2020 15:48</td>\n",
       "      <td>Female</td>\n",
       "      <td>20</td>\n",
       "      <td>KOE</td>\n",
       "      <td>year 3</td>\n",
       "      <td>3.00 - 3.49</td>\n",
       "      <td>Married</td>\n",
       "      <td>Depressed</td>\n",
       "      <td>Anxiety_present</td>\n",
       "      <td>Panic attack</td>\n",
       "      <td>No_treatment</td>\n",
       "    </tr>\n",
       "    <tr>\n",
       "      <th>54</th>\n",
       "      <td>8/7/2020 15:57</td>\n",
       "      <td>Female</td>\n",
       "      <td>19</td>\n",
       "      <td>BCS</td>\n",
       "      <td>year 1</td>\n",
       "      <td>3.50 - 4.00</td>\n",
       "      <td>Not_married</td>\n",
       "      <td>Depressed</td>\n",
       "      <td>No_anxiety</td>\n",
       "      <td>Panic attack</td>\n",
       "      <td>Treatment</td>\n",
       "    </tr>\n",
       "    <tr>\n",
       "      <th>57</th>\n",
       "      <td>8/7/2020 16:21</td>\n",
       "      <td>Female</td>\n",
       "      <td>20</td>\n",
       "      <td>Benl</td>\n",
       "      <td>year 3</td>\n",
       "      <td>3.00 - 3.49</td>\n",
       "      <td>Not_married</td>\n",
       "      <td>Depressed</td>\n",
       "      <td>Anxiety_present</td>\n",
       "      <td>No panic_attack</td>\n",
       "      <td>No_treatment</td>\n",
       "    </tr>\n",
       "    <tr>\n",
       "      <th>65</th>\n",
       "      <td>8/7/2020 17:50</td>\n",
       "      <td>Female</td>\n",
       "      <td>23</td>\n",
       "      <td>Economics</td>\n",
       "      <td>year 1</td>\n",
       "      <td>3.50 - 4.00</td>\n",
       "      <td>Not_married</td>\n",
       "      <td>Depressed</td>\n",
       "      <td>Anxiety_present</td>\n",
       "      <td>No panic_attack</td>\n",
       "      <td>No_treatment</td>\n",
       "    </tr>\n",
       "    <tr>\n",
       "      <th>67</th>\n",
       "      <td>8/7/2020 18:11</td>\n",
       "      <td>Male</td>\n",
       "      <td>19</td>\n",
       "      <td>MHSC</td>\n",
       "      <td>year 3</td>\n",
       "      <td>3.00 - 3.49</td>\n",
       "      <td>Married</td>\n",
       "      <td>Depressed</td>\n",
       "      <td>No_anxiety</td>\n",
       "      <td>Panic attack</td>\n",
       "      <td>No_treatment</td>\n",
       "    </tr>\n",
       "    <tr>\n",
       "      <th>68</th>\n",
       "      <td>8/7/2020 19:05</td>\n",
       "      <td>Female</td>\n",
       "      <td>18</td>\n",
       "      <td>Malcom</td>\n",
       "      <td>year 1</td>\n",
       "      <td>3.50 - 4.00</td>\n",
       "      <td>Not_married</td>\n",
       "      <td>Depressed</td>\n",
       "      <td>No_anxiety</td>\n",
       "      <td>No panic_attack</td>\n",
       "      <td>No_treatment</td>\n",
       "    </tr>\n",
       "    <tr>\n",
       "      <th>72</th>\n",
       "      <td>8/7/2020 22:35</td>\n",
       "      <td>Female</td>\n",
       "      <td>19</td>\n",
       "      <td>IT</td>\n",
       "      <td>year 3</td>\n",
       "      <td>3.00 - 3.49</td>\n",
       "      <td>Married</td>\n",
       "      <td>Depressed</td>\n",
       "      <td>No_anxiety</td>\n",
       "      <td>No panic_attack</td>\n",
       "      <td>No_treatment</td>\n",
       "    </tr>\n",
       "    <tr>\n",
       "      <th>76</th>\n",
       "      <td>9/7/2020 13:15</td>\n",
       "      <td>Female</td>\n",
       "      <td>23</td>\n",
       "      <td>Engineering</td>\n",
       "      <td>year 1</td>\n",
       "      <td>3.00 - 3.49</td>\n",
       "      <td>Not_married</td>\n",
       "      <td>Depressed</td>\n",
       "      <td>No_anxiety</td>\n",
       "      <td>No panic_attack</td>\n",
       "      <td>No_treatment</td>\n",
       "    </tr>\n",
       "    <tr>\n",
       "      <th>80</th>\n",
       "      <td>13/07/2020 10:11:26</td>\n",
       "      <td>Female</td>\n",
       "      <td>24</td>\n",
       "      <td>Communication</td>\n",
       "      <td>year 2</td>\n",
       "      <td>3.50 - 4.00</td>\n",
       "      <td>Married</td>\n",
       "      <td>Depressed</td>\n",
       "      <td>Anxiety_present</td>\n",
       "      <td>Panic attack</td>\n",
       "      <td>No_treatment</td>\n",
       "    </tr>\n",
       "    <tr>\n",
       "      <th>82</th>\n",
       "      <td>13/07/2020 10:12:26</td>\n",
       "      <td>Female</td>\n",
       "      <td>19</td>\n",
       "      <td>Engineering</td>\n",
       "      <td>year 1</td>\n",
       "      <td>3.00 - 3.49</td>\n",
       "      <td>Not_married</td>\n",
       "      <td>Depressed</td>\n",
       "      <td>Anxiety_present</td>\n",
       "      <td>No panic_attack</td>\n",
       "      <td>No_treatment</td>\n",
       "    </tr>\n",
       "    <tr>\n",
       "      <th>85</th>\n",
       "      <td>13/07/2020 10:33:47</td>\n",
       "      <td>Female</td>\n",
       "      <td>18</td>\n",
       "      <td>Psychology</td>\n",
       "      <td>year 1</td>\n",
       "      <td>3.50 - 4.00</td>\n",
       "      <td>Not_married</td>\n",
       "      <td>Depressed</td>\n",
       "      <td>Anxiety_present</td>\n",
       "      <td>No panic_attack</td>\n",
       "      <td>Treatment</td>\n",
       "    </tr>\n",
       "    <tr>\n",
       "      <th>87</th>\n",
       "      <td>13/07/2020 11:46:13</td>\n",
       "      <td>Female</td>\n",
       "      <td>18</td>\n",
       "      <td>Psychology</td>\n",
       "      <td>year 1</td>\n",
       "      <td>3.50 - 4.00</td>\n",
       "      <td>Not_married</td>\n",
       "      <td>Depressed</td>\n",
       "      <td>Anxiety_present</td>\n",
       "      <td>Panic attack</td>\n",
       "      <td>No_treatment</td>\n",
       "    </tr>\n",
       "    <tr>\n",
       "      <th>92</th>\n",
       "      <td>13/07/2020 14:48:05</td>\n",
       "      <td>Female</td>\n",
       "      <td>19</td>\n",
       "      <td>KOE</td>\n",
       "      <td>year 2</td>\n",
       "      <td>3.00 - 3.49</td>\n",
       "      <td>Married</td>\n",
       "      <td>Depressed</td>\n",
       "      <td>No_anxiety</td>\n",
       "      <td>No panic_attack</td>\n",
       "      <td>No_treatment</td>\n",
       "    </tr>\n",
       "    <tr>\n",
       "      <th>93</th>\n",
       "      <td>13/07/2020 16:15:13</td>\n",
       "      <td>Female</td>\n",
       "      <td>18</td>\n",
       "      <td>Benl</td>\n",
       "      <td>year 1</td>\n",
       "      <td>3.00 - 3.49</td>\n",
       "      <td>Not_married</td>\n",
       "      <td>Depressed</td>\n",
       "      <td>No_anxiety</td>\n",
       "      <td>No panic_attack</td>\n",
       "      <td>No_treatment</td>\n",
       "    </tr>\n",
       "    <tr>\n",
       "      <th>97</th>\n",
       "      <td>13/07/2020 21:21:42</td>\n",
       "      <td>Male</td>\n",
       "      <td>18</td>\n",
       "      <td>Engineering</td>\n",
       "      <td>year 2</td>\n",
       "      <td>3.00 - 3.49</td>\n",
       "      <td>Not_married</td>\n",
       "      <td>Depressed</td>\n",
       "      <td>Anxiety_present</td>\n",
       "      <td>No panic_attack</td>\n",
       "      <td>No_treatment</td>\n",
       "    </tr>\n",
       "    <tr>\n",
       "      <th>98</th>\n",
       "      <td>13/07/2020 21:22:56</td>\n",
       "      <td>Female</td>\n",
       "      <td>19</td>\n",
       "      <td>Nursing</td>\n",
       "      <td>year 3</td>\n",
       "      <td>3.50 - 4.00</td>\n",
       "      <td>Married</td>\n",
       "      <td>Depressed</td>\n",
       "      <td>No_anxiety</td>\n",
       "      <td>Panic attack</td>\n",
       "      <td>No_treatment</td>\n",
       "    </tr>\n",
       "  </tbody>\n",
       "</table>\n",
       "</div>"
      ],
      "text/plain": [
       "              Timestamp  Gender  Age            Course Year of Study  \\\n",
       "0        8/7/2020 12:02  Female   18       Engineering        year 1   \n",
       "2        8/7/2020 12:05    Male   19                IT        year 1   \n",
       "3        8/7/2020 12:06  Female   22               Law        year 3   \n",
       "6        8/7/2020 12:32  Female   23  Pendidikan Islam        year 2   \n",
       "11       8/7/2020 12:39  Female   24       Engineering        year 3   \n",
       "12       8/7/2020 12:40  Female   18               BCS        year 1   \n",
       "17       8/7/2020 12:52  Female   24               ENM        year 4   \n",
       "19       8/7/2020 13:07  Female   18    Marine science        year 2   \n",
       "24       8/7/2020 13:17  Female   23               BCS        year 3   \n",
       "27       8/7/2020 13:41    Male   18       Engineering        year 2   \n",
       "28       8/7/2020 13:58  Female   24                IT        year 3   \n",
       "33       8/7/2020 14:31    Male   18               BCS        year 2   \n",
       "34       8/7/2020 14:41  Female   19                IT        year 1   \n",
       "36       8/7/2020 14:43  Female   18               Law        year 3   \n",
       "37       8/7/2020 14:45  Female   19                IT        year 1   \n",
       "39       8/7/2020 14:56  Female   24       Engineering        year 2   \n",
       "42       8/7/2020 14:58  Female   20        Usuluddin         year 2   \n",
       "48       8/7/2020 15:14    Male   24               BCS        year 2   \n",
       "50       8/7/2020 15:27  Female   23               ALA        year 1   \n",
       "53       8/7/2020 15:48  Female   20               KOE        year 3   \n",
       "54       8/7/2020 15:57  Female   19               BCS        year 1   \n",
       "57       8/7/2020 16:21  Female   20              Benl        year 3   \n",
       "65       8/7/2020 17:50  Female   23         Economics        year 1   \n",
       "67       8/7/2020 18:11    Male   19              MHSC        year 3   \n",
       "68       8/7/2020 19:05  Female   18            Malcom        year 1   \n",
       "72       8/7/2020 22:35  Female   19                IT        year 3   \n",
       "76       9/7/2020 13:15  Female   23       Engineering        year 1   \n",
       "80  13/07/2020 10:11:26  Female   24    Communication         year 2   \n",
       "82  13/07/2020 10:12:26  Female   19       Engineering        year 1   \n",
       "85  13/07/2020 10:33:47  Female   18        Psychology        year 1   \n",
       "87  13/07/2020 11:46:13  Female   18        Psychology        year 1   \n",
       "92  13/07/2020 14:48:05  Female   19               KOE        year 2   \n",
       "93  13/07/2020 16:15:13  Female   18              Benl        year 1   \n",
       "97  13/07/2020 21:21:42    Male   18       Engineering        year 2   \n",
       "98  13/07/2020 21:22:56  Female   19          Nursing         year 3   \n",
       "\n",
       "           CGPA Marital status Depression          Anxiety     Panic attack  \\\n",
       "0   3.00 - 3.49    Not_married  Depressed       No_anxiety     Panic attack   \n",
       "2   3.00 - 3.49    Not_married  Depressed  Anxiety_present     Panic attack   \n",
       "3   3.00 - 3.49        Married  Depressed       No_anxiety  No panic_attack   \n",
       "6   3.50 - 4.00        Married  Depressed       No_anxiety     Panic attack   \n",
       "11  3.50 - 4.00        Married  Depressed       No_anxiety  No panic_attack   \n",
       "12  3.00 - 3.49    Not_married  Depressed       No_anxiety  No panic_attack   \n",
       "17  3.00 - 3.49        Married  Depressed  Anxiety_present     Panic attack   \n",
       "19  3.50 - 4.00        Married  Depressed  Anxiety_present     Panic attack   \n",
       "24  3.50 - 4.00    Not_married  Depressed  Anxiety_present     Panic attack   \n",
       "27  3.00 - 3.49        Married  Depressed  Anxiety_present  No panic_attack   \n",
       "28  3.50 - 4.00        Married  Depressed  Anxiety_present     Panic attack   \n",
       "33  3.50 - 4.00        Married  Depressed  Anxiety_present  No panic_attack   \n",
       "34  3.00 - 3.49    Not_married  Depressed  Anxiety_present     Panic attack   \n",
       "36  3.00 - 3.49    Not_married  Depressed  Anxiety_present  No panic_attack   \n",
       "37  2.50 - 2.99    Not_married  Depressed  Anxiety_present     Panic attack   \n",
       "39  2.50 - 2.99        Married  Depressed       No_anxiety     Panic attack   \n",
       "42  3.00 - 3.49    Not_married  Depressed       No_anxiety  No panic_attack   \n",
       "48  3.00 - 3.49    Not_married  Depressed       No_anxiety  No panic_attack   \n",
       "50  2.50 - 2.99        Married  Depressed       No_anxiety     Panic attack   \n",
       "53  3.00 - 3.49        Married  Depressed  Anxiety_present     Panic attack   \n",
       "54  3.50 - 4.00    Not_married  Depressed       No_anxiety     Panic attack   \n",
       "57  3.00 - 3.49    Not_married  Depressed  Anxiety_present  No panic_attack   \n",
       "65  3.50 - 4.00    Not_married  Depressed  Anxiety_present  No panic_attack   \n",
       "67  3.00 - 3.49        Married  Depressed       No_anxiety     Panic attack   \n",
       "68  3.50 - 4.00    Not_married  Depressed       No_anxiety  No panic_attack   \n",
       "72  3.00 - 3.49        Married  Depressed       No_anxiety  No panic_attack   \n",
       "76  3.00 - 3.49    Not_married  Depressed       No_anxiety  No panic_attack   \n",
       "80  3.50 - 4.00        Married  Depressed  Anxiety_present     Panic attack   \n",
       "82  3.00 - 3.49    Not_married  Depressed  Anxiety_present  No panic_attack   \n",
       "85  3.50 - 4.00    Not_married  Depressed  Anxiety_present  No panic_attack   \n",
       "87  3.50 - 4.00    Not_married  Depressed  Anxiety_present     Panic attack   \n",
       "92  3.00 - 3.49        Married  Depressed       No_anxiety  No panic_attack   \n",
       "93  3.00 - 3.49    Not_married  Depressed       No_anxiety  No panic_attack   \n",
       "97  3.00 - 3.49    Not_married  Depressed  Anxiety_present  No panic_attack   \n",
       "98  3.50 - 4.00        Married  Depressed       No_anxiety     Panic attack   \n",
       "\n",
       "       Treatment  \n",
       "0   No_treatment  \n",
       "2   No_treatment  \n",
       "3   No_treatment  \n",
       "6   No_treatment  \n",
       "11  No_treatment  \n",
       "12  No_treatment  \n",
       "17  No_treatment  \n",
       "19  No_treatment  \n",
       "24  No_treatment  \n",
       "27  No_treatment  \n",
       "28     Treatment  \n",
       "33     Treatment  \n",
       "34  No_treatment  \n",
       "36  No_treatment  \n",
       "37  No_treatment  \n",
       "39     Treatment  \n",
       "42  No_treatment  \n",
       "48  No_treatment  \n",
       "50     Treatment  \n",
       "53  No_treatment  \n",
       "54     Treatment  \n",
       "57  No_treatment  \n",
       "65  No_treatment  \n",
       "67  No_treatment  \n",
       "68  No_treatment  \n",
       "72  No_treatment  \n",
       "76  No_treatment  \n",
       "80  No_treatment  \n",
       "82  No_treatment  \n",
       "85     Treatment  \n",
       "87  No_treatment  \n",
       "92  No_treatment  \n",
       "93  No_treatment  \n",
       "97  No_treatment  \n",
       "98  No_treatment  "
      ]
     },
     "execution_count": 48,
     "metadata": {},
     "output_type": "execute_result"
    }
   ],
   "source": [
    "depression_df = df[df.Depression == 'Depressed']\n",
    "depression_df"
   ]
  },
  {
   "cell_type": "code",
   "execution_count": 49,
   "id": "d5d5161b",
   "metadata": {
    "execution": {
     "iopub.execute_input": "2024-02-12T05:35:27.707415Z",
     "iopub.status.busy": "2024-02-12T05:35:27.706907Z",
     "iopub.status.idle": "2024-02-12T05:35:27.720728Z",
     "shell.execute_reply": "2024-02-12T05:35:27.719204Z"
    },
    "papermill": {
     "duration": 0.124552,
     "end_time": "2024-02-12T05:35:27.723132",
     "exception": false,
     "start_time": "2024-02-12T05:35:27.598580",
     "status": "completed"
    },
    "tags": []
   },
   "outputs": [
    {
     "name": "stdout",
     "output_type": "stream",
     "text": [
      "<class 'pandas.core.frame.DataFrame'>\n",
      "Int64Index: 35 entries, 0 to 98\n",
      "Data columns (total 11 columns):\n",
      " #   Column          Non-Null Count  Dtype \n",
      "---  ------          --------------  ----- \n",
      " 0   Timestamp       35 non-null     object\n",
      " 1   Gender          35 non-null     object\n",
      " 2   Age             35 non-null     int64 \n",
      " 3   Course          35 non-null     object\n",
      " 4   Year of Study   35 non-null     object\n",
      " 5   CGPA            35 non-null     object\n",
      " 6   Marital status  35 non-null     object\n",
      " 7   Depression      35 non-null     object\n",
      " 8   Anxiety         35 non-null     object\n",
      " 9   Panic attack    35 non-null     object\n",
      " 10  Treatment       35 non-null     object\n",
      "dtypes: int64(1), object(10)\n",
      "memory usage: 3.3+ KB\n"
     ]
    }
   ],
   "source": [
    "depression_df.info()"
   ]
  },
  {
   "cell_type": "markdown",
   "id": "e116ea7b",
   "metadata": {
    "papermill": {
     "duration": 0.103979,
     "end_time": "2024-02-12T05:35:27.931131",
     "exception": false,
     "start_time": "2024-02-12T05:35:27.827152",
     "status": "completed"
    },
    "tags": []
   },
   "source": []
  },
  {
   "cell_type": "code",
   "execution_count": 50,
   "id": "f0ead136",
   "metadata": {
    "execution": {
     "iopub.execute_input": "2024-02-12T05:35:28.143420Z",
     "iopub.status.busy": "2024-02-12T05:35:28.143030Z",
     "iopub.status.idle": "2024-02-12T05:35:28.152888Z",
     "shell.execute_reply": "2024-02-12T05:35:28.152187Z"
    },
    "papermill": {
     "duration": 0.118196,
     "end_time": "2024-02-12T05:35:28.154734",
     "exception": false,
     "start_time": "2024-02-12T05:35:28.036538",
     "status": "completed"
    },
    "tags": []
   },
   "outputs": [
    {
     "data": {
      "text/plain": [
       "Female    0.828571\n",
       "Male      0.171429\n",
       "Name: Gender, dtype: float64"
      ]
     },
     "execution_count": 50,
     "metadata": {},
     "output_type": "execute_result"
    }
   ],
   "source": [
    "depression_df.Gender.value_counts(normalize=True)"
   ]
  },
  {
   "cell_type": "code",
   "execution_count": 51,
   "id": "38380d57",
   "metadata": {
    "execution": {
     "iopub.execute_input": "2024-02-12T05:35:28.368936Z",
     "iopub.status.busy": "2024-02-12T05:35:28.368382Z",
     "iopub.status.idle": "2024-02-12T05:35:28.540319Z",
     "shell.execute_reply": "2024-02-12T05:35:28.539066Z"
    },
    "papermill": {
     "duration": 0.281184,
     "end_time": "2024-02-12T05:35:28.542890",
     "exception": false,
     "start_time": "2024-02-12T05:35:28.261706",
     "status": "completed"
    },
    "tags": []
   },
   "outputs": [
    {
     "data": {
      "image/png": "[encoded data removed]",
      "text/plain": [
       "<Figure size 432x288 with 1 Axes>"
      ]
     },
     "metadata": {
      "needs_background": "light"
     },
     "output_type": "display_data"
    }
   ],
   "source": [
    "colors = ['#AA6347', '#AA4500']\n",
    "\n",
    "plt.figure(figsize=(6, 4))\n",
    "sns.countplot(data=depression_df, x='Gender', palette=colors)\n",
    "plt.title('Distribution of Depressed Student Across Gender', fontsize=12)\n",
    "plt.xlabel('Gender')\n",
    "plt.ylabel('Count')\n",
    "plt.show()"
   ]
  },
  {
   "cell_type": "markdown",
   "id": "d2ee9c0f",
   "metadata": {
    "papermill": {
     "duration": 0.123823,
     "end_time": "2024-02-12T05:35:28.777227",
     "exception": false,
     "start_time": "2024-02-12T05:35:28.653404",
     "status": "completed"
    },
    "tags": []
   },
   "source": [
    "# Gender & Depression Conclusion: More **female students** are depressed than males."
   ]
  },
  {
   "cell_type": "code",
   "execution_count": 52,
   "id": "82deee30",
   "metadata": {
    "execution": {
     "iopub.execute_input": "2024-02-12T05:35:29.010171Z",
     "iopub.status.busy": "2024-02-12T05:35:29.009769Z",
     "iopub.status.idle": "2024-02-12T05:35:29.204435Z",
     "shell.execute_reply": "2024-02-12T05:35:29.203575Z"
    },
    "papermill": {
     "duration": 0.315366,
     "end_time": "2024-02-12T05:35:29.206888",
     "exception": false,
     "start_time": "2024-02-12T05:35:28.891522",
     "status": "completed"
    },
    "tags": []
   },
   "outputs": [
    {
     "data": {
      "image/png": "[encoded data removed]",
      "text/plain": [
       "<Figure size 432x288 with 1 Axes>"
      ]
     },
     "metadata": {
      "needs_background": "light"
     },
     "output_type": "display_data"
    }
   ],
   "source": [
    "colors = ['#AA6347', '#AA4500']\n",
    "\n",
    "plt.figure(figsize=(6, 4))\n",
    "sns.countplot(data=depression_df, x='Marital status', palette=colors)\n",
    "plt.title('Distribution of Depressed Student Across Marital status', fontsize=12)\n",
    "plt.xlabel('Marital status')\n",
    "plt.ylabel('Count')\n",
    "plt.show()"
   ]
  },
  {
   "cell_type": "code",
   "execution_count": 53,
   "id": "c3bae20a",
   "metadata": {
    "execution": {
     "iopub.execute_input": "2024-02-12T05:35:29.432847Z",
     "iopub.status.busy": "2024-02-12T05:35:29.432530Z",
     "iopub.status.idle": "2024-02-12T05:35:29.556366Z",
     "shell.execute_reply": "2024-02-12T05:35:29.555354Z"
    },
    "papermill": {
     "duration": 0.238453,
     "end_time": "2024-02-12T05:35:29.560136",
     "exception": false,
     "start_time": "2024-02-12T05:35:29.321683",
     "status": "completed"
    },
    "tags": []
   },
   "outputs": [
    {
     "data": {
      "image/png": "[encoded data removed]",
      "text/plain": [
       "<Figure size 576x432 with 1 Axes>"
      ]
     },
     "metadata": {},
     "output_type": "display_data"
    }
   ],
   "source": [
    "marital_status_counts = df['Marital status'].value_counts()\n",
    "\n",
    "# Define colors\n",
    "colors = ['#AA6347', '#AA4500']\n",
    "\n",
    "# Plotting the distribution using a pie chart with custom colors\n",
    "plt.figure(figsize=(8, 6))  # Adjust the figure size if needed\n",
    "plt.pie(marital_status_counts, labels=marital_status_counts.index, autopct='%1.1f%%', startangle=140, colors=colors)\n",
    "plt.title('Distribution of Marital Status')\n",
    "plt.axis('equal')  # Equal aspect ratio ensures that pie is drawn as a circle\n",
    "plt.show()"
   ]
  },
  {
   "cell_type": "markdown",
   "id": "57cac0ca",
   "metadata": {
    "papermill": {
     "duration": 0.119776,
     "end_time": "2024-02-12T05:35:29.841396",
     "exception": false,
     "start_time": "2024-02-12T05:35:29.721620",
     "status": "completed"
    },
    "tags": []
   },
   "source": [
    "Conclusion: \n",
    "No apparent correlation between marital status and depression amongst students. However the  increased prevalence of depression in non-married couples is slightly revealing of the emotional fortitude and stability that married couples share. The exeriences of married inidividuals gathered in matrimony typically makes them more stable. "
   ]
  },
  {
   "cell_type": "code",
   "execution_count": 54,
   "id": "ebc662fe",
   "metadata": {
    "execution": {
     "iopub.execute_input": "2024-02-12T05:35:30.062183Z",
     "iopub.status.busy": "2024-02-12T05:35:30.061848Z",
     "iopub.status.idle": "2024-02-12T05:35:30.374587Z",
     "shell.execute_reply": "2024-02-12T05:35:30.373510Z"
    },
    "papermill": {
     "duration": 0.427349,
     "end_time": "2024-02-12T05:35:30.376934",
     "exception": false,
     "start_time": "2024-02-12T05:35:29.949585",
     "status": "completed"
    },
    "tags": []
   },
   "outputs": [
    {
     "data": {
      "image/png": "[encoded data removed]",
      "text/plain": [
       "<Figure size 432x288 with 1 Axes>"
      ]
     },
     "metadata": {
      "needs_background": "light"
     },
     "output_type": "display_data"
    }
   ],
   "source": [
    "colors = ['#AA6347', '#AA5500', '#AF5000', '#DA4500', '#AA6347', '#AA4500']\n",
    "\n",
    "plt.figure(figsize=(6, 4))\n",
    "sns.countplot(data=depression_df, x='Age', palette=colors)\n",
    "plt.title('Distribution of Depressed Students Across Age', fontsize=10)\n",
    "plt.xlabel('Age')\n",
    "plt.ylabel('Count')\n",
    "plt.show()\n"
   ]
  },
  {
   "cell_type": "markdown",
   "id": "3e0dbde1",
   "metadata": {
    "papermill": {
     "duration": 0.110296,
     "end_time": "2024-02-12T05:35:30.600797",
     "exception": false,
     "start_time": "2024-02-12T05:35:30.490501",
     "status": "completed"
    },
    "tags": []
   },
   "source": [
    "Across student age the proportion of students who are depressed falls with age 18 and 19. At 20 to 22 the proportion of depressed students decrease. There is also a noticeable increase in the number of depressed studnt form Age 24.\n",
    "\n"
   ]
  },
  {
   "cell_type": "code",
   "execution_count": 55,
   "id": "7de9547a",
   "metadata": {
    "execution": {
     "iopub.execute_input": "2024-02-12T05:35:30.830124Z",
     "iopub.status.busy": "2024-02-12T05:35:30.829309Z",
     "iopub.status.idle": "2024-02-12T05:35:31.000325Z",
     "shell.execute_reply": "2024-02-12T05:35:30.999339Z"
    },
    "papermill": {
     "duration": 0.289306,
     "end_time": "2024-02-12T05:35:31.002819",
     "exception": false,
     "start_time": "2024-02-12T05:35:30.713513",
     "status": "completed"
    },
    "tags": []
   },
   "outputs": [
    {
     "data": {
      "image/png": "[encoded data removed]",
      "text/plain": [
       "<Figure size 432x288 with 1 Axes>"
      ]
     },
     "metadata": {
      "needs_background": "light"
     },
     "output_type": "display_data"
    }
   ],
   "source": [
    "colors = ['#AA5500', '#AF5000', '#DA4500']\n",
    "plt.figure(figsize=(6, 4))\n",
    "sns.countplot(data=depression_df, x='CGPA', palette=colors)\n",
    "plt.title('Distribution of Depressed Student Across CGPA', fontsize=10)\n",
    "plt.xlabel('CGPA')\n",
    "plt.ylabel('Count')\n",
    "plt.show()"
   ]
  },
  {
   "cell_type": "markdown",
   "id": "6e895eb5",
   "metadata": {
    "papermill": {
     "duration": 0.110824,
     "end_time": "2024-02-12T05:35:31.229483",
     "exception": false,
     "start_time": "2024-02-12T05:35:31.118659",
     "status": "completed"
    },
    "tags": []
   },
   "source": [
    "There are more depressed students with CGPA OF 3.00 - 3.49, followed by students with CGPA of 3.50 - 4.00. Only a few proportion of student with CGPA OF 2.50 - 2.99 are depressed.\n",
    "\n",
    "We are working with smarter students.\n",
    "\n"
   ]
  },
  {
   "cell_type": "code",
   "execution_count": 56,
   "id": "2f973e00",
   "metadata": {
    "execution": {
     "iopub.execute_input": "2024-02-12T05:35:31.453612Z",
     "iopub.status.busy": "2024-02-12T05:35:31.452801Z",
     "iopub.status.idle": "2024-02-12T05:35:31.459991Z",
     "shell.execute_reply": "2024-02-12T05:35:31.459219Z"
    },
    "papermill": {
     "duration": 0.121148,
     "end_time": "2024-02-12T05:35:31.461917",
     "exception": false,
     "start_time": "2024-02-12T05:35:31.340769",
     "status": "completed"
    },
    "tags": []
   },
   "outputs": [
    {
     "data": {
      "text/plain": [
       "Index(['Timestamp', 'Gender', 'Age', 'Course', 'Year of Study', 'CGPA',\n",
       "       'Marital status', 'Depression', 'Anxiety', 'Panic attack', 'Treatment'],\n",
       "      dtype='object')"
      ]
     },
     "execution_count": 56,
     "metadata": {},
     "output_type": "execute_result"
    }
   ],
   "source": [
    "depression_df.columns"
   ]
  },
  {
   "cell_type": "markdown",
   "id": "7aac7813",
   "metadata": {
    "papermill": {
     "duration": 0.108947,
     "end_time": "2024-02-12T05:35:31.680803",
     "exception": false,
     "start_time": "2024-02-12T05:35:31.571856",
     "status": "completed"
    },
    "tags": []
   },
   "source": [
    "Check for Null"
   ]
  },
  {
   "cell_type": "markdown",
   "id": "65871707",
   "metadata": {
    "papermill": {
     "duration": 0.110117,
     "end_time": "2024-02-12T05:35:31.904113",
     "exception": false,
     "start_time": "2024-02-12T05:35:31.793996",
     "status": "completed"
    },
    "tags": []
   },
   "source": [
    "Panic Attack coount distribution"
   ]
  },
  {
   "cell_type": "code",
   "execution_count": 57,
   "id": "13a80e83",
   "metadata": {
    "execution": {
     "iopub.execute_input": "2024-02-12T05:35:32.127854Z",
     "iopub.status.busy": "2024-02-12T05:35:32.127280Z",
     "iopub.status.idle": "2024-02-12T05:35:32.311731Z",
     "shell.execute_reply": "2024-02-12T05:35:32.311074Z"
    },
    "papermill": {
     "duration": 0.298982,
     "end_time": "2024-02-12T05:35:32.313943",
     "exception": false,
     "start_time": "2024-02-12T05:35:32.014961",
     "status": "completed"
    },
    "tags": []
   },
   "outputs": [
    {
     "data": {
      "image/png": "[encoded data removed]",
      "text/plain": [
       "<Figure size 576x432 with 1 Axes>"
      ]
     },
     "metadata": {
      "needs_background": "light"
     },
     "output_type": "display_data"
    }
   ],
   "source": [
    "\n",
    "def plot_count_distribution_panic_attack(data):\n",
    "    plt.figure(figsize=(8, 6))  \n",
    "    sns.countplot(data['Panic attack'], palette=['#AA5500', '#AF5000'])\n",
    "    plt.title('Count Distribution of Panic Attack')\n",
    "    plt.xlabel('Panic Attack')\n",
    "    plt.ylabel('Count')\n",
    "    plt.xticks(rotation=45) \n",
    "    plt.show()\n",
    "\n",
    "# Assuming your dataset is named 'df'\n",
    "# Plot count distribution of categorical data for panic attack\n",
    "plot_count_distribution_panic_attack(df)"
   ]
  },
  {
   "cell_type": "code",
   "execution_count": 58,
   "id": "050540ce",
   "metadata": {
    "execution": {
     "iopub.execute_input": "2024-02-12T05:35:32.539494Z",
     "iopub.status.busy": "2024-02-12T05:35:32.538939Z",
     "iopub.status.idle": "2024-02-12T05:35:32.995813Z",
     "shell.execute_reply": "2024-02-12T05:35:32.994743Z"
    },
    "papermill": {
     "duration": 0.571412,
     "end_time": "2024-02-12T05:35:32.998123",
     "exception": false,
     "start_time": "2024-02-12T05:35:32.426711",
     "status": "completed"
    },
    "tags": []
   },
   "outputs": [
    {
     "data": {
      "text/plain": [
       "<Figure size 576x360 with 0 Axes>"
      ]
     },
     "metadata": {},
     "output_type": "display_data"
    },
    {
     "data": {
      "image/png": "[encoded data removed]",
      "text/plain": [
       "<Figure size 476x360 with 1 Axes>"
      ]
     },
     "metadata": {
      "needs_background": "light"
     },
     "output_type": "display_data"
    }
   ],
   "source": [
    "colors = colors = {'Panic attack': '#FA3500', 'No panic_attack': '#AF5000'}\n",
    "\n",
    "plt.figure(figsize=(8, 5))\n",
    "sns.displot(data=depression_df, x='Age', hue='Panic attack', palette=colors, kind='kde', fill=True)\n",
    "plt.title('Distribution of Age with Panic Attack', fontsize=12)\n",
    "plt.xlabel('Age')\n",
    "plt.ylabel('Density')\n",
    "plt.show()"
   ]
  },
  {
   "cell_type": "markdown",
   "id": "bc5edfbc",
   "metadata": {
    "papermill": {
     "duration": 0.112349,
     "end_time": "2024-02-12T05:35:33.225375",
     "exception": false,
     "start_time": "2024-02-12T05:35:33.113026",
     "status": "completed"
    },
    "tags": []
   },
   "source": [
    "The kernel density plot indicate that there are variations in the distribution of ages between students with panick and no panick attack. Furthermore, students within the age of 18 and above without panick attack are more likely to be depressed relative to a student with a panick attack.\n",
    "\n"
   ]
  },
  {
   "cell_type": "markdown",
   "id": "5bef4607",
   "metadata": {
    "papermill": {
     "duration": 0.113715,
     "end_time": "2024-02-12T05:35:33.451444",
     "exception": false,
     "start_time": "2024-02-12T05:35:33.337729",
     "status": "completed"
    },
    "tags": []
   },
   "source": [
    "Treatment Count Distribution"
   ]
  },
  {
   "cell_type": "code",
   "execution_count": 59,
   "id": "8d6736b1",
   "metadata": {
    "execution": {
     "iopub.execute_input": "2024-02-12T05:35:33.680523Z",
     "iopub.status.busy": "2024-02-12T05:35:33.680164Z",
     "iopub.status.idle": "2024-02-12T05:35:33.848762Z",
     "shell.execute_reply": "2024-02-12T05:35:33.848074Z"
    },
    "papermill": {
     "duration": 0.286145,
     "end_time": "2024-02-12T05:35:33.851622",
     "exception": false,
     "start_time": "2024-02-12T05:35:33.565477",
     "status": "completed"
    },
    "tags": []
   },
   "outputs": [
    {
     "data": {
      "image/png": "[encoded data removed]",
      "text/plain": [
       "<Figure size 576x432 with 1 Axes>"
      ]
     },
     "metadata": {
      "needs_background": "light"
     },
     "output_type": "display_data"
    }
   ],
   "source": [
    "\n",
    "def plot_count_distribution_treatment(data):\n",
    "    plt.figure(figsize=(8, 6))  \n",
    "    sns.countplot(data['Treatment'], palette=['#AA5500', '#AF5000'])\n",
    "    plt.title('Count Distribution of Treatment Seeking')\n",
    "    plt.xlabel('Treatment Seeking')\n",
    "    plt.ylabel('Count')\n",
    "    plt.xticks(rotation=45) \n",
    "    plt.show()\n",
    "\n",
    "# Assuming your dataset is named 'df'\n",
    "# Plot count distribution of categorical data for treatment seeking\n",
    "plot_count_distribution_treatment(df)"
   ]
  },
  {
   "cell_type": "code",
   "execution_count": 60,
   "id": "01803c17",
   "metadata": {
    "execution": {
     "iopub.execute_input": "2024-02-12T05:35:34.087330Z",
     "iopub.status.busy": "2024-02-12T05:35:34.087040Z",
     "iopub.status.idle": "2024-02-12T05:35:34.108208Z",
     "shell.execute_reply": "2024-02-12T05:35:34.107529Z"
    },
    "papermill": {
     "duration": 0.144191,
     "end_time": "2024-02-12T05:35:34.112531",
     "exception": false,
     "start_time": "2024-02-12T05:35:33.968340",
     "status": "completed"
    },
    "tags": []
   },
   "outputs": [
    {
     "name": "stdout",
     "output_type": "stream",
     "text": [
      "               Timestamp  Gender  Age                   Course Year of Study  \\\n",
      "0         8/7/2020 12:02  Female   18              Engineering        year 1   \n",
      "1         8/7/2020 12:04    Male   21        Islamic Education        year 2   \n",
      "2         8/7/2020 12:05    Male   19                       IT        year 1   \n",
      "3         8/7/2020 12:06  Female   22                      Law        year 3   \n",
      "4         8/7/2020 12:13    Male   23             Mathemathics        year 4   \n",
      "5         8/7/2020 12:31    Male   19              Engineering        year 2   \n",
      "6         8/7/2020 12:32  Female   23         Pendidikan Islam        year 2   \n",
      "7         8/7/2020 12:33  Female   18                      BCS        year 1   \n",
      "8         8/7/2020 12:35  Female   19          Human Resources        year 2   \n",
      "9         8/7/2020 12:39    Male   18                    Irkhs        year 1   \n",
      "10        8/7/2020 12:39  Female   20               Psychology        year 1   \n",
      "11        8/7/2020 12:39  Female   24              Engineering        year 3   \n",
      "12        8/7/2020 12:40  Female   18                      BCS        year 1   \n",
      "13        8/7/2020 12:41    Male   19              Engineering        year 1   \n",
      "14        8/7/2020 12:43  Female   18                    KENMS        year 2   \n",
      "15        8/7/2020 12:43    Male   24                      BCS        year 3   \n",
      "16        8/7/2020 12:46  Female   24              Accounting         year 3   \n",
      "17        8/7/2020 12:52  Female   24                      ENM        year 4   \n",
      "18        8/7/2020 13:05  Female   20                       IT        year 2   \n",
      "19        8/7/2020 13:07  Female   18           Marine science        year 2   \n",
      "20        8/7/2020 13:12  Female   19              Engineering        year 1   \n",
      "21        8/7/2020 13:13  Female   18                      KOE        year 2   \n",
      "22        8/7/2020 13:13  Female   24                      BCS        year 1   \n",
      "23        8/7/2020 13:15  Female   24              Engineering        year 1   \n",
      "24        8/7/2020 13:17  Female   23                      BCS        year 3   \n",
      "25        8/7/2020 13:29  Female   18          Banking Studies        year 1   \n",
      "26        8/7/2020 13:35  Female   19              Engineering        year 1   \n",
      "27        8/7/2020 13:41    Male   18              Engineering        year 2   \n",
      "28        8/7/2020 13:58  Female   24                       IT        year 3   \n",
      "29        8/7/2020 14:05  Female   24                      BCS        year 4   \n",
      "30        8/7/2020 14:27  Female   23  Business Administration        year 2   \n",
      "31        8/7/2020 14:29    Male   18                      BCS        year 2   \n",
      "32        8/7/2020 14:29    Male   19                      BCS        year 1   \n",
      "33        8/7/2020 14:31    Male   18                      BCS        year 2   \n",
      "34        8/7/2020 14:41  Female   19                       IT        year 1   \n",
      "35        8/7/2020 14:43  Female   18              Engineering        year 1   \n",
      "36        8/7/2020 14:43  Female   18                      Law        year 3   \n",
      "37        8/7/2020 14:45  Female   19                       IT        year 1   \n",
      "38        8/7/2020 14:47  Female   18                    Irkhs        year 1   \n",
      "39        8/7/2020 14:56  Female   24              Engineering        year 2   \n",
      "40        8/7/2020 14:57  Female   24                       IT        year 3   \n",
      "41        8/7/2020 14:57  Female   22              Engineering        year 4   \n",
      "42        8/7/2020 14:58  Female   20               Usuluddin         year 2   \n",
      "43        8/7/2020 15:07    Male   19                       IT        year 1   \n",
      "44        8/7/2020 15:08    Male   23                    TAASL        year 2   \n",
      "45        8/7/2020 15:09    Male   18                      BCS        year 1   \n",
      "46        8/7/2020 15:12  Female   19              Engineering        year 1   \n",
      "47        8/7/2020 15:14  Female   18              Engineering        year 4   \n",
      "48        8/7/2020 15:14    Male   24                      BCS        year 2   \n",
      "49        8/7/2020 15:18  Female   24                      BCS        year 3   \n",
      "50        8/7/2020 15:27  Female   23                      ALA        year 1   \n",
      "51        8/7/2020 15:37  Female   18                      BCS        year 2   \n",
      "52        8/7/2020 15:47  Female   19       Biomedical science        year 3   \n",
      "53        8/7/2020 15:48  Female   20                      KOE        year 3   \n",
      "54        8/7/2020 15:57  Female   19                      BCS        year 1   \n",
      "55        8/7/2020 15:58    Male   21                      BCS        year 1   \n",
      "56        8/7/2020 16:08    Male   23                    Irkhs        year 3   \n",
      "57        8/7/2020 16:21  Female   20                     Benl        year 3   \n",
      "58        8/7/2020 16:22  Female   18                      BCS        year 1   \n",
      "59        8/7/2020 16:34  Female   23                     Benl        year 1   \n",
      "60        8/7/2020 16:34  Female   18                       IT        year 3   \n",
      "61        8/7/2020 16:53  Female   19                      BCS        year 1   \n",
      "62        8/7/2020 17:05  Female   18                      CTS        year 1   \n",
      "63        8/7/2020 17:37  Female   24              Engineering        year 1   \n",
      "64        8/7/2020 17:46  Female   24              Engineering        year 1   \n",
      "65        8/7/2020 17:50  Female   23                Economics        year 1   \n",
      "66        8/7/2020 18:10  Female   18                      KOE        year 3   \n",
      "67        8/7/2020 18:11    Male   19                     MHSC        year 3   \n",
      "68        8/7/2020 19:05  Female   18                   Malcom        year 1   \n",
      "69        8/7/2020 19:32  Female   24                      Kop        year 4   \n",
      "70        8/7/2020 20:36  Female   24       Biomedical science        year 1   \n",
      "71        8/7/2020 21:21  Female   18                      Law        year 3   \n",
      "72        8/7/2020 22:35  Female   19                       IT        year 3   \n",
      "73         9/7/2020 6:57    Male   18       Biomedical science        year 1   \n",
      "74        9/7/2020 11:43    Male   24                       IT        year 3   \n",
      "75        9/7/2020 11:57  Female   24                      KOE        year 1   \n",
      "76        9/7/2020 13:15  Female   23              Engineering        year 1   \n",
      "77        9/7/2020 18:24  Female   18          Human Sciences         year 2   \n",
      "78   13/07/2020 10:07:32  Female   19            Biotechnology        year 3   \n",
      "79   13/07/2020 10:10:30  Female   18              Engineering        year 4   \n",
      "80   13/07/2020 10:11:26  Female   24           Communication         year 2   \n",
      "81   13/07/2020 10:12:18  Female   24          Diploma Nursing        year 2   \n",
      "82   13/07/2020 10:12:26  Female   19              Engineering        year 1   \n",
      "83   13/07/2020 10:12:28  Female   19        Pendidikan Islam         year 2   \n",
      "84   13/07/2020 10:14:46    Male   23              Radiography        year 1   \n",
      "85   13/07/2020 10:33:47  Female   18               Psychology        year 1   \n",
      "86   13/07/2020 10:34:08  Female   19                     Fiqh        year 3   \n",
      "87   13/07/2020 11:46:13  Female   18               Psychology        year 1   \n",
      "88   13/07/2020 11:49:02    Male   24                       IT        year 1   \n",
      "89   13/07/2020 11:54:58    Male   24              Engineering        year 2   \n",
      "90   13/07/2020 13:57:11  Female   23             DIPLOMA TESL        year 3   \n",
      "91   13/07/2020 14:38:12    Male   18                      KOE        year 2   \n",
      "92   13/07/2020 14:48:05  Female   19                      KOE        year 2   \n",
      "93   13/07/2020 16:15:13  Female   18                     Benl        year 1   \n",
      "94   13/07/2020 17:30:44  Female   24                     Fiqh        year 3   \n",
      "95   13/07/2020 19:08:32  Female   18        Islamic Education        year 1   \n",
      "96   13/07/2020 19:56:49  Female   21                      BCS        year 1   \n",
      "97   13/07/2020 21:21:42    Male   18              Engineering        year 2   \n",
      "98   13/07/2020 21:22:56  Female   19                 Nursing         year 3   \n",
      "99   13/07/2020 21:23:57  Female   23         Pendidikan Islam        year 4   \n",
      "100  18/07/2020 20:16:21    Male   20       Biomedical science        year 2   \n",
      "\n",
      "            CGPA Marital status     Depression          Anxiety  \\\n",
      "0    3.00 - 3.49    Not_married      Depressed       No_anxiety   \n",
      "1    3.00 - 3.49    Not_married  Not depressed  Anxiety_present   \n",
      "2    3.00 - 3.49    Not_married      Depressed  Anxiety_present   \n",
      "3    3.00 - 3.49        Married      Depressed       No_anxiety   \n",
      "4    3.00 - 3.49    Not_married  Not depressed       No_anxiety   \n",
      "5    3.50 - 4.00    Not_married  Not depressed       No_anxiety   \n",
      "6    3.50 - 4.00        Married      Depressed       No_anxiety   \n",
      "7    3.50 - 4.00    Not_married  Not depressed  Anxiety_present   \n",
      "8    2.50 - 2.99    Not_married  Not depressed       No_anxiety   \n",
      "9    3.50 - 4.00    Not_married  Not depressed  Anxiety_present   \n",
      "10   3.50 - 4.00    Not_married  Not depressed       No_anxiety   \n",
      "11   3.50 - 4.00        Married      Depressed       No_anxiety   \n",
      "12   3.00 - 3.49    Not_married      Depressed       No_anxiety   \n",
      "13   3.00 - 3.49    Not_married  Not depressed       No_anxiety   \n",
      "14   3.50 - 4.00    Not_married  Not depressed  Anxiety_present   \n",
      "15   3.50 - 4.00    Not_married  Not depressed       No_anxiety   \n",
      "16   3.00 - 3.49    Not_married  Not depressed       No_anxiety   \n",
      "17   3.00 - 3.49        Married      Depressed  Anxiety_present   \n",
      "18   3.50 - 4.00    Not_married  Not depressed  Anxiety_present   \n",
      "19   3.50 - 4.00        Married      Depressed  Anxiety_present   \n",
      "20   3.00 - 3.49    Not_married  Not depressed       No_anxiety   \n",
      "21   3.00 - 3.49    Not_married  Not depressed       No_anxiety   \n",
      "22   3.50 - 4.00    Not_married  Not depressed       No_anxiety   \n",
      "23   3.00 - 3.49    Not_married  Not depressed       No_anxiety   \n",
      "24   3.50 - 4.00    Not_married      Depressed  Anxiety_present   \n",
      "25   3.50 - 4.00    Not_married  Not depressed       No_anxiety   \n",
      "26   3.50 - 4.00    Not_married  Not depressed       No_anxiety   \n",
      "27   3.00 - 3.49        Married      Depressed  Anxiety_present   \n",
      "28   3.50 - 4.00        Married      Depressed  Anxiety_present   \n",
      "29   3.50 - 4.00    Not_married  Not depressed       No_anxiety   \n",
      "30   3.00 - 3.49    Not_married  Not depressed       No_anxiety   \n",
      "31   3.00 - 3.49    Not_married  Not depressed       No_anxiety   \n",
      "32   3.50 - 4.00    Not_married  Not depressed       No_anxiety   \n",
      "33   3.50 - 4.00        Married      Depressed  Anxiety_present   \n",
      "34   3.00 - 3.49    Not_married      Depressed  Anxiety_present   \n",
      "35   2.00 - 2.49    Not_married  Not depressed       No_anxiety   \n",
      "36   3.00 - 3.49    Not_married      Depressed  Anxiety_present   \n",
      "37   2.50 - 2.99    Not_married      Depressed  Anxiety_present   \n",
      "38   3.50 - 4.00    Not_married  Not depressed       No_anxiety   \n",
      "39   2.50 - 2.99        Married      Depressed       No_anxiety   \n",
      "40   3.00 - 3.49    Not_married  Not depressed  Anxiety_present   \n",
      "41   3.50 - 4.00    Not_married  Not depressed       No_anxiety   \n",
      "42   3.00 - 3.49    Not_married      Depressed       No_anxiety   \n",
      "43      0 - 1.99    Not_married  Not depressed       No_anxiety   \n",
      "44   3.50 - 4.00    Not_married  Not depressed       No_anxiety   \n",
      "45   3.50 - 4.00    Not_married  Not depressed  Anxiety_present   \n",
      "46   3.50 - 4.00    Not_married  Not depressed  Anxiety_present   \n",
      "47   3.50 - 4.00    Not_married  Not depressed       No_anxiety   \n",
      "48   3.00 - 3.49    Not_married      Depressed       No_anxiety   \n",
      "49   3.50 - 4.00    Not_married  Not depressed       No_anxiety   \n",
      "50   2.50 - 2.99        Married      Depressed       No_anxiety   \n",
      "51   3.50 - 4.00    Not_married  Not depressed  Anxiety_present   \n",
      "52   3.00 - 3.49    Not_married  Not depressed       No_anxiety   \n",
      "53   3.00 - 3.49        Married      Depressed  Anxiety_present   \n",
      "54   3.50 - 4.00    Not_married      Depressed       No_anxiety   \n",
      "55   3.00 - 3.49    Not_married  Not depressed       No_anxiety   \n",
      "56   3.50 - 4.00    Not_married  Not depressed       No_anxiety   \n",
      "57   3.00 - 3.49    Not_married      Depressed  Anxiety_present   \n",
      "58   3.50 - 4.00    Not_married  Not depressed       No_anxiety   \n",
      "59   3.00 - 3.49    Not_married  Not depressed       No_anxiety   \n",
      "60   3.00 - 3.49    Not_married  Not depressed       No_anxiety   \n",
      "61   3.50 - 4.00    Not_married  Not depressed       No_anxiety   \n",
      "62   3.50 - 4.00    Not_married  Not depressed       No_anxiety   \n",
      "63   3.50 - 4.00    Not_married  Not depressed       No_anxiety   \n",
      "64   3.50 - 4.00    Not_married  Not depressed       No_anxiety   \n",
      "65   3.50 - 4.00    Not_married      Depressed  Anxiety_present   \n",
      "66   3.00 - 3.49    Not_married  Not depressed  Anxiety_present   \n",
      "67   3.00 - 3.49        Married      Depressed       No_anxiety   \n",
      "68   3.50 - 4.00    Not_married      Depressed       No_anxiety   \n",
      "69   3.00 - 3.49    Not_married  Not depressed  Anxiety_present   \n",
      "70   3.00 - 3.49    Not_married  Not depressed       No_anxiety   \n",
      "71   3.50 - 4.00    Not_married  Not depressed       No_anxiety   \n",
      "72   3.00 - 3.49        Married      Depressed       No_anxiety   \n",
      "73      0 - 1.99    Not_married  Not depressed       No_anxiety   \n",
      "74   3.50 - 4.00    Not_married  Not depressed  Anxiety_present   \n",
      "75   3.50 - 4.00    Not_married  Not depressed  Anxiety_present   \n",
      "76   3.00 - 3.49    Not_married      Depressed       No_anxiety   \n",
      "77   3.00 - 3.49    Not_married  Not depressed       No_anxiety   \n",
      "78      0 - 1.99    Not_married  Not depressed       No_anxiety   \n",
      "79   3.50 - 4.00    Not_married  Not depressed       No_anxiety   \n",
      "80   3.50 - 4.00        Married      Depressed  Anxiety_present   \n",
      "81   3.50 - 4.00    Not_married  Not depressed       No_anxiety   \n",
      "82   3.00 - 3.49    Not_married      Depressed  Anxiety_present   \n",
      "83   3.00 - 3.49    Not_married  Not depressed       No_anxiety   \n",
      "84   3.00 - 3.49    Not_married  Not depressed       No_anxiety   \n",
      "85   3.50 - 4.00    Not_married      Depressed  Anxiety_present   \n",
      "86   3.00 - 3.49    Not_married  Not depressed       No_anxiety   \n",
      "87   3.50 - 4.00    Not_married      Depressed  Anxiety_present   \n",
      "88   3.00 - 3.49    Not_married  Not depressed  Anxiety_present   \n",
      "89   2.00 - 2.49    Not_married  Not depressed       No_anxiety   \n",
      "90   3.50 - 4.00    Not_married  Not depressed       No_anxiety   \n",
      "91   3.00 - 3.49    Not_married  Not depressed  Anxiety_present   \n",
      "92   3.00 - 3.49        Married      Depressed       No_anxiety   \n",
      "93   3.00 - 3.49    Not_married      Depressed       No_anxiety   \n",
      "94      0 - 1.99    Not_married  Not depressed       No_anxiety   \n",
      "95   3.50 - 4.00    Not_married  Not depressed       No_anxiety   \n",
      "96   3.50 - 4.00    Not_married  Not depressed  Anxiety_present   \n",
      "97   3.00 - 3.49    Not_married      Depressed  Anxiety_present   \n",
      "98   3.50 - 4.00        Married      Depressed       No_anxiety   \n",
      "99   3.50 - 4.00    Not_married  Not depressed       No_anxiety   \n",
      "100  3.00 - 3.49    Not_married  Not depressed       No_anxiety   \n",
      "\n",
      "        Panic attack     Treatment  \n",
      "0       Panic attack  No_treatment  \n",
      "1    No panic_attack  No_treatment  \n",
      "2       Panic attack  No_treatment  \n",
      "3    No panic_attack  No_treatment  \n",
      "4    No panic_attack  No_treatment  \n",
      "5       Panic attack  No_treatment  \n",
      "6       Panic attack  No_treatment  \n",
      "7    No panic_attack  No_treatment  \n",
      "8    No panic_attack  No_treatment  \n",
      "9       Panic attack  No_treatment  \n",
      "10   No panic_attack  No_treatment  \n",
      "11   No panic_attack  No_treatment  \n",
      "12   No panic_attack  No_treatment  \n",
      "13   No panic_attack  No_treatment  \n",
      "14   No panic_attack  No_treatment  \n",
      "15   No panic_attack  No_treatment  \n",
      "16   No panic_attack  No_treatment  \n",
      "17      Panic attack  No_treatment  \n",
      "18   No panic_attack  No_treatment  \n",
      "19      Panic attack  No_treatment  \n",
      "20      Panic attack  No_treatment  \n",
      "21   No panic_attack  No_treatment  \n",
      "22   No panic_attack  No_treatment  \n",
      "23   No panic_attack  No_treatment  \n",
      "24      Panic attack  No_treatment  \n",
      "25   No panic_attack  No_treatment  \n",
      "26   No panic_attack  No_treatment  \n",
      "27   No panic_attack  No_treatment  \n",
      "28      Panic attack     Treatment  \n",
      "29   No panic_attack  No_treatment  \n",
      "30   No panic_attack  No_treatment  \n",
      "31   No panic_attack  No_treatment  \n",
      "32      Panic attack  No_treatment  \n",
      "33   No panic_attack     Treatment  \n",
      "34      Panic attack  No_treatment  \n",
      "35   No panic_attack  No_treatment  \n",
      "36   No panic_attack  No_treatment  \n",
      "37      Panic attack  No_treatment  \n",
      "38   No panic_attack  No_treatment  \n",
      "39      Panic attack     Treatment  \n",
      "40   No panic_attack  No_treatment  \n",
      "41   No panic_attack  No_treatment  \n",
      "42   No panic_attack  No_treatment  \n",
      "43   No panic_attack  No_treatment  \n",
      "44      Panic attack  No_treatment  \n",
      "45      Panic attack  No_treatment  \n",
      "46   No panic_attack  No_treatment  \n",
      "47   No panic_attack  No_treatment  \n",
      "48   No panic_attack  No_treatment  \n",
      "49      Panic attack  No_treatment  \n",
      "50      Panic attack     Treatment  \n",
      "51   No panic_attack  No_treatment  \n",
      "52   No panic_attack  No_treatment  \n",
      "53      Panic attack  No_treatment  \n",
      "54      Panic attack     Treatment  \n",
      "55   No panic_attack  No_treatment  \n",
      "56   No panic_attack  No_treatment  \n",
      "57   No panic_attack  No_treatment  \n",
      "58   No panic_attack  No_treatment  \n",
      "59   No panic_attack  No_treatment  \n",
      "60      Panic attack  No_treatment  \n",
      "61   No panic_attack  No_treatment  \n",
      "62      Panic attack  No_treatment  \n",
      "63      Panic attack  No_treatment  \n",
      "64   No panic_attack  No_treatment  \n",
      "65   No panic_attack  No_treatment  \n",
      "66   No panic_attack  No_treatment  \n",
      "67      Panic attack  No_treatment  \n",
      "68   No panic_attack  No_treatment  \n",
      "69   No panic_attack  No_treatment  \n",
      "70   No panic_attack  No_treatment  \n",
      "71      Panic attack  No_treatment  \n",
      "72   No panic_attack  No_treatment  \n",
      "73   No panic_attack  No_treatment  \n",
      "74   No panic_attack  No_treatment  \n",
      "75      Panic attack  No_treatment  \n",
      "76   No panic_attack  No_treatment  \n",
      "77      Panic attack  No_treatment  \n",
      "78   No panic_attack  No_treatment  \n",
      "79   No panic_attack  No_treatment  \n",
      "80      Panic attack  No_treatment  \n",
      "81   No panic_attack  No_treatment  \n",
      "82   No panic_attack  No_treatment  \n",
      "83   No panic_attack  No_treatment  \n",
      "84   No panic_attack  No_treatment  \n",
      "85   No panic_attack     Treatment  \n",
      "86   No panic_attack  No_treatment  \n",
      "87      Panic attack  No_treatment  \n",
      "88   No panic_attack  No_treatment  \n",
      "89      Panic attack  No_treatment  \n",
      "90      Panic attack  No_treatment  \n",
      "91   No panic_attack  No_treatment  \n",
      "92   No panic_attack  No_treatment  \n",
      "93   No panic_attack  No_treatment  \n",
      "94      Panic attack  No_treatment  \n",
      "95   No panic_attack  No_treatment  \n",
      "96   No panic_attack  No_treatment  \n",
      "97   No panic_attack  No_treatment  \n",
      "98      Panic attack  No_treatment  \n",
      "99   No panic_attack  No_treatment  \n",
      "100  No panic_attack  No_treatment  \n",
      "0      18\n",
      "1      21\n",
      "2      19\n",
      "3      22\n",
      "4      23\n",
      "5      19\n",
      "6      23\n",
      "7      18\n",
      "8      19\n",
      "9      18\n",
      "10     20\n",
      "11     24\n",
      "12     18\n",
      "13     19\n",
      "14     18\n",
      "15     24\n",
      "16     24\n",
      "17     24\n",
      "18     20\n",
      "19     18\n",
      "20     19\n",
      "21     18\n",
      "22     24\n",
      "23     24\n",
      "24     23\n",
      "25     18\n",
      "26     19\n",
      "27     18\n",
      "28     24\n",
      "29     24\n",
      "30     23\n",
      "31     18\n",
      "32     19\n",
      "33     18\n",
      "34     19\n",
      "35     18\n",
      "36     18\n",
      "37     19\n",
      "38     18\n",
      "39     24\n",
      "40     24\n",
      "41     22\n",
      "42     20\n",
      "43     19\n",
      "44     23\n",
      "45     18\n",
      "46     19\n",
      "47     18\n",
      "48     24\n",
      "49     24\n",
      "50     23\n",
      "51     18\n",
      "52     19\n",
      "53     20\n",
      "54     19\n",
      "55     21\n",
      "56     23\n",
      "57     20\n",
      "58     18\n",
      "59     23\n",
      "60     18\n",
      "61     19\n",
      "62     18\n",
      "63     24\n",
      "64     24\n",
      "65     23\n",
      "66     18\n",
      "67     19\n",
      "68     18\n",
      "69     24\n",
      "70     24\n",
      "71     18\n",
      "72     19\n",
      "73     18\n",
      "74     24\n",
      "75     24\n",
      "76     23\n",
      "77     18\n",
      "78     19\n",
      "79     18\n",
      "80     24\n",
      "81     24\n",
      "82     19\n",
      "83     19\n",
      "84     23\n",
      "85     18\n",
      "86     19\n",
      "87     18\n",
      "88     24\n",
      "89     24\n",
      "90     23\n",
      "91     18\n",
      "92     19\n",
      "93     18\n",
      "94     24\n",
      "95     18\n",
      "96     21\n",
      "97     18\n",
      "98     19\n",
      "99     23\n",
      "100    20\n",
      "Name: Age, dtype: int64\n"
     ]
    }
   ],
   "source": [
    "ages = df['Age']\n",
    "# Set display options to show all rows and columns\n",
    "pd.set_option('display.max_rows', None)\n",
    "pd.set_option('display.max_columns', None)\n",
    "\n",
    "# Now display your DataFrame\n",
    "print(df)\n",
    "print(ages)"
   ]
  },
  {
   "cell_type": "code",
   "execution_count": 61,
   "id": "a2544fcb",
   "metadata": {
    "execution": {
     "iopub.execute_input": "2024-02-12T05:35:34.346327Z",
     "iopub.status.busy": "2024-02-12T05:35:34.345451Z",
     "iopub.status.idle": "2024-02-12T05:35:34.389377Z",
     "shell.execute_reply": "2024-02-12T05:35:34.388563Z"
    },
    "papermill": {
     "duration": 0.163812,
     "end_time": "2024-02-12T05:35:34.392847",
     "exception": false,
     "start_time": "2024-02-12T05:35:34.229035",
     "status": "completed"
    },
    "tags": []
   },
   "outputs": [
    {
     "data": {
      "text/html": [
       "<div>\n",
       "<style scoped>\n",
       "    .dataframe tbody tr th:only-of-type {\n",
       "        vertical-align: middle;\n",
       "    }\n",
       "\n",
       "    .dataframe tbody tr th {\n",
       "        vertical-align: top;\n",
       "    }\n",
       "\n",
       "    .dataframe thead th {\n",
       "        text-align: right;\n",
       "    }\n",
       "</style>\n",
       "<table border=\"1\" class=\"dataframe\">\n",
       "  <thead>\n",
       "    <tr style=\"text-align: right;\">\n",
       "      <th></th>\n",
       "      <th>Timestamp</th>\n",
       "      <th>Gender</th>\n",
       "      <th>Age</th>\n",
       "      <th>Course</th>\n",
       "      <th>Year of Study</th>\n",
       "      <th>CGPA</th>\n",
       "      <th>Marital status</th>\n",
       "      <th>Depression</th>\n",
       "      <th>Anxiety</th>\n",
       "      <th>Panic attack</th>\n",
       "      <th>Treatment</th>\n",
       "    </tr>\n",
       "  </thead>\n",
       "  <tbody>\n",
       "    <tr>\n",
       "      <th>0</th>\n",
       "      <td>8/7/2020 12:02</td>\n",
       "      <td>Female</td>\n",
       "      <td>18</td>\n",
       "      <td>Engineering</td>\n",
       "      <td>year 1</td>\n",
       "      <td>3.00 - 3.49</td>\n",
       "      <td>Not_married</td>\n",
       "      <td>Depressed</td>\n",
       "      <td>No_anxiety</td>\n",
       "      <td>Panic attack</td>\n",
       "      <td>No_treatment</td>\n",
       "    </tr>\n",
       "    <tr>\n",
       "      <th>1</th>\n",
       "      <td>8/7/2020 12:04</td>\n",
       "      <td>Male</td>\n",
       "      <td>21</td>\n",
       "      <td>Islamic Education</td>\n",
       "      <td>year 2</td>\n",
       "      <td>3.00 - 3.49</td>\n",
       "      <td>Not_married</td>\n",
       "      <td>Not depressed</td>\n",
       "      <td>Anxiety_present</td>\n",
       "      <td>No panic_attack</td>\n",
       "      <td>No_treatment</td>\n",
       "    </tr>\n",
       "    <tr>\n",
       "      <th>2</th>\n",
       "      <td>8/7/2020 12:05</td>\n",
       "      <td>Male</td>\n",
       "      <td>19</td>\n",
       "      <td>IT</td>\n",
       "      <td>year 1</td>\n",
       "      <td>3.00 - 3.49</td>\n",
       "      <td>Not_married</td>\n",
       "      <td>Depressed</td>\n",
       "      <td>Anxiety_present</td>\n",
       "      <td>Panic attack</td>\n",
       "      <td>No_treatment</td>\n",
       "    </tr>\n",
       "    <tr>\n",
       "      <th>3</th>\n",
       "      <td>8/7/2020 12:06</td>\n",
       "      <td>Female</td>\n",
       "      <td>22</td>\n",
       "      <td>Law</td>\n",
       "      <td>year 3</td>\n",
       "      <td>3.00 - 3.49</td>\n",
       "      <td>Married</td>\n",
       "      <td>Depressed</td>\n",
       "      <td>No_anxiety</td>\n",
       "      <td>No panic_attack</td>\n",
       "      <td>No_treatment</td>\n",
       "    </tr>\n",
       "    <tr>\n",
       "      <th>4</th>\n",
       "      <td>8/7/2020 12:13</td>\n",
       "      <td>Male</td>\n",
       "      <td>23</td>\n",
       "      <td>Mathemathics</td>\n",
       "      <td>year 4</td>\n",
       "      <td>3.00 - 3.49</td>\n",
       "      <td>Not_married</td>\n",
       "      <td>Not depressed</td>\n",
       "      <td>No_anxiety</td>\n",
       "      <td>No panic_attack</td>\n",
       "      <td>No_treatment</td>\n",
       "    </tr>\n",
       "    <tr>\n",
       "      <th>5</th>\n",
       "      <td>8/7/2020 12:31</td>\n",
       "      <td>Male</td>\n",
       "      <td>19</td>\n",
       "      <td>Engineering</td>\n",
       "      <td>year 2</td>\n",
       "      <td>3.50 - 4.00</td>\n",
       "      <td>Not_married</td>\n",
       "      <td>Not depressed</td>\n",
       "      <td>No_anxiety</td>\n",
       "      <td>Panic attack</td>\n",
       "      <td>No_treatment</td>\n",
       "    </tr>\n",
       "    <tr>\n",
       "      <th>6</th>\n",
       "      <td>8/7/2020 12:32</td>\n",
       "      <td>Female</td>\n",
       "      <td>23</td>\n",
       "      <td>Pendidikan Islam</td>\n",
       "      <td>year 2</td>\n",
       "      <td>3.50 - 4.00</td>\n",
       "      <td>Married</td>\n",
       "      <td>Depressed</td>\n",
       "      <td>No_anxiety</td>\n",
       "      <td>Panic attack</td>\n",
       "      <td>No_treatment</td>\n",
       "    </tr>\n",
       "    <tr>\n",
       "      <th>7</th>\n",
       "      <td>8/7/2020 12:33</td>\n",
       "      <td>Female</td>\n",
       "      <td>18</td>\n",
       "      <td>BCS</td>\n",
       "      <td>year 1</td>\n",
       "      <td>3.50 - 4.00</td>\n",
       "      <td>Not_married</td>\n",
       "      <td>Not depressed</td>\n",
       "      <td>Anxiety_present</td>\n",
       "      <td>No panic_attack</td>\n",
       "      <td>No_treatment</td>\n",
       "    </tr>\n",
       "    <tr>\n",
       "      <th>8</th>\n",
       "      <td>8/7/2020 12:35</td>\n",
       "      <td>Female</td>\n",
       "      <td>19</td>\n",
       "      <td>Human Resources</td>\n",
       "      <td>year 2</td>\n",
       "      <td>2.50 - 2.99</td>\n",
       "      <td>Not_married</td>\n",
       "      <td>Not depressed</td>\n",
       "      <td>No_anxiety</td>\n",
       "      <td>No panic_attack</td>\n",
       "      <td>No_treatment</td>\n",
       "    </tr>\n",
       "    <tr>\n",
       "      <th>9</th>\n",
       "      <td>8/7/2020 12:39</td>\n",
       "      <td>Male</td>\n",
       "      <td>18</td>\n",
       "      <td>Irkhs</td>\n",
       "      <td>year 1</td>\n",
       "      <td>3.50 - 4.00</td>\n",
       "      <td>Not_married</td>\n",
       "      <td>Not depressed</td>\n",
       "      <td>Anxiety_present</td>\n",
       "      <td>Panic attack</td>\n",
       "      <td>No_treatment</td>\n",
       "    </tr>\n",
       "    <tr>\n",
       "      <th>10</th>\n",
       "      <td>8/7/2020 12:39</td>\n",
       "      <td>Female</td>\n",
       "      <td>20</td>\n",
       "      <td>Psychology</td>\n",
       "      <td>year 1</td>\n",
       "      <td>3.50 - 4.00</td>\n",
       "      <td>Not_married</td>\n",
       "      <td>Not depressed</td>\n",
       "      <td>No_anxiety</td>\n",
       "      <td>No panic_attack</td>\n",
       "      <td>No_treatment</td>\n",
       "    </tr>\n",
       "    <tr>\n",
       "      <th>11</th>\n",
       "      <td>8/7/2020 12:39</td>\n",
       "      <td>Female</td>\n",
       "      <td>24</td>\n",
       "      <td>Engineering</td>\n",
       "      <td>year 3</td>\n",
       "      <td>3.50 - 4.00</td>\n",
       "      <td>Married</td>\n",
       "      <td>Depressed</td>\n",
       "      <td>No_anxiety</td>\n",
       "      <td>No panic_attack</td>\n",
       "      <td>No_treatment</td>\n",
       "    </tr>\n",
       "    <tr>\n",
       "      <th>12</th>\n",
       "      <td>8/7/2020 12:40</td>\n",
       "      <td>Female</td>\n",
       "      <td>18</td>\n",
       "      <td>BCS</td>\n",
       "      <td>year 1</td>\n",
       "      <td>3.00 - 3.49</td>\n",
       "      <td>Not_married</td>\n",
       "      <td>Depressed</td>\n",
       "      <td>No_anxiety</td>\n",
       "      <td>No panic_attack</td>\n",
       "      <td>No_treatment</td>\n",
       "    </tr>\n",
       "    <tr>\n",
       "      <th>13</th>\n",
       "      <td>8/7/2020 12:41</td>\n",
       "      <td>Male</td>\n",
       "      <td>19</td>\n",
       "      <td>Engineering</td>\n",
       "      <td>year 1</td>\n",
       "      <td>3.00 - 3.49</td>\n",
       "      <td>Not_married</td>\n",
       "      <td>Not depressed</td>\n",
       "      <td>No_anxiety</td>\n",
       "      <td>No panic_attack</td>\n",
       "      <td>No_treatment</td>\n",
       "    </tr>\n",
       "    <tr>\n",
       "      <th>14</th>\n",
       "      <td>8/7/2020 12:43</td>\n",
       "      <td>Female</td>\n",
       "      <td>18</td>\n",
       "      <td>KENMS</td>\n",
       "      <td>year 2</td>\n",
       "      <td>3.50 - 4.00</td>\n",
       "      <td>Not_married</td>\n",
       "      <td>Not depressed</td>\n",
       "      <td>Anxiety_present</td>\n",
       "      <td>No panic_attack</td>\n",
       "      <td>No_treatment</td>\n",
       "    </tr>\n",
       "    <tr>\n",
       "      <th>15</th>\n",
       "      <td>8/7/2020 12:43</td>\n",
       "      <td>Male</td>\n",
       "      <td>24</td>\n",
       "      <td>BCS</td>\n",
       "      <td>year 3</td>\n",
       "      <td>3.50 - 4.00</td>\n",
       "      <td>Not_married</td>\n",
       "      <td>Not depressed</td>\n",
       "      <td>No_anxiety</td>\n",
       "      <td>No panic_attack</td>\n",
       "      <td>No_treatment</td>\n",
       "    </tr>\n",
       "    <tr>\n",
       "      <th>16</th>\n",
       "      <td>8/7/2020 12:46</td>\n",
       "      <td>Female</td>\n",
       "      <td>24</td>\n",
       "      <td>Accounting</td>\n",
       "      <td>year 3</td>\n",
       "      <td>3.00 - 3.49</td>\n",
       "      <td>Not_married</td>\n",
       "      <td>Not depressed</td>\n",
       "      <td>No_anxiety</td>\n",
       "      <td>No panic_attack</td>\n",
       "      <td>No_treatment</td>\n",
       "    </tr>\n",
       "    <tr>\n",
       "      <th>17</th>\n",
       "      <td>8/7/2020 12:52</td>\n",
       "      <td>Female</td>\n",
       "      <td>24</td>\n",
       "      <td>ENM</td>\n",
       "      <td>year 4</td>\n",
       "      <td>3.00 - 3.49</td>\n",
       "      <td>Married</td>\n",
       "      <td>Depressed</td>\n",
       "      <td>Anxiety_present</td>\n",
       "      <td>Panic attack</td>\n",
       "      <td>No_treatment</td>\n",
       "    </tr>\n",
       "    <tr>\n",
       "      <th>18</th>\n",
       "      <td>8/7/2020 13:05</td>\n",
       "      <td>Female</td>\n",
       "      <td>20</td>\n",
       "      <td>IT</td>\n",
       "      <td>year 2</td>\n",
       "      <td>3.50 - 4.00</td>\n",
       "      <td>Not_married</td>\n",
       "      <td>Not depressed</td>\n",
       "      <td>Anxiety_present</td>\n",
       "      <td>No panic_attack</td>\n",
       "      <td>No_treatment</td>\n",
       "    </tr>\n",
       "    <tr>\n",
       "      <th>19</th>\n",
       "      <td>8/7/2020 13:07</td>\n",
       "      <td>Female</td>\n",
       "      <td>18</td>\n",
       "      <td>Marine science</td>\n",
       "      <td>year 2</td>\n",
       "      <td>3.50 - 4.00</td>\n",
       "      <td>Married</td>\n",
       "      <td>Depressed</td>\n",
       "      <td>Anxiety_present</td>\n",
       "      <td>Panic attack</td>\n",
       "      <td>No_treatment</td>\n",
       "    </tr>\n",
       "    <tr>\n",
       "      <th>20</th>\n",
       "      <td>8/7/2020 13:12</td>\n",
       "      <td>Female</td>\n",
       "      <td>19</td>\n",
       "      <td>Engineering</td>\n",
       "      <td>year 1</td>\n",
       "      <td>3.00 - 3.49</td>\n",
       "      <td>Not_married</td>\n",
       "      <td>Not depressed</td>\n",
       "      <td>No_anxiety</td>\n",
       "      <td>Panic attack</td>\n",
       "      <td>No_treatment</td>\n",
       "    </tr>\n",
       "    <tr>\n",
       "      <th>21</th>\n",
       "      <td>8/7/2020 13:13</td>\n",
       "      <td>Female</td>\n",
       "      <td>18</td>\n",
       "      <td>KOE</td>\n",
       "      <td>year 2</td>\n",
       "      <td>3.00 - 3.49</td>\n",
       "      <td>Not_married</td>\n",
       "      <td>Not depressed</td>\n",
       "      <td>No_anxiety</td>\n",
       "      <td>No panic_attack</td>\n",
       "      <td>No_treatment</td>\n",
       "    </tr>\n",
       "    <tr>\n",
       "      <th>22</th>\n",
       "      <td>8/7/2020 13:13</td>\n",
       "      <td>Female</td>\n",
       "      <td>24</td>\n",
       "      <td>BCS</td>\n",
       "      <td>year 1</td>\n",
       "      <td>3.50 - 4.00</td>\n",
       "      <td>Not_married</td>\n",
       "      <td>Not depressed</td>\n",
       "      <td>No_anxiety</td>\n",
       "      <td>No panic_attack</td>\n",
       "      <td>No_treatment</td>\n",
       "    </tr>\n",
       "    <tr>\n",
       "      <th>23</th>\n",
       "      <td>8/7/2020 13:15</td>\n",
       "      <td>Female</td>\n",
       "      <td>24</td>\n",
       "      <td>Engineering</td>\n",
       "      <td>year 1</td>\n",
       "      <td>3.00 - 3.49</td>\n",
       "      <td>Not_married</td>\n",
       "      <td>Not depressed</td>\n",
       "      <td>No_anxiety</td>\n",
       "      <td>No panic_attack</td>\n",
       "      <td>No_treatment</td>\n",
       "    </tr>\n",
       "    <tr>\n",
       "      <th>24</th>\n",
       "      <td>8/7/2020 13:17</td>\n",
       "      <td>Female</td>\n",
       "      <td>23</td>\n",
       "      <td>BCS</td>\n",
       "      <td>year 3</td>\n",
       "      <td>3.50 - 4.00</td>\n",
       "      <td>Not_married</td>\n",
       "      <td>Depressed</td>\n",
       "      <td>Anxiety_present</td>\n",
       "      <td>Panic attack</td>\n",
       "      <td>No_treatment</td>\n",
       "    </tr>\n",
       "    <tr>\n",
       "      <th>25</th>\n",
       "      <td>8/7/2020 13:29</td>\n",
       "      <td>Female</td>\n",
       "      <td>18</td>\n",
       "      <td>Banking Studies</td>\n",
       "      <td>year 1</td>\n",
       "      <td>3.50 - 4.00</td>\n",
       "      <td>Not_married</td>\n",
       "      <td>Not depressed</td>\n",
       "      <td>No_anxiety</td>\n",
       "      <td>No panic_attack</td>\n",
       "      <td>No_treatment</td>\n",
       "    </tr>\n",
       "    <tr>\n",
       "      <th>26</th>\n",
       "      <td>8/7/2020 13:35</td>\n",
       "      <td>Female</td>\n",
       "      <td>19</td>\n",
       "      <td>Engineering</td>\n",
       "      <td>year 1</td>\n",
       "      <td>3.50 - 4.00</td>\n",
       "      <td>Not_married</td>\n",
       "      <td>Not depressed</td>\n",
       "      <td>No_anxiety</td>\n",
       "      <td>No panic_attack</td>\n",
       "      <td>No_treatment</td>\n",
       "    </tr>\n",
       "    <tr>\n",
       "      <th>27</th>\n",
       "      <td>8/7/2020 13:41</td>\n",
       "      <td>Male</td>\n",
       "      <td>18</td>\n",
       "      <td>Engineering</td>\n",
       "      <td>year 2</td>\n",
       "      <td>3.00 - 3.49</td>\n",
       "      <td>Married</td>\n",
       "      <td>Depressed</td>\n",
       "      <td>Anxiety_present</td>\n",
       "      <td>No panic_attack</td>\n",
       "      <td>No_treatment</td>\n",
       "    </tr>\n",
       "    <tr>\n",
       "      <th>28</th>\n",
       "      <td>8/7/2020 13:58</td>\n",
       "      <td>Female</td>\n",
       "      <td>24</td>\n",
       "      <td>IT</td>\n",
       "      <td>year 3</td>\n",
       "      <td>3.50 - 4.00</td>\n",
       "      <td>Married</td>\n",
       "      <td>Depressed</td>\n",
       "      <td>Anxiety_present</td>\n",
       "      <td>Panic attack</td>\n",
       "      <td>Treatment</td>\n",
       "    </tr>\n",
       "    <tr>\n",
       "      <th>29</th>\n",
       "      <td>8/7/2020 14:05</td>\n",
       "      <td>Female</td>\n",
       "      <td>24</td>\n",
       "      <td>BCS</td>\n",
       "      <td>year 4</td>\n",
       "      <td>3.50 - 4.00</td>\n",
       "      <td>Not_married</td>\n",
       "      <td>Not depressed</td>\n",
       "      <td>No_anxiety</td>\n",
       "      <td>No panic_attack</td>\n",
       "      <td>No_treatment</td>\n",
       "    </tr>\n",
       "    <tr>\n",
       "      <th>30</th>\n",
       "      <td>8/7/2020 14:27</td>\n",
       "      <td>Female</td>\n",
       "      <td>23</td>\n",
       "      <td>Business Administration</td>\n",
       "      <td>year 2</td>\n",
       "      <td>3.00 - 3.49</td>\n",
       "      <td>Not_married</td>\n",
       "      <td>Not depressed</td>\n",
       "      <td>No_anxiety</td>\n",
       "      <td>No panic_attack</td>\n",
       "      <td>No_treatment</td>\n",
       "    </tr>\n",
       "    <tr>\n",
       "      <th>31</th>\n",
       "      <td>8/7/2020 14:29</td>\n",
       "      <td>Male</td>\n",
       "      <td>18</td>\n",
       "      <td>BCS</td>\n",
       "      <td>year 2</td>\n",
       "      <td>3.00 - 3.49</td>\n",
       "      <td>Not_married</td>\n",
       "      <td>Not depressed</td>\n",
       "      <td>No_anxiety</td>\n",
       "      <td>No panic_attack</td>\n",
       "      <td>No_treatment</td>\n",
       "    </tr>\n",
       "    <tr>\n",
       "      <th>32</th>\n",
       "      <td>8/7/2020 14:29</td>\n",
       "      <td>Male</td>\n",
       "      <td>19</td>\n",
       "      <td>BCS</td>\n",
       "      <td>year 1</td>\n",
       "      <td>3.50 - 4.00</td>\n",
       "      <td>Not_married</td>\n",
       "      <td>Not depressed</td>\n",
       "      <td>No_anxiety</td>\n",
       "      <td>Panic attack</td>\n",
       "      <td>No_treatment</td>\n",
       "    </tr>\n",
       "    <tr>\n",
       "      <th>33</th>\n",
       "      <td>8/7/2020 14:31</td>\n",
       "      <td>Male</td>\n",
       "      <td>18</td>\n",
       "      <td>BCS</td>\n",
       "      <td>year 2</td>\n",
       "      <td>3.50 - 4.00</td>\n",
       "      <td>Married</td>\n",
       "      <td>Depressed</td>\n",
       "      <td>Anxiety_present</td>\n",
       "      <td>No panic_attack</td>\n",
       "      <td>Treatment</td>\n",
       "    </tr>\n",
       "    <tr>\n",
       "      <th>34</th>\n",
       "      <td>8/7/2020 14:41</td>\n",
       "      <td>Female</td>\n",
       "      <td>19</td>\n",
       "      <td>IT</td>\n",
       "      <td>year 1</td>\n",
       "      <td>3.00 - 3.49</td>\n",
       "      <td>Not_married</td>\n",
       "      <td>Depressed</td>\n",
       "      <td>Anxiety_present</td>\n",
       "      <td>Panic attack</td>\n",
       "      <td>No_treatment</td>\n",
       "    </tr>\n",
       "    <tr>\n",
       "      <th>35</th>\n",
       "      <td>8/7/2020 14:43</td>\n",
       "      <td>Female</td>\n",
       "      <td>18</td>\n",
       "      <td>Engineering</td>\n",
       "      <td>year 1</td>\n",
       "      <td>2.00 - 2.49</td>\n",
       "      <td>Not_married</td>\n",
       "      <td>Not depressed</td>\n",
       "      <td>No_anxiety</td>\n",
       "      <td>No panic_attack</td>\n",
       "      <td>No_treatment</td>\n",
       "    </tr>\n",
       "    <tr>\n",
       "      <th>36</th>\n",
       "      <td>8/7/2020 14:43</td>\n",
       "      <td>Female</td>\n",
       "      <td>18</td>\n",
       "      <td>Law</td>\n",
       "      <td>year 3</td>\n",
       "      <td>3.00 - 3.49</td>\n",
       "      <td>Not_married</td>\n",
       "      <td>Depressed</td>\n",
       "      <td>Anxiety_present</td>\n",
       "      <td>No panic_attack</td>\n",
       "      <td>No_treatment</td>\n",
       "    </tr>\n",
       "    <tr>\n",
       "      <th>37</th>\n",
       "      <td>8/7/2020 14:45</td>\n",
       "      <td>Female</td>\n",
       "      <td>19</td>\n",
       "      <td>IT</td>\n",
       "      <td>year 1</td>\n",
       "      <td>2.50 - 2.99</td>\n",
       "      <td>Not_married</td>\n",
       "      <td>Depressed</td>\n",
       "      <td>Anxiety_present</td>\n",
       "      <td>Panic attack</td>\n",
       "      <td>No_treatment</td>\n",
       "    </tr>\n",
       "    <tr>\n",
       "      <th>38</th>\n",
       "      <td>8/7/2020 14:47</td>\n",
       "      <td>Female</td>\n",
       "      <td>18</td>\n",
       "      <td>Irkhs</td>\n",
       "      <td>year 1</td>\n",
       "      <td>3.50 - 4.00</td>\n",
       "      <td>Not_married</td>\n",
       "      <td>Not depressed</td>\n",
       "      <td>No_anxiety</td>\n",
       "      <td>No panic_attack</td>\n",
       "      <td>No_treatment</td>\n",
       "    </tr>\n",
       "    <tr>\n",
       "      <th>39</th>\n",
       "      <td>8/7/2020 14:56</td>\n",
       "      <td>Female</td>\n",
       "      <td>24</td>\n",
       "      <td>Engineering</td>\n",
       "      <td>year 2</td>\n",
       "      <td>2.50 - 2.99</td>\n",
       "      <td>Married</td>\n",
       "      <td>Depressed</td>\n",
       "      <td>No_anxiety</td>\n",
       "      <td>Panic attack</td>\n",
       "      <td>Treatment</td>\n",
       "    </tr>\n",
       "    <tr>\n",
       "      <th>40</th>\n",
       "      <td>8/7/2020 14:57</td>\n",
       "      <td>Female</td>\n",
       "      <td>24</td>\n",
       "      <td>IT</td>\n",
       "      <td>year 3</td>\n",
       "      <td>3.00 - 3.49</td>\n",
       "      <td>Not_married</td>\n",
       "      <td>Not depressed</td>\n",
       "      <td>Anxiety_present</td>\n",
       "      <td>No panic_attack</td>\n",
       "      <td>No_treatment</td>\n",
       "    </tr>\n",
       "    <tr>\n",
       "      <th>41</th>\n",
       "      <td>8/7/2020 14:57</td>\n",
       "      <td>Female</td>\n",
       "      <td>22</td>\n",
       "      <td>Engineering</td>\n",
       "      <td>year 4</td>\n",
       "      <td>3.50 - 4.00</td>\n",
       "      <td>Not_married</td>\n",
       "      <td>Not depressed</td>\n",
       "      <td>No_anxiety</td>\n",
       "      <td>No panic_attack</td>\n",
       "      <td>No_treatment</td>\n",
       "    </tr>\n",
       "    <tr>\n",
       "      <th>42</th>\n",
       "      <td>8/7/2020 14:58</td>\n",
       "      <td>Female</td>\n",
       "      <td>20</td>\n",
       "      <td>Usuluddin</td>\n",
       "      <td>year 2</td>\n",
       "      <td>3.00 - 3.49</td>\n",
       "      <td>Not_married</td>\n",
       "      <td>Depressed</td>\n",
       "      <td>No_anxiety</td>\n",
       "      <td>No panic_attack</td>\n",
       "      <td>No_treatment</td>\n",
       "    </tr>\n",
       "    <tr>\n",
       "      <th>43</th>\n",
       "      <td>8/7/2020 15:07</td>\n",
       "      <td>Male</td>\n",
       "      <td>19</td>\n",
       "      <td>IT</td>\n",
       "      <td>year 1</td>\n",
       "      <td>0 - 1.99</td>\n",
       "      <td>Not_married</td>\n",
       "      <td>Not depressed</td>\n",
       "      <td>No_anxiety</td>\n",
       "      <td>No panic_attack</td>\n",
       "      <td>No_treatment</td>\n",
       "    </tr>\n",
       "    <tr>\n",
       "      <th>44</th>\n",
       "      <td>8/7/2020 15:08</td>\n",
       "      <td>Male</td>\n",
       "      <td>23</td>\n",
       "      <td>TAASL</td>\n",
       "      <td>year 2</td>\n",
       "      <td>3.50 - 4.00</td>\n",
       "      <td>Not_married</td>\n",
       "      <td>Not depressed</td>\n",
       "      <td>No_anxiety</td>\n",
       "      <td>Panic attack</td>\n",
       "      <td>No_treatment</td>\n",
       "    </tr>\n",
       "    <tr>\n",
       "      <th>45</th>\n",
       "      <td>8/7/2020 15:09</td>\n",
       "      <td>Male</td>\n",
       "      <td>18</td>\n",
       "      <td>BCS</td>\n",
       "      <td>year 1</td>\n",
       "      <td>3.50 - 4.00</td>\n",
       "      <td>Not_married</td>\n",
       "      <td>Not depressed</td>\n",
       "      <td>Anxiety_present</td>\n",
       "      <td>Panic attack</td>\n",
       "      <td>No_treatment</td>\n",
       "    </tr>\n",
       "    <tr>\n",
       "      <th>46</th>\n",
       "      <td>8/7/2020 15:12</td>\n",
       "      <td>Female</td>\n",
       "      <td>19</td>\n",
       "      <td>Engineering</td>\n",
       "      <td>year 1</td>\n",
       "      <td>3.50 - 4.00</td>\n",
       "      <td>Not_married</td>\n",
       "      <td>Not depressed</td>\n",
       "      <td>Anxiety_present</td>\n",
       "      <td>No panic_attack</td>\n",
       "      <td>No_treatment</td>\n",
       "    </tr>\n",
       "    <tr>\n",
       "      <th>47</th>\n",
       "      <td>8/7/2020 15:14</td>\n",
       "      <td>Female</td>\n",
       "      <td>18</td>\n",
       "      <td>Engineering</td>\n",
       "      <td>year 4</td>\n",
       "      <td>3.50 - 4.00</td>\n",
       "      <td>Not_married</td>\n",
       "      <td>Not depressed</td>\n",
       "      <td>No_anxiety</td>\n",
       "      <td>No panic_attack</td>\n",
       "      <td>No_treatment</td>\n",
       "    </tr>\n",
       "    <tr>\n",
       "      <th>48</th>\n",
       "      <td>8/7/2020 15:14</td>\n",
       "      <td>Male</td>\n",
       "      <td>24</td>\n",
       "      <td>BCS</td>\n",
       "      <td>year 2</td>\n",
       "      <td>3.00 - 3.49</td>\n",
       "      <td>Not_married</td>\n",
       "      <td>Depressed</td>\n",
       "      <td>No_anxiety</td>\n",
       "      <td>No panic_attack</td>\n",
       "      <td>No_treatment</td>\n",
       "    </tr>\n",
       "    <tr>\n",
       "      <th>49</th>\n",
       "      <td>8/7/2020 15:18</td>\n",
       "      <td>Female</td>\n",
       "      <td>24</td>\n",
       "      <td>BCS</td>\n",
       "      <td>year 3</td>\n",
       "      <td>3.50 - 4.00</td>\n",
       "      <td>Not_married</td>\n",
       "      <td>Not depressed</td>\n",
       "      <td>No_anxiety</td>\n",
       "      <td>Panic attack</td>\n",
       "      <td>No_treatment</td>\n",
       "    </tr>\n",
       "    <tr>\n",
       "      <th>50</th>\n",
       "      <td>8/7/2020 15:27</td>\n",
       "      <td>Female</td>\n",
       "      <td>23</td>\n",
       "      <td>ALA</td>\n",
       "      <td>year 1</td>\n",
       "      <td>2.50 - 2.99</td>\n",
       "      <td>Married</td>\n",
       "      <td>Depressed</td>\n",
       "      <td>No_anxiety</td>\n",
       "      <td>Panic attack</td>\n",
       "      <td>Treatment</td>\n",
       "    </tr>\n",
       "    <tr>\n",
       "      <th>51</th>\n",
       "      <td>8/7/2020 15:37</td>\n",
       "      <td>Female</td>\n",
       "      <td>18</td>\n",
       "      <td>BCS</td>\n",
       "      <td>year 2</td>\n",
       "      <td>3.50 - 4.00</td>\n",
       "      <td>Not_married</td>\n",
       "      <td>Not depressed</td>\n",
       "      <td>Anxiety_present</td>\n",
       "      <td>No panic_attack</td>\n",
       "      <td>No_treatment</td>\n",
       "    </tr>\n",
       "    <tr>\n",
       "      <th>52</th>\n",
       "      <td>8/7/2020 15:47</td>\n",
       "      <td>Female</td>\n",
       "      <td>19</td>\n",
       "      <td>Biomedical science</td>\n",
       "      <td>year 3</td>\n",
       "      <td>3.00 - 3.49</td>\n",
       "      <td>Not_married</td>\n",
       "      <td>Not depressed</td>\n",
       "      <td>No_anxiety</td>\n",
       "      <td>No panic_attack</td>\n",
       "      <td>No_treatment</td>\n",
       "    </tr>\n",
       "    <tr>\n",
       "      <th>53</th>\n",
       "      <td>8/7/2020 15:48</td>\n",
       "      <td>Female</td>\n",
       "      <td>20</td>\n",
       "      <td>KOE</td>\n",
       "      <td>year 3</td>\n",
       "      <td>3.00 - 3.49</td>\n",
       "      <td>Married</td>\n",
       "      <td>Depressed</td>\n",
       "      <td>Anxiety_present</td>\n",
       "      <td>Panic attack</td>\n",
       "      <td>No_treatment</td>\n",
       "    </tr>\n",
       "    <tr>\n",
       "      <th>54</th>\n",
       "      <td>8/7/2020 15:57</td>\n",
       "      <td>Female</td>\n",
       "      <td>19</td>\n",
       "      <td>BCS</td>\n",
       "      <td>year 1</td>\n",
       "      <td>3.50 - 4.00</td>\n",
       "      <td>Not_married</td>\n",
       "      <td>Depressed</td>\n",
       "      <td>No_anxiety</td>\n",
       "      <td>Panic attack</td>\n",
       "      <td>Treatment</td>\n",
       "    </tr>\n",
       "    <tr>\n",
       "      <th>55</th>\n",
       "      <td>8/7/2020 15:58</td>\n",
       "      <td>Male</td>\n",
       "      <td>21</td>\n",
       "      <td>BCS</td>\n",
       "      <td>year 1</td>\n",
       "      <td>3.00 - 3.49</td>\n",
       "      <td>Not_married</td>\n",
       "      <td>Not depressed</td>\n",
       "      <td>No_anxiety</td>\n",
       "      <td>No panic_attack</td>\n",
       "      <td>No_treatment</td>\n",
       "    </tr>\n",
       "    <tr>\n",
       "      <th>56</th>\n",
       "      <td>8/7/2020 16:08</td>\n",
       "      <td>Male</td>\n",
       "      <td>23</td>\n",
       "      <td>Irkhs</td>\n",
       "      <td>year 3</td>\n",
       "      <td>3.50 - 4.00</td>\n",
       "      <td>Not_married</td>\n",
       "      <td>Not depressed</td>\n",
       "      <td>No_anxiety</td>\n",
       "      <td>No panic_attack</td>\n",
       "      <td>No_treatment</td>\n",
       "    </tr>\n",
       "    <tr>\n",
       "      <th>57</th>\n",
       "      <td>8/7/2020 16:21</td>\n",
       "      <td>Female</td>\n",
       "      <td>20</td>\n",
       "      <td>Benl</td>\n",
       "      <td>year 3</td>\n",
       "      <td>3.00 - 3.49</td>\n",
       "      <td>Not_married</td>\n",
       "      <td>Depressed</td>\n",
       "      <td>Anxiety_present</td>\n",
       "      <td>No panic_attack</td>\n",
       "      <td>No_treatment</td>\n",
       "    </tr>\n",
       "    <tr>\n",
       "      <th>58</th>\n",
       "      <td>8/7/2020 16:22</td>\n",
       "      <td>Female</td>\n",
       "      <td>18</td>\n",
       "      <td>BCS</td>\n",
       "      <td>year 1</td>\n",
       "      <td>3.50 - 4.00</td>\n",
       "      <td>Not_married</td>\n",
       "      <td>Not depressed</td>\n",
       "      <td>No_anxiety</td>\n",
       "      <td>No panic_attack</td>\n",
       "      <td>No_treatment</td>\n",
       "    </tr>\n",
       "    <tr>\n",
       "      <th>59</th>\n",
       "      <td>8/7/2020 16:34</td>\n",
       "      <td>Female</td>\n",
       "      <td>23</td>\n",
       "      <td>Benl</td>\n",
       "      <td>year 1</td>\n",
       "      <td>3.00 - 3.49</td>\n",
       "      <td>Not_married</td>\n",
       "      <td>Not depressed</td>\n",
       "      <td>No_anxiety</td>\n",
       "      <td>No panic_attack</td>\n",
       "      <td>No_treatment</td>\n",
       "    </tr>\n",
       "    <tr>\n",
       "      <th>60</th>\n",
       "      <td>8/7/2020 16:34</td>\n",
       "      <td>Female</td>\n",
       "      <td>18</td>\n",
       "      <td>IT</td>\n",
       "      <td>year 3</td>\n",
       "      <td>3.00 - 3.49</td>\n",
       "      <td>Not_married</td>\n",
       "      <td>Not depressed</td>\n",
       "      <td>No_anxiety</td>\n",
       "      <td>Panic attack</td>\n",
       "      <td>No_treatment</td>\n",
       "    </tr>\n",
       "    <tr>\n",
       "      <th>61</th>\n",
       "      <td>8/7/2020 16:53</td>\n",
       "      <td>Female</td>\n",
       "      <td>19</td>\n",
       "      <td>BCS</td>\n",
       "      <td>year 1</td>\n",
       "      <td>3.50 - 4.00</td>\n",
       "      <td>Not_married</td>\n",
       "      <td>Not depressed</td>\n",
       "      <td>No_anxiety</td>\n",
       "      <td>No panic_attack</td>\n",
       "      <td>No_treatment</td>\n",
       "    </tr>\n",
       "    <tr>\n",
       "      <th>62</th>\n",
       "      <td>8/7/2020 17:05</td>\n",
       "      <td>Female</td>\n",
       "      <td>18</td>\n",
       "      <td>CTS</td>\n",
       "      <td>year 1</td>\n",
       "      <td>3.50 - 4.00</td>\n",
       "      <td>Not_married</td>\n",
       "      <td>Not depressed</td>\n",
       "      <td>No_anxiety</td>\n",
       "      <td>Panic attack</td>\n",
       "      <td>No_treatment</td>\n",
       "    </tr>\n",
       "    <tr>\n",
       "      <th>63</th>\n",
       "      <td>8/7/2020 17:37</td>\n",
       "      <td>Female</td>\n",
       "      <td>24</td>\n",
       "      <td>Engineering</td>\n",
       "      <td>year 1</td>\n",
       "      <td>3.50 - 4.00</td>\n",
       "      <td>Not_married</td>\n",
       "      <td>Not depressed</td>\n",
       "      <td>No_anxiety</td>\n",
       "      <td>Panic attack</td>\n",
       "      <td>No_treatment</td>\n",
       "    </tr>\n",
       "    <tr>\n",
       "      <th>64</th>\n",
       "      <td>8/7/2020 17:46</td>\n",
       "      <td>Female</td>\n",
       "      <td>24</td>\n",
       "      <td>Engineering</td>\n",
       "      <td>year 1</td>\n",
       "      <td>3.50 - 4.00</td>\n",
       "      <td>Not_married</td>\n",
       "      <td>Not depressed</td>\n",
       "      <td>No_anxiety</td>\n",
       "      <td>No panic_attack</td>\n",
       "      <td>No_treatment</td>\n",
       "    </tr>\n",
       "    <tr>\n",
       "      <th>65</th>\n",
       "      <td>8/7/2020 17:50</td>\n",
       "      <td>Female</td>\n",
       "      <td>23</td>\n",
       "      <td>Economics</td>\n",
       "      <td>year 1</td>\n",
       "      <td>3.50 - 4.00</td>\n",
       "      <td>Not_married</td>\n",
       "      <td>Depressed</td>\n",
       "      <td>Anxiety_present</td>\n",
       "      <td>No panic_attack</td>\n",
       "      <td>No_treatment</td>\n",
       "    </tr>\n",
       "    <tr>\n",
       "      <th>66</th>\n",
       "      <td>8/7/2020 18:10</td>\n",
       "      <td>Female</td>\n",
       "      <td>18</td>\n",
       "      <td>KOE</td>\n",
       "      <td>year 3</td>\n",
       "      <td>3.00 - 3.49</td>\n",
       "      <td>Not_married</td>\n",
       "      <td>Not depressed</td>\n",
       "      <td>Anxiety_present</td>\n",
       "      <td>No panic_attack</td>\n",
       "      <td>No_treatment</td>\n",
       "    </tr>\n",
       "    <tr>\n",
       "      <th>67</th>\n",
       "      <td>8/7/2020 18:11</td>\n",
       "      <td>Male</td>\n",
       "      <td>19</td>\n",
       "      <td>MHSC</td>\n",
       "      <td>year 3</td>\n",
       "      <td>3.00 - 3.49</td>\n",
       "      <td>Married</td>\n",
       "      <td>Depressed</td>\n",
       "      <td>No_anxiety</td>\n",
       "      <td>Panic attack</td>\n",
       "      <td>No_treatment</td>\n",
       "    </tr>\n",
       "    <tr>\n",
       "      <th>68</th>\n",
       "      <td>8/7/2020 19:05</td>\n",
       "      <td>Female</td>\n",
       "      <td>18</td>\n",
       "      <td>Malcom</td>\n",
       "      <td>year 1</td>\n",
       "      <td>3.50 - 4.00</td>\n",
       "      <td>Not_married</td>\n",
       "      <td>Depressed</td>\n",
       "      <td>No_anxiety</td>\n",
       "      <td>No panic_attack</td>\n",
       "      <td>No_treatment</td>\n",
       "    </tr>\n",
       "    <tr>\n",
       "      <th>69</th>\n",
       "      <td>8/7/2020 19:32</td>\n",
       "      <td>Female</td>\n",
       "      <td>24</td>\n",
       "      <td>Kop</td>\n",
       "      <td>year 4</td>\n",
       "      <td>3.00 - 3.49</td>\n",
       "      <td>Not_married</td>\n",
       "      <td>Not depressed</td>\n",
       "      <td>Anxiety_present</td>\n",
       "      <td>No panic_attack</td>\n",
       "      <td>No_treatment</td>\n",
       "    </tr>\n",
       "    <tr>\n",
       "      <th>70</th>\n",
       "      <td>8/7/2020 20:36</td>\n",
       "      <td>Female</td>\n",
       "      <td>24</td>\n",
       "      <td>Biomedical science</td>\n",
       "      <td>year 1</td>\n",
       "      <td>3.00 - 3.49</td>\n",
       "      <td>Not_married</td>\n",
       "      <td>Not depressed</td>\n",
       "      <td>No_anxiety</td>\n",
       "      <td>No panic_attack</td>\n",
       "      <td>No_treatment</td>\n",
       "    </tr>\n",
       "    <tr>\n",
       "      <th>71</th>\n",
       "      <td>8/7/2020 21:21</td>\n",
       "      <td>Female</td>\n",
       "      <td>18</td>\n",
       "      <td>Law</td>\n",
       "      <td>year 3</td>\n",
       "      <td>3.50 - 4.00</td>\n",
       "      <td>Not_married</td>\n",
       "      <td>Not depressed</td>\n",
       "      <td>No_anxiety</td>\n",
       "      <td>Panic attack</td>\n",
       "      <td>No_treatment</td>\n",
       "    </tr>\n",
       "    <tr>\n",
       "      <th>72</th>\n",
       "      <td>8/7/2020 22:35</td>\n",
       "      <td>Female</td>\n",
       "      <td>19</td>\n",
       "      <td>IT</td>\n",
       "      <td>year 3</td>\n",
       "      <td>3.00 - 3.49</td>\n",
       "      <td>Married</td>\n",
       "      <td>Depressed</td>\n",
       "      <td>No_anxiety</td>\n",
       "      <td>No panic_attack</td>\n",
       "      <td>No_treatment</td>\n",
       "    </tr>\n",
       "    <tr>\n",
       "      <th>73</th>\n",
       "      <td>9/7/2020 6:57</td>\n",
       "      <td>Male</td>\n",
       "      <td>18</td>\n",
       "      <td>Biomedical science</td>\n",
       "      <td>year 1</td>\n",
       "      <td>0 - 1.99</td>\n",
       "      <td>Not_married</td>\n",
       "      <td>Not depressed</td>\n",
       "      <td>No_anxiety</td>\n",
       "      <td>No panic_attack</td>\n",
       "      <td>No_treatment</td>\n",
       "    </tr>\n",
       "    <tr>\n",
       "      <th>74</th>\n",
       "      <td>9/7/2020 11:43</td>\n",
       "      <td>Male</td>\n",
       "      <td>24</td>\n",
       "      <td>IT</td>\n",
       "      <td>year 3</td>\n",
       "      <td>3.50 - 4.00</td>\n",
       "      <td>Not_married</td>\n",
       "      <td>Not depressed</td>\n",
       "      <td>Anxiety_present</td>\n",
       "      <td>No panic_attack</td>\n",
       "      <td>No_treatment</td>\n",
       "    </tr>\n",
       "    <tr>\n",
       "      <th>75</th>\n",
       "      <td>9/7/2020 11:57</td>\n",
       "      <td>Female</td>\n",
       "      <td>24</td>\n",
       "      <td>KOE</td>\n",
       "      <td>year 1</td>\n",
       "      <td>3.50 - 4.00</td>\n",
       "      <td>Not_married</td>\n",
       "      <td>Not depressed</td>\n",
       "      <td>Anxiety_present</td>\n",
       "      <td>Panic attack</td>\n",
       "      <td>No_treatment</td>\n",
       "    </tr>\n",
       "    <tr>\n",
       "      <th>76</th>\n",
       "      <td>9/7/2020 13:15</td>\n",
       "      <td>Female</td>\n",
       "      <td>23</td>\n",
       "      <td>Engineering</td>\n",
       "      <td>year 1</td>\n",
       "      <td>3.00 - 3.49</td>\n",
       "      <td>Not_married</td>\n",
       "      <td>Depressed</td>\n",
       "      <td>No_anxiety</td>\n",
       "      <td>No panic_attack</td>\n",
       "      <td>No_treatment</td>\n",
       "    </tr>\n",
       "    <tr>\n",
       "      <th>77</th>\n",
       "      <td>9/7/2020 18:24</td>\n",
       "      <td>Female</td>\n",
       "      <td>18</td>\n",
       "      <td>Human Sciences</td>\n",
       "      <td>year 2</td>\n",
       "      <td>3.00 - 3.49</td>\n",
       "      <td>Not_married</td>\n",
       "      <td>Not depressed</td>\n",
       "      <td>No_anxiety</td>\n",
       "      <td>Panic attack</td>\n",
       "      <td>No_treatment</td>\n",
       "    </tr>\n",
       "    <tr>\n",
       "      <th>78</th>\n",
       "      <td>13/07/2020 10:07:32</td>\n",
       "      <td>Female</td>\n",
       "      <td>19</td>\n",
       "      <td>Biotechnology</td>\n",
       "      <td>year 3</td>\n",
       "      <td>0 - 1.99</td>\n",
       "      <td>Not_married</td>\n",
       "      <td>Not depressed</td>\n",
       "      <td>No_anxiety</td>\n",
       "      <td>No panic_attack</td>\n",
       "      <td>No_treatment</td>\n",
       "    </tr>\n",
       "    <tr>\n",
       "      <th>79</th>\n",
       "      <td>13/07/2020 10:10:30</td>\n",
       "      <td>Female</td>\n",
       "      <td>18</td>\n",
       "      <td>Engineering</td>\n",
       "      <td>year 4</td>\n",
       "      <td>3.50 - 4.00</td>\n",
       "      <td>Not_married</td>\n",
       "      <td>Not depressed</td>\n",
       "      <td>No_anxiety</td>\n",
       "      <td>No panic_attack</td>\n",
       "      <td>No_treatment</td>\n",
       "    </tr>\n",
       "    <tr>\n",
       "      <th>80</th>\n",
       "      <td>13/07/2020 10:11:26</td>\n",
       "      <td>Female</td>\n",
       "      <td>24</td>\n",
       "      <td>Communication</td>\n",
       "      <td>year 2</td>\n",
       "      <td>3.50 - 4.00</td>\n",
       "      <td>Married</td>\n",
       "      <td>Depressed</td>\n",
       "      <td>Anxiety_present</td>\n",
       "      <td>Panic attack</td>\n",
       "      <td>No_treatment</td>\n",
       "    </tr>\n",
       "    <tr>\n",
       "      <th>81</th>\n",
       "      <td>13/07/2020 10:12:18</td>\n",
       "      <td>Female</td>\n",
       "      <td>24</td>\n",
       "      <td>Diploma Nursing</td>\n",
       "      <td>year 2</td>\n",
       "      <td>3.50 - 4.00</td>\n",
       "      <td>Not_married</td>\n",
       "      <td>Not depressed</td>\n",
       "      <td>No_anxiety</td>\n",
       "      <td>No panic_attack</td>\n",
       "      <td>No_treatment</td>\n",
       "    </tr>\n",
       "    <tr>\n",
       "      <th>82</th>\n",
       "      <td>13/07/2020 10:12:26</td>\n",
       "      <td>Female</td>\n",
       "      <td>19</td>\n",
       "      <td>Engineering</td>\n",
       "      <td>year 1</td>\n",
       "      <td>3.00 - 3.49</td>\n",
       "      <td>Not_married</td>\n",
       "      <td>Depressed</td>\n",
       "      <td>Anxiety_present</td>\n",
       "      <td>No panic_attack</td>\n",
       "      <td>No_treatment</td>\n",
       "    </tr>\n",
       "    <tr>\n",
       "      <th>83</th>\n",
       "      <td>13/07/2020 10:12:28</td>\n",
       "      <td>Female</td>\n",
       "      <td>19</td>\n",
       "      <td>Pendidikan Islam</td>\n",
       "      <td>year 2</td>\n",
       "      <td>3.00 - 3.49</td>\n",
       "      <td>Not_married</td>\n",
       "      <td>Not depressed</td>\n",
       "      <td>No_anxiety</td>\n",
       "      <td>No panic_attack</td>\n",
       "      <td>No_treatment</td>\n",
       "    </tr>\n",
       "    <tr>\n",
       "      <th>84</th>\n",
       "      <td>13/07/2020 10:14:46</td>\n",
       "      <td>Male</td>\n",
       "      <td>23</td>\n",
       "      <td>Radiography</td>\n",
       "      <td>year 1</td>\n",
       "      <td>3.00 - 3.49</td>\n",
       "      <td>Not_married</td>\n",
       "      <td>Not depressed</td>\n",
       "      <td>No_anxiety</td>\n",
       "      <td>No panic_attack</td>\n",
       "      <td>No_treatment</td>\n",
       "    </tr>\n",
       "    <tr>\n",
       "      <th>85</th>\n",
       "      <td>13/07/2020 10:33:47</td>\n",
       "      <td>Female</td>\n",
       "      <td>18</td>\n",
       "      <td>Psychology</td>\n",
       "      <td>year 1</td>\n",
       "      <td>3.50 - 4.00</td>\n",
       "      <td>Not_married</td>\n",
       "      <td>Depressed</td>\n",
       "      <td>Anxiety_present</td>\n",
       "      <td>No panic_attack</td>\n",
       "      <td>Treatment</td>\n",
       "    </tr>\n",
       "    <tr>\n",
       "      <th>86</th>\n",
       "      <td>13/07/2020 10:34:08</td>\n",
       "      <td>Female</td>\n",
       "      <td>19</td>\n",
       "      <td>Fiqh</td>\n",
       "      <td>year 3</td>\n",
       "      <td>3.00 - 3.49</td>\n",
       "      <td>Not_married</td>\n",
       "      <td>Not depressed</td>\n",
       "      <td>No_anxiety</td>\n",
       "      <td>No panic_attack</td>\n",
       "      <td>No_treatment</td>\n",
       "    </tr>\n",
       "    <tr>\n",
       "      <th>87</th>\n",
       "      <td>13/07/2020 11:46:13</td>\n",
       "      <td>Female</td>\n",
       "      <td>18</td>\n",
       "      <td>Psychology</td>\n",
       "      <td>year 1</td>\n",
       "      <td>3.50 - 4.00</td>\n",
       "      <td>Not_married</td>\n",
       "      <td>Depressed</td>\n",
       "      <td>Anxiety_present</td>\n",
       "      <td>Panic attack</td>\n",
       "      <td>No_treatment</td>\n",
       "    </tr>\n",
       "    <tr>\n",
       "      <th>88</th>\n",
       "      <td>13/07/2020 11:49:02</td>\n",
       "      <td>Male</td>\n",
       "      <td>24</td>\n",
       "      <td>IT</td>\n",
       "      <td>year 1</td>\n",
       "      <td>3.00 - 3.49</td>\n",
       "      <td>Not_married</td>\n",
       "      <td>Not depressed</td>\n",
       "      <td>Anxiety_present</td>\n",
       "      <td>No panic_attack</td>\n",
       "      <td>No_treatment</td>\n",
       "    </tr>\n",
       "    <tr>\n",
       "      <th>89</th>\n",
       "      <td>13/07/2020 11:54:58</td>\n",
       "      <td>Male</td>\n",
       "      <td>24</td>\n",
       "      <td>Engineering</td>\n",
       "      <td>year 2</td>\n",
       "      <td>2.00 - 2.49</td>\n",
       "      <td>Not_married</td>\n",
       "      <td>Not depressed</td>\n",
       "      <td>No_anxiety</td>\n",
       "      <td>Panic attack</td>\n",
       "      <td>No_treatment</td>\n",
       "    </tr>\n",
       "    <tr>\n",
       "      <th>90</th>\n",
       "      <td>13/07/2020 13:57:11</td>\n",
       "      <td>Female</td>\n",
       "      <td>23</td>\n",
       "      <td>DIPLOMA TESL</td>\n",
       "      <td>year 3</td>\n",
       "      <td>3.50 - 4.00</td>\n",
       "      <td>Not_married</td>\n",
       "      <td>Not depressed</td>\n",
       "      <td>No_anxiety</td>\n",
       "      <td>Panic attack</td>\n",
       "      <td>No_treatment</td>\n",
       "    </tr>\n",
       "    <tr>\n",
       "      <th>91</th>\n",
       "      <td>13/07/2020 14:38:12</td>\n",
       "      <td>Male</td>\n",
       "      <td>18</td>\n",
       "      <td>KOE</td>\n",
       "      <td>year 2</td>\n",
       "      <td>3.00 - 3.49</td>\n",
       "      <td>Not_married</td>\n",
       "      <td>Not depressed</td>\n",
       "      <td>Anxiety_present</td>\n",
       "      <td>No panic_attack</td>\n",
       "      <td>No_treatment</td>\n",
       "    </tr>\n",
       "    <tr>\n",
       "      <th>92</th>\n",
       "      <td>13/07/2020 14:48:05</td>\n",
       "      <td>Female</td>\n",
       "      <td>19</td>\n",
       "      <td>KOE</td>\n",
       "      <td>year 2</td>\n",
       "      <td>3.00 - 3.49</td>\n",
       "      <td>Married</td>\n",
       "      <td>Depressed</td>\n",
       "      <td>No_anxiety</td>\n",
       "      <td>No panic_attack</td>\n",
       "      <td>No_treatment</td>\n",
       "    </tr>\n",
       "    <tr>\n",
       "      <th>93</th>\n",
       "      <td>13/07/2020 16:15:13</td>\n",
       "      <td>Female</td>\n",
       "      <td>18</td>\n",
       "      <td>Benl</td>\n",
       "      <td>year 1</td>\n",
       "      <td>3.00 - 3.49</td>\n",
       "      <td>Not_married</td>\n",
       "      <td>Depressed</td>\n",
       "      <td>No_anxiety</td>\n",
       "      <td>No panic_attack</td>\n",
       "      <td>No_treatment</td>\n",
       "    </tr>\n",
       "    <tr>\n",
       "      <th>94</th>\n",
       "      <td>13/07/2020 17:30:44</td>\n",
       "      <td>Female</td>\n",
       "      <td>24</td>\n",
       "      <td>Fiqh</td>\n",
       "      <td>year 3</td>\n",
       "      <td>0 - 1.99</td>\n",
       "      <td>Not_married</td>\n",
       "      <td>Not depressed</td>\n",
       "      <td>No_anxiety</td>\n",
       "      <td>Panic attack</td>\n",
       "      <td>No_treatment</td>\n",
       "    </tr>\n",
       "    <tr>\n",
       "      <th>95</th>\n",
       "      <td>13/07/2020 19:08:32</td>\n",
       "      <td>Female</td>\n",
       "      <td>18</td>\n",
       "      <td>Islamic Education</td>\n",
       "      <td>year 1</td>\n",
       "      <td>3.50 - 4.00</td>\n",
       "      <td>Not_married</td>\n",
       "      <td>Not depressed</td>\n",
       "      <td>No_anxiety</td>\n",
       "      <td>No panic_attack</td>\n",
       "      <td>No_treatment</td>\n",
       "    </tr>\n",
       "    <tr>\n",
       "      <th>96</th>\n",
       "      <td>13/07/2020 19:56:49</td>\n",
       "      <td>Female</td>\n",
       "      <td>21</td>\n",
       "      <td>BCS</td>\n",
       "      <td>year 1</td>\n",
       "      <td>3.50 - 4.00</td>\n",
       "      <td>Not_married</td>\n",
       "      <td>Not depressed</td>\n",
       "      <td>Anxiety_present</td>\n",
       "      <td>No panic_attack</td>\n",
       "      <td>No_treatment</td>\n",
       "    </tr>\n",
       "    <tr>\n",
       "      <th>97</th>\n",
       "      <td>13/07/2020 21:21:42</td>\n",
       "      <td>Male</td>\n",
       "      <td>18</td>\n",
       "      <td>Engineering</td>\n",
       "      <td>year 2</td>\n",
       "      <td>3.00 - 3.49</td>\n",
       "      <td>Not_married</td>\n",
       "      <td>Depressed</td>\n",
       "      <td>Anxiety_present</td>\n",
       "      <td>No panic_attack</td>\n",
       "      <td>No_treatment</td>\n",
       "    </tr>\n",
       "    <tr>\n",
       "      <th>98</th>\n",
       "      <td>13/07/2020 21:22:56</td>\n",
       "      <td>Female</td>\n",
       "      <td>19</td>\n",
       "      <td>Nursing</td>\n",
       "      <td>year 3</td>\n",
       "      <td>3.50 - 4.00</td>\n",
       "      <td>Married</td>\n",
       "      <td>Depressed</td>\n",
       "      <td>No_anxiety</td>\n",
       "      <td>Panic attack</td>\n",
       "      <td>No_treatment</td>\n",
       "    </tr>\n",
       "    <tr>\n",
       "      <th>99</th>\n",
       "      <td>13/07/2020 21:23:57</td>\n",
       "      <td>Female</td>\n",
       "      <td>23</td>\n",
       "      <td>Pendidikan Islam</td>\n",
       "      <td>year 4</td>\n",
       "      <td>3.50 - 4.00</td>\n",
       "      <td>Not_married</td>\n",
       "      <td>Not depressed</td>\n",
       "      <td>No_anxiety</td>\n",
       "      <td>No panic_attack</td>\n",
       "      <td>No_treatment</td>\n",
       "    </tr>\n",
       "    <tr>\n",
       "      <th>100</th>\n",
       "      <td>18/07/2020 20:16:21</td>\n",
       "      <td>Male</td>\n",
       "      <td>20</td>\n",
       "      <td>Biomedical science</td>\n",
       "      <td>year 2</td>\n",
       "      <td>3.00 - 3.49</td>\n",
       "      <td>Not_married</td>\n",
       "      <td>Not depressed</td>\n",
       "      <td>No_anxiety</td>\n",
       "      <td>No panic_attack</td>\n",
       "      <td>No_treatment</td>\n",
       "    </tr>\n",
       "  </tbody>\n",
       "</table>\n",
       "</div>"
      ],
      "text/plain": [
       "               Timestamp  Gender  Age                   Course Year of Study  \\\n",
       "0         8/7/2020 12:02  Female   18              Engineering        year 1   \n",
       "1         8/7/2020 12:04    Male   21        Islamic Education        year 2   \n",
       "2         8/7/2020 12:05    Male   19                       IT        year 1   \n",
       "3         8/7/2020 12:06  Female   22                      Law        year 3   \n",
       "4         8/7/2020 12:13    Male   23             Mathemathics        year 4   \n",
       "5         8/7/2020 12:31    Male   19              Engineering        year 2   \n",
       "6         8/7/2020 12:32  Female   23         Pendidikan Islam        year 2   \n",
       "7         8/7/2020 12:33  Female   18                      BCS        year 1   \n",
       "8         8/7/2020 12:35  Female   19          Human Resources        year 2   \n",
       "9         8/7/2020 12:39    Male   18                    Irkhs        year 1   \n",
       "10        8/7/2020 12:39  Female   20               Psychology        year 1   \n",
       "11        8/7/2020 12:39  Female   24              Engineering        year 3   \n",
       "12        8/7/2020 12:40  Female   18                      BCS        year 1   \n",
       "13        8/7/2020 12:41    Male   19              Engineering        year 1   \n",
       "14        8/7/2020 12:43  Female   18                    KENMS        year 2   \n",
       "15        8/7/2020 12:43    Male   24                      BCS        year 3   \n",
       "16        8/7/2020 12:46  Female   24              Accounting         year 3   \n",
       "17        8/7/2020 12:52  Female   24                      ENM        year 4   \n",
       "18        8/7/2020 13:05  Female   20                       IT        year 2   \n",
       "19        8/7/2020 13:07  Female   18           Marine science        year 2   \n",
       "20        8/7/2020 13:12  Female   19              Engineering        year 1   \n",
       "21        8/7/2020 13:13  Female   18                      KOE        year 2   \n",
       "22        8/7/2020 13:13  Female   24                      BCS        year 1   \n",
       "23        8/7/2020 13:15  Female   24              Engineering        year 1   \n",
       "24        8/7/2020 13:17  Female   23                      BCS        year 3   \n",
       "25        8/7/2020 13:29  Female   18          Banking Studies        year 1   \n",
       "26        8/7/2020 13:35  Female   19              Engineering        year 1   \n",
       "27        8/7/2020 13:41    Male   18              Engineering        year 2   \n",
       "28        8/7/2020 13:58  Female   24                       IT        year 3   \n",
       "29        8/7/2020 14:05  Female   24                      BCS        year 4   \n",
       "30        8/7/2020 14:27  Female   23  Business Administration        year 2   \n",
       "31        8/7/2020 14:29    Male   18                      BCS        year 2   \n",
       "32        8/7/2020 14:29    Male   19                      BCS        year 1   \n",
       "33        8/7/2020 14:31    Male   18                      BCS        year 2   \n",
       "34        8/7/2020 14:41  Female   19                       IT        year 1   \n",
       "35        8/7/2020 14:43  Female   18              Engineering        year 1   \n",
       "36        8/7/2020 14:43  Female   18                      Law        year 3   \n",
       "37        8/7/2020 14:45  Female   19                       IT        year 1   \n",
       "38        8/7/2020 14:47  Female   18                    Irkhs        year 1   \n",
       "39        8/7/2020 14:56  Female   24              Engineering        year 2   \n",
       "40        8/7/2020 14:57  Female   24                       IT        year 3   \n",
       "41        8/7/2020 14:57  Female   22              Engineering        year 4   \n",
       "42        8/7/2020 14:58  Female   20               Usuluddin         year 2   \n",
       "43        8/7/2020 15:07    Male   19                       IT        year 1   \n",
       "44        8/7/2020 15:08    Male   23                    TAASL        year 2   \n",
       "45        8/7/2020 15:09    Male   18                      BCS        year 1   \n",
       "46        8/7/2020 15:12  Female   19              Engineering        year 1   \n",
       "47        8/7/2020 15:14  Female   18              Engineering        year 4   \n",
       "48        8/7/2020 15:14    Male   24                      BCS        year 2   \n",
       "49        8/7/2020 15:18  Female   24                      BCS        year 3   \n",
       "50        8/7/2020 15:27  Female   23                      ALA        year 1   \n",
       "51        8/7/2020 15:37  Female   18                      BCS        year 2   \n",
       "52        8/7/2020 15:47  Female   19       Biomedical science        year 3   \n",
       "53        8/7/2020 15:48  Female   20                      KOE        year 3   \n",
       "54        8/7/2020 15:57  Female   19                      BCS        year 1   \n",
       "55        8/7/2020 15:58    Male   21                      BCS        year 1   \n",
       "56        8/7/2020 16:08    Male   23                    Irkhs        year 3   \n",
       "57        8/7/2020 16:21  Female   20                     Benl        year 3   \n",
       "58        8/7/2020 16:22  Female   18                      BCS        year 1   \n",
       "59        8/7/2020 16:34  Female   23                     Benl        year 1   \n",
       "60        8/7/2020 16:34  Female   18                       IT        year 3   \n",
       "61        8/7/2020 16:53  Female   19                      BCS        year 1   \n",
       "62        8/7/2020 17:05  Female   18                      CTS        year 1   \n",
       "63        8/7/2020 17:37  Female   24              Engineering        year 1   \n",
       "64        8/7/2020 17:46  Female   24              Engineering        year 1   \n",
       "65        8/7/2020 17:50  Female   23                Economics        year 1   \n",
       "66        8/7/2020 18:10  Female   18                      KOE        year 3   \n",
       "67        8/7/2020 18:11    Male   19                     MHSC        year 3   \n",
       "68        8/7/2020 19:05  Female   18                   Malcom        year 1   \n",
       "69        8/7/2020 19:32  Female   24                      Kop        year 4   \n",
       "70        8/7/2020 20:36  Female   24       Biomedical science        year 1   \n",
       "71        8/7/2020 21:21  Female   18                      Law        year 3   \n",
       "72        8/7/2020 22:35  Female   19                       IT        year 3   \n",
       "73         9/7/2020 6:57    Male   18       Biomedical science        year 1   \n",
       "74        9/7/2020 11:43    Male   24                       IT        year 3   \n",
       "75        9/7/2020 11:57  Female   24                      KOE        year 1   \n",
       "76        9/7/2020 13:15  Female   23              Engineering        year 1   \n",
       "77        9/7/2020 18:24  Female   18          Human Sciences         year 2   \n",
       "78   13/07/2020 10:07:32  Female   19            Biotechnology        year 3   \n",
       "79   13/07/2020 10:10:30  Female   18              Engineering        year 4   \n",
       "80   13/07/2020 10:11:26  Female   24           Communication         year 2   \n",
       "81   13/07/2020 10:12:18  Female   24          Diploma Nursing        year 2   \n",
       "82   13/07/2020 10:12:26  Female   19              Engineering        year 1   \n",
       "83   13/07/2020 10:12:28  Female   19        Pendidikan Islam         year 2   \n",
       "84   13/07/2020 10:14:46    Male   23              Radiography        year 1   \n",
       "85   13/07/2020 10:33:47  Female   18               Psychology        year 1   \n",
       "86   13/07/2020 10:34:08  Female   19                     Fiqh        year 3   \n",
       "87   13/07/2020 11:46:13  Female   18               Psychology        year 1   \n",
       "88   13/07/2020 11:49:02    Male   24                       IT        year 1   \n",
       "89   13/07/2020 11:54:58    Male   24              Engineering        year 2   \n",
       "90   13/07/2020 13:57:11  Female   23             DIPLOMA TESL        year 3   \n",
       "91   13/07/2020 14:38:12    Male   18                      KOE        year 2   \n",
       "92   13/07/2020 14:48:05  Female   19                      KOE        year 2   \n",
       "93   13/07/2020 16:15:13  Female   18                     Benl        year 1   \n",
       "94   13/07/2020 17:30:44  Female   24                     Fiqh        year 3   \n",
       "95   13/07/2020 19:08:32  Female   18        Islamic Education        year 1   \n",
       "96   13/07/2020 19:56:49  Female   21                      BCS        year 1   \n",
       "97   13/07/2020 21:21:42    Male   18              Engineering        year 2   \n",
       "98   13/07/2020 21:22:56  Female   19                 Nursing         year 3   \n",
       "99   13/07/2020 21:23:57  Female   23         Pendidikan Islam        year 4   \n",
       "100  18/07/2020 20:16:21    Male   20       Biomedical science        year 2   \n",
       "\n",
       "            CGPA Marital status     Depression          Anxiety  \\\n",
       "0    3.00 - 3.49    Not_married      Depressed       No_anxiety   \n",
       "1    3.00 - 3.49    Not_married  Not depressed  Anxiety_present   \n",
       "2    3.00 - 3.49    Not_married      Depressed  Anxiety_present   \n",
       "3    3.00 - 3.49        Married      Depressed       No_anxiety   \n",
       "4    3.00 - 3.49    Not_married  Not depressed       No_anxiety   \n",
       "5    3.50 - 4.00    Not_married  Not depressed       No_anxiety   \n",
       "6    3.50 - 4.00        Married      Depressed       No_anxiety   \n",
       "7    3.50 - 4.00    Not_married  Not depressed  Anxiety_present   \n",
       "8    2.50 - 2.99    Not_married  Not depressed       No_anxiety   \n",
       "9    3.50 - 4.00    Not_married  Not depressed  Anxiety_present   \n",
       "10   3.50 - 4.00    Not_married  Not depressed       No_anxiety   \n",
       "11   3.50 - 4.00        Married      Depressed       No_anxiety   \n",
       "12   3.00 - 3.49    Not_married      Depressed       No_anxiety   \n",
       "13   3.00 - 3.49    Not_married  Not depressed       No_anxiety   \n",
       "14   3.50 - 4.00    Not_married  Not depressed  Anxiety_present   \n",
       "15   3.50 - 4.00    Not_married  Not depressed       No_anxiety   \n",
       "16   3.00 - 3.49    Not_married  Not depressed       No_anxiety   \n",
       "17   3.00 - 3.49        Married      Depressed  Anxiety_present   \n",
       "18   3.50 - 4.00    Not_married  Not depressed  Anxiety_present   \n",
       "19   3.50 - 4.00        Married      Depressed  Anxiety_present   \n",
       "20   3.00 - 3.49    Not_married  Not depressed       No_anxiety   \n",
       "21   3.00 - 3.49    Not_married  Not depressed       No_anxiety   \n",
       "22   3.50 - 4.00    Not_married  Not depressed       No_anxiety   \n",
       "23   3.00 - 3.49    Not_married  Not depressed       No_anxiety   \n",
       "24   3.50 - 4.00    Not_married      Depressed  Anxiety_present   \n",
       "25   3.50 - 4.00    Not_married  Not depressed       No_anxiety   \n",
       "26   3.50 - 4.00    Not_married  Not depressed       No_anxiety   \n",
       "27   3.00 - 3.49        Married      Depressed  Anxiety_present   \n",
       "28   3.50 - 4.00        Married      Depressed  Anxiety_present   \n",
       "29   3.50 - 4.00    Not_married  Not depressed       No_anxiety   \n",
       "30   3.00 - 3.49    Not_married  Not depressed       No_anxiety   \n",
       "31   3.00 - 3.49    Not_married  Not depressed       No_anxiety   \n",
       "32   3.50 - 4.00    Not_married  Not depressed       No_anxiety   \n",
       "33   3.50 - 4.00        Married      Depressed  Anxiety_present   \n",
       "34   3.00 - 3.49    Not_married      Depressed  Anxiety_present   \n",
       "35   2.00 - 2.49    Not_married  Not depressed       No_anxiety   \n",
       "36   3.00 - 3.49    Not_married      Depressed  Anxiety_present   \n",
       "37   2.50 - 2.99    Not_married      Depressed  Anxiety_present   \n",
       "38   3.50 - 4.00    Not_married  Not depressed       No_anxiety   \n",
       "39   2.50 - 2.99        Married      Depressed       No_anxiety   \n",
       "40   3.00 - 3.49    Not_married  Not depressed  Anxiety_present   \n",
       "41   3.50 - 4.00    Not_married  Not depressed       No_anxiety   \n",
       "42   3.00 - 3.49    Not_married      Depressed       No_anxiety   \n",
       "43      0 - 1.99    Not_married  Not depressed       No_anxiety   \n",
       "44   3.50 - 4.00    Not_married  Not depressed       No_anxiety   \n",
       "45   3.50 - 4.00    Not_married  Not depressed  Anxiety_present   \n",
       "46   3.50 - 4.00    Not_married  Not depressed  Anxiety_present   \n",
       "47   3.50 - 4.00    Not_married  Not depressed       No_anxiety   \n",
       "48   3.00 - 3.49    Not_married      Depressed       No_anxiety   \n",
       "49   3.50 - 4.00    Not_married  Not depressed       No_anxiety   \n",
       "50   2.50 - 2.99        Married      Depressed       No_anxiety   \n",
       "51   3.50 - 4.00    Not_married  Not depressed  Anxiety_present   \n",
       "52   3.00 - 3.49    Not_married  Not depressed       No_anxiety   \n",
       "53   3.00 - 3.49        Married      Depressed  Anxiety_present   \n",
       "54   3.50 - 4.00    Not_married      Depressed       No_anxiety   \n",
       "55   3.00 - 3.49    Not_married  Not depressed       No_anxiety   \n",
       "56   3.50 - 4.00    Not_married  Not depressed       No_anxiety   \n",
       "57   3.00 - 3.49    Not_married      Depressed  Anxiety_present   \n",
       "58   3.50 - 4.00    Not_married  Not depressed       No_anxiety   \n",
       "59   3.00 - 3.49    Not_married  Not depressed       No_anxiety   \n",
       "60   3.00 - 3.49    Not_married  Not depressed       No_anxiety   \n",
       "61   3.50 - 4.00    Not_married  Not depressed       No_anxiety   \n",
       "62   3.50 - 4.00    Not_married  Not depressed       No_anxiety   \n",
       "63   3.50 - 4.00    Not_married  Not depressed       No_anxiety   \n",
       "64   3.50 - 4.00    Not_married  Not depressed       No_anxiety   \n",
       "65   3.50 - 4.00    Not_married      Depressed  Anxiety_present   \n",
       "66   3.00 - 3.49    Not_married  Not depressed  Anxiety_present   \n",
       "67   3.00 - 3.49        Married      Depressed       No_anxiety   \n",
       "68   3.50 - 4.00    Not_married      Depressed       No_anxiety   \n",
       "69   3.00 - 3.49    Not_married  Not depressed  Anxiety_present   \n",
       "70   3.00 - 3.49    Not_married  Not depressed       No_anxiety   \n",
       "71   3.50 - 4.00    Not_married  Not depressed       No_anxiety   \n",
       "72   3.00 - 3.49        Married      Depressed       No_anxiety   \n",
       "73      0 - 1.99    Not_married  Not depressed       No_anxiety   \n",
       "74   3.50 - 4.00    Not_married  Not depressed  Anxiety_present   \n",
       "75   3.50 - 4.00    Not_married  Not depressed  Anxiety_present   \n",
       "76   3.00 - 3.49    Not_married      Depressed       No_anxiety   \n",
       "77   3.00 - 3.49    Not_married  Not depressed       No_anxiety   \n",
       "78      0 - 1.99    Not_married  Not depressed       No_anxiety   \n",
       "79   3.50 - 4.00    Not_married  Not depressed       No_anxiety   \n",
       "80   3.50 - 4.00        Married      Depressed  Anxiety_present   \n",
       "81   3.50 - 4.00    Not_married  Not depressed       No_anxiety   \n",
       "82   3.00 - 3.49    Not_married      Depressed  Anxiety_present   \n",
       "83   3.00 - 3.49    Not_married  Not depressed       No_anxiety   \n",
       "84   3.00 - 3.49    Not_married  Not depressed       No_anxiety   \n",
       "85   3.50 - 4.00    Not_married      Depressed  Anxiety_present   \n",
       "86   3.00 - 3.49    Not_married  Not depressed       No_anxiety   \n",
       "87   3.50 - 4.00    Not_married      Depressed  Anxiety_present   \n",
       "88   3.00 - 3.49    Not_married  Not depressed  Anxiety_present   \n",
       "89   2.00 - 2.49    Not_married  Not depressed       No_anxiety   \n",
       "90   3.50 - 4.00    Not_married  Not depressed       No_anxiety   \n",
       "91   3.00 - 3.49    Not_married  Not depressed  Anxiety_present   \n",
       "92   3.00 - 3.49        Married      Depressed       No_anxiety   \n",
       "93   3.00 - 3.49    Not_married      Depressed       No_anxiety   \n",
       "94      0 - 1.99    Not_married  Not depressed       No_anxiety   \n",
       "95   3.50 - 4.00    Not_married  Not depressed       No_anxiety   \n",
       "96   3.50 - 4.00    Not_married  Not depressed  Anxiety_present   \n",
       "97   3.00 - 3.49    Not_married      Depressed  Anxiety_present   \n",
       "98   3.50 - 4.00        Married      Depressed       No_anxiety   \n",
       "99   3.50 - 4.00    Not_married  Not depressed       No_anxiety   \n",
       "100  3.00 - 3.49    Not_married  Not depressed       No_anxiety   \n",
       "\n",
       "        Panic attack     Treatment  \n",
       "0       Panic attack  No_treatment  \n",
       "1    No panic_attack  No_treatment  \n",
       "2       Panic attack  No_treatment  \n",
       "3    No panic_attack  No_treatment  \n",
       "4    No panic_attack  No_treatment  \n",
       "5       Panic attack  No_treatment  \n",
       "6       Panic attack  No_treatment  \n",
       "7    No panic_attack  No_treatment  \n",
       "8    No panic_attack  No_treatment  \n",
       "9       Panic attack  No_treatment  \n",
       "10   No panic_attack  No_treatment  \n",
       "11   No panic_attack  No_treatment  \n",
       "12   No panic_attack  No_treatment  \n",
       "13   No panic_attack  No_treatment  \n",
       "14   No panic_attack  No_treatment  \n",
       "15   No panic_attack  No_treatment  \n",
       "16   No panic_attack  No_treatment  \n",
       "17      Panic attack  No_treatment  \n",
       "18   No panic_attack  No_treatment  \n",
       "19      Panic attack  No_treatment  \n",
       "20      Panic attack  No_treatment  \n",
       "21   No panic_attack  No_treatment  \n",
       "22   No panic_attack  No_treatment  \n",
       "23   No panic_attack  No_treatment  \n",
       "24      Panic attack  No_treatment  \n",
       "25   No panic_attack  No_treatment  \n",
       "26   No panic_attack  No_treatment  \n",
       "27   No panic_attack  No_treatment  \n",
       "28      Panic attack     Treatment  \n",
       "29   No panic_attack  No_treatment  \n",
       "30   No panic_attack  No_treatment  \n",
       "31   No panic_attack  No_treatment  \n",
       "32      Panic attack  No_treatment  \n",
       "33   No panic_attack     Treatment  \n",
       "34      Panic attack  No_treatment  \n",
       "35   No panic_attack  No_treatment  \n",
       "36   No panic_attack  No_treatment  \n",
       "37      Panic attack  No_treatment  \n",
       "38   No panic_attack  No_treatment  \n",
       "39      Panic attack     Treatment  \n",
       "40   No panic_attack  No_treatment  \n",
       "41   No panic_attack  No_treatment  \n",
       "42   No panic_attack  No_treatment  \n",
       "43   No panic_attack  No_treatment  \n",
       "44      Panic attack  No_treatment  \n",
       "45      Panic attack  No_treatment  \n",
       "46   No panic_attack  No_treatment  \n",
       "47   No panic_attack  No_treatment  \n",
       "48   No panic_attack  No_treatment  \n",
       "49      Panic attack  No_treatment  \n",
       "50      Panic attack     Treatment  \n",
       "51   No panic_attack  No_treatment  \n",
       "52   No panic_attack  No_treatment  \n",
       "53      Panic attack  No_treatment  \n",
       "54      Panic attack     Treatment  \n",
       "55   No panic_attack  No_treatment  \n",
       "56   No panic_attack  No_treatment  \n",
       "57   No panic_attack  No_treatment  \n",
       "58   No panic_attack  No_treatment  \n",
       "59   No panic_attack  No_treatment  \n",
       "60      Panic attack  No_treatment  \n",
       "61   No panic_attack  No_treatment  \n",
       "62      Panic attack  No_treatment  \n",
       "63      Panic attack  No_treatment  \n",
       "64   No panic_attack  No_treatment  \n",
       "65   No panic_attack  No_treatment  \n",
       "66   No panic_attack  No_treatment  \n",
       "67      Panic attack  No_treatment  \n",
       "68   No panic_attack  No_treatment  \n",
       "69   No panic_attack  No_treatment  \n",
       "70   No panic_attack  No_treatment  \n",
       "71      Panic attack  No_treatment  \n",
       "72   No panic_attack  No_treatment  \n",
       "73   No panic_attack  No_treatment  \n",
       "74   No panic_attack  No_treatment  \n",
       "75      Panic attack  No_treatment  \n",
       "76   No panic_attack  No_treatment  \n",
       "77      Panic attack  No_treatment  \n",
       "78   No panic_attack  No_treatment  \n",
       "79   No panic_attack  No_treatment  \n",
       "80      Panic attack  No_treatment  \n",
       "81   No panic_attack  No_treatment  \n",
       "82   No panic_attack  No_treatment  \n",
       "83   No panic_attack  No_treatment  \n",
       "84   No panic_attack  No_treatment  \n",
       "85   No panic_attack     Treatment  \n",
       "86   No panic_attack  No_treatment  \n",
       "87      Panic attack  No_treatment  \n",
       "88   No panic_attack  No_treatment  \n",
       "89      Panic attack  No_treatment  \n",
       "90      Panic attack  No_treatment  \n",
       "91   No panic_attack  No_treatment  \n",
       "92   No panic_attack  No_treatment  \n",
       "93   No panic_attack  No_treatment  \n",
       "94      Panic attack  No_treatment  \n",
       "95   No panic_attack  No_treatment  \n",
       "96   No panic_attack  No_treatment  \n",
       "97   No panic_attack  No_treatment  \n",
       "98      Panic attack  No_treatment  \n",
       "99   No panic_attack  No_treatment  \n",
       "100  No panic_attack  No_treatment  "
      ]
     },
     "execution_count": 61,
     "metadata": {},
     "output_type": "execute_result"
    }
   ],
   "source": [
    "df"
   ]
  },
  {
   "cell_type": "markdown",
   "id": "fd3bf361",
   "metadata": {
    "papermill": {
     "duration": 0.118718,
     "end_time": "2024-02-12T05:35:34.629201",
     "exception": false,
     "start_time": "2024-02-12T05:35:34.510483",
     "status": "completed"
    },
    "tags": []
   },
   "source": [
    "# ANALYZE TIME SERIES of Numeric Data (only age)\n"
   ]
  },
  {
   "cell_type": "code",
   "execution_count": 62,
   "id": "1ff3ba62",
   "metadata": {
    "execution": {
     "iopub.execute_input": "2024-02-12T05:35:34.866640Z",
     "iopub.status.busy": "2024-02-12T05:35:34.866073Z",
     "iopub.status.idle": "2024-02-12T05:35:34.873495Z",
     "shell.execute_reply": "2024-02-12T05:35:34.872675Z"
    },
    "papermill": {
     "duration": 0.127956,
     "end_time": "2024-02-12T05:35:34.875462",
     "exception": false,
     "start_time": "2024-02-12T05:35:34.747506",
     "status": "completed"
    },
    "tags": []
   },
   "outputs": [
    {
     "data": {
      "text/plain": [
       "0      18\n",
       "1      21\n",
       "2      19\n",
       "3      22\n",
       "4      23\n",
       "5      19\n",
       "6      23\n",
       "7      18\n",
       "8      19\n",
       "9      18\n",
       "10     20\n",
       "11     24\n",
       "12     18\n",
       "13     19\n",
       "14     18\n",
       "15     24\n",
       "16     24\n",
       "17     24\n",
       "18     20\n",
       "19     18\n",
       "20     19\n",
       "21     18\n",
       "22     24\n",
       "23     24\n",
       "24     23\n",
       "25     18\n",
       "26     19\n",
       "27     18\n",
       "28     24\n",
       "29     24\n",
       "30     23\n",
       "31     18\n",
       "32     19\n",
       "33     18\n",
       "34     19\n",
       "35     18\n",
       "36     18\n",
       "37     19\n",
       "38     18\n",
       "39     24\n",
       "40     24\n",
       "41     22\n",
       "42     20\n",
       "43     19\n",
       "44     23\n",
       "45     18\n",
       "46     19\n",
       "47     18\n",
       "48     24\n",
       "49     24\n",
       "50     23\n",
       "51     18\n",
       "52     19\n",
       "53     20\n",
       "54     19\n",
       "55     21\n",
       "56     23\n",
       "57     20\n",
       "58     18\n",
       "59     23\n",
       "60     18\n",
       "61     19\n",
       "62     18\n",
       "63     24\n",
       "64     24\n",
       "65     23\n",
       "66     18\n",
       "67     19\n",
       "68     18\n",
       "69     24\n",
       "70     24\n",
       "71     18\n",
       "72     19\n",
       "73     18\n",
       "74     24\n",
       "75     24\n",
       "76     23\n",
       "77     18\n",
       "78     19\n",
       "79     18\n",
       "80     24\n",
       "81     24\n",
       "82     19\n",
       "83     19\n",
       "84     23\n",
       "85     18\n",
       "86     19\n",
       "87     18\n",
       "88     24\n",
       "89     24\n",
       "90     23\n",
       "91     18\n",
       "92     19\n",
       "93     18\n",
       "94     24\n",
       "95     18\n",
       "96     21\n",
       "97     18\n",
       "98     19\n",
       "99     23\n",
       "100    20\n",
       "Name: Age, dtype: int64"
      ]
     },
     "execution_count": 62,
     "metadata": {},
     "output_type": "execute_result"
    }
   ],
   "source": [
    "df.Age"
   ]
  },
  {
   "cell_type": "code",
   "execution_count": 63,
   "id": "38681695",
   "metadata": {
    "execution": {
     "iopub.execute_input": "2024-02-12T05:35:35.112889Z",
     "iopub.status.busy": "2024-02-12T05:35:35.112459Z",
     "iopub.status.idle": "2024-02-12T05:35:35.118430Z",
     "shell.execute_reply": "2024-02-12T05:35:35.117560Z"
    },
    "papermill": {
     "duration": 0.127993,
     "end_time": "2024-02-12T05:35:35.120305",
     "exception": false,
     "start_time": "2024-02-12T05:35:34.992312",
     "status": "completed"
    },
    "tags": []
   },
   "outputs": [
    {
     "data": {
      "text/plain": [
       "Index(['Timestamp', 'Gender', 'Age', 'Course', 'Year of Study', 'CGPA',\n",
       "       'Marital status', 'Depression', 'Anxiety', 'Panic attack', 'Treatment'],\n",
       "      dtype='object')"
      ]
     },
     "execution_count": 63,
     "metadata": {},
     "output_type": "execute_result"
    }
   ],
   "source": [
    "df.columns"
   ]
  },
  {
   "cell_type": "code",
   "execution_count": 64,
   "id": "8278d0b0",
   "metadata": {
    "execution": {
     "iopub.execute_input": "2024-02-12T05:35:35.357663Z",
     "iopub.status.busy": "2024-02-12T05:35:35.357159Z",
     "iopub.status.idle": "2024-02-12T05:35:36.136072Z",
     "shell.execute_reply": "2024-02-12T05:35:36.135484Z"
    },
    "papermill": {
     "duration": 0.899938,
     "end_time": "2024-02-12T05:35:36.138291",
     "exception": false,
     "start_time": "2024-02-12T05:35:35.238353",
     "status": "completed"
    },
    "tags": []
   },
   "outputs": [
    {
     "data": {
      "image/png": "[encoded data removed]",
      "text/plain": [
       "<Figure size 864x720 with 3 Axes>"
      ]
     },
     "metadata": {
      "needs_background": "light"
     },
     "output_type": "display_data"
    }
   ],
   "source": [
    "import pandas as pd\n",
    "import matplotlib.pyplot as plt\n",
    "import seaborn as sns\n",
    "\n",
    "# Assuming your DataFrame is named 'df' and the timestamp column is named 'Timestamp'\n",
    "# Convert 'Timestamp' column to datetime if it's not already in datetime format\n",
    "df['Timestamp'] = pd.to_datetime(df['Timestamp'])\n",
    "\n",
    "# Set 'Timestamp' column as the index\n",
    "df.set_index('Timestamp', inplace=True)\n",
    "\n",
    "# Resample the 'Age' data for daily, monthly, and yearly frequencies\n",
    "daily_age = df['Age'].resample('D').mean()  # Using mean as an example aggregation function\n",
    "monthly_age = df['Age'].resample('M').mean()  # Using mean as an example aggregation function\n",
    "yearly_age = df['Age'].resample('Y').mean()  # Using mean as an example aggregation function\n",
    "\n",
    "# Plotting\n",
    "plt.figure(figsize=(12, 10))\n",
    "\n",
    "# Daily frequency\n",
    "plt.subplot(3, 1, 1)\n",
    "sns.lineplot(data=daily_age, color='blue')\n",
    "plt.title('Daily Age Distribution')\n",
    "plt.xlabel('Date')\n",
    "plt.ylabel('Average Age')\n",
    "\n",
    "# Monthly frequency\n",
    "plt.subplot(3, 1, 2)\n",
    "sns.lineplot(data=monthly_age, color='green')\n",
    "plt.title('Monthly Age Distribution')\n",
    "plt.xlabel('Date')\n",
    "plt.ylabel('Average Age')\n",
    "\n",
    "# Yearly frequency\n",
    "plt.subplot(3, 1, 3)\n",
    "sns.lineplot(data=yearly_age, color='red')\n",
    "plt.title('Yearly Age Distribution')\n",
    "plt.xlabel('Date')\n",
    "plt.ylabel('Average Age')\n",
    "\n",
    "plt.tight_layout()\n",
    "plt.show()"
   ]
  },
  {
   "cell_type": "code",
   "execution_count": 65,
   "id": "5929b5b2",
   "metadata": {
    "execution": {
     "iopub.execute_input": "2024-02-12T05:35:36.392205Z",
     "iopub.status.busy": "2024-02-12T05:35:36.391004Z",
     "iopub.status.idle": "2024-02-12T05:35:36.403246Z",
     "shell.execute_reply": "2024-02-12T05:35:36.402324Z"
    },
    "papermill": {
     "duration": 0.138641,
     "end_time": "2024-02-12T05:35:36.405607",
     "exception": false,
     "start_time": "2024-02-12T05:35:36.266966",
     "status": "completed"
    },
    "tags": []
   },
   "outputs": [
    {
     "name": "stdout",
     "output_type": "stream",
     "text": [
      "Daily Age:\n",
      " Timestamp\n",
      "2020-07-13    20.454545\n",
      "2020-07-14          NaN\n",
      "2020-07-15          NaN\n",
      "2020-07-16          NaN\n",
      "2020-07-17          NaN\n",
      "2020-07-18    20.000000\n",
      "2020-07-19          NaN\n",
      "2020-07-20          NaN\n",
      "2020-07-21          NaN\n",
      "2020-07-22          NaN\n",
      "2020-07-23          NaN\n",
      "2020-07-24          NaN\n",
      "2020-07-25          NaN\n",
      "2020-07-26          NaN\n",
      "2020-07-27          NaN\n",
      "2020-07-28          NaN\n",
      "2020-07-29          NaN\n",
      "2020-07-30          NaN\n",
      "2020-07-31          NaN\n",
      "2020-08-01          NaN\n",
      "2020-08-02          NaN\n",
      "2020-08-03          NaN\n",
      "2020-08-04          NaN\n",
      "2020-08-05          NaN\n",
      "2020-08-06          NaN\n",
      "2020-08-07    20.479452\n",
      "2020-08-08          NaN\n",
      "2020-08-09          NaN\n",
      "2020-08-10          NaN\n",
      "2020-08-11          NaN\n",
      "2020-08-12          NaN\n",
      "2020-08-13          NaN\n",
      "2020-08-14          NaN\n",
      "2020-08-15          NaN\n",
      "2020-08-16          NaN\n",
      "2020-08-17          NaN\n",
      "2020-08-18          NaN\n",
      "2020-08-19          NaN\n",
      "2020-08-20          NaN\n",
      "2020-08-21          NaN\n",
      "2020-08-22          NaN\n",
      "2020-08-23          NaN\n",
      "2020-08-24          NaN\n",
      "2020-08-25          NaN\n",
      "2020-08-26          NaN\n",
      "2020-08-27          NaN\n",
      "2020-08-28          NaN\n",
      "2020-08-29          NaN\n",
      "2020-08-30          NaN\n",
      "2020-08-31          NaN\n",
      "2020-09-01          NaN\n",
      "2020-09-02          NaN\n",
      "2020-09-03          NaN\n",
      "2020-09-04          NaN\n",
      "2020-09-05          NaN\n",
      "2020-09-06          NaN\n",
      "2020-09-07    21.400000\n",
      "Freq: D, Name: Age, dtype: float64\n",
      "\n",
      "Monthly Age:\n",
      " Timestamp\n",
      "2020-07-31    20.434783\n",
      "2020-08-31    20.479452\n",
      "2020-09-30    21.400000\n",
      "Freq: M, Name: Age, dtype: float64\n",
      "\n",
      "Yearly Age:\n",
      " Timestamp\n",
      "2020-12-31    20.514851\n",
      "Freq: A-DEC, Name: Age, dtype: float64\n"
     ]
    }
   ],
   "source": [
    "print(\"Daily Age:\\n\", daily_age)\n",
    "print(\"\\nMonthly Age:\\n\", monthly_age)\n",
    "print(\"\\nYearly Age:\\n\", yearly_age)"
   ]
  },
  {
   "cell_type": "code",
   "execution_count": 66,
   "id": "7f4a3b55",
   "metadata": {
    "execution": {
     "iopub.execute_input": "2024-02-12T05:35:36.654044Z",
     "iopub.status.busy": "2024-02-12T05:35:36.653710Z",
     "iopub.status.idle": "2024-02-12T05:35:36.662656Z",
     "shell.execute_reply": "2024-02-12T05:35:36.661731Z"
    },
    "papermill": {
     "duration": 0.133361,
     "end_time": "2024-02-12T05:35:36.665319",
     "exception": false,
     "start_time": "2024-02-12T05:35:36.531958",
     "status": "completed"
    },
    "tags": []
   },
   "outputs": [
    {
     "name": "stdout",
     "output_type": "stream",
     "text": [
      "Entries with null values:\n",
      "Empty DataFrame\n",
      "Columns: [Gender, Age, Course, Year of Study, CGPA, Marital status, Depression, Anxiety, Panic attack, Treatment]\n",
      "Index: []\n"
     ]
    }
   ],
   "source": [
    "# Assuming your dataset is named 'df'\n",
    "# Check for null or missing values in the dataset\n",
    "null_entries = df[df.isnull().any(axis=1)]\n",
    "\n",
    "# Display the entries with null values\n",
    "print(\"Entries with null values:\")\n",
    "print(null_entries)"
   ]
  },
  {
   "cell_type": "markdown",
   "id": "fe66b2b6",
   "metadata": {
    "papermill": {
     "duration": 0.13271,
     "end_time": "2024-02-12T05:35:36.927933",
     "exception": false,
     "start_time": "2024-02-12T05:35:36.795223",
     "status": "completed"
    },
    "tags": []
   },
   "source": [
    "Check for Duplicates"
   ]
  },
  {
   "cell_type": "code",
   "execution_count": 67,
   "id": "5c42b324",
   "metadata": {
    "execution": {
     "iopub.execute_input": "2024-02-12T05:35:37.188108Z",
     "iopub.status.busy": "2024-02-12T05:35:37.187544Z",
     "iopub.status.idle": "2024-02-12T05:35:37.201433Z",
     "shell.execute_reply": "2024-02-12T05:35:37.200241Z"
    },
    "papermill": {
     "duration": 0.146706,
     "end_time": "2024-02-12T05:35:37.204067",
     "exception": false,
     "start_time": "2024-02-12T05:35:37.057361",
     "status": "completed"
    },
    "tags": []
   },
   "outputs": [
    {
     "name": "stdout",
     "output_type": "stream",
     "text": [
      "Duplicate entries:\n",
      "                     Gender  Age       Course Year of Study         CGPA  \\\n",
      "Timestamp                                                                  \n",
      "2020-07-13 10:10:30  Female   18  Engineering        year 4  3.50 - 4.00   \n",
      "\n",
      "                    Marital status     Depression     Anxiety  \\\n",
      "Timestamp                                                       \n",
      "2020-07-13 10:10:30    Not_married  Not depressed  No_anxiety   \n",
      "\n",
      "                        Panic attack     Treatment  \n",
      "Timestamp                                           \n",
      "2020-07-13 10:10:30  No panic_attack  No_treatment  \n"
     ]
    }
   ],
   "source": [
    "# Check for duplicate entries in the dataset\n",
    "duplicate_entries = df[df.duplicated()]\n",
    "\n",
    "# Display the duplicate entries\n",
    "print(\"Duplicate entries:\")\n",
    "print(duplicate_entries)"
   ]
  },
  {
   "cell_type": "code",
   "execution_count": 68,
   "id": "ece1452e",
   "metadata": {
    "execution": {
     "iopub.execute_input": "2024-02-12T05:35:37.464640Z",
     "iopub.status.busy": "2024-02-12T05:35:37.464113Z",
     "iopub.status.idle": "2024-02-12T05:35:37.475700Z",
     "shell.execute_reply": "2024-02-12T05:35:37.474802Z"
    },
    "papermill": {
     "duration": 0.144491,
     "end_time": "2024-02-12T05:35:37.478425",
     "exception": false,
     "start_time": "2024-02-12T05:35:37.333934",
     "status": "completed"
    },
    "tags": []
   },
   "outputs": [
    {
     "name": "stdout",
     "output_type": "stream",
     "text": [
      "<class 'pandas.core.frame.DataFrame'>\n",
      "DatetimeIndex: 101 entries, 2020-08-07 12:02:00 to 2020-07-18 20:16:21\n",
      "Data columns (total 10 columns):\n",
      " #   Column          Non-Null Count  Dtype \n",
      "---  ------          --------------  ----- \n",
      " 0   Gender          101 non-null    object\n",
      " 1   Age             101 non-null    int64 \n",
      " 2   Course          101 non-null    object\n",
      " 3   Year of Study   101 non-null    object\n",
      " 4   CGPA            101 non-null    object\n",
      " 5   Marital status  101 non-null    object\n",
      " 6   Depression      101 non-null    object\n",
      " 7   Anxiety         101 non-null    object\n",
      " 8   Panic attack    101 non-null    object\n",
      " 9   Treatment       101 non-null    object\n",
      "dtypes: int64(1), object(9)\n",
      "memory usage: 8.7+ KB\n"
     ]
    }
   ],
   "source": [
    "df.info()"
   ]
  },
  {
   "cell_type": "code",
   "execution_count": 69,
   "id": "1a50c018",
   "metadata": {
    "execution": {
     "iopub.execute_input": "2024-02-12T05:35:37.730893Z",
     "iopub.status.busy": "2024-02-12T05:35:37.730191Z",
     "iopub.status.idle": "2024-02-12T05:35:37.739341Z",
     "shell.execute_reply": "2024-02-12T05:35:37.738566Z"
    },
    "papermill": {
     "duration": 0.138674,
     "end_time": "2024-02-12T05:35:37.741312",
     "exception": false,
     "start_time": "2024-02-12T05:35:37.602638",
     "status": "completed"
    },
    "tags": []
   },
   "outputs": [
    {
     "data": {
      "text/plain": [
       "Gender            0\n",
       "Age               0\n",
       "Course            0\n",
       "Year of Study     0\n",
       "CGPA              0\n",
       "Marital status    0\n",
       "Depression        0\n",
       "Anxiety           0\n",
       "Panic attack      0\n",
       "Treatment         0\n",
       "dtype: int64"
      ]
     },
     "execution_count": 69,
     "metadata": {},
     "output_type": "execute_result"
    }
   ],
   "source": [
    "df.isna().sum()"
   ]
  },
  {
   "cell_type": "code",
   "execution_count": 70,
   "id": "1365439e",
   "metadata": {
    "execution": {
     "iopub.execute_input": "2024-02-12T05:35:37.991208Z",
     "iopub.status.busy": "2024-02-12T05:35:37.990826Z",
     "iopub.status.idle": "2024-02-12T05:35:38.007180Z",
     "shell.execute_reply": "2024-02-12T05:35:38.006137Z"
    },
    "papermill": {
     "duration": 0.143591,
     "end_time": "2024-02-12T05:35:38.009292",
     "exception": false,
     "start_time": "2024-02-12T05:35:37.865701",
     "status": "completed"
    },
    "tags": []
   },
   "outputs": [
    {
     "data": {
      "text/html": [
       "<div>\n",
       "<style scoped>\n",
       "    .dataframe tbody tr th:only-of-type {\n",
       "        vertical-align: middle;\n",
       "    }\n",
       "\n",
       "    .dataframe tbody tr th {\n",
       "        vertical-align: top;\n",
       "    }\n",
       "\n",
       "    .dataframe thead th {\n",
       "        text-align: right;\n",
       "    }\n",
       "</style>\n",
       "<table border=\"1\" class=\"dataframe\">\n",
       "  <thead>\n",
       "    <tr style=\"text-align: right;\">\n",
       "      <th></th>\n",
       "      <th>Age</th>\n",
       "    </tr>\n",
       "  </thead>\n",
       "  <tbody>\n",
       "    <tr>\n",
       "      <th>count</th>\n",
       "      <td>101.000000</td>\n",
       "    </tr>\n",
       "    <tr>\n",
       "      <th>mean</th>\n",
       "      <td>20.514851</td>\n",
       "    </tr>\n",
       "    <tr>\n",
       "      <th>std</th>\n",
       "      <td>2.488429</td>\n",
       "    </tr>\n",
       "    <tr>\n",
       "      <th>min</th>\n",
       "      <td>18.000000</td>\n",
       "    </tr>\n",
       "    <tr>\n",
       "      <th>25%</th>\n",
       "      <td>18.000000</td>\n",
       "    </tr>\n",
       "    <tr>\n",
       "      <th>50%</th>\n",
       "      <td>19.000000</td>\n",
       "    </tr>\n",
       "    <tr>\n",
       "      <th>75%</th>\n",
       "      <td>23.000000</td>\n",
       "    </tr>\n",
       "    <tr>\n",
       "      <th>max</th>\n",
       "      <td>24.000000</td>\n",
       "    </tr>\n",
       "  </tbody>\n",
       "</table>\n",
       "</div>"
      ],
      "text/plain": [
       "              Age\n",
       "count  101.000000\n",
       "mean    20.514851\n",
       "std      2.488429\n",
       "min     18.000000\n",
       "25%     18.000000\n",
       "50%     19.000000\n",
       "75%     23.000000\n",
       "max     24.000000"
      ]
     },
     "execution_count": 70,
     "metadata": {},
     "output_type": "execute_result"
    }
   ],
   "source": [
    "df.describe()\n"
   ]
  },
  {
   "cell_type": "markdown",
   "id": "97120d4e",
   "metadata": {
    "papermill": {
     "duration": 0.121598,
     "end_time": "2024-02-12T05:35:38.257597",
     "exception": false,
     "start_time": "2024-02-12T05:35:38.135999",
     "status": "completed"
    },
    "tags": []
   },
   "source": [
    "Plot: Univariate Distribution of Age\n"
   ]
  },
  {
   "cell_type": "code",
   "execution_count": 71,
   "id": "d700202f",
   "metadata": {
    "execution": {
     "iopub.execute_input": "2024-02-12T05:35:38.505536Z",
     "iopub.status.busy": "2024-02-12T05:35:38.504885Z",
     "iopub.status.idle": "2024-02-12T05:35:40.467093Z",
     "shell.execute_reply": "2024-02-12T05:35:40.466179Z"
    },
    "papermill": {
     "duration": 2.0884,
     "end_time": "2024-02-12T05:35:40.469328",
     "exception": false,
     "start_time": "2024-02-12T05:35:38.380928",
     "status": "completed"
    },
    "tags": []
   },
   "outputs": [
    {
     "data": {
      "image/png": "[encoded data removed]",
      "text/plain": [
       "<Figure size 1728x432 with 1 Axes>"
      ]
     },
     "metadata": {
      "needs_background": "light"
     },
     "output_type": "display_data"
    },
    {
     "data": {
      "image/png": "[encoded data removed]",
      "text/plain": [
       "<Figure size 1728x432 with 1 Axes>"
      ]
     },
     "metadata": {
      "needs_background": "light"
     },
     "output_type": "display_data"
    },
    {
     "data": {
      "image/png": "[encoded data removed]",
      "text/plain": [
       "<Figure size 1728x432 with 1 Axes>"
      ]
     },
     "metadata": {
      "needs_background": "light"
     },
     "output_type": "display_data"
    },
    {
     "data": {
      "image/png": "[encoded data removed]",
      "text/plain": [
       "<Figure size 1728x432 with 1 Axes>"
      ]
     },
     "metadata": {
      "needs_background": "light"
     },
     "output_type": "display_data"
    },
    {
     "data": {
      "image/png": "[encoded data removed]",
      "text/plain": [
       "<Figure size 1728x432 with 1 Axes>"
      ]
     },
     "metadata": {
      "needs_background": "light"
     },
     "output_type": "display_data"
    },
    {
     "data": {
      "image/png": "[encoded data removed]",
      "text/plain": [
       "<Figure size 1728x432 with 1 Axes>"
      ]
     },
     "metadata": {
      "needs_background": "light"
     },
     "output_type": "display_data"
    },
    {
     "data": {
      "image/png": "[encoded data removed]",
      "text/plain": [
       "<Figure size 1728x432 with 1 Axes>"
      ]
     },
     "metadata": {
      "needs_background": "light"
     },
     "output_type": "display_data"
    },
    {
     "data": {
      "image/png": "[encoded data removed]",
      "text/plain": [
       "<Figure size 1728x432 with 1 Axes>"
      ]
     },
     "metadata": {
      "needs_background": "light"
     },
     "output_type": "display_data"
    },
    {
     "data": {
      "image/png": "[encoded data removed]",
      "text/plain": [
       "<Figure size 1728x432 with 1 Axes>"
      ]
     },
     "metadata": {
      "needs_background": "light"
     },
     "output_type": "display_data"
    }
   ],
   "source": [
    "\n",
    "def plot_count_distribution(data):\n",
    "    for column in data.select_dtypes(include='object').columns:\n",
    "        plt.figure(figsize=(24, 6))  # Increase width of the figure\n",
    "        sns.countplot(data[column], color='#AA5500')  # Set the color here\n",
    "        plt.title(f'Count Distribution of {column}')\n",
    "        plt.xlabel(column)\n",
    "        plt.ylabel('Count')\n",
    "        plt.xticks(rotation=45)  # Rotate x-axis labels for better readability\n",
    "        plt.show()\n",
    "\n",
    "# Assuming your dataset is named 'df'\n",
    "# Plot count distribution of categorical data\n",
    "plot_count_distribution(df)"
   ]
  },
  {
   "cell_type": "markdown",
   "id": "26f6d0ae",
   "metadata": {
    "papermill": {
     "duration": 0.133979,
     "end_time": "2024-02-12T05:35:40.737974",
     "exception": false,
     "start_time": "2024-02-12T05:35:40.603995",
     "status": "completed"
    },
    "tags": []
   },
   "source": [
    "Plot Count Distribution for Categorical Data"
   ]
  },
  {
   "cell_type": "markdown",
   "id": "76fa34db",
   "metadata": {
    "papermill": {
     "duration": 0.131912,
     "end_time": "2024-02-12T05:35:41.004791",
     "exception": false,
     "start_time": "2024-02-12T05:35:40.872879",
     "status": "completed"
    },
    "tags": []
   },
   "source": [
    "MAKE GRAPHS WIDER"
   ]
  },
  {
   "cell_type": "code",
   "execution_count": 72,
   "id": "e4af3906",
   "metadata": {
    "execution": {
     "iopub.execute_input": "2024-02-12T05:35:41.272080Z",
     "iopub.status.busy": "2024-02-12T05:35:41.271761Z",
     "iopub.status.idle": "2024-02-12T05:35:43.344921Z",
     "shell.execute_reply": "2024-02-12T05:35:43.343957Z"
    },
    "papermill": {
     "duration": 2.209776,
     "end_time": "2024-02-12T05:35:43.347753",
     "exception": false,
     "start_time": "2024-02-12T05:35:41.137977",
     "status": "completed"
    },
    "tags": []
   },
   "outputs": [
    {
     "data": {
      "image/png": "[encoded data removed]",
      "text/plain": [
       "<Figure size 1728x432 with 1 Axes>"
      ]
     },
     "metadata": {
      "needs_background": "light"
     },
     "output_type": "display_data"
    },
    {
     "data": {
      "image/png": "[encoded data removed]",
      "text/plain": [
       "<Figure size 1728x432 with 1 Axes>"
      ]
     },
     "metadata": {
      "needs_background": "light"
     },
     "output_type": "display_data"
    },
    {
     "data": {
      "image/png": "[encoded data removed]",
      "text/plain": [
       "<Figure size 1728x432 with 1 Axes>"
      ]
     },
     "metadata": {
      "needs_background": "light"
     },
     "output_type": "display_data"
    },
    {
     "data": {
      "image/png": "[encoded data removed]",
      "text/plain": [
       "<Figure size 1728x432 with 1 Axes>"
      ]
     },
     "metadata": {
      "needs_background": "light"
     },
     "output_type": "display_data"
    },
    {
     "data": {
      "image/png": "[encoded data removed]",
      "text/plain": [
       "<Figure size 1728x432 with 1 Axes>"
      ]
     },
     "metadata": {
      "needs_background": "light"
     },
     "output_type": "display_data"
    },
    {
     "data": {
      "image/png": "[encoded data removed]",
      "text/plain": [
       "<Figure size 1728x432 with 1 Axes>"
      ]
     },
     "metadata": {
      "needs_background": "light"
     },
     "output_type": "display_data"
    },
    {
     "data": {
      "image/png": "[encoded data removed]",
      "text/plain": [
       "<Figure size 1728x432 with 1 Axes>"
      ]
     },
     "metadata": {
      "needs_background": "light"
     },
     "output_type": "display_data"
    },
    {
     "data": {
      "image/png": "[encoded data removed]",
      "text/plain": [
       "<Figure size 1728x432 with 1 Axes>"
      ]
     },
     "metadata": {
      "needs_background": "light"
     },
     "output_type": "display_data"
    },
    {
     "data": {
      "image/png": "[encoded data removed]",
      "text/plain": [
       "<Figure size 1728x432 with 1 Axes>"
      ]
     },
     "metadata": {
      "needs_background": "light"
     },
     "output_type": "display_data"
    }
   ],
   "source": [
    "import seaborn as sns\n",
    "import matplotlib.pyplot as plt\n",
    "\n",
    "def plot_count_distribution(data):\n",
    "    for column in data.select_dtypes(include='object').columns:\n",
    "        plt.figure(figsize=(24, 6))  # Increase width of the figure\n",
    "        sns.countplot(data[column], color='#AA5500')  # Set the color here\n",
    "        plt.title(f'Count Distribution of {column}')\n",
    "        plt.xlabel(column)\n",
    "        plt.ylabel('Count')\n",
    "        plt.xticks(rotation=45)  # Rotate x-axis labels for better readability\n",
    "        plt.show()\n",
    "\n",
    "# Assuming your dataset is named 'df'\n",
    "# Plot count distribution of categorical data\n",
    "plot_count_distribution(df)\n"
   ]
  }
 ],
 "metadata": {
  "kaggle": {
   "accelerator": "none",
   "dataSources": [
    {
     "datasetId": 2594075,
     "sourceId": 4429121,
     "sourceType": "datasetVersion"
    },
    {
     "datasetId": 2168167,
     "sourceId": 5012788,
     "sourceType": "datasetVersion"
    }
   ],
   "dockerImageVersionId": 30191,
   "isGpuEnabled": false,
   "isInternetEnabled": false,
   "language": "python",
   "sourceType": "notebook"
  },
  "kernelspec": {
   "display_name": "Python 3",
   "language": "python",
   "name": "python3"
  },
  "language_info": {
   "codemirror_mode": {
    "name": "ipython",
    "version": 3
   },
   "file_extension": ".py",
   "mimetype": "text/x-python",
   "name": "python",
   "nbconvert_exporter": "python",
   "pygments_lexer": "ipython3",
   "version": "3.7.12"
  },
  "papermill": {
   "default_parameters": {},
   "duration": 42.250973,
   "end_time": "2024-02-12T05:35:44.424151",
   "environment_variables": {},
   "exception": null,
   "input_path": "__notebook__.ipynb",
   "output_path": "__notebook__.ipynb",
   "parameters": {},
   "start_time": "2024-02-12T05:35:02.173178",
   "version": "2.3.4"
  }
 },
 "nbformat": 4,
 "nbformat_minor": 5
}
