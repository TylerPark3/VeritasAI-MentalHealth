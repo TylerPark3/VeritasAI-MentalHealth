{
 "cells": [
  {
   "cell_type": "markdown",
   "id": "e7a811fa",
   "metadata": {
    "papermill": {
     "duration": 0.042354,
     "end_time": "2024-02-11T08:48:13.010825",
     "exception": false,
     "start_time": "2024-02-11T08:48:12.968471",
     "status": "completed"
    },
    "tags": []
   },
   "source": [
    "TODOS:\n",
    "* a.\tCheck total number of entries and column types\n",
    "1.     101\n",
    "1.     11 COLUMN TYPES\n",
    "* b.\tCheck any null (i.e. missing) values\n",
    "* c.\tCheck duplicate entries\n",
    "* d.\tPlot distribution of numeric data (univariate and pairwise joint distribution)\n",
    "* e.\tPlot count distribution of categorical data\n",
    "* f.\tAnalyze time series of numeric data by daily, monthly and yearly frequencies\n",
    "* g.\tCheck with your mentor on additional steps to conduct (see below)"
   ]
  },
  {
   "cell_type": "markdown",
   "id": "d539089f",
   "metadata": {
    "papermill": {
     "duration": 0.043457,
     "end_time": "2024-02-11T08:48:13.095662",
     "exception": false,
     "start_time": "2024-02-11T08:48:13.052205",
     "status": "completed"
    },
    "tags": []
   },
   "source": [
    "STEP 0: Imports and Reading in Data\n"
   ]
  },
  {
   "cell_type": "code",
   "execution_count": 1,
   "id": "0a9b4e1e",
   "metadata": {
    "execution": {
     "iopub.execute_input": "2024-02-11T08:48:13.183238Z",
     "iopub.status.busy": "2024-02-11T08:48:13.182769Z",
     "iopub.status.idle": "2024-02-11T08:48:14.353906Z",
     "shell.execute_reply": "2024-02-11T08:48:14.353009Z"
    },
    "papermill": {
     "duration": 1.217715,
     "end_time": "2024-02-11T08:48:14.356346",
     "exception": false,
     "start_time": "2024-02-11T08:48:13.138631",
     "status": "completed"
    },
    "tags": []
   },
   "outputs": [
    {
     "name": "stdout",
     "output_type": "stream",
     "text": [
      "/kaggle/input/mental-health-conversational-data/intents.json\n",
      "/kaggle/input/student-mental-health/Student Mental health.csv\n"
     ]
    }
   ],
   "source": [
    "# This Python 3 environment comes with many helpful analytics libraries installed\n",
    "# It is defined by the kaggle/python Docker image: https://github.com/kaggle/docker-python\n",
    "# For example, here's several helpful packages to load\n",
    "\n",
    "import numpy as np # linear algebra\n",
    "import pandas as pd # data processing, CSV file I/O (e.g. pd.read_csv)\n",
    "import matplotlib.pyplot as plt\n",
    "import seaborn as sns\n",
    "# Input data files are available in the read-only \"../input/\" directory\n",
    "# For example, running this (by clicking run or pressing Shift+Enter) will list all files under the input directory\n",
    "\n",
    "import os\n",
    "for dirname, _, filenames in os.walk('/kaggle/input'):\n",
    "    for filename in filenames:\n",
    "        print(os.path.join(dirname, filename))\n",
    "\n",
    "# You can write up to 20GB to the current directory (/kaggle/working/) that gets preserved as output when you create a version using \"Save & Run All\" \n",
    "# You can also write temporary files to /kaggle/temp/, but they won't be saved outside of the current session"
   ]
  },
  {
   "cell_type": "code",
   "execution_count": 2,
   "id": "404473e2",
   "metadata": {
    "execution": {
     "iopub.execute_input": "2024-02-11T08:48:14.442301Z",
     "iopub.status.busy": "2024-02-11T08:48:14.442030Z",
     "iopub.status.idle": "2024-02-11T08:48:14.456422Z",
     "shell.execute_reply": "2024-02-11T08:48:14.455646Z"
    },
    "papermill": {
     "duration": 0.059546,
     "end_time": "2024-02-11T08:48:14.458743",
     "exception": false,
     "start_time": "2024-02-11T08:48:14.399197",
     "status": "completed"
    },
    "tags": []
   },
   "outputs": [],
   "source": [
    "data = pd.read_csv(\"/kaggle/input/student-mental-health/Student Mental health.csv\")"
   ]
  },
  {
   "cell_type": "markdown",
   "id": "b0b28362",
   "metadata": {
    "papermill": {
     "duration": 0.041206,
     "end_time": "2024-02-11T08:48:14.542294",
     "exception": false,
     "start_time": "2024-02-11T08:48:14.501088",
     "status": "completed"
    },
    "tags": []
   },
   "source": [
    "STEP 1: Data Understanding\n",
    "* Dataframe shape\n",
    "* head and tail\n",
    "* dtypes\n",
    "* describes"
   ]
  },
  {
   "cell_type": "code",
   "execution_count": 3,
   "id": "c9d31e07",
   "metadata": {
    "execution": {
     "iopub.execute_input": "2024-02-11T08:48:14.627709Z",
     "iopub.status.busy": "2024-02-11T08:48:14.627155Z",
     "iopub.status.idle": "2024-02-11T08:48:14.654227Z",
     "shell.execute_reply": "2024-02-11T08:48:14.653560Z"
    },
    "papermill": {
     "duration": 0.0718,
     "end_time": "2024-02-11T08:48:14.656346",
     "exception": false,
     "start_time": "2024-02-11T08:48:14.584546",
     "status": "completed"
    },
    "tags": []
   },
   "outputs": [
    {
     "data": {
      "text/html": [
       "<div>\n",
       "<style scoped>\n",
       "    .dataframe tbody tr th:only-of-type {\n",
       "        vertical-align: middle;\n",
       "    }\n",
       "\n",
       "    .dataframe tbody tr th {\n",
       "        vertical-align: top;\n",
       "    }\n",
       "\n",
       "    .dataframe thead th {\n",
       "        text-align: right;\n",
       "    }\n",
       "</style>\n",
       "<table border=\"1\" class=\"dataframe\">\n",
       "  <thead>\n",
       "    <tr style=\"text-align: right;\">\n",
       "      <th></th>\n",
       "      <th>Timestamp</th>\n",
       "      <th>Choose your gender</th>\n",
       "      <th>Age</th>\n",
       "      <th>What is your course?</th>\n",
       "      <th>Your current year of Study</th>\n",
       "      <th>What is your CGPA?</th>\n",
       "      <th>Marital status</th>\n",
       "      <th>Do you have Depression?</th>\n",
       "      <th>Do you have Anxiety?</th>\n",
       "      <th>Do you have Panic attack?</th>\n",
       "      <th>Did you seek any specialist for a treatment?</th>\n",
       "    </tr>\n",
       "  </thead>\n",
       "  <tbody>\n",
       "    <tr>\n",
       "      <th>0</th>\n",
       "      <td>8/7/2020 12:02</td>\n",
       "      <td>Female</td>\n",
       "      <td>18.0</td>\n",
       "      <td>Engineering</td>\n",
       "      <td>year 1</td>\n",
       "      <td>3.00 - 3.49</td>\n",
       "      <td>No</td>\n",
       "      <td>Yes</td>\n",
       "      <td>No</td>\n",
       "      <td>Yes</td>\n",
       "      <td>No</td>\n",
       "    </tr>\n",
       "    <tr>\n",
       "      <th>1</th>\n",
       "      <td>8/7/2020 12:04</td>\n",
       "      <td>Male</td>\n",
       "      <td>21.0</td>\n",
       "      <td>Islamic education</td>\n",
       "      <td>year 2</td>\n",
       "      <td>3.00 - 3.49</td>\n",
       "      <td>No</td>\n",
       "      <td>No</td>\n",
       "      <td>Yes</td>\n",
       "      <td>No</td>\n",
       "      <td>No</td>\n",
       "    </tr>\n",
       "    <tr>\n",
       "      <th>2</th>\n",
       "      <td>8/7/2020 12:05</td>\n",
       "      <td>Male</td>\n",
       "      <td>19.0</td>\n",
       "      <td>BIT</td>\n",
       "      <td>Year 1</td>\n",
       "      <td>3.00 - 3.49</td>\n",
       "      <td>No</td>\n",
       "      <td>Yes</td>\n",
       "      <td>Yes</td>\n",
       "      <td>Yes</td>\n",
       "      <td>No</td>\n",
       "    </tr>\n",
       "  </tbody>\n",
       "</table>\n",
       "</div>"
      ],
      "text/plain": [
       "        Timestamp Choose your gender   Age What is your course?  \\\n",
       "0  8/7/2020 12:02             Female  18.0          Engineering   \n",
       "1  8/7/2020 12:04               Male  21.0    Islamic education   \n",
       "2  8/7/2020 12:05               Male  19.0                  BIT   \n",
       "\n",
       "  Your current year of Study What is your CGPA? Marital status  \\\n",
       "0                     year 1        3.00 - 3.49             No   \n",
       "1                     year 2        3.00 - 3.49             No   \n",
       "2                     Year 1        3.00 - 3.49             No   \n",
       "\n",
       "  Do you have Depression? Do you have Anxiety? Do you have Panic attack?  \\\n",
       "0                     Yes                   No                       Yes   \n",
       "1                      No                  Yes                        No   \n",
       "2                     Yes                  Yes                       Yes   \n",
       "\n",
       "  Did you seek any specialist for a treatment?  \n",
       "0                                           No  \n",
       "1                                           No  \n",
       "2                                           No  "
      ]
     },
     "execution_count": 3,
     "metadata": {},
     "output_type": "execute_result"
    }
   ],
   "source": [
    "data.head(3)"
   ]
  },
  {
   "cell_type": "code",
   "execution_count": 4,
   "id": "076e2c8f",
   "metadata": {
    "execution": {
     "iopub.execute_input": "2024-02-11T08:48:14.743216Z",
     "iopub.status.busy": "2024-02-11T08:48:14.742938Z",
     "iopub.status.idle": "2024-02-11T08:48:14.758407Z",
     "shell.execute_reply": "2024-02-11T08:48:14.757476Z"
    },
    "papermill": {
     "duration": 0.061002,
     "end_time": "2024-02-11T08:48:14.760636",
     "exception": false,
     "start_time": "2024-02-11T08:48:14.699634",
     "status": "completed"
    },
    "tags": []
   },
   "outputs": [
    {
     "data": {
      "text/html": [
       "<div>\n",
       "<style scoped>\n",
       "    .dataframe tbody tr th:only-of-type {\n",
       "        vertical-align: middle;\n",
       "    }\n",
       "\n",
       "    .dataframe tbody tr th {\n",
       "        vertical-align: top;\n",
       "    }\n",
       "\n",
       "    .dataframe thead th {\n",
       "        text-align: right;\n",
       "    }\n",
       "</style>\n",
       "<table border=\"1\" class=\"dataframe\">\n",
       "  <thead>\n",
       "    <tr style=\"text-align: right;\">\n",
       "      <th></th>\n",
       "      <th>Timestamp</th>\n",
       "      <th>Choose your gender</th>\n",
       "      <th>Age</th>\n",
       "      <th>What is your course?</th>\n",
       "      <th>Your current year of Study</th>\n",
       "      <th>What is your CGPA?</th>\n",
       "      <th>Marital status</th>\n",
       "      <th>Do you have Depression?</th>\n",
       "      <th>Do you have Anxiety?</th>\n",
       "      <th>Do you have Panic attack?</th>\n",
       "      <th>Did you seek any specialist for a treatment?</th>\n",
       "    </tr>\n",
       "  </thead>\n",
       "  <tbody>\n",
       "    <tr>\n",
       "      <th>98</th>\n",
       "      <td>13/07/2020 21:22:56</td>\n",
       "      <td>Female</td>\n",
       "      <td>19.0</td>\n",
       "      <td>Nursing</td>\n",
       "      <td>Year 3</td>\n",
       "      <td>3.50 - 4.00</td>\n",
       "      <td>Yes</td>\n",
       "      <td>Yes</td>\n",
       "      <td>No</td>\n",
       "      <td>Yes</td>\n",
       "      <td>No</td>\n",
       "    </tr>\n",
       "    <tr>\n",
       "      <th>99</th>\n",
       "      <td>13/07/2020 21:23:57</td>\n",
       "      <td>Female</td>\n",
       "      <td>23.0</td>\n",
       "      <td>Pendidikan Islam</td>\n",
       "      <td>year 4</td>\n",
       "      <td>3.50 - 4.00</td>\n",
       "      <td>No</td>\n",
       "      <td>No</td>\n",
       "      <td>No</td>\n",
       "      <td>No</td>\n",
       "      <td>No</td>\n",
       "    </tr>\n",
       "    <tr>\n",
       "      <th>100</th>\n",
       "      <td>18/07/2020 20:16:21</td>\n",
       "      <td>Male</td>\n",
       "      <td>20.0</td>\n",
       "      <td>Biomedical science</td>\n",
       "      <td>Year 2</td>\n",
       "      <td>3.00 - 3.49</td>\n",
       "      <td>No</td>\n",
       "      <td>No</td>\n",
       "      <td>No</td>\n",
       "      <td>No</td>\n",
       "      <td>No</td>\n",
       "    </tr>\n",
       "  </tbody>\n",
       "</table>\n",
       "</div>"
      ],
      "text/plain": [
       "               Timestamp Choose your gender   Age What is your course?  \\\n",
       "98   13/07/2020 21:22:56             Female  19.0             Nursing    \n",
       "99   13/07/2020 21:23:57             Female  23.0     Pendidikan Islam   \n",
       "100  18/07/2020 20:16:21               Male  20.0   Biomedical science   \n",
       "\n",
       "    Your current year of Study What is your CGPA? Marital status  \\\n",
       "98                      Year 3        3.50 - 4.00            Yes   \n",
       "99                      year 4        3.50 - 4.00             No   \n",
       "100                     Year 2        3.00 - 3.49             No   \n",
       "\n",
       "    Do you have Depression? Do you have Anxiety? Do you have Panic attack?  \\\n",
       "98                      Yes                   No                       Yes   \n",
       "99                       No                   No                        No   \n",
       "100                      No                   No                        No   \n",
       "\n",
       "    Did you seek any specialist for a treatment?  \n",
       "98                                            No  \n",
       "99                                            No  \n",
       "100                                           No  "
      ]
     },
     "execution_count": 4,
     "metadata": {},
     "output_type": "execute_result"
    }
   ],
   "source": [
    "data.tail(3)"
   ]
  },
  {
   "cell_type": "markdown",
   "id": "44243755",
   "metadata": {
    "papermill": {
     "duration": 0.041921,
     "end_time": "2024-02-11T08:48:14.844953",
     "exception": false,
     "start_time": "2024-02-11T08:48:14.803032",
     "status": "completed"
    },
    "tags": []
   },
   "source": [
    "CHECKING FOR NULL\n",
    "entry 434"
   ]
  },
  {
   "cell_type": "code",
   "execution_count": 5,
   "id": "4a1d32ec",
   "metadata": {
    "execution": {
     "iopub.execute_input": "2024-02-11T08:48:14.933452Z",
     "iopub.status.busy": "2024-02-11T08:48:14.933150Z",
     "iopub.status.idle": "2024-02-11T08:48:14.958153Z",
     "shell.execute_reply": "2024-02-11T08:48:14.957556Z"
    },
    "papermill": {
     "duration": 0.072885,
     "end_time": "2024-02-11T08:48:14.960247",
     "exception": false,
     "start_time": "2024-02-11T08:48:14.887362",
     "status": "completed"
    },
    "tags": []
   },
   "outputs": [
    {
     "data": {
      "text/html": [
       "<div>\n",
       "<style scoped>\n",
       "    .dataframe tbody tr th:only-of-type {\n",
       "        vertical-align: middle;\n",
       "    }\n",
       "\n",
       "    .dataframe tbody tr th {\n",
       "        vertical-align: top;\n",
       "    }\n",
       "\n",
       "    .dataframe thead th {\n",
       "        text-align: right;\n",
       "    }\n",
       "</style>\n",
       "<table border=\"1\" class=\"dataframe\">\n",
       "  <thead>\n",
       "    <tr style=\"text-align: right;\">\n",
       "      <th></th>\n",
       "      <th>Age</th>\n",
       "    </tr>\n",
       "  </thead>\n",
       "  <tbody>\n",
       "    <tr>\n",
       "      <th>count</th>\n",
       "      <td>100.00000</td>\n",
       "    </tr>\n",
       "    <tr>\n",
       "      <th>mean</th>\n",
       "      <td>20.53000</td>\n",
       "    </tr>\n",
       "    <tr>\n",
       "      <th>std</th>\n",
       "      <td>2.49628</td>\n",
       "    </tr>\n",
       "    <tr>\n",
       "      <th>min</th>\n",
       "      <td>18.00000</td>\n",
       "    </tr>\n",
       "    <tr>\n",
       "      <th>25%</th>\n",
       "      <td>18.00000</td>\n",
       "    </tr>\n",
       "    <tr>\n",
       "      <th>50%</th>\n",
       "      <td>19.00000</td>\n",
       "    </tr>\n",
       "    <tr>\n",
       "      <th>75%</th>\n",
       "      <td>23.00000</td>\n",
       "    </tr>\n",
       "    <tr>\n",
       "      <th>max</th>\n",
       "      <td>24.00000</td>\n",
       "    </tr>\n",
       "  </tbody>\n",
       "</table>\n",
       "</div>"
      ],
      "text/plain": [
       "             Age\n",
       "count  100.00000\n",
       "mean    20.53000\n",
       "std      2.49628\n",
       "min     18.00000\n",
       "25%     18.00000\n",
       "50%     19.00000\n",
       "75%     23.00000\n",
       "max     24.00000"
      ]
     },
     "execution_count": 5,
     "metadata": {},
     "output_type": "execute_result"
    }
   ],
   "source": [
    "data.describe()"
   ]
  },
  {
   "cell_type": "code",
   "execution_count": 6,
   "id": "8fb0b449",
   "metadata": {
    "execution": {
     "iopub.execute_input": "2024-02-11T08:48:15.048376Z",
     "iopub.status.busy": "2024-02-11T08:48:15.047455Z",
     "iopub.status.idle": "2024-02-11T08:48:15.058173Z",
     "shell.execute_reply": "2024-02-11T08:48:15.057567Z"
    },
    "papermill": {
     "duration": 0.056874,
     "end_time": "2024-02-11T08:48:15.060169",
     "exception": false,
     "start_time": "2024-02-11T08:48:15.003295",
     "status": "completed"
    },
    "tags": []
   },
   "outputs": [
    {
     "data": {
      "text/plain": [
       "0"
      ]
     },
     "execution_count": 6,
     "metadata": {},
     "output_type": "execute_result"
    }
   ],
   "source": [
    "data.duplicated().sum()\n"
   ]
  },
  {
   "cell_type": "markdown",
   "id": "5fe6b013",
   "metadata": {
    "papermill": {
     "duration": 0.043579,
     "end_time": "2024-02-11T08:48:15.149176",
     "exception": false,
     "start_time": "2024-02-11T08:48:15.105597",
     "status": "completed"
    },
    "tags": []
   },
   "source": [
    "DATA CLEANING AND TRANSFORMATION\n",
    "* renaming column labels for easy identification\n",
    "* handling missing values"
   ]
  },
  {
   "cell_type": "code",
   "execution_count": 7,
   "id": "20259d3c",
   "metadata": {
    "execution": {
     "iopub.execute_input": "2024-02-11T08:48:15.238859Z",
     "iopub.status.busy": "2024-02-11T08:48:15.238090Z",
     "iopub.status.idle": "2024-02-11T08:48:15.242349Z",
     "shell.execute_reply": "2024-02-11T08:48:15.241540Z"
    },
    "papermill": {
     "duration": 0.052271,
     "end_time": "2024-02-11T08:48:15.244406",
     "exception": false,
     "start_time": "2024-02-11T08:48:15.192135",
     "status": "completed"
    },
    "tags": []
   },
   "outputs": [],
   "source": [
    "df = data.copy()"
   ]
  },
  {
   "cell_type": "code",
   "execution_count": 8,
   "id": "e9a6fa37",
   "metadata": {
    "execution": {
     "iopub.execute_input": "2024-02-11T08:48:15.332282Z",
     "iopub.status.busy": "2024-02-11T08:48:15.331977Z",
     "iopub.status.idle": "2024-02-11T08:48:15.337697Z",
     "shell.execute_reply": "2024-02-11T08:48:15.337116Z"
    },
    "papermill": {
     "duration": 0.051793,
     "end_time": "2024-02-11T08:48:15.339468",
     "exception": false,
     "start_time": "2024-02-11T08:48:15.287675",
     "status": "completed"
    },
    "tags": []
   },
   "outputs": [
    {
     "data": {
      "text/plain": [
       "Index(['Timestamp', 'Choose your gender', 'Age', 'What is your course?',\n",
       "       'Your current year of Study', 'What is your CGPA?', 'Marital status',\n",
       "       'Do you have Depression?', 'Do you have Anxiety?',\n",
       "       'Do you have Panic attack?',\n",
       "       'Did you seek any specialist for a treatment?'],\n",
       "      dtype='object')"
      ]
     },
     "execution_count": 8,
     "metadata": {},
     "output_type": "execute_result"
    }
   ],
   "source": [
    "df.columns"
   ]
  },
  {
   "cell_type": "markdown",
   "id": "34bbbc5a",
   "metadata": {
    "papermill": {
     "duration": 0.043537,
     "end_time": "2024-02-11T08:48:15.426515",
     "exception": false,
     "start_time": "2024-02-11T08:48:15.382978",
     "status": "completed"
    },
    "tags": []
   },
   "source": [
    "Renaming of Colum Labels"
   ]
  },
  {
   "cell_type": "code",
   "execution_count": 9,
   "id": "b6cb74e7",
   "metadata": {
    "execution": {
     "iopub.execute_input": "2024-02-11T08:48:15.515555Z",
     "iopub.status.busy": "2024-02-11T08:48:15.515058Z",
     "iopub.status.idle": "2024-02-11T08:48:15.520065Z",
     "shell.execute_reply": "2024-02-11T08:48:15.519211Z"
    },
    "papermill": {
     "duration": 0.051825,
     "end_time": "2024-02-11T08:48:15.522065",
     "exception": false,
     "start_time": "2024-02-11T08:48:15.470240",
     "status": "completed"
    },
    "tags": []
   },
   "outputs": [],
   "source": [
    "df.columns = ['Timestamp', 'Gender', 'Age', 'Course',\n",
    "       'Year of Study', 'CGPA', 'Marital status',\n",
    "       'Depression', 'Anxiety',\n",
    "       'Panic attack',\n",
    "       'Treatment']"
   ]
  },
  {
   "cell_type": "code",
   "execution_count": 10,
   "id": "876592e0",
   "metadata": {
    "execution": {
     "iopub.execute_input": "2024-02-11T08:48:15.612893Z",
     "iopub.status.busy": "2024-02-11T08:48:15.612616Z",
     "iopub.status.idle": "2024-02-11T08:48:15.620158Z",
     "shell.execute_reply": "2024-02-11T08:48:15.619272Z"
    },
    "papermill": {
     "duration": 0.055122,
     "end_time": "2024-02-11T08:48:15.622962",
     "exception": false,
     "start_time": "2024-02-11T08:48:15.567840",
     "status": "completed"
    },
    "tags": []
   },
   "outputs": [
    {
     "name": "stdout",
     "output_type": "stream",
     "text": [
      "Null values in each column:\n",
      "Timestamp         0\n",
      "Gender            0\n",
      "Age               1\n",
      "Course            0\n",
      "Year of Study     0\n",
      "CGPA              0\n",
      "Marital status    0\n",
      "Depression        0\n",
      "Anxiety           0\n",
      "Panic attack      0\n",
      "Treatment         0\n",
      "dtype: int64\n"
     ]
    }
   ],
   "source": [
    "# Assuming your dataset is named 'df'\n",
    "# Check for null or missing values in the dataset\n",
    "null_values = df.isnull().sum()\n",
    "\n",
    "# Display the count of null values for each column\n",
    "print(\"Null values in each column:\")\n",
    "print(null_values)"
   ]
  },
  {
   "cell_type": "code",
   "execution_count": 11,
   "id": "13a776b0",
   "metadata": {
    "execution": {
     "iopub.execute_input": "2024-02-11T08:48:15.713866Z",
     "iopub.status.busy": "2024-02-11T08:48:15.712872Z",
     "iopub.status.idle": "2024-02-11T08:48:15.735168Z",
     "shell.execute_reply": "2024-02-11T08:48:15.734107Z"
    },
    "papermill": {
     "duration": 0.070383,
     "end_time": "2024-02-11T08:48:15.737427",
     "exception": false,
     "start_time": "2024-02-11T08:48:15.667044",
     "status": "completed"
    },
    "tags": []
   },
   "outputs": [
    {
     "data": {
      "text/html": [
       "<div>\n",
       "<style scoped>\n",
       "    .dataframe tbody tr th:only-of-type {\n",
       "        vertical-align: middle;\n",
       "    }\n",
       "\n",
       "    .dataframe tbody tr th {\n",
       "        vertical-align: top;\n",
       "    }\n",
       "\n",
       "    .dataframe thead th {\n",
       "        text-align: right;\n",
       "    }\n",
       "</style>\n",
       "<table border=\"1\" class=\"dataframe\">\n",
       "  <thead>\n",
       "    <tr style=\"text-align: right;\">\n",
       "      <th></th>\n",
       "      <th>Timestamp</th>\n",
       "      <th>Gender</th>\n",
       "      <th>Age</th>\n",
       "      <th>Course</th>\n",
       "      <th>Year of Study</th>\n",
       "      <th>CGPA</th>\n",
       "      <th>Marital status</th>\n",
       "      <th>Depression</th>\n",
       "      <th>Anxiety</th>\n",
       "      <th>Panic attack</th>\n",
       "      <th>Treatment</th>\n",
       "    </tr>\n",
       "  </thead>\n",
       "  <tbody>\n",
       "    <tr>\n",
       "      <th>0</th>\n",
       "      <td>8/7/2020 12:02</td>\n",
       "      <td>Female</td>\n",
       "      <td>18.0</td>\n",
       "      <td>Engineering</td>\n",
       "      <td>year 1</td>\n",
       "      <td>3.00 - 3.49</td>\n",
       "      <td>No</td>\n",
       "      <td>Yes</td>\n",
       "      <td>No</td>\n",
       "      <td>Yes</td>\n",
       "      <td>No</td>\n",
       "    </tr>\n",
       "    <tr>\n",
       "      <th>1</th>\n",
       "      <td>8/7/2020 12:04</td>\n",
       "      <td>Male</td>\n",
       "      <td>21.0</td>\n",
       "      <td>Islamic education</td>\n",
       "      <td>year 2</td>\n",
       "      <td>3.00 - 3.49</td>\n",
       "      <td>No</td>\n",
       "      <td>No</td>\n",
       "      <td>Yes</td>\n",
       "      <td>No</td>\n",
       "      <td>No</td>\n",
       "    </tr>\n",
       "    <tr>\n",
       "      <th>2</th>\n",
       "      <td>8/7/2020 12:05</td>\n",
       "      <td>Male</td>\n",
       "      <td>19.0</td>\n",
       "      <td>BIT</td>\n",
       "      <td>Year 1</td>\n",
       "      <td>3.00 - 3.49</td>\n",
       "      <td>No</td>\n",
       "      <td>Yes</td>\n",
       "      <td>Yes</td>\n",
       "      <td>Yes</td>\n",
       "      <td>No</td>\n",
       "    </tr>\n",
       "    <tr>\n",
       "      <th>3</th>\n",
       "      <td>8/7/2020 12:06</td>\n",
       "      <td>Female</td>\n",
       "      <td>22.0</td>\n",
       "      <td>Laws</td>\n",
       "      <td>year 3</td>\n",
       "      <td>3.00 - 3.49</td>\n",
       "      <td>Yes</td>\n",
       "      <td>Yes</td>\n",
       "      <td>No</td>\n",
       "      <td>No</td>\n",
       "      <td>No</td>\n",
       "    </tr>\n",
       "    <tr>\n",
       "      <th>4</th>\n",
       "      <td>8/7/2020 12:13</td>\n",
       "      <td>Male</td>\n",
       "      <td>23.0</td>\n",
       "      <td>Mathemathics</td>\n",
       "      <td>year 4</td>\n",
       "      <td>3.00 - 3.49</td>\n",
       "      <td>No</td>\n",
       "      <td>No</td>\n",
       "      <td>No</td>\n",
       "      <td>No</td>\n",
       "      <td>No</td>\n",
       "    </tr>\n",
       "    <tr>\n",
       "      <th>...</th>\n",
       "      <td>...</td>\n",
       "      <td>...</td>\n",
       "      <td>...</td>\n",
       "      <td>...</td>\n",
       "      <td>...</td>\n",
       "      <td>...</td>\n",
       "      <td>...</td>\n",
       "      <td>...</td>\n",
       "      <td>...</td>\n",
       "      <td>...</td>\n",
       "      <td>...</td>\n",
       "    </tr>\n",
       "    <tr>\n",
       "      <th>96</th>\n",
       "      <td>13/07/2020 19:56:49</td>\n",
       "      <td>Female</td>\n",
       "      <td>21.0</td>\n",
       "      <td>BCS</td>\n",
       "      <td>year 1</td>\n",
       "      <td>3.50 - 4.00</td>\n",
       "      <td>No</td>\n",
       "      <td>No</td>\n",
       "      <td>Yes</td>\n",
       "      <td>No</td>\n",
       "      <td>No</td>\n",
       "    </tr>\n",
       "    <tr>\n",
       "      <th>97</th>\n",
       "      <td>13/07/2020 21:21:42</td>\n",
       "      <td>Male</td>\n",
       "      <td>18.0</td>\n",
       "      <td>Engineering</td>\n",
       "      <td>Year 2</td>\n",
       "      <td>3.00 - 3.49</td>\n",
       "      <td>No</td>\n",
       "      <td>Yes</td>\n",
       "      <td>Yes</td>\n",
       "      <td>No</td>\n",
       "      <td>No</td>\n",
       "    </tr>\n",
       "    <tr>\n",
       "      <th>98</th>\n",
       "      <td>13/07/2020 21:22:56</td>\n",
       "      <td>Female</td>\n",
       "      <td>19.0</td>\n",
       "      <td>Nursing</td>\n",
       "      <td>Year 3</td>\n",
       "      <td>3.50 - 4.00</td>\n",
       "      <td>Yes</td>\n",
       "      <td>Yes</td>\n",
       "      <td>No</td>\n",
       "      <td>Yes</td>\n",
       "      <td>No</td>\n",
       "    </tr>\n",
       "    <tr>\n",
       "      <th>99</th>\n",
       "      <td>13/07/2020 21:23:57</td>\n",
       "      <td>Female</td>\n",
       "      <td>23.0</td>\n",
       "      <td>Pendidikan Islam</td>\n",
       "      <td>year 4</td>\n",
       "      <td>3.50 - 4.00</td>\n",
       "      <td>No</td>\n",
       "      <td>No</td>\n",
       "      <td>No</td>\n",
       "      <td>No</td>\n",
       "      <td>No</td>\n",
       "    </tr>\n",
       "    <tr>\n",
       "      <th>100</th>\n",
       "      <td>18/07/2020 20:16:21</td>\n",
       "      <td>Male</td>\n",
       "      <td>20.0</td>\n",
       "      <td>Biomedical science</td>\n",
       "      <td>Year 2</td>\n",
       "      <td>3.00 - 3.49</td>\n",
       "      <td>No</td>\n",
       "      <td>No</td>\n",
       "      <td>No</td>\n",
       "      <td>No</td>\n",
       "      <td>No</td>\n",
       "    </tr>\n",
       "  </tbody>\n",
       "</table>\n",
       "<p>101 rows × 11 columns</p>\n",
       "</div>"
      ],
      "text/plain": [
       "               Timestamp  Gender   Age              Course Year of Study  \\\n",
       "0         8/7/2020 12:02  Female  18.0         Engineering        year 1   \n",
       "1         8/7/2020 12:04    Male  21.0   Islamic education        year 2   \n",
       "2         8/7/2020 12:05    Male  19.0                 BIT        Year 1   \n",
       "3         8/7/2020 12:06  Female  22.0                Laws        year 3   \n",
       "4         8/7/2020 12:13    Male  23.0        Mathemathics        year 4   \n",
       "..                   ...     ...   ...                 ...           ...   \n",
       "96   13/07/2020 19:56:49  Female  21.0                 BCS        year 1   \n",
       "97   13/07/2020 21:21:42    Male  18.0         Engineering        Year 2   \n",
       "98   13/07/2020 21:22:56  Female  19.0            Nursing         Year 3   \n",
       "99   13/07/2020 21:23:57  Female  23.0    Pendidikan Islam        year 4   \n",
       "100  18/07/2020 20:16:21    Male  20.0  Biomedical science        Year 2   \n",
       "\n",
       "            CGPA Marital status Depression Anxiety Panic attack Treatment  \n",
       "0    3.00 - 3.49             No        Yes      No          Yes        No  \n",
       "1    3.00 - 3.49             No         No     Yes           No        No  \n",
       "2    3.00 - 3.49             No        Yes     Yes          Yes        No  \n",
       "3    3.00 - 3.49            Yes        Yes      No           No        No  \n",
       "4    3.00 - 3.49             No         No      No           No        No  \n",
       "..           ...            ...        ...     ...          ...       ...  \n",
       "96   3.50 - 4.00             No         No     Yes           No        No  \n",
       "97   3.00 - 3.49             No        Yes     Yes           No        No  \n",
       "98   3.50 - 4.00            Yes        Yes      No          Yes        No  \n",
       "99   3.50 - 4.00             No         No      No           No        No  \n",
       "100  3.00 - 3.49             No         No      No           No        No  \n",
       "\n",
       "[101 rows x 11 columns]"
      ]
     },
     "execution_count": 11,
     "metadata": {},
     "output_type": "execute_result"
    }
   ],
   "source": [
    "df"
   ]
  },
  {
   "cell_type": "code",
   "execution_count": 12,
   "id": "95acbe4e",
   "metadata": {
    "execution": {
     "iopub.execute_input": "2024-02-11T08:48:15.829608Z",
     "iopub.status.busy": "2024-02-11T08:48:15.829294Z",
     "iopub.status.idle": "2024-02-11T08:48:15.835244Z",
     "shell.execute_reply": "2024-02-11T08:48:15.834390Z"
    },
    "papermill": {
     "duration": 0.054598,
     "end_time": "2024-02-11T08:48:15.837485",
     "exception": false,
     "start_time": "2024-02-11T08:48:15.782887",
     "status": "completed"
    },
    "tags": []
   },
   "outputs": [
    {
     "data": {
      "text/plain": [
       "array(['year 1', 'year 2', 'Year 1', 'year 3', 'year 4', 'Year 2',\n",
       "       'Year 3'], dtype=object)"
      ]
     },
     "execution_count": 12,
     "metadata": {},
     "output_type": "execute_result"
    }
   ],
   "source": [
    "df['Year of Study'].unique()"
   ]
  },
  {
   "cell_type": "code",
   "execution_count": 13,
   "id": "341755d3",
   "metadata": {
    "execution": {
     "iopub.execute_input": "2024-02-11T08:48:15.929616Z",
     "iopub.status.busy": "2024-02-11T08:48:15.929240Z",
     "iopub.status.idle": "2024-02-11T08:48:15.935285Z",
     "shell.execute_reply": "2024-02-11T08:48:15.934474Z"
    },
    "papermill": {
     "duration": 0.054218,
     "end_time": "2024-02-11T08:48:15.937124",
     "exception": false,
     "start_time": "2024-02-11T08:48:15.882906",
     "status": "completed"
    },
    "tags": []
   },
   "outputs": [],
   "source": [
    "df['Year of Study'].replace({'year 1': 'year 1', 'year 2': 'year 2', 'Year 1': 'year 1', 'year 3': 'year 3', 'year 4': 'year 4', 'Year 2': 'year 2',\n",
    "       'Year 3': 'year 3'}, inplace = True)"
   ]
  },
  {
   "cell_type": "code",
   "execution_count": 14,
   "id": "62abdfb2",
   "metadata": {
    "execution": {
     "iopub.execute_input": "2024-02-11T08:48:16.028744Z",
     "iopub.status.busy": "2024-02-11T08:48:16.028412Z",
     "iopub.status.idle": "2024-02-11T08:48:16.034847Z",
     "shell.execute_reply": "2024-02-11T08:48:16.033968Z"
    },
    "papermill": {
     "duration": 0.054865,
     "end_time": "2024-02-11T08:48:16.036985",
     "exception": false,
     "start_time": "2024-02-11T08:48:15.982120",
     "status": "completed"
    },
    "tags": []
   },
   "outputs": [
    {
     "data": {
      "text/plain": [
       "array(['year 1', 'year 2', 'year 3', 'year 4'], dtype=object)"
      ]
     },
     "execution_count": 14,
     "metadata": {},
     "output_type": "execute_result"
    }
   ],
   "source": [
    "df['Year of Study'].unique()"
   ]
  },
  {
   "cell_type": "code",
   "execution_count": 15,
   "id": "6e8e56c1",
   "metadata": {
    "execution": {
     "iopub.execute_input": "2024-02-11T08:48:16.130407Z",
     "iopub.status.busy": "2024-02-11T08:48:16.130134Z",
     "iopub.status.idle": "2024-02-11T08:48:16.137905Z",
     "shell.execute_reply": "2024-02-11T08:48:16.137078Z"
    },
    "papermill": {
     "duration": 0.057512,
     "end_time": "2024-02-11T08:48:16.139864",
     "exception": false,
     "start_time": "2024-02-11T08:48:16.082352",
     "status": "completed"
    },
    "tags": []
   },
   "outputs": [
    {
     "data": {
      "text/plain": [
       "array(['Engineering', 'Islamic education', 'BIT', 'Laws', 'Mathemathics',\n",
       "       'Pendidikan islam', 'BCS', 'Human Resources', 'Irkhs',\n",
       "       'Psychology', 'KENMS', 'Accounting ', 'ENM', 'Marine science',\n",
       "       'KOE', 'Banking Studies', 'Business Administration', 'Law',\n",
       "       'KIRKHS', 'Usuluddin ', 'TAASL', 'Engine', 'ALA',\n",
       "       'Biomedical science', 'koe', 'Kirkhs', 'BENL', 'Benl', 'IT', 'CTS',\n",
       "       'engin', 'Econs', 'MHSC', 'Malcom', 'Kop', 'Human Sciences ',\n",
       "       'Biotechnology', 'Communication ', 'Diploma Nursing',\n",
       "       'Pendidikan Islam ', 'Radiography', 'psychology', 'Fiqh fatwa ',\n",
       "       'DIPLOMA TESL', 'Koe', 'Fiqh', 'Islamic Education', 'Nursing ',\n",
       "       'Pendidikan Islam'], dtype=object)"
      ]
     },
     "execution_count": 15,
     "metadata": {},
     "output_type": "execute_result"
    }
   ],
   "source": [
    "df['Course'].unique()"
   ]
  },
  {
   "cell_type": "code",
   "execution_count": 16,
   "id": "44221162",
   "metadata": {
    "execution": {
     "iopub.execute_input": "2024-02-11T08:48:16.236394Z",
     "iopub.status.busy": "2024-02-11T08:48:16.236112Z",
     "iopub.status.idle": "2024-02-11T08:48:16.242900Z",
     "shell.execute_reply": "2024-02-11T08:48:16.242033Z"
    },
    "papermill": {
     "duration": 0.056551,
     "end_time": "2024-02-11T08:48:16.244874",
     "exception": false,
     "start_time": "2024-02-11T08:48:16.188323",
     "status": "completed"
    },
    "tags": []
   },
   "outputs": [],
   "source": [
    "df['Course'].replace({'engin': 'Engineering' , 'Engine':'Engineering' , 'Islamic education':'Islamic Education' , 'Pendidikan islam':'Pendidikan Islam' , 'BIT':'IT', 'psychology':'Psychology', 'koe': 'KOE','Koe': 'KOE', 'Kirkhs': 'Irkhs', 'KIRKHS': 'Irkhs', 'BENL': 'Benl', 'Fiqh fatwa ': 'Fiqh', 'Laws': 'Law', 'Econs': 'Economics'} , inplace = True)"
   ]
  },
  {
   "cell_type": "code",
   "execution_count": 17,
   "id": "7ce46c15",
   "metadata": {
    "execution": {
     "iopub.execute_input": "2024-02-11T08:48:16.339325Z",
     "iopub.status.busy": "2024-02-11T08:48:16.339058Z",
     "iopub.status.idle": "2024-02-11T08:48:16.344891Z",
     "shell.execute_reply": "2024-02-11T08:48:16.343999Z"
    },
    "papermill": {
     "duration": 0.055628,
     "end_time": "2024-02-11T08:48:16.346913",
     "exception": false,
     "start_time": "2024-02-11T08:48:16.291285",
     "status": "completed"
    },
    "tags": []
   },
   "outputs": [
    {
     "data": {
      "text/plain": [
       "array(['Engineering', 'Islamic Education', 'IT', 'Law', 'Mathemathics',\n",
       "       'Pendidikan Islam', 'BCS', 'Human Resources', 'Irkhs',\n",
       "       'Psychology', 'KENMS', 'Accounting ', 'ENM', 'Marine science',\n",
       "       'KOE', 'Banking Studies', 'Business Administration', 'Usuluddin ',\n",
       "       'TAASL', 'ALA', 'Biomedical science', 'Benl', 'CTS', 'Economics',\n",
       "       'MHSC', 'Malcom', 'Kop', 'Human Sciences ', 'Biotechnology',\n",
       "       'Communication ', 'Diploma Nursing', 'Pendidikan Islam ',\n",
       "       'Radiography', 'Fiqh', 'DIPLOMA TESL', 'Nursing '], dtype=object)"
      ]
     },
     "execution_count": 17,
     "metadata": {},
     "output_type": "execute_result"
    }
   ],
   "source": [
    "df['Course'].unique()"
   ]
  },
  {
   "cell_type": "code",
   "execution_count": 18,
   "id": "1c17f5dd",
   "metadata": {
    "execution": {
     "iopub.execute_input": "2024-02-11T08:48:16.441441Z",
     "iopub.status.busy": "2024-02-11T08:48:16.440673Z",
     "iopub.status.idle": "2024-02-11T08:48:16.447723Z",
     "shell.execute_reply": "2024-02-11T08:48:16.446877Z"
    },
    "papermill": {
     "duration": 0.056399,
     "end_time": "2024-02-11T08:48:16.449622",
     "exception": false,
     "start_time": "2024-02-11T08:48:16.393223",
     "status": "completed"
    },
    "tags": []
   },
   "outputs": [
    {
     "data": {
      "text/plain": [
       "array(['3.00 - 3.49', '3.50 - 4.00', '3.50 - 4.00 ', '2.50 - 2.99',\n",
       "       '2.00 - 2.49', '0 - 1.99'], dtype=object)"
      ]
     },
     "execution_count": 18,
     "metadata": {},
     "output_type": "execute_result"
    }
   ],
   "source": [
    "df['CGPA'].unique()"
   ]
  },
  {
   "cell_type": "code",
   "execution_count": 19,
   "id": "0c5da95d",
   "metadata": {
    "execution": {
     "iopub.execute_input": "2024-02-11T08:48:16.546240Z",
     "iopub.status.busy": "2024-02-11T08:48:16.545954Z",
     "iopub.status.idle": "2024-02-11T08:48:16.550548Z",
     "shell.execute_reply": "2024-02-11T08:48:16.549746Z"
    },
    "papermill": {
     "duration": 0.054709,
     "end_time": "2024-02-11T08:48:16.552490",
     "exception": false,
     "start_time": "2024-02-11T08:48:16.497781",
     "status": "completed"
    },
    "tags": []
   },
   "outputs": [],
   "source": [
    "df['CGPA'] = df['CGPA'].str.strip()"
   ]
  },
  {
   "cell_type": "code",
   "execution_count": 20,
   "id": "32d4ea70",
   "metadata": {
    "execution": {
     "iopub.execute_input": "2024-02-11T08:48:16.650883Z",
     "iopub.status.busy": "2024-02-11T08:48:16.650583Z",
     "iopub.status.idle": "2024-02-11T08:48:16.657102Z",
     "shell.execute_reply": "2024-02-11T08:48:16.656254Z"
    },
    "papermill": {
     "duration": 0.059343,
     "end_time": "2024-02-11T08:48:16.659010",
     "exception": false,
     "start_time": "2024-02-11T08:48:16.599667",
     "status": "completed"
    },
    "tags": []
   },
   "outputs": [
    {
     "data": {
      "text/plain": [
       "array(['3.00 - 3.49', '3.50 - 4.00', '2.50 - 2.99', '2.00 - 2.49',\n",
       "       '0 - 1.99'], dtype=object)"
      ]
     },
     "execution_count": 20,
     "metadata": {},
     "output_type": "execute_result"
    }
   ],
   "source": [
    "df['CGPA'].unique()"
   ]
  },
  {
   "cell_type": "code",
   "execution_count": 21,
   "id": "346968bd",
   "metadata": {
    "execution": {
     "iopub.execute_input": "2024-02-11T08:48:16.755123Z",
     "iopub.status.busy": "2024-02-11T08:48:16.754832Z",
     "iopub.status.idle": "2024-02-11T08:48:16.770356Z",
     "shell.execute_reply": "2024-02-11T08:48:16.769263Z"
    },
    "papermill": {
     "duration": 0.066562,
     "end_time": "2024-02-11T08:48:16.773321",
     "exception": false,
     "start_time": "2024-02-11T08:48:16.706759",
     "status": "completed"
    },
    "tags": []
   },
   "outputs": [
    {
     "name": "stdout",
     "output_type": "stream",
     "text": [
      "<class 'pandas.core.frame.DataFrame'>\n",
      "RangeIndex: 101 entries, 0 to 100\n",
      "Data columns (total 11 columns):\n",
      " #   Column          Non-Null Count  Dtype  \n",
      "---  ------          --------------  -----  \n",
      " 0   Timestamp       101 non-null    object \n",
      " 1   Gender          101 non-null    object \n",
      " 2   Age             100 non-null    float64\n",
      " 3   Course          101 non-null    object \n",
      " 4   Year of Study   101 non-null    object \n",
      " 5   CGPA            101 non-null    object \n",
      " 6   Marital status  101 non-null    object \n",
      " 7   Depression      101 non-null    object \n",
      " 8   Anxiety         101 non-null    object \n",
      " 9   Panic attack    101 non-null    object \n",
      " 10  Treatment       101 non-null    object \n",
      "dtypes: float64(1), object(10)\n",
      "memory usage: 8.8+ KB\n"
     ]
    }
   ],
   "source": [
    "df.info()"
   ]
  },
  {
   "cell_type": "markdown",
   "id": "41b57b03",
   "metadata": {
    "papermill": {
     "duration": 0.047722,
     "end_time": "2024-02-11T08:48:16.869378",
     "exception": false,
     "start_time": "2024-02-11T08:48:16.821656",
     "status": "completed"
    },
    "tags": []
   },
   "source": [
    "Missing Value in Age Column"
   ]
  },
  {
   "cell_type": "code",
   "execution_count": 22,
   "id": "bfa3a24d",
   "metadata": {
    "execution": {
     "iopub.execute_input": "2024-02-11T08:48:16.971299Z",
     "iopub.status.busy": "2024-02-11T08:48:16.970995Z",
     "iopub.status.idle": "2024-02-11T08:48:16.977841Z",
     "shell.execute_reply": "2024-02-11T08:48:16.976962Z"
    },
    "papermill": {
     "duration": 0.060041,
     "end_time": "2024-02-11T08:48:16.979675",
     "exception": false,
     "start_time": "2024-02-11T08:48:16.919634",
     "status": "completed"
    },
    "tags": []
   },
   "outputs": [
    {
     "data": {
      "text/plain": [
       "19.0"
      ]
     },
     "execution_count": 22,
     "metadata": {},
     "output_type": "execute_result"
    }
   ],
   "source": [
    "median_age = df['Age'].median()\n",
    "median_age "
   ]
  },
  {
   "cell_type": "code",
   "execution_count": 23,
   "id": "be8e7d3e",
   "metadata": {
    "execution": {
     "iopub.execute_input": "2024-02-11T08:48:17.076894Z",
     "iopub.status.busy": "2024-02-11T08:48:17.076615Z",
     "iopub.status.idle": "2024-02-11T08:48:17.081301Z",
     "shell.execute_reply": "2024-02-11T08:48:17.080325Z"
    },
    "papermill": {
     "duration": 0.05611,
     "end_time": "2024-02-11T08:48:17.083468",
     "exception": false,
     "start_time": "2024-02-11T08:48:17.027358",
     "status": "completed"
    },
    "tags": []
   },
   "outputs": [],
   "source": [
    "df['Age'] = df['Age'].fillna(median_age)\n"
   ]
  },
  {
   "cell_type": "markdown",
   "id": "e53d873f",
   "metadata": {
    "papermill": {
     "duration": 0.047493,
     "end_time": "2024-02-11T08:48:17.179900",
     "exception": false,
     "start_time": "2024-02-11T08:48:17.132407",
     "status": "completed"
    },
    "tags": []
   },
   "source": [
    "Type casting to Int"
   ]
  },
  {
   "cell_type": "code",
   "execution_count": 24,
   "id": "dee278c7",
   "metadata": {
    "execution": {
     "iopub.execute_input": "2024-02-11T08:48:17.278200Z",
     "iopub.status.busy": "2024-02-11T08:48:17.277683Z",
     "iopub.status.idle": "2024-02-11T08:48:17.282195Z",
     "shell.execute_reply": "2024-02-11T08:48:17.281548Z"
    },
    "papermill": {
     "duration": 0.055681,
     "end_time": "2024-02-11T08:48:17.284255",
     "exception": false,
     "start_time": "2024-02-11T08:48:17.228574",
     "status": "completed"
    },
    "tags": []
   },
   "outputs": [],
   "source": [
    "df['Age'] = df['Age'].astype(int)"
   ]
  },
  {
   "cell_type": "code",
   "execution_count": null,
   "id": "f8c5381d",
   "metadata": {
    "papermill": {
     "duration": 0.047568,
     "end_time": "2024-02-11T08:48:17.380296",
     "exception": false,
     "start_time": "2024-02-11T08:48:17.332728",
     "status": "completed"
    },
    "tags": []
   },
   "outputs": [],
   "source": []
  },
  {
   "cell_type": "code",
   "execution_count": null,
   "id": "0776dbb0",
   "metadata": {
    "papermill": {
     "duration": 0.047413,
     "end_time": "2024-02-11T08:48:17.475571",
     "exception": false,
     "start_time": "2024-02-11T08:48:17.428158",
     "status": "completed"
    },
    "tags": []
   },
   "outputs": [],
   "source": []
  },
  {
   "cell_type": "code",
   "execution_count": null,
   "id": "c8928836",
   "metadata": {
    "papermill": {
     "duration": 0.048511,
     "end_time": "2024-02-11T08:48:17.571838",
     "exception": false,
     "start_time": "2024-02-11T08:48:17.523327",
     "status": "completed"
    },
    "tags": []
   },
   "outputs": [],
   "source": []
  },
  {
   "cell_type": "code",
   "execution_count": null,
   "id": "dfbbb0f3",
   "metadata": {
    "papermill": {
     "duration": 0.047476,
     "end_time": "2024-02-11T08:48:17.667041",
     "exception": false,
     "start_time": "2024-02-11T08:48:17.619565",
     "status": "completed"
    },
    "tags": []
   },
   "outputs": [],
   "source": []
  },
  {
   "cell_type": "markdown",
   "id": "c32ddbef",
   "metadata": {
    "papermill": {
     "duration": 0.047477,
     "end_time": "2024-02-11T08:48:17.763151",
     "exception": false,
     "start_time": "2024-02-11T08:48:17.715674",
     "status": "completed"
    },
    "tags": []
   },
   "source": []
  },
  {
   "cell_type": "code",
   "execution_count": 25,
   "id": "47b4fcdd",
   "metadata": {
    "execution": {
     "iopub.execute_input": "2024-02-11T08:48:17.860193Z",
     "iopub.status.busy": "2024-02-11T08:48:17.859674Z",
     "iopub.status.idle": "2024-02-11T08:48:17.877527Z",
     "shell.execute_reply": "2024-02-11T08:48:17.876961Z"
    },
    "papermill": {
     "duration": 0.06845,
     "end_time": "2024-02-11T08:48:17.879225",
     "exception": false,
     "start_time": "2024-02-11T08:48:17.810775",
     "status": "completed"
    },
    "tags": []
   },
   "outputs": [
    {
     "data": {
      "text/html": [
       "<div>\n",
       "<style scoped>\n",
       "    .dataframe tbody tr th:only-of-type {\n",
       "        vertical-align: middle;\n",
       "    }\n",
       "\n",
       "    .dataframe tbody tr th {\n",
       "        vertical-align: top;\n",
       "    }\n",
       "\n",
       "    .dataframe thead th {\n",
       "        text-align: right;\n",
       "    }\n",
       "</style>\n",
       "<table border=\"1\" class=\"dataframe\">\n",
       "  <thead>\n",
       "    <tr style=\"text-align: right;\">\n",
       "      <th></th>\n",
       "      <th>Timestamp</th>\n",
       "      <th>Gender</th>\n",
       "      <th>Age</th>\n",
       "      <th>Course</th>\n",
       "      <th>Year of Study</th>\n",
       "      <th>CGPA</th>\n",
       "      <th>Marital status</th>\n",
       "      <th>Depression</th>\n",
       "      <th>Anxiety</th>\n",
       "      <th>Panic attack</th>\n",
       "      <th>Treatment</th>\n",
       "    </tr>\n",
       "  </thead>\n",
       "  <tbody>\n",
       "    <tr>\n",
       "      <th>0</th>\n",
       "      <td>8/7/2020 12:02</td>\n",
       "      <td>Female</td>\n",
       "      <td>18</td>\n",
       "      <td>Engineering</td>\n",
       "      <td>year 1</td>\n",
       "      <td>3.00 - 3.49</td>\n",
       "      <td>No</td>\n",
       "      <td>Yes</td>\n",
       "      <td>No</td>\n",
       "      <td>Yes</td>\n",
       "      <td>No</td>\n",
       "    </tr>\n",
       "    <tr>\n",
       "      <th>1</th>\n",
       "      <td>8/7/2020 12:04</td>\n",
       "      <td>Male</td>\n",
       "      <td>21</td>\n",
       "      <td>Islamic Education</td>\n",
       "      <td>year 2</td>\n",
       "      <td>3.00 - 3.49</td>\n",
       "      <td>No</td>\n",
       "      <td>No</td>\n",
       "      <td>Yes</td>\n",
       "      <td>No</td>\n",
       "      <td>No</td>\n",
       "    </tr>\n",
       "    <tr>\n",
       "      <th>2</th>\n",
       "      <td>8/7/2020 12:05</td>\n",
       "      <td>Male</td>\n",
       "      <td>19</td>\n",
       "      <td>IT</td>\n",
       "      <td>year 1</td>\n",
       "      <td>3.00 - 3.49</td>\n",
       "      <td>No</td>\n",
       "      <td>Yes</td>\n",
       "      <td>Yes</td>\n",
       "      <td>Yes</td>\n",
       "      <td>No</td>\n",
       "    </tr>\n",
       "    <tr>\n",
       "      <th>3</th>\n",
       "      <td>8/7/2020 12:06</td>\n",
       "      <td>Female</td>\n",
       "      <td>22</td>\n",
       "      <td>Law</td>\n",
       "      <td>year 3</td>\n",
       "      <td>3.00 - 3.49</td>\n",
       "      <td>Yes</td>\n",
       "      <td>Yes</td>\n",
       "      <td>No</td>\n",
       "      <td>No</td>\n",
       "      <td>No</td>\n",
       "    </tr>\n",
       "    <tr>\n",
       "      <th>4</th>\n",
       "      <td>8/7/2020 12:13</td>\n",
       "      <td>Male</td>\n",
       "      <td>23</td>\n",
       "      <td>Mathemathics</td>\n",
       "      <td>year 4</td>\n",
       "      <td>3.00 - 3.49</td>\n",
       "      <td>No</td>\n",
       "      <td>No</td>\n",
       "      <td>No</td>\n",
       "      <td>No</td>\n",
       "      <td>No</td>\n",
       "    </tr>\n",
       "    <tr>\n",
       "      <th>...</th>\n",
       "      <td>...</td>\n",
       "      <td>...</td>\n",
       "      <td>...</td>\n",
       "      <td>...</td>\n",
       "      <td>...</td>\n",
       "      <td>...</td>\n",
       "      <td>...</td>\n",
       "      <td>...</td>\n",
       "      <td>...</td>\n",
       "      <td>...</td>\n",
       "      <td>...</td>\n",
       "    </tr>\n",
       "    <tr>\n",
       "      <th>96</th>\n",
       "      <td>13/07/2020 19:56:49</td>\n",
       "      <td>Female</td>\n",
       "      <td>21</td>\n",
       "      <td>BCS</td>\n",
       "      <td>year 1</td>\n",
       "      <td>3.50 - 4.00</td>\n",
       "      <td>No</td>\n",
       "      <td>No</td>\n",
       "      <td>Yes</td>\n",
       "      <td>No</td>\n",
       "      <td>No</td>\n",
       "    </tr>\n",
       "    <tr>\n",
       "      <th>97</th>\n",
       "      <td>13/07/2020 21:21:42</td>\n",
       "      <td>Male</td>\n",
       "      <td>18</td>\n",
       "      <td>Engineering</td>\n",
       "      <td>year 2</td>\n",
       "      <td>3.00 - 3.49</td>\n",
       "      <td>No</td>\n",
       "      <td>Yes</td>\n",
       "      <td>Yes</td>\n",
       "      <td>No</td>\n",
       "      <td>No</td>\n",
       "    </tr>\n",
       "    <tr>\n",
       "      <th>98</th>\n",
       "      <td>13/07/2020 21:22:56</td>\n",
       "      <td>Female</td>\n",
       "      <td>19</td>\n",
       "      <td>Nursing</td>\n",
       "      <td>year 3</td>\n",
       "      <td>3.50 - 4.00</td>\n",
       "      <td>Yes</td>\n",
       "      <td>Yes</td>\n",
       "      <td>No</td>\n",
       "      <td>Yes</td>\n",
       "      <td>No</td>\n",
       "    </tr>\n",
       "    <tr>\n",
       "      <th>99</th>\n",
       "      <td>13/07/2020 21:23:57</td>\n",
       "      <td>Female</td>\n",
       "      <td>23</td>\n",
       "      <td>Pendidikan Islam</td>\n",
       "      <td>year 4</td>\n",
       "      <td>3.50 - 4.00</td>\n",
       "      <td>No</td>\n",
       "      <td>No</td>\n",
       "      <td>No</td>\n",
       "      <td>No</td>\n",
       "      <td>No</td>\n",
       "    </tr>\n",
       "    <tr>\n",
       "      <th>100</th>\n",
       "      <td>18/07/2020 20:16:21</td>\n",
       "      <td>Male</td>\n",
       "      <td>20</td>\n",
       "      <td>Biomedical science</td>\n",
       "      <td>year 2</td>\n",
       "      <td>3.00 - 3.49</td>\n",
       "      <td>No</td>\n",
       "      <td>No</td>\n",
       "      <td>No</td>\n",
       "      <td>No</td>\n",
       "      <td>No</td>\n",
       "    </tr>\n",
       "  </tbody>\n",
       "</table>\n",
       "<p>101 rows × 11 columns</p>\n",
       "</div>"
      ],
      "text/plain": [
       "               Timestamp  Gender  Age              Course Year of Study  \\\n",
       "0         8/7/2020 12:02  Female   18         Engineering        year 1   \n",
       "1         8/7/2020 12:04    Male   21   Islamic Education        year 2   \n",
       "2         8/7/2020 12:05    Male   19                  IT        year 1   \n",
       "3         8/7/2020 12:06  Female   22                 Law        year 3   \n",
       "4         8/7/2020 12:13    Male   23        Mathemathics        year 4   \n",
       "..                   ...     ...  ...                 ...           ...   \n",
       "96   13/07/2020 19:56:49  Female   21                 BCS        year 1   \n",
       "97   13/07/2020 21:21:42    Male   18         Engineering        year 2   \n",
       "98   13/07/2020 21:22:56  Female   19            Nursing         year 3   \n",
       "99   13/07/2020 21:23:57  Female   23    Pendidikan Islam        year 4   \n",
       "100  18/07/2020 20:16:21    Male   20  Biomedical science        year 2   \n",
       "\n",
       "            CGPA Marital status Depression Anxiety Panic attack Treatment  \n",
       "0    3.00 - 3.49             No        Yes      No          Yes        No  \n",
       "1    3.00 - 3.49             No         No     Yes           No        No  \n",
       "2    3.00 - 3.49             No        Yes     Yes          Yes        No  \n",
       "3    3.00 - 3.49            Yes        Yes      No           No        No  \n",
       "4    3.00 - 3.49             No         No      No           No        No  \n",
       "..           ...            ...        ...     ...          ...       ...  \n",
       "96   3.50 - 4.00             No         No     Yes           No        No  \n",
       "97   3.00 - 3.49             No        Yes     Yes           No        No  \n",
       "98   3.50 - 4.00            Yes        Yes      No          Yes        No  \n",
       "99   3.50 - 4.00             No         No      No           No        No  \n",
       "100  3.00 - 3.49             No         No      No           No        No  \n",
       "\n",
       "[101 rows x 11 columns]"
      ]
     },
     "execution_count": 25,
     "metadata": {},
     "output_type": "execute_result"
    }
   ],
   "source": [
    "df"
   ]
  },
  {
   "cell_type": "markdown",
   "id": "871430b0",
   "metadata": {
    "papermill": {
     "duration": 0.048186,
     "end_time": "2024-02-11T08:48:17.975526",
     "exception": false,
     "start_time": "2024-02-11T08:48:17.927340",
     "status": "completed"
    },
    "tags": []
   },
   "source": [
    "Check for Null"
   ]
  },
  {
   "cell_type": "code",
   "execution_count": 26,
   "id": "44027bad",
   "metadata": {
    "execution": {
     "iopub.execute_input": "2024-02-11T08:48:18.076480Z",
     "iopub.status.busy": "2024-02-11T08:48:18.075948Z",
     "iopub.status.idle": "2024-02-11T08:48:18.084136Z",
     "shell.execute_reply": "2024-02-11T08:48:18.082906Z"
    },
    "papermill": {
     "duration": 0.061476,
     "end_time": "2024-02-11T08:48:18.086142",
     "exception": false,
     "start_time": "2024-02-11T08:48:18.024666",
     "status": "completed"
    },
    "tags": []
   },
   "outputs": [
    {
     "name": "stdout",
     "output_type": "stream",
     "text": [
      "Entries with null values:\n",
      "Empty DataFrame\n",
      "Columns: [Timestamp, Gender, Age, Course, Year of Study, CGPA, Marital status, Depression, Anxiety, Panic attack, Treatment]\n",
      "Index: []\n"
     ]
    }
   ],
   "source": [
    "# Assuming your dataset is named 'df'\n",
    "# Check for null or missing values in the dataset\n",
    "null_entries = df[df.isnull().any(axis=1)]\n",
    "\n",
    "# Display the entries with null values\n",
    "print(\"Entries with null values:\")\n",
    "print(null_entries)"
   ]
  },
  {
   "cell_type": "markdown",
   "id": "4e3e428b",
   "metadata": {
    "papermill": {
     "duration": 0.049297,
     "end_time": "2024-02-11T08:48:18.184537",
     "exception": false,
     "start_time": "2024-02-11T08:48:18.135240",
     "status": "completed"
    },
    "tags": []
   },
   "source": [
    "Check for Duplicates"
   ]
  },
  {
   "cell_type": "code",
   "execution_count": 27,
   "id": "d5aebf08",
   "metadata": {
    "execution": {
     "iopub.execute_input": "2024-02-11T08:48:18.285783Z",
     "iopub.status.busy": "2024-02-11T08:48:18.285184Z",
     "iopub.status.idle": "2024-02-11T08:48:18.293579Z",
     "shell.execute_reply": "2024-02-11T08:48:18.292633Z"
    },
    "papermill": {
     "duration": 0.060797,
     "end_time": "2024-02-11T08:48:18.295407",
     "exception": false,
     "start_time": "2024-02-11T08:48:18.234610",
     "status": "completed"
    },
    "tags": []
   },
   "outputs": [
    {
     "name": "stdout",
     "output_type": "stream",
     "text": [
      "Duplicate entries:\n",
      "Empty DataFrame\n",
      "Columns: [Timestamp, Gender, Age, Course, Year of Study, CGPA, Marital status, Depression, Anxiety, Panic attack, Treatment]\n",
      "Index: []\n"
     ]
    }
   ],
   "source": [
    "# Check for duplicate entries in the dataset\n",
    "duplicate_entries = df[df.duplicated()]\n",
    "\n",
    "# Display the duplicate entries\n",
    "print(\"Duplicate entries:\")\n",
    "print(duplicate_entries)"
   ]
  },
  {
   "cell_type": "code",
   "execution_count": 28,
   "id": "839711e7",
   "metadata": {
    "execution": {
     "iopub.execute_input": "2024-02-11T08:48:18.399192Z",
     "iopub.status.busy": "2024-02-11T08:48:18.398649Z",
     "iopub.status.idle": "2024-02-11T08:48:18.409743Z",
     "shell.execute_reply": "2024-02-11T08:48:18.408749Z"
    },
    "papermill": {
     "duration": 0.066272,
     "end_time": "2024-02-11T08:48:18.411637",
     "exception": false,
     "start_time": "2024-02-11T08:48:18.345365",
     "status": "completed"
    },
    "tags": []
   },
   "outputs": [
    {
     "name": "stdout",
     "output_type": "stream",
     "text": [
      "<class 'pandas.core.frame.DataFrame'>\n",
      "RangeIndex: 101 entries, 0 to 100\n",
      "Data columns (total 11 columns):\n",
      " #   Column          Non-Null Count  Dtype \n",
      "---  ------          --------------  ----- \n",
      " 0   Timestamp       101 non-null    object\n",
      " 1   Gender          101 non-null    object\n",
      " 2   Age             101 non-null    int64 \n",
      " 3   Course          101 non-null    object\n",
      " 4   Year of Study   101 non-null    object\n",
      " 5   CGPA            101 non-null    object\n",
      " 6   Marital status  101 non-null    object\n",
      " 7   Depression      101 non-null    object\n",
      " 8   Anxiety         101 non-null    object\n",
      " 9   Panic attack    101 non-null    object\n",
      " 10  Treatment       101 non-null    object\n",
      "dtypes: int64(1), object(10)\n",
      "memory usage: 8.8+ KB\n"
     ]
    }
   ],
   "source": [
    "df.info()"
   ]
  },
  {
   "cell_type": "code",
   "execution_count": 29,
   "id": "d1ad333c",
   "metadata": {
    "execution": {
     "iopub.execute_input": "2024-02-11T08:48:18.512617Z",
     "iopub.status.busy": "2024-02-11T08:48:18.512109Z",
     "iopub.status.idle": "2024-02-11T08:48:18.519289Z",
     "shell.execute_reply": "2024-02-11T08:48:18.518560Z"
    },
    "papermill": {
     "duration": 0.060194,
     "end_time": "2024-02-11T08:48:18.521173",
     "exception": false,
     "start_time": "2024-02-11T08:48:18.460979",
     "status": "completed"
    },
    "tags": []
   },
   "outputs": [
    {
     "data": {
      "text/plain": [
       "Timestamp         0\n",
       "Gender            0\n",
       "Age               0\n",
       "Course            0\n",
       "Year of Study     0\n",
       "CGPA              0\n",
       "Marital status    0\n",
       "Depression        0\n",
       "Anxiety           0\n",
       "Panic attack      0\n",
       "Treatment         0\n",
       "dtype: int64"
      ]
     },
     "execution_count": 29,
     "metadata": {},
     "output_type": "execute_result"
    }
   ],
   "source": [
    "df.isna().sum()"
   ]
  },
  {
   "cell_type": "code",
   "execution_count": 30,
   "id": "d5983138",
   "metadata": {
    "execution": {
     "iopub.execute_input": "2024-02-11T08:48:18.625147Z",
     "iopub.status.busy": "2024-02-11T08:48:18.624839Z",
     "iopub.status.idle": "2024-02-11T08:48:18.638867Z",
     "shell.execute_reply": "2024-02-11T08:48:18.637888Z"
    },
    "papermill": {
     "duration": 0.067791,
     "end_time": "2024-02-11T08:48:18.641046",
     "exception": false,
     "start_time": "2024-02-11T08:48:18.573255",
     "status": "completed"
    },
    "tags": []
   },
   "outputs": [
    {
     "data": {
      "text/html": [
       "<div>\n",
       "<style scoped>\n",
       "    .dataframe tbody tr th:only-of-type {\n",
       "        vertical-align: middle;\n",
       "    }\n",
       "\n",
       "    .dataframe tbody tr th {\n",
       "        vertical-align: top;\n",
       "    }\n",
       "\n",
       "    .dataframe thead th {\n",
       "        text-align: right;\n",
       "    }\n",
       "</style>\n",
       "<table border=\"1\" class=\"dataframe\">\n",
       "  <thead>\n",
       "    <tr style=\"text-align: right;\">\n",
       "      <th></th>\n",
       "      <th>Age</th>\n",
       "    </tr>\n",
       "  </thead>\n",
       "  <tbody>\n",
       "    <tr>\n",
       "      <th>count</th>\n",
       "      <td>101.000000</td>\n",
       "    </tr>\n",
       "    <tr>\n",
       "      <th>mean</th>\n",
       "      <td>20.514851</td>\n",
       "    </tr>\n",
       "    <tr>\n",
       "      <th>std</th>\n",
       "      <td>2.488429</td>\n",
       "    </tr>\n",
       "    <tr>\n",
       "      <th>min</th>\n",
       "      <td>18.000000</td>\n",
       "    </tr>\n",
       "    <tr>\n",
       "      <th>25%</th>\n",
       "      <td>18.000000</td>\n",
       "    </tr>\n",
       "    <tr>\n",
       "      <th>50%</th>\n",
       "      <td>19.000000</td>\n",
       "    </tr>\n",
       "    <tr>\n",
       "      <th>75%</th>\n",
       "      <td>23.000000</td>\n",
       "    </tr>\n",
       "    <tr>\n",
       "      <th>max</th>\n",
       "      <td>24.000000</td>\n",
       "    </tr>\n",
       "  </tbody>\n",
       "</table>\n",
       "</div>"
      ],
      "text/plain": [
       "              Age\n",
       "count  101.000000\n",
       "mean    20.514851\n",
       "std      2.488429\n",
       "min     18.000000\n",
       "25%     18.000000\n",
       "50%     19.000000\n",
       "75%     23.000000\n",
       "max     24.000000"
      ]
     },
     "execution_count": 30,
     "metadata": {},
     "output_type": "execute_result"
    }
   ],
   "source": [
    "df.describe()\n"
   ]
  },
  {
   "cell_type": "markdown",
   "id": "1bdd5f4b",
   "metadata": {
    "papermill": {
     "duration": 0.051048,
     "end_time": "2024-02-11T08:48:18.742688",
     "exception": false,
     "start_time": "2024-02-11T08:48:18.691640",
     "status": "completed"
    },
    "tags": []
   },
   "source": [
    "Plot: Univariate Distribution of Age\n"
   ]
  },
  {
   "cell_type": "code",
   "execution_count": 31,
   "id": "8ccd005f",
   "metadata": {
    "execution": {
     "iopub.execute_input": "2024-02-11T08:48:18.845191Z",
     "iopub.status.busy": "2024-02-11T08:48:18.844923Z",
     "iopub.status.idle": "2024-02-11T08:48:19.347286Z",
     "shell.execute_reply": "2024-02-11T08:48:19.346583Z"
    },
    "papermill": {
     "duration": 0.556225,
     "end_time": "2024-02-11T08:48:19.349549",
     "exception": false,
     "start_time": "2024-02-11T08:48:18.793324",
     "status": "completed"
    },
    "tags": []
   },
   "outputs": [
    {
     "data": {
      "image/png": "[encoded data removed]",
      "text/plain": [
       "<Figure size 576x432 with 1 Axes>"
      ]
     },
     "metadata": {
      "needs_background": "light"
     },
     "output_type": "display_data"
    },
    {
     "data": {
      "image/png": "[encoded data removed]",
      "text/plain": [
       "<Figure size 180x180 with 2 Axes>"
      ]
     },
     "metadata": {
      "needs_background": "light"
     },
     "output_type": "display_data"
    }
   ],
   "source": [
    "import matplotlib.pyplot as plt\n",
    "import seaborn as sns\n",
    "def plot_univariate_distribution(data):\n",
    "    for column in data.select_dtypes(include='number').columns:\n",
    "        plt.figure(figsize=(8, 6))\n",
    "        sns.histplot(data[column], kde=True)\n",
    "        plt.title(f'Univariate Distribution of {column}')\n",
    "        plt.xlabel(column)\n",
    "        plt.ylabel('Frequency')\n",
    "        plt.show()\n",
    "\n",
    "# Pairwise joint distribution plots\n",
    "def plot_pairwise_joint_distribution(data):\n",
    "    sns.pairplot(data.select_dtypes(include='number'))\n",
    "    plt.suptitle('Pairwise Joint Distribution of Numeric Data', y=1.02)\n",
    "    plt.show()\n",
    "\n",
    "# Assuming your dataset is named 'df'\n",
    "# Plot univariate distribution of numeric data\n",
    "plot_univariate_distribution(df)\n",
    "\n",
    "# Plot pairwise joint distribution of numeric data\n",
    "plot_pairwise_joint_distribution(df)"
   ]
  },
  {
   "cell_type": "markdown",
   "id": "db75a41e",
   "metadata": {
    "papermill": {
     "duration": 0.052773,
     "end_time": "2024-02-11T08:48:19.456993",
     "exception": false,
     "start_time": "2024-02-11T08:48:19.404220",
     "status": "completed"
    },
    "tags": []
   },
   "source": [
    "Plot Count Distribution for Categorical Data"
   ]
  },
  {
   "cell_type": "code",
   "execution_count": 32,
   "id": "1a90e471",
   "metadata": {
    "execution": {
     "iopub.execute_input": "2024-02-11T08:48:19.565096Z",
     "iopub.status.busy": "2024-02-11T08:48:19.564538Z",
     "iopub.status.idle": "2024-02-11T08:48:22.386218Z",
     "shell.execute_reply": "2024-02-11T08:48:22.385560Z"
    },
    "papermill": {
     "duration": 2.878437,
     "end_time": "2024-02-11T08:48:22.388202",
     "exception": false,
     "start_time": "2024-02-11T08:48:19.509765",
     "status": "completed"
    },
    "tags": []
   },
   "outputs": [
    {
     "name": "stderr",
     "output_type": "stream",
     "text": [
      "/opt/conda/lib/python3.7/site-packages/seaborn/_decorators.py:43: FutureWarning: Pass the following variable as a keyword arg: x. From version 0.12, the only valid positional argument will be `data`, and passing other arguments without an explicit keyword will result in an error or misinterpretation.\n",
      "  FutureWarning\n"
     ]
    },
    {
     "data": {
      "image/png": "[encoded data removed]",
      "text/plain": [
       "<Figure size 576x432 with 1 Axes>"
      ]
     },
     "metadata": {
      "needs_background": "light"
     },
     "output_type": "display_data"
    },
    {
     "name": "stderr",
     "output_type": "stream",
     "text": [
      "/opt/conda/lib/python3.7/site-packages/seaborn/_decorators.py:43: FutureWarning: Pass the following variable as a keyword arg: x. From version 0.12, the only valid positional argument will be `data`, and passing other arguments without an explicit keyword will result in an error or misinterpretation.\n",
      "  FutureWarning\n"
     ]
    },
    {
     "data": {
      "image/png": "[encoded data removed]",
      "text/plain": [
       "<Figure size 576x432 with 1 Axes>"
      ]
     },
     "metadata": {
      "needs_background": "light"
     },
     "output_type": "display_data"
    },
    {
     "name": "stderr",
     "output_type": "stream",
     "text": [
      "/opt/conda/lib/python3.7/site-packages/seaborn/_decorators.py:43: FutureWarning: Pass the following variable as a keyword arg: x. From version 0.12, the only valid positional argument will be `data`, and passing other arguments without an explicit keyword will result in an error or misinterpretation.\n",
      "  FutureWarning\n"
     ]
    },
    {
     "data": {
      "image/png": "[encoded data removed]",
      "text/plain": [
       "<Figure size 576x432 with 1 Axes>"
      ]
     },
     "metadata": {
      "needs_background": "light"
     },
     "output_type": "display_data"
    },
    {
     "name": "stderr",
     "output_type": "stream",
     "text": [
      "/opt/conda/lib/python3.7/site-packages/seaborn/_decorators.py:43: FutureWarning: Pass the following variable as a keyword arg: x. From version 0.12, the only valid positional argument will be `data`, and passing other arguments without an explicit keyword will result in an error or misinterpretation.\n",
      "  FutureWarning\n"
     ]
    },
    {
     "data": {
      "image/png": "[encoded data removed]",
      "text/plain": [
       "<Figure size 576x432 with 1 Axes>"
      ]
     },
     "metadata": {
      "needs_background": "light"
     },
     "output_type": "display_data"
    },
    {
     "name": "stderr",
     "output_type": "stream",
     "text": [
      "/opt/conda/lib/python3.7/site-packages/seaborn/_decorators.py:43: FutureWarning: Pass the following variable as a keyword arg: x. From version 0.12, the only valid positional argument will be `data`, and passing other arguments without an explicit keyword will result in an error or misinterpretation.\n",
      "  FutureWarning\n"
     ]
    },
    {
     "data": {
      "image/png": "[encoded data removed]",
      "text/plain": [
       "<Figure size 576x432 with 1 Axes>"
      ]
     },
     "metadata": {
      "needs_background": "light"
     },
     "output_type": "display_data"
    },
    {
     "name": "stderr",
     "output_type": "stream",
     "text": [
      "/opt/conda/lib/python3.7/site-packages/seaborn/_decorators.py:43: FutureWarning: Pass the following variable as a keyword arg: x. From version 0.12, the only valid positional argument will be `data`, and passing other arguments without an explicit keyword will result in an error or misinterpretation.\n",
      "  FutureWarning\n"
     ]
    },
    {
     "data": {
      "image/png": "[encoded data removed]",
      "text/plain": [
       "<Figure size 576x432 with 1 Axes>"
      ]
     },
     "metadata": {
      "needs_background": "light"
     },
     "output_type": "display_data"
    },
    {
     "name": "stderr",
     "output_type": "stream",
     "text": [
      "/opt/conda/lib/python3.7/site-packages/seaborn/_decorators.py:43: FutureWarning: Pass the following variable as a keyword arg: x. From version 0.12, the only valid positional argument will be `data`, and passing other arguments without an explicit keyword will result in an error or misinterpretation.\n",
      "  FutureWarning\n"
     ]
    },
    {
     "data": {
      "image/png": "[encoded data removed]",
      "text/plain": [
       "<Figure size 576x432 with 1 Axes>"
      ]
     },
     "metadata": {
      "needs_background": "light"
     },
     "output_type": "display_data"
    },
    {
     "name": "stderr",
     "output_type": "stream",
     "text": [
      "/opt/conda/lib/python3.7/site-packages/seaborn/_decorators.py:43: FutureWarning: Pass the following variable as a keyword arg: x. From version 0.12, the only valid positional argument will be `data`, and passing other arguments without an explicit keyword will result in an error or misinterpretation.\n",
      "  FutureWarning\n"
     ]
    },
    {
     "data": {
      "image/png": "[encoded data removed]",
      "text/plain": [
       "<Figure size 576x432 with 1 Axes>"
      ]
     },
     "metadata": {
      "needs_background": "light"
     },
     "output_type": "display_data"
    },
    {
     "name": "stderr",
     "output_type": "stream",
     "text": [
      "/opt/conda/lib/python3.7/site-packages/seaborn/_decorators.py:43: FutureWarning: Pass the following variable as a keyword arg: x. From version 0.12, the only valid positional argument will be `data`, and passing other arguments without an explicit keyword will result in an error or misinterpretation.\n",
      "  FutureWarning\n"
     ]
    },
    {
     "data": {
      "image/png": "[encoded data removed]",
      "text/plain": [
       "<Figure size 576x432 with 1 Axes>"
      ]
     },
     "metadata": {
      "needs_background": "light"
     },
     "output_type": "display_data"
    },
    {
     "name": "stderr",
     "output_type": "stream",
     "text": [
      "/opt/conda/lib/python3.7/site-packages/seaborn/_decorators.py:43: FutureWarning: Pass the following variable as a keyword arg: x. From version 0.12, the only valid positional argument will be `data`, and passing other arguments without an explicit keyword will result in an error or misinterpretation.\n",
      "  FutureWarning\n"
     ]
    },
    {
     "data": {
      "image/png": "[encoded data removed]",
      "text/plain": [
       "<Figure size 576x432 with 1 Axes>"
      ]
     },
     "metadata": {
      "needs_background": "light"
     },
     "output_type": "display_data"
    }
   ],
   "source": [
    "import matplotlib.pyplot as plt\n",
    "import seaborn as sns\n",
    "\n",
    "# Plot count distribution of categorical data\n",
    "def plot_count_distribution(data):\n",
    "    for column in data.select_dtypes(include='object').columns:\n",
    "        plt.figure(figsize=(8, 6))\n",
    "        sns.countplot(data[column])\n",
    "        plt.title(f'Count Distribution of {column}')\n",
    "        plt.xlabel(column)\n",
    "        plt.ylabel('Count')\n",
    "        plt.xticks(rotation=45)  # Rotate x-axis labels for better readability\n",
    "        plt.show()\n",
    "\n",
    "# Assuming your dataset is named 'df'\n",
    "# Plot count distribution of categorical data\n",
    "plot_count_distribution(df)"
   ]
  },
  {
   "cell_type": "markdown",
   "id": "6a9359f9",
   "metadata": {
    "papermill": {
     "duration": 0.066725,
     "end_time": "2024-02-11T08:48:22.522633",
     "exception": false,
     "start_time": "2024-02-11T08:48:22.455908",
     "status": "completed"
    },
    "tags": []
   },
   "source": [
    "MAKE GRAPHS WIDER"
   ]
  },
  {
   "cell_type": "code",
   "execution_count": 33,
   "id": "c9c77b5b",
   "metadata": {
    "execution": {
     "iopub.execute_input": "2024-02-11T08:48:22.661825Z",
     "iopub.status.busy": "2024-02-11T08:48:22.661542Z",
     "iopub.status.idle": "2024-02-11T08:48:25.668760Z",
     "shell.execute_reply": "2024-02-11T08:48:25.667876Z"
    },
    "papermill": {
     "duration": 3.079091,
     "end_time": "2024-02-11T08:48:25.670922",
     "exception": false,
     "start_time": "2024-02-11T08:48:22.591831",
     "status": "completed"
    },
    "tags": []
   },
   "outputs": [
    {
     "name": "stderr",
     "output_type": "stream",
     "text": [
      "/opt/conda/lib/python3.7/site-packages/seaborn/_decorators.py:43: FutureWarning: Pass the following variable as a keyword arg: x. From version 0.12, the only valid positional argument will be `data`, and passing other arguments without an explicit keyword will result in an error or misinterpretation.\n",
      "  FutureWarning\n"
     ]
    },
    {
     "data": {
      "image/png": "[encoded data removed]",
      "text/plain": [
       "<Figure size 1728x432 with 1 Axes>"
      ]
     },
     "metadata": {
      "needs_background": "light"
     },
     "output_type": "display_data"
    },
    {
     "name": "stderr",
     "output_type": "stream",
     "text": [
      "/opt/conda/lib/python3.7/site-packages/seaborn/_decorators.py:43: FutureWarning: Pass the following variable as a keyword arg: x. From version 0.12, the only valid positional argument will be `data`, and passing other arguments without an explicit keyword will result in an error or misinterpretation.\n",
      "  FutureWarning\n"
     ]
    },
    {
     "data": {
      "image/png": "[encoded data removed]",
      "text/plain": [
       "<Figure size 1728x432 with 1 Axes>"
      ]
     },
     "metadata": {
      "needs_background": "light"
     },
     "output_type": "display_data"
    },
    {
     "name": "stderr",
     "output_type": "stream",
     "text": [
      "/opt/conda/lib/python3.7/site-packages/seaborn/_decorators.py:43: FutureWarning: Pass the following variable as a keyword arg: x. From version 0.12, the only valid positional argument will be `data`, and passing other arguments without an explicit keyword will result in an error or misinterpretation.\n",
      "  FutureWarning\n"
     ]
    },
    {
     "data": {
      "image/png": "[encoded data removed]",
      "text/plain": [
       "<Figure size 1728x432 with 1 Axes>"
      ]
     },
     "metadata": {
      "needs_background": "light"
     },
     "output_type": "display_data"
    },
    {
     "name": "stderr",
     "output_type": "stream",
     "text": [
      "/opt/conda/lib/python3.7/site-packages/seaborn/_decorators.py:43: FutureWarning: Pass the following variable as a keyword arg: x. From version 0.12, the only valid positional argument will be `data`, and passing other arguments without an explicit keyword will result in an error or misinterpretation.\n",
      "  FutureWarning\n"
     ]
    },
    {
     "data": {
      "image/png": "[encoded data removed]",
      "text/plain": [
       "<Figure size 1728x432 with 1 Axes>"
      ]
     },
     "metadata": {
      "needs_background": "light"
     },
     "output_type": "display_data"
    },
    {
     "name": "stderr",
     "output_type": "stream",
     "text": [
      "/opt/conda/lib/python3.7/site-packages/seaborn/_decorators.py:43: FutureWarning: Pass the following variable as a keyword arg: x. From version 0.12, the only valid positional argument will be `data`, and passing other arguments without an explicit keyword will result in an error or misinterpretation.\n",
      "  FutureWarning\n"
     ]
    },
    {
     "data": {
      "image/png": "[encoded data removed]",
      "text/plain": [
       "<Figure size 1728x432 with 1 Axes>"
      ]
     },
     "metadata": {
      "needs_background": "light"
     },
     "output_type": "display_data"
    },
    {
     "name": "stderr",
     "output_type": "stream",
     "text": [
      "/opt/conda/lib/python3.7/site-packages/seaborn/_decorators.py:43: FutureWarning: Pass the following variable as a keyword arg: x. From version 0.12, the only valid positional argument will be `data`, and passing other arguments without an explicit keyword will result in an error or misinterpretation.\n",
      "  FutureWarning\n"
     ]
    },
    {
     "data": {
      "image/png": "[encoded data removed]",
      "text/plain": [
       "<Figure size 1728x432 with 1 Axes>"
      ]
     },
     "metadata": {
      "needs_background": "light"
     },
     "output_type": "display_data"
    },
    {
     "name": "stderr",
     "output_type": "stream",
     "text": [
      "/opt/conda/lib/python3.7/site-packages/seaborn/_decorators.py:43: FutureWarning: Pass the following variable as a keyword arg: x. From version 0.12, the only valid positional argument will be `data`, and passing other arguments without an explicit keyword will result in an error or misinterpretation.\n",
      "  FutureWarning\n"
     ]
    },
    {
     "data": {
      "image/png": "[encoded data removed]",
      "text/plain": [
       "<Figure size 1728x432 with 1 Axes>"
      ]
     },
     "metadata": {
      "needs_background": "light"
     },
     "output_type": "display_data"
    },
    {
     "name": "stderr",
     "output_type": "stream",
     "text": [
      "/opt/conda/lib/python3.7/site-packages/seaborn/_decorators.py:43: FutureWarning: Pass the following variable as a keyword arg: x. From version 0.12, the only valid positional argument will be `data`, and passing other arguments without an explicit keyword will result in an error or misinterpretation.\n",
      "  FutureWarning\n"
     ]
    },
    {
     "data": {
      "image/png": "[encoded data removed]",
      "text/plain": [
       "<Figure size 1728x432 with 1 Axes>"
      ]
     },
     "metadata": {
      "needs_background": "light"
     },
     "output_type": "display_data"
    },
    {
     "name": "stderr",
     "output_type": "stream",
     "text": [
      "/opt/conda/lib/python3.7/site-packages/seaborn/_decorators.py:43: FutureWarning: Pass the following variable as a keyword arg: x. From version 0.12, the only valid positional argument will be `data`, and passing other arguments without an explicit keyword will result in an error or misinterpretation.\n",
      "  FutureWarning\n"
     ]
    },
    {
     "data": {
      "image/png": "[encoded data removed]",
      "text/plain": [
       "<Figure size 1728x432 with 1 Axes>"
      ]
     },
     "metadata": {
      "needs_background": "light"
     },
     "output_type": "display_data"
    },
    {
     "name": "stderr",
     "output_type": "stream",
     "text": [
      "/opt/conda/lib/python3.7/site-packages/seaborn/_decorators.py:43: FutureWarning: Pass the following variable as a keyword arg: x. From version 0.12, the only valid positional argument will be `data`, and passing other arguments without an explicit keyword will result in an error or misinterpretation.\n",
      "  FutureWarning\n"
     ]
    },
    {
     "data": {
      "image/png": "[encoded data removed]",
      "text/plain": [
       "<Figure size 1728x432 with 1 Axes>"
      ]
     },
     "metadata": {
      "needs_background": "light"
     },
     "output_type": "display_data"
    }
   ],
   "source": [
    "import matplotlib.pyplot as plt\n",
    "import seaborn as sns\n",
    "\n",
    "# Plot count distribution of categorical data\n",
    "def plot_count_distribution(data):\n",
    "    for column in data.select_dtypes(include='object').columns:\n",
    "        plt.figure(figsize=(24, 6))  # Increase width of the figure\n",
    "        sns.countplot(data[column])\n",
    "        plt.title(f'Count Distribution of {column}')\n",
    "        plt.xlabel(column)\n",
    "        plt.ylabel('Count')\n",
    "        plt.xticks(rotation=45)  # Rotate x-axis labels for better readability\n",
    "        plt.show()\n",
    "\n",
    "# Assuming your dataset is named 'df'\n",
    "# Plot count distribution of categorical data\n",
    "plot_count_distribution(df)"
   ]
  }
 ],
 "metadata": {
  "kaggle": {
   "accelerator": "none",
   "dataSources": [
    {
     "datasetId": 2594075,
     "sourceId": 4429121,
     "sourceType": "datasetVersion"
    },
    {
     "datasetId": 2168167,
     "sourceId": 5012788,
     "sourceType": "datasetVersion"
    }
   ],
   "dockerImageVersionId": 30191,
   "isGpuEnabled": false,
   "isInternetEnabled": false,
   "language": "python",
   "sourceType": "notebook"
  },
  "kernelspec": {
   "display_name": "Python 3",
   "language": "python",
   "name": "python3"
  },
  "language_info": {
   "codemirror_mode": {
    "name": "ipython",
    "version": 3
   },
   "file_extension": ".py",
   "mimetype": "text/x-python",
   "name": "python",
   "nbconvert_exporter": "python",
   "pygments_lexer": "ipython3",
   "version": "3.7.12"
  },
  "papermill": {
   "default_parameters": {},
   "duration": 23.525301,
   "end_time": "2024-02-11T08:48:26.474612",
   "environment_variables": {},
   "exception": null,
   "input_path": "__notebook__.ipynb",
   "output_path": "__notebook__.ipynb",
   "parameters": {},
   "start_time": "2024-02-11T08:48:02.949311",
   "version": "2.3.4"
  }
 },
 "nbformat": 4,
 "nbformat_minor": 5
}
